{
 "cells": [
  {
   "cell_type": "code",
   "execution_count": 3,
   "metadata": {},
   "outputs": [],
   "source": [
    "import os\n",
    "import wandb  # if it raises an error, reinstall wandb\n",
    "from run import main\n",
    "from dataset import RecipeDataset"
   ]
  },
  {
   "cell_type": "code",
   "execution_count": 4,
   "metadata": {},
   "outputs": [],
   "source": [
    "# loading datasets takes some time.\n",
    "dataset_names = ['train', 'valid_clf', 'valid_cpl', 'test_clf', 'test_cpl']\n",
    "recipe_datasets = {x: RecipeDataset(os.path.join('./Container', x)) for x in dataset_names}"
   ]
  },
  {
   "cell_type": "code",
   "execution_count": 5,
   "metadata": {},
   "outputs": [],
   "source": [
    "class Args(object):\n",
    "    def __init__(self, **kwargs):\n",
    "        default = dict(\n",
    "            data_dir='./Container',\n",
    "            batch_size=64,\n",
    "            batch_size_eval=2048,\n",
    "            n_epochs=500,\n",
    "            lr=2e-4,\n",
    "            weight_decay=0,\n",
    "            step_size=10,  # lr_scheduler\n",
    "            step_factor=0.5, # lr_scheduler\n",
    "            early_stop_patience=20,  # early stop\n",
    "            seed=42,\n",
    "            subset_length=None,\n",
    "            dim_embedding=256,\n",
    "            dim_hidden=256,\n",
    "            dropout=0,\n",
    "            encoder_mode='HYBRID', # 'FC' 'ISA' 'SA' 'HYBRID'\n",
    "            pooler_mode='PMA', # 'SumPool' 'PMA'\n",
    "            cpl_scheme='pooled',\n",
    "            num_enc_layers=2,\n",
    "            num_dec_layers=2,\n",
    "            loss='MultiClassASLoss', # 'CrossEntropyLoss' 'MultiClassFocalLoss' 'MultiClassASLoss'\n",
    "            optimizer_name='AdamW',\n",
    "            classify=True,\n",
    "            complete=True,\n",
    "            freeze_classify=False,\n",
    "            freeze_complete=False,\n",
    "            pretrained_model_path=None,\n",
    "            wandb_log=True,\n",
    "            verbose=True,\n",
    "            datasets=recipe_datasets)\n",
    "        default.update(kwargs)\n",
    "        for k in default:\n",
    "            setattr(self, k, default[k])\n",
    "    \n",
    "    def update(self, **kwargs):\n",
    "        for k in kwargs:\n",
    "            setattr(self, k, kwargs[k])\n"
   ]
  },
  {
   "cell_type": "code",
   "execution_count": 6,
   "metadata": {},
   "outputs": [],
   "source": [
    "def run(**kwargs):\n",
    "    args = Args()\n",
    "    args.update(**kwargs)\n",
    "    main(args)"
   ]
  },
  {
   "cell_type": "code",
   "execution_count": null,
   "metadata": {},
   "outputs": [],
   "source": [
    "run(classify=True, complete=True, encoder_mode='HYBRID', pooler_mode='PMA', cpl_scheme='pooled',\n",
    "    lr=2e-4, num_enc_layers=2, num_dec_layers=1, dropout=0.1, weight_decay=0.01, wandb_log=False,)"
   ]
  },
  {
   "cell_type": "code",
   "execution_count": null,
   "metadata": {},
   "outputs": [],
   "source": []
  }
 ],
 "metadata": {
  "interpreter": {
   "hash": "b0fa6594d8f4cbf19f97940f81e996739fb7646882a419484c72d19e05852a7e"
  },
  "kernelspec": {
   "display_name": "Python 3.9.10 64-bit",
   "language": "python",
   "name": "python3"
  },
  "language_info": {
   "codemirror_mode": {
    "name": "ipython",
    "version": 3
   },
   "file_extension": ".py",
   "mimetype": "text/x-python",
   "name": "python",
   "nbconvert_exporter": "python",
   "pygments_lexer": "ipython3",
   "version": "3.9.10"
  },
  "orig_nbformat": 4
 },
 "nbformat": 4,
 "nbformat_minor": 2
}

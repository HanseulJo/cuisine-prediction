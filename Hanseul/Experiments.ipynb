{
 "cells": [
  {
   "cell_type": "code",
   "execution_count": 2,
   "metadata": {},
   "outputs": [],
   "source": [
    "import os\n",
    "from run import main\n",
    "from dataset import RecipeDataset"
   ]
  },
  {
   "cell_type": "code",
   "execution_count": 3,
   "metadata": {},
   "outputs": [],
   "source": [
    "# loading datasets takes some time.\n",
    "dataset_names = ['train', 'valid_clf', 'valid_cpl', 'test_clf', 'test_cpl']\n",
    "recipe_datasets = {x: RecipeDataset(os.path.join('./Container', x)) for x in dataset_names}"
   ]
  },
  {
   "cell_type": "code",
   "execution_count": 4,
   "metadata": {},
   "outputs": [],
   "source": [
    "class Args(object):\n",
    "    def __init__(self, **kwargs):\n",
    "        default = dict(\n",
    "            data_dir='./Container',\n",
    "            batch_size=64,\n",
    "            batch_size_eval=2048,\n",
    "            n_epochs=500,\n",
    "            lr=2e-4,\n",
    "            weight_decay=0,\n",
    "            step_size=20,  # lr_scheduler\n",
    "            step_factor=0.25, # lr_scheduler\n",
    "            early_stop_patience=40,  # early stop\n",
    "            seed=42,\n",
    "            subset_length=None,\n",
    "            dim_embedding=256,\n",
    "            dim_hidden=256,\n",
    "            dropout=0,\n",
    "            encoder_mode='HYBRID', # 'FC' 'ISA' 'SA' 'HYBRID'\n",
    "            pooler_mode='PMA', # 'SumPool' 'PMA'\n",
    "            cpl_scheme='pooled',\n",
    "            num_enc_layers=2,\n",
    "            num_dec_layers=2,\n",
    "            loss='MultiClassASLoss', # 'CrossEntropyLoss' 'MultiClassFocalLoss' 'MultiClassASLoss'\n",
    "            optimizer_name='AdamW',\n",
    "            classify=True,\n",
    "            complete=True,\n",
    "            freeze_classify=False,\n",
    "            freeze_complete=False,\n",
    "            pretrained_model_path=None,\n",
    "            wandb_log=True,\n",
    "            verbose=True,\n",
    "            datasets=recipe_datasets)\n",
    "        default.update(kwargs)\n",
    "        for k in default:\n",
    "            setattr(self, k, default[k])\n",
    "    \n",
    "    def update(self, **kwargs):\n",
    "        for k in kwargs:\n",
    "            setattr(self, k, kwargs[k])\n",
    "\n"
   ]
  },
  {
   "cell_type": "code",
   "execution_count": 4,
   "metadata": {},
   "outputs": [
    {
     "data": {
      "text/plain": [
       "tensor([[0.1481, 0.0404, 0.2156, 0.8492, 0.3860, 0.5224],\n",
       "        [0.7614, 0.4992, 0.7776, 0.2486, 0.6600, 0.1789],\n",
       "        [0.7060, 0.3272, 0.0901, 0.5988, 0.1687, 0.4438]])"
      ]
     },
     "execution_count": 4,
     "metadata": {},
     "output_type": "execute_result"
    }
   ],
   "source": [
    "import torch\n",
    "a = torch.rand((3,6))\n",
    "a"
   ]
  },
  {
   "cell_type": "code",
   "execution_count": 6,
   "metadata": {},
   "outputs": [
    {
     "data": {
      "text/plain": [
       "tensor([[0.8492, 0.5224, 0.3860],\n",
       "        [0.7776, 0.7614, 0.6600],\n",
       "        [0.7060, 0.5988, 0.4438]])"
      ]
     },
     "execution_count": 6,
     "metadata": {},
     "output_type": "execute_result"
    }
   ],
   "source": [
    "val, ind = a.topk(3, 1, largest=True, sorted=True)\n",
    "val"
   ]
  },
  {
   "cell_type": "code",
   "execution_count": 5,
   "metadata": {},
   "outputs": [],
   "source": [
    "def run(**kwargs):\n",
    "    args = Args()\n",
    "    args.update(**kwargs)\n",
    "    main(args)"
   ]
  },
  {
   "cell_type": "code",
   "execution_count": 6,
   "metadata": {},
   "outputs": [
    {
     "name": "stdout",
     "output_type": "stream",
     "text": [
      "{'train': 23547, 'valid_clf': 7848, 'valid_cpl': 7848, 'test_clf': 3924, 'test_cpl': 3924}\n",
      "device:  cpu\n",
      "features_boolean torch.Size([64, 6714]) labels_one_hot torch.Size([64, 20]) labels_int torch.Size([64])\n",
      "Total Number of Parameters 3311124\n"
     ]
    },
    {
     "data": {
      "application/vnd.jupyter.widget-view+json": {
       "model_id": "87eeeeee8fa247ef8072a955173ba8b9",
       "version_major": 2,
       "version_minor": 0
      },
      "text/plain": [
       "  0%|          | 0/1 [00:00<?, ?it/s]"
      ]
     },
     "metadata": {},
     "output_type": "display_data"
    },
    {
     "name": "stdout",
     "output_type": "stream",
     "text": [
      "-----Training the model-----\n",
      "\n",
      "Epoch 1/1\n",
      "    *label_clf [ 0  9 13 13 16  3 12 16  7  5 13  9]\n",
      "    *preds_clf [17 17 16 17 17 16 17 10 16  3 16 17]\n",
      "      0% | Loss_clf 3.4265 | Acc_clf 0.0625 | \n",
      "     27% | Loss_clf 2.5295 | Acc_clf 0.3750 | \n",
      "     54% | Loss_clf 1.9146 | Acc_clf 0.5469 | \n",
      "     81% | Loss_clf 1.8537 | Acc_clf 0.5469 | \n",
      "label [ 6  4  7  7 10 17  9 13  9  9]\n",
      "preds [ 6 16  4  7 16  2  9 13  9  9]\n",
      "TRAIN_CLF Loss 1.6636 Acc 0.6178 Topk 0.8932 F1macro 0.4046 F1micro 0.6178\n",
      "label [11  5  4  0  9 16  9  4 11 19]\n",
      "preds [11  2 16  2  9  2  9  9 16 13]\n",
      "VALID_CLF Loss 1.7544 Acc 0.5935 Topk 0.8798 F1macro 0.3863 F1micro 0.5935\n",
      "Training complete in 0m 46s\n",
      "==== Best Result ====\n",
      "clf_Loss: 1.75440764\n",
      "clf_Acc: 0.59352701\n",
      "clf_Topk: 0.87984200\n",
      "clf_F1macro: 0.38626998\n",
      "clf_F1micro: 0.59352701\n",
      "bestEpoch: 1\n"
     ]
    }
   ],
   "source": [
    "run(classify=True, complete=False, encoder_mode='HYBRID', pooler_mode='PMA', cpl_scheme='encoded', n_epochs=1, \n",
    "    lr=2e-4, num_enc_layers=2, num_dec_layers=1, dropout=0.1, weight_decay=0.1, wandb_log=False,)"
   ]
  },
  {
   "cell_type": "code",
   "execution_count": null,
   "metadata": {},
   "outputs": [],
   "source": []
  }
 ],
 "metadata": {
  "interpreter": {
   "hash": "b0fa6594d8f4cbf19f97940f81e996739fb7646882a419484c72d19e05852a7e"
  },
  "kernelspec": {
   "display_name": "Python 3.9.10 64-bit",
   "language": "python",
   "name": "python3"
  },
  "language_info": {
   "codemirror_mode": {
    "name": "ipython",
    "version": 3
   },
   "file_extension": ".py",
   "mimetype": "text/x-python",
   "name": "python",
   "nbconvert_exporter": "python",
   "pygments_lexer": "ipython3",
   "version": "3.9.10"
  },
  "orig_nbformat": 4
 },
 "nbformat": 4,
 "nbformat_minor": 2
}

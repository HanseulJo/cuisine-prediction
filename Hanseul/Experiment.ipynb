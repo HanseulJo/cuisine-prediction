{
 "cells": [
  {
   "cell_type": "code",
   "execution_count": 1,
   "id": "311747d8",
   "metadata": {},
   "outputs": [],
   "source": [
    "from run import main"
   ]
  },
  {
   "cell_type": "code",
   "execution_count": 2,
   "id": "548a5bae",
   "metadata": {},
   "outputs": [],
   "source": [
    "import os\n",
    "from dataset import RecipeDataset\n",
    "# loading datasets takes some time.\n",
    "dataset_names = ['train', 'valid_clf', 'valid_cpl', 'test_clf', 'test_cpl']\n",
    "recipe_datasets = {x: RecipeDataset(os.path.join('./Container', x)) for x in dataset_names}"
   ]
  },
  {
   "cell_type": "code",
   "execution_count": 3,
   "id": "e7a0cf0a",
   "metadata": {},
   "outputs": [],
   "source": [
    "class Arguments(object):\n",
    "    def __init__(self, **kwargs):\n",
    "        default = dict(\n",
    "            batch_size=64,\n",
    "            batch_size_eval=2048,\n",
    "            n_epochs=50,\n",
    "            lr=1e-3,\n",
    "            weight_decay=0,\n",
    "            step_size=10,  # lr_scheduler\n",
    "            step_factor=0.1, # lr_scheduler\n",
    "            early_stop_patience=30,  # early stop\n",
    "            seed=42,\n",
    "            subset_length=None,\n",
    "            dim_embedding=256,\n",
    "            dim_hidden=256,\n",
    "            dropout=0,\n",
    "            encoder_mode='HYBRID', # 'FC', 'ATT', 'HYBRID'\n",
    "            pooler_mode='ATT', # 'deepSets', 'ATT'\n",
    "            num_outputs_cpl=2,\n",
    "            num_enc_layers=2,\n",
    "            num_dec_layers=2,\n",
    "            loss='MultiClassASLoss', # 'CrossEntropyLoss', 'MultiClassFocalLoss', 'MultiClassASLoss'\n",
    "            optimizer_name='AdamW',\n",
    "            classify=True,\n",
    "            complete=True,\n",
    "            freeze_classify=False,\n",
    "            freeze_complete=False,\n",
    "            pretrained_model_path=None,\n",
    "            wandb_log=True,\n",
    "            verbose=True,\n",
    "            datasets=recipe_datasets) # pre-load datasets\n",
    "        default.update(kwargs)\n",
    "        for k in default:\n",
    "            setattr(self, k, default[k])\n",
    "    def update(self, **kwargs):\n",
    "        for k in kwargs:\n",
    "            setattr(self, k, kwargs[k])\n",
    "        print(self.__dict__)\n",
    "        return self"
   ]
  },
  {
   "cell_type": "code",
   "execution_count": 4,
   "id": "07a4ed5f",
   "metadata": {},
   "outputs": [],
   "source": [
    "def run(**kwargs):\n",
    "    args = Arguments(data_dir='./Container')\n",
    "    main(args.update(**kwargs))"
   ]
  },
  {
   "cell_type": "code",
   "execution_count": null,
   "id": "146a90ed",
   "metadata": {},
   "outputs": [],
   "source": [
    "run(classify=True, complete=False, batch_size=64, encoder_mode='HYBRID', pooler_mode='ATT', dropout=0.2, wandb_log=False)"
   ]
  },
  {
   "cell_type": "code",
   "execution_count": null,
   "id": "2d20b851",
   "metadata": {},
   "outputs": [],
   "source": [
    "run(classify=False, complete=True, batch_size=64, encoder_mode='HYBRID', pooler_mode='ATT', dropout=0.2)"
   ]
  },
  {
   "cell_type": "code",
   "execution_count": null,
   "id": "181bbde5",
   "metadata": {},
   "outputs": [],
   "source": [
    "run(classify=True, complete=True, batch_size=64, encoder_mode='HYBRID', pooler_mode='ATT', dropout=0.2)"
   ]
  }
 ],
 "metadata": {
  "kernelspec": {
   "display_name": "Full on Python 3.7 (GPU)",
   "language": "python",
   "name": "python3"
  },
  "language_info": {
   "codemirror_mode": {
    "name": "ipython",
    "version": 3
   },
   "file_extension": ".py",
   "mimetype": "text/x-python",
   "name": "python",
   "nbconvert_exporter": "python",
   "pygments_lexer": "ipython3",
   "version": "3.9.10"
  }
 },
 "nbformat": 4,
 "nbformat_minor": 5
}

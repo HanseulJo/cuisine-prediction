{
 "cells": [
  {
   "cell_type": "code",
   "execution_count": null,
   "id": "abfb27b7",
   "metadata": {},
   "outputs": [],
   "source": [
    "# h5py 안 될 때\n",
    "!brew reinstall hdf5\n",
    "!export CPATH=\"/opt/homebrew/include/\"\n",
    "!export HDF5_DIR=/opt/homebrew/\n",
    "!python3 -m pip install h5py"
   ]
  },
  {
   "cell_type": "code",
   "execution_count": 102,
   "id": "ba75710c",
   "metadata": {},
   "outputs": [],
   "source": [
    "import pickle\n",
    "import math\n",
    "from copy import deepcopy\n",
    "\n",
    "import h5py\n",
    "import numpy as np\n",
    "import torch\n",
    "import torch.nn as nn\n",
    "import torch.nn.functional as F"
   ]
  },
  {
   "cell_type": "code",
   "execution_count": 103,
   "id": "e31a79ab",
   "metadata": {},
   "outputs": [],
   "source": [
    "path_root = '../'\n",
    "path_container = './Container/'"
   ]
  },
  {
   "cell_type": "markdown",
   "id": "75bed3b7",
   "metadata": {},
   "source": [
    "### Dataset 가져오기 (1) dict"
   ]
  },
  {
   "cell_type": "code",
   "execution_count": 104,
   "id": "1e2e1250",
   "metadata": {},
   "outputs": [
    {
     "name": "stdout",
     "output_type": "stream",
     "text": [
      "{0: 'brazilian', 1: 'british', 2: 'cajun_creole', 3: 'chinese', 4: 'filipino', 5: 'french', 6: 'greek', 7: 'indian', 8: 'irish', 9: 'italian', 10: 'jamaican', 11: 'japanese', 12: 'korean', 13: 'mexican', 14: 'moroccan', 15: 'russian', 16: 'southern_us', 17: 'spanish', 18: 'thai', 19: 'vietnamese'}\n"
     ]
    },
    {
     "data": {
      "text/plain": [
       "(dict, 20)"
      ]
     },
     "execution_count": 104,
     "metadata": {},
     "output_type": "execute_result"
    }
   ],
   "source": [
    "with open(path_container + 'id_cuisine_dict.pickle', 'rb') as f:\n",
    "    id_cuisine_dict = pickle.load(f)\n",
    "\n",
    "print(id_cuisine_dict)\n",
    "type(id_cuisine_dict), len(id_cuisine_dict)"
   ]
  },
  {
   "cell_type": "code",
   "execution_count": 105,
   "id": "19f3aecb",
   "metadata": {},
   "outputs": [
    {
     "name": "stdout",
     "output_type": "stream",
     "text": [
      "{'brazilian': 0, 'british': 1, 'cajun_creole': 2, 'chinese': 3, 'filipino': 4, 'french': 5, 'greek': 6, 'indian': 7, 'irish': 8, 'italian': 9, 'jamaican': 10, 'japanese': 11, 'korean': 12, 'mexican': 13, 'moroccan': 14, 'russian': 15, 'southern_us': 16, 'spanish': 17, 'thai': 18, 'vietnamese': 19}\n"
     ]
    },
    {
     "data": {
      "text/plain": [
       "(dict, 20)"
      ]
     },
     "execution_count": 105,
     "metadata": {},
     "output_type": "execute_result"
    }
   ],
   "source": [
    "with open(path_container + 'cuisine_id_dict.pickle', 'rb') as f:\n",
    "    cuisine_id_dict = pickle.load(f)\n",
    "\n",
    "print(cuisine_id_dict)\n",
    "type(cuisine_id_dict), len(cuisine_id_dict)"
   ]
  },
  {
   "cell_type": "code",
   "execution_count": 106,
   "id": "cc754cc2",
   "metadata": {},
   "outputs": [
    {
     "name": "stdout",
     "output_type": "stream",
     "text": [
      "Franks Hot Sauce\n"
     ]
    },
    {
     "data": {
      "text/plain": [
       "(dict, 6714)"
      ]
     },
     "execution_count": 106,
     "metadata": {},
     "output_type": "execute_result"
    }
   ],
   "source": [
    "with open(path_container + 'id_ingredient_dict.pickle', 'rb') as f:\n",
    "    id_ingredient_dict = pickle.load(f)\n",
    "\n",
    "print(id_ingredient_dict[6694])\n",
    "type(id_ingredient_dict), len(id_ingredient_dict)"
   ]
  },
  {
   "cell_type": "code",
   "execution_count": 107,
   "id": "dce7f39b",
   "metadata": {},
   "outputs": [
    {
     "name": "stdout",
     "output_type": "stream",
     "text": [
      "37\n",
      "561\n",
      "[698, 1039, 4315]\n"
     ]
    },
    {
     "data": {
      "text/plain": [
       "(dict, 6694)"
      ]
     },
     "execution_count": 107,
     "metadata": {},
     "output_type": "execute_result"
    }
   ],
   "source": [
    "with open(path_container + 'ingredient_id_dict.pickle', 'rb') as f:\n",
    "    ingredient_id_dict = pickle.load(f)\n",
    "\n",
    "print(ingredient_id_dict['lemon grass'])\n",
    "print(ingredient_id_dict['lemongrass'])\n",
    "print(ingredient_id_dict['bread'])\n",
    "type(ingredient_id_dict), len(ingredient_id_dict)"
   ]
  },
  {
   "cell_type": "markdown",
   "id": "45b52eb3",
   "metadata": {},
   "source": [
    "### Datastet 가져오기 (2) h5py"
   ]
  },
  {
   "cell_type": "code",
   "execution_count": 108,
   "id": "821623c8",
   "metadata": {},
   "outputs": [
    {
     "data": {
      "text/plain": [
       "'\\n_train = [arr_data_train, bin_data_train, int_labels_train, bin_labels_train]\\n_valid_class = [arr_data_valid_class, bin_data_valid_class, int_labels_valid_class, bin_labels_valid_class]\\n_valid_compl = [arr_data_valid_compl, bin_data_valid_compl, int_labels_valid_compl, bin_labels_valid_compl]\\n_test_class = [arr_data_test_class, bin_data_test_class, None, None]\\n_test_compl = [arr_data_test_compl, bin_data_test_compl, None, None]\\n'"
      ]
     },
     "execution_count": 108,
     "metadata": {},
     "output_type": "execute_result"
    }
   ],
   "source": [
    "\"\"\"\n",
    "_train = [arr_data_train, bin_data_train, int_labels_train, bin_labels_train]\n",
    "_valid_class = [arr_data_valid_class, bin_data_valid_class, int_labels_valid_class, bin_labels_valid_class]\n",
    "_valid_compl = [arr_data_valid_compl, bin_data_valid_compl, int_labels_valid_compl, bin_labels_valid_compl]\n",
    "_test_class = [arr_data_test_class, bin_data_test_class, None, None]\n",
    "_test_compl = [arr_data_test_compl, bin_data_test_compl, None, None]\n",
    "\"\"\""
   ]
  },
  {
   "cell_type": "code",
   "execution_count": 109,
   "id": "6bc69e35",
   "metadata": {},
   "outputs": [
    {
     "name": "stdout",
     "output_type": "stream",
     "text": [
      "(23547, 65)\n",
      "(23547, 6714)\n",
      "(23547,)\n",
      "(23547, 20)\n"
     ]
    }
   ],
   "source": [
    "with h5py.File(path_container + 'train', 'r') as f:\n",
    "    arr_data_train = f['arr_data'][:]\n",
    "    bin_data_train = f['bin_data'][:]\n",
    "    int_labels_train = f['int_labels'][:]\n",
    "    bin_labels_train = f['bin_labels'][:]\n",
    "\n",
    "print(arr_data_train.shape)\n",
    "print(bin_data_train.shape)\n",
    "print(int_labels_train.shape)\n",
    "print(bin_labels_train.shape)"
   ]
  },
  {
   "cell_type": "code",
   "execution_count": 110,
   "id": "c2430064",
   "metadata": {},
   "outputs": [
    {
     "name": "stdout",
     "output_type": "stream",
     "text": [
      "(7848, 65)\n",
      "(7848, 6714)\n",
      "(7848,)\n",
      "(7848, 20)\n"
     ]
    }
   ],
   "source": [
    "with h5py.File(path_container + 'valid_class', 'r') as f:\n",
    "    arr_data_valid_class = f['arr_data'][:]\n",
    "    bin_data_valid_class = f['bin_data'][:]\n",
    "    int_labels_valid_class = f['int_labels'][:]\n",
    "    bin_labels_valid_class = f['bin_labels'][:]\n",
    "\n",
    "print(arr_data_valid_class.shape)\n",
    "print(bin_data_valid_class.shape)\n",
    "print(int_labels_valid_class.shape)\n",
    "print(bin_labels_valid_class.shape)"
   ]
  },
  {
   "cell_type": "code",
   "execution_count": 111,
   "id": "a814fcfd",
   "metadata": {},
   "outputs": [
    {
     "name": "stdout",
     "output_type": "stream",
     "text": [
      "(7848, 65)\n",
      "(7848, 6714)\n",
      "(7848,)\n",
      "(7848, 6714)\n"
     ]
    }
   ],
   "source": [
    "with h5py.File(path_container + 'valid_compl', 'r') as f:\n",
    "    arr_data_valid_compl = f['arr_data'][:]\n",
    "    bin_data_valid_compl = f['bin_data'][:]\n",
    "    int_labels_valid_compl = f['int_labels'][:]\n",
    "    bin_labels_valid_compl = f['bin_labels'][:]\n",
    "\n",
    "print(arr_data_valid_compl.shape)\n",
    "print(bin_data_valid_compl.shape)\n",
    "print(int_labels_valid_compl.shape)\n",
    "print(bin_labels_valid_compl.shape)"
   ]
  },
  {
   "cell_type": "code",
   "execution_count": 112,
   "id": "64ce830e",
   "metadata": {},
   "outputs": [
    {
     "name": "stdout",
     "output_type": "stream",
     "text": [
      "(3924, 65)\n",
      "(3924, 6714)\n"
     ]
    }
   ],
   "source": [
    "with h5py.File(path_container + 'test_class', 'r') as f:\n",
    "    arr_data_test_class = f['arr_data'][:]\n",
    "    bin_data_test_class = f['bin_data'][:]\n",
    "\n",
    "print(arr_data_test_class.shape)\n",
    "print(bin_data_test_class.shape)"
   ]
  },
  {
   "cell_type": "code",
   "execution_count": 113,
   "id": "5175645a",
   "metadata": {},
   "outputs": [
    {
     "name": "stdout",
     "output_type": "stream",
     "text": [
      "(3924, 65)\n",
      "(3924, 6714)\n"
     ]
    }
   ],
   "source": [
    "with h5py.File(path_container + 'test_compl', 'r') as f:\n",
    "    arr_data_test_compl = f['arr_data'][:]\n",
    "    bin_data_test_compl = f['bin_data'][:]\n",
    "\n",
    "print(arr_data_test_compl.shape)\n",
    "print(bin_data_test_compl.shape)"
   ]
  },
  {
   "cell_type": "code",
   "execution_count": 148,
   "id": "65c5d329",
   "metadata": {},
   "outputs": [],
   "source": [
    "arr_data_train[arr_data_train == -1] = 6714\n",
    "arr_data_valid_class[arr_data_valid_class == -1] = 6714\n",
    "arr_data_valid_compl[arr_data_valid_compl == -1] = 6714\n",
    "arr_data_test_class[arr_data_test_class == -1] = 6714\n",
    "arr_data_test_compl[arr_data_test_compl == -1] = 6714"
   ]
  },
  {
   "cell_type": "markdown",
   "id": "3358e9ec",
   "metadata": {},
   "source": [
    "### Ingredient feature vectors (nn.Embedding)"
   ]
  },
  {
   "cell_type": "code",
   "execution_count": 149,
   "id": "ba8b399a",
   "metadata": {},
   "outputs": [
    {
     "data": {
      "text/plain": [
       "array([2813, 3146, 3229, 3885, 4379, 4390, 5250, 5456, 6187, 6714, 6714,\n",
       "       6714, 6714, 6714, 6714, 6714, 6714, 6714, 6714, 6714, 6714, 6714,\n",
       "       6714, 6714, 6714, 6714, 6714, 6714, 6714, 6714, 6714, 6714, 6714,\n",
       "       6714, 6714, 6714, 6714, 6714, 6714, 6714, 6714, 6714, 6714, 6714,\n",
       "       6714, 6714, 6714, 6714, 6714, 6714, 6714, 6714, 6714, 6714, 6714,\n",
       "       6714, 6714, 6714, 6714, 6714, 6714, 6714, 6714, 6714, 6714])"
      ]
     },
     "execution_count": 149,
     "metadata": {},
     "output_type": "execute_result"
    }
   ],
   "source": [
    "arr_data_train[0]"
   ]
  },
  {
   "cell_type": "code",
   "execution_count": 133,
   "id": "1333c289",
   "metadata": {},
   "outputs": [
    {
     "name": "stdout",
     "output_type": "stream",
     "text": [
      "Parameter containing:\n",
      "tensor([[ 0.3599,  0.9416,  1.4564,  ..., -1.0213,  1.5693,  0.1103],\n",
      "        [ 0.5863,  0.4845,  1.3174,  ..., -0.5885,  0.2481, -0.2382],\n",
      "        [ 2.0011,  1.6078,  0.0855,  ...,  1.7241,  0.1326, -1.1778],\n",
      "        ...,\n",
      "        [-0.1822,  0.2193,  0.0793,  ...,  0.7744, -0.1809, -0.7209],\n",
      "        [ 1.1681,  0.5451,  0.7103,  ...,  1.5585,  1.4503,  0.7562],\n",
      "        [ 0.0000,  0.0000,  0.0000,  ...,  0.0000,  0.0000,  0.0000]],\n",
      "       requires_grad=True)\n"
     ]
    }
   ],
   "source": [
    "num_ingredients = 6715  # = len(id_ingredient_dict) + 1  # +1 for padding (last)\n",
    "max_length = 59  # maximum num of ingredients per recipe\n",
    "embedding_dim = 300\n",
    "\n",
    "\n",
    "Embed = nn.Embedding(num_embeddings=num_ingredients, embedding_dim=embedding_dim, padding_idx=-1)\n",
    "_x = torch.LongTensor(arr_data_train[:2])\n",
    "\n",
    "print(Embed.weight)"
   ]
  },
  {
   "cell_type": "code",
   "execution_count": 134,
   "id": "a4c2d245",
   "metadata": {},
   "outputs": [
    {
     "name": "stdout",
     "output_type": "stream",
     "text": [
      "tensor([ 3.5989e-01,  9.4159e-01,  1.4564e+00, -1.0358e+00, -8.4364e-01,\n",
      "        -1.2497e+00, -1.4760e+00,  1.6427e+00, -1.9056e+00, -1.2056e-01,\n",
      "        -7.0132e-01,  5.0164e-01,  4.9938e-02,  9.2093e-01, -5.0142e-01,\n",
      "        -2.2910e+00, -9.3431e-01,  6.2413e-01,  7.3609e-01,  1.9642e+00,\n",
      "        -4.6398e-01, -1.4066e+00, -1.6423e+00,  1.3607e+00,  5.1227e-01,\n",
      "         1.8007e-01,  4.7199e-01, -1.1351e+00,  9.2885e-01,  4.4411e-01,\n",
      "        -1.8556e-01, -3.3980e-01, -2.4175e+00,  5.9192e-01,  8.2105e-01,\n",
      "         6.5585e-01,  1.2407e+00, -1.4417e+00,  2.1462e+00,  1.5923e-01,\n",
      "         2.3984e-01, -4.3879e-01,  1.7370e+00,  2.5500e-01,  5.7573e-01,\n",
      "         4.9964e-01, -3.6335e-01,  4.7846e-01,  9.5999e-01, -9.8557e-01,\n",
      "         2.0376e-01, -8.6757e-01,  1.7020e+00,  5.3814e-01, -1.1990e+00,\n",
      "         8.9151e-01,  2.8203e+00, -2.1186e-01,  6.4916e-01, -1.1497e+00,\n",
      "        -6.0216e-01,  1.5438e-01, -2.0247e-01,  8.9013e-01, -6.3371e-01,\n",
      "         8.4884e-04, -2.2505e+00,  3.6893e-01,  1.3016e+00,  3.1174e-01,\n",
      "        -2.3773e-01,  3.2643e-01, -9.9947e-01, -1.0609e+00,  4.1360e-01,\n",
      "         2.5106e+00,  3.4047e-01, -1.0135e+00,  5.5468e-01,  1.7490e-01,\n",
      "        -4.1500e-01, -9.9624e-02,  5.7650e-01, -8.1496e-01,  8.6968e-01,\n",
      "        -1.9511e+00, -4.3632e-01,  8.9151e-01, -1.1204e+00, -1.1896e+00,\n",
      "        -5.7643e-02, -1.0515e+00, -8.4006e-01, -1.5731e+00, -2.9415e+00,\n",
      "         1.1549e+00, -9.9967e-01, -6.1424e-01, -6.0913e-02, -2.3791e-02,\n",
      "        -3.3079e-01, -1.2539e+00, -5.0458e-01, -1.8221e+00,  1.2368e+00,\n",
      "        -4.0857e-01,  8.7654e-01,  2.7404e-01,  9.7932e-01,  7.2084e-01,\n",
      "        -9.3005e-01, -1.2843e+00,  7.1497e-01, -1.8069e+00, -5.0296e-01,\n",
      "         4.7692e-02, -3.0233e+00,  8.2916e-02, -5.5087e-01, -4.7133e-01,\n",
      "        -7.9057e-01,  1.4955e+00,  7.2493e-01, -2.3811e-02, -6.1683e-02,\n",
      "         1.1111e-01,  8.5098e-02, -1.9773e+00,  8.2201e-01, -1.4789e+00,\n",
      "         6.2038e-01,  4.7922e-01, -5.5904e-01,  8.8803e-02, -1.2925e+00,\n",
      "        -1.6097e-02, -1.6807e+00,  1.0512e+00,  1.1998e+00, -6.4613e-01,\n",
      "        -2.9847e-01, -2.0984e-01,  1.3877e+00,  5.0105e-01,  1.1262e+00,\n",
      "        -9.4914e-01,  8.5059e-01, -1.0895e+00,  2.8380e-01, -1.5910e-01,\n",
      "        -2.0473e-01, -8.4805e-01,  2.2850e-01,  1.7025e-01,  2.3727e+00,\n",
      "         1.5638e-01, -8.5246e-01, -1.0188e+00,  8.0203e-01, -3.2270e-01,\n",
      "         5.6345e-01, -2.3794e+00, -2.9985e+00,  6.6997e-01, -5.9154e-01,\n",
      "        -9.2961e-02,  2.6180e-01, -1.8273e+00,  3.7930e-01, -7.3520e-01,\n",
      "        -1.4860e+00, -1.7775e-01,  1.1841e+00, -1.6225e-01,  5.5867e-01,\n",
      "        -1.0485e+00,  6.7494e-01,  7.4396e-01, -5.8582e-01, -9.0940e-01,\n",
      "         6.4202e-01, -9.5551e-01,  2.1698e+00, -5.7472e-01, -8.6866e-01,\n",
      "        -1.8069e-01,  6.0171e-01,  8.4375e-01,  2.7491e-01, -1.4949e-01,\n",
      "        -1.5764e+00, -2.4335e+00,  1.4678e+00,  8.3204e-01, -6.0534e-01,\n",
      "         2.9923e-02, -1.5535e+00, -1.8137e+00, -1.1772e+00,  1.1394e+00,\n",
      "        -4.5139e-01,  1.1051e-01, -6.4719e-01,  1.1054e+00,  1.8665e+00,\n",
      "         2.4696e+00,  4.3276e-01,  1.2905e+00,  1.4464e+00, -6.9083e-01,\n",
      "        -3.9180e-01, -1.3410e+00, -1.2019e-01, -1.9629e+00, -7.5603e-01,\n",
      "        -8.2392e-01, -1.8550e+00,  1.1004e+00,  1.1262e+00, -1.1604e-01,\n",
      "         4.2756e-01,  1.2643e+00,  2.7799e-01, -4.5379e-02,  1.0412e+00,\n",
      "         8.1094e-01, -2.1950e-01, -8.0290e-01, -9.8248e-01, -4.2580e-02,\n",
      "        -8.9115e-01, -1.1333e+00, -1.7128e+00,  5.4554e-01, -6.0322e-02,\n",
      "         9.7216e-01,  1.0590e+00,  2.6337e-01, -5.1360e-01, -6.3091e-01,\n",
      "         8.2982e-01, -1.0710e-01,  3.5121e-01, -8.2240e-01, -1.3284e+00,\n",
      "        -7.1917e-01,  5.6191e-01,  1.1840e+00,  2.1307e+00, -1.3922e+00,\n",
      "        -8.2975e-01,  2.6217e-02, -3.0300e-01, -8.8339e-01, -1.8561e-01,\n",
      "         3.2420e-01,  5.4478e-02,  3.0633e-02,  2.1166e-01, -8.3775e-01,\n",
      "         4.0124e-01,  4.7200e-01,  1.0810e-01,  1.1817e+00,  1.4114e+00,\n",
      "        -3.6796e-01, -8.4612e-01,  4.7859e-01, -1.4617e+00,  7.2572e-01,\n",
      "        -7.4668e-01, -8.4541e-01,  5.0637e-01,  1.1580e+00,  3.5749e-01,\n",
      "        -1.3744e-01,  2.5988e-01,  6.9997e-01,  1.7054e-01, -1.9056e+00,\n",
      "        -1.4919e-01,  1.8499e-01,  1.0144e+00,  1.2457e+00, -3.1516e-02,\n",
      "         1.0496e+00,  7.6233e-01, -1.1212e+00,  4.7614e-01, -1.0384e+00,\n",
      "        -1.4782e+00, -7.7266e-02,  8.4800e-01,  2.6245e-01,  6.6038e-01,\n",
      "        -1.4101e+00, -5.6291e-01, -1.0213e+00,  1.5693e+00,  1.1031e-01],\n",
      "       grad_fn=<SelectBackward0>)\n"
     ]
    }
   ],
   "source": [
    "print(Embed.weight[0])"
   ]
  },
  {
   "cell_type": "code",
   "execution_count": 151,
   "id": "d4472194",
   "metadata": {},
   "outputs": [
    {
     "name": "stdout",
     "output_type": "stream",
     "text": [
      "tensor([[2813, 3146, 3229, 3885, 4379, 4390, 5250, 5456, 6187, 6714, 6714, 6714,\n",
      "         6714, 6714, 6714, 6714, 6714, 6714, 6714, 6714, 6714, 6714, 6714, 6714,\n",
      "         6714, 6714, 6714, 6714, 6714, 6714, 6714, 6714, 6714, 6714, 6714, 6714,\n",
      "         6714, 6714, 6714, 6714, 6714, 6714, 6714, 6714, 6714, 6714, 6714, 6714,\n",
      "         6714, 6714, 6714, 6714, 6714, 6714, 6714, 6714, 6714, 6714, 6714, 6714,\n",
      "         6714, 6714, 6714, 6714, 6714],\n",
      "        [ 392,  937, 1476, 2172, 2351, 2813, 3350, 3554, 3857, 3978, 5249, 5648,\n",
      "         6714, 6714, 6714, 6714, 6714, 6714, 6714, 6714, 6714, 6714, 6714, 6714,\n",
      "         6714, 6714, 6714, 6714, 6714, 6714, 6714, 6714, 6714, 6714, 6714, 6714,\n",
      "         6714, 6714, 6714, 6714, 6714, 6714, 6714, 6714, 6714, 6714, 6714, 6714,\n",
      "         6714, 6714, 6714, 6714, 6714, 6714, 6714, 6714, 6714, 6714, 6714, 6714,\n",
      "         6714, 6714, 6714, 6714, 6714]])\n",
      "torch.Size([2, 65, 300])\n",
      "tensor([0., 0., 0., 0., 0., 0., 0., 0., 0., 0., 0., 0., 0., 0., 0., 0., 0., 0., 0., 0., 0., 0., 0., 0.,\n",
      "        0., 0., 0., 0., 0., 0., 0., 0., 0., 0., 0., 0., 0., 0., 0., 0., 0., 0., 0., 0., 0., 0., 0., 0.,\n",
      "        0., 0., 0., 0., 0., 0., 0., 0., 0., 0., 0., 0., 0., 0., 0., 0., 0., 0., 0., 0., 0., 0., 0., 0.,\n",
      "        0., 0., 0., 0., 0., 0., 0., 0., 0., 0., 0., 0., 0., 0., 0., 0., 0., 0., 0., 0., 0., 0., 0., 0.,\n",
      "        0., 0., 0., 0., 0., 0., 0., 0., 0., 0., 0., 0., 0., 0., 0., 0., 0., 0., 0., 0., 0., 0., 0., 0.,\n",
      "        0., 0., 0., 0., 0., 0., 0., 0., 0., 0., 0., 0., 0., 0., 0., 0., 0., 0., 0., 0., 0., 0., 0., 0.,\n",
      "        0., 0., 0., 0., 0., 0., 0., 0., 0., 0., 0., 0., 0., 0., 0., 0., 0., 0., 0., 0., 0., 0., 0., 0.,\n",
      "        0., 0., 0., 0., 0., 0., 0., 0., 0., 0., 0., 0., 0., 0., 0., 0., 0., 0., 0., 0., 0., 0., 0., 0.,\n",
      "        0., 0., 0., 0., 0., 0., 0., 0., 0., 0., 0., 0., 0., 0., 0., 0., 0., 0., 0., 0., 0., 0., 0., 0.,\n",
      "        0., 0., 0., 0., 0., 0., 0., 0., 0., 0., 0., 0., 0., 0., 0., 0., 0., 0., 0., 0., 0., 0., 0., 0.,\n",
      "        0., 0., 0., 0., 0., 0., 0., 0., 0., 0., 0., 0., 0., 0., 0., 0., 0., 0., 0., 0., 0., 0., 0., 0.,\n",
      "        0., 0., 0., 0., 0., 0., 0., 0., 0., 0., 0., 0., 0., 0., 0., 0., 0., 0., 0., 0., 0., 0., 0., 0.,\n",
      "        0., 0., 0., 0., 0., 0., 0., 0., 0., 0., 0., 0.])\n"
     ]
    }
   ],
   "source": [
    "print(x)\n",
    "with torch.no_grad():\n",
    "    print(Embed(x).size())\n",
    "    print(Embed(x)[0][11]) # zero padded feature matrix! (0번째 recipe는 10개라 11~65번째 feature vector는 zeros.)"
   ]
  },
  {
   "cell_type": "markdown",
   "id": "d2a38907",
   "metadata": {},
   "source": [
    "### Models\n",
    "\n",
    "Set transformer: ( https://github.com/juho-lee/set_transformer )"
   ]
  },
  {
   "cell_type": "code",
   "execution_count": 39,
   "id": "ccfff2e9",
   "metadata": {},
   "outputs": [],
   "source": [
    "## Building blocks of Set Transformers ##\n",
    "\n",
    "class MAB(nn.Module):\n",
    "    def __init__(self, dim_Q, dim_K, dim_V, num_heads, ln=False):\n",
    "        super(MAB, self).__init__()\n",
    "        self.dim_V = dim_V\n",
    "        self.num_heads = num_heads\n",
    "        self.fc_q = nn.Linear(dim_Q, dim_V)\n",
    "        self.fc_k = nn.Linear(dim_K, dim_V)\n",
    "        self.fc_v = nn.Linear(dim_K, dim_V)\n",
    "        if ln:\n",
    "            self.ln0 = nn.LayerNorm(dim_V)\n",
    "            self.ln1 = nn.LayerNorm(dim_V)\n",
    "        self.fc_o = nn.Linear(dim_V, dim_V)\n",
    "\n",
    "    def forward(self, Q, K):\n",
    "        Q = self.fc_q(Q)\n",
    "        K, V = self.fc_k(K), self.fc_v(K)\n",
    "\n",
    "        dim_split = self.dim_V // self.num_heads\n",
    "        Q_ = torch.cat(Q.split(dim_split, 2), 0)\n",
    "        K_ = torch.cat(K.split(dim_split, 2), 0)\n",
    "        V_ = torch.cat(V.split(dim_split, 2), 0)\n",
    "\n",
    "        A = torch.softmax(Q_.bmm(K_.transpose(1,2))/math.sqrt(self.dim_V), 2)\n",
    "        O = torch.cat((Q_ + A.bmm(V_)).split(Q.size(0), 0), 2)\n",
    "        O = O if getattr(self, 'ln0', None) is None else self.ln0(O)\n",
    "        O = O + F.relu(self.fc_o(O))\n",
    "        O = O if getattr(self, 'ln1', None) is None else self.ln1(O)\n",
    "        return O\n",
    "\n",
    "class SAB(nn.Module):\n",
    "    def __init__(self, dim_in, dim_out, num_heads, ln=False):\n",
    "        super(SAB, self).__init__()\n",
    "        self.mab = MAB(dim_in, dim_in, dim_out, num_heads, ln=ln)\n",
    "\n",
    "    def forward(self, X):\n",
    "        return self.mab(X, X)\n",
    "\n",
    "class ISAB(nn.Module):\n",
    "    def __init__(self, dim_in, dim_out, num_heads, num_inds, ln=False):\n",
    "        super(ISAB, self).__init__()\n",
    "        self.I = nn.Parameter(torch.Tensor(1, num_inds, dim_out))\n",
    "        nn.init.xavier_uniform_(self.I)\n",
    "        self.mab0 = MAB(dim_out, dim_in, dim_out, num_heads, ln=ln)\n",
    "        self.mab1 = MAB(dim_in, dim_out, dim_out, num_heads, ln=ln)\n",
    "\n",
    "    def forward(self, X):\n",
    "        H = self.mab0(self.I.repeat(X.size(0), 1, 1), X)\n",
    "        return self.mab1(X, H)\n",
    "\n",
    "class PMA(nn.Module):\n",
    "    def __init__(self, dim, num_heads, num_seeds, ln=False):\n",
    "        super(PMA, self).__init__()\n",
    "        self.S = nn.Parameter(torch.Tensor(1, num_seeds, dim))\n",
    "        nn.init.xavier_uniform_(self.S)\n",
    "        self.mab = MAB(dim, dim, dim, num_heads, ln=ln)\n",
    "        \n",
    "    def forward(self, X):\n",
    "        return self.mab(self.S.repeat(X.size(0), 1, 1), X)"
   ]
  },
  {
   "cell_type": "code",
   "execution_count": 147,
   "id": "ca267607",
   "metadata": {},
   "outputs": [],
   "source": [
    "class Encoder(nn.Module):\n",
    "    def __init__(self, dim_input,\n",
    "                 num_inds=32, dim_hidden=128, num_heads=4, ln=False):\n",
    "        super(SetTransformer, self).__init__()\n",
    "        self.enc = nn.Sequential(\n",
    "                ISAB(dim_input, dim_hidden, num_heads, num_inds, ln=ln),\n",
    "                ISAB(dim_hidden, dim_hidden, num_heads, num_inds, ln=ln))\n",
    "        \n",
    "    def forward(self, X):\n",
    "        return self.enc(X)\n",
    "\n",
    "class Decoder(nn.Module):\n",
    "    def __init__(self, num_outputs, dim_output,\n",
    "                 num_inds=32, dim_hidden=128, num_heads=4, ln=False):\n",
    "        super(SetTransformer, self).__init__()\n",
    "        self.dec = nn.Sequential(\n",
    "                PMA(dim_hidden, num_heads, num_outputs, ln=ln),\n",
    "                SAB(dim_hidden, dim_hidden, num_heads, ln=ln),\n",
    "                SAB(dim_hidden, dim_hidden, num_heads, ln=ln),\n",
    "                nn.Linear(dim_hidden, dim_output))\n",
    "        \n",
    "    def forward(self, X):\n",
    "        return self.dec(X)\n",
    "\n",
    "class SetTransformer(nn.Module):\n",
    "    def __init__(self, dim_input, num_outputs, dim_output,\n",
    "                 num_inds=32, dim_hidden=128, num_heads=4, ln=False):\n",
    "        super(SetTransformer, self).__init__()\n",
    "        self.enc = Encoder(num_dim_input,\n",
    "                           num_inds=num_inds, dim_hidden=dim_hidden, num_heads=num_heads, ln=False)\n",
    "        self.dec = Decoder(num_outputs, dim_output,\n",
    "                           num_inds=num_inds, dim_hidden=128, num_heads=4, ln=False)\n",
    "        \n",
    "    def forward(self, X):\n",
    "        return self.dec(self.enc(X))"
   ]
  },
  {
   "cell_type": "code",
   "execution_count": null,
   "id": "c3112540",
   "metadata": {},
   "outputs": [],
   "source": [
    "# Example\n",
    "\n"
   ]
  }
 ],
 "metadata": {
  "kernelspec": {
   "display_name": "Python 3 (ipykernel)",
   "language": "python",
   "name": "python3"
  },
  "language_info": {
   "codemirror_mode": {
    "name": "ipython",
    "version": 3
   },
   "file_extension": ".py",
   "mimetype": "text/x-python",
   "name": "python",
   "nbconvert_exporter": "python",
   "pygments_lexer": "ipython3",
   "version": "3.9.10"
  }
 },
 "nbformat": 4,
 "nbformat_minor": 5
}

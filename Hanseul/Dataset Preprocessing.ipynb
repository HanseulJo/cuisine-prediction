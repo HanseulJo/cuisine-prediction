{
 "cells": [
  {
   "cell_type": "code",
   "execution_count": 1,
   "id": "2dcf4621",
   "metadata": {},
   "outputs": [],
   "source": [
    "# h5py 안 될 때 (M1 Mac)\n",
    "#!brew reinstall hdf5\n",
    "#!export CPATH=\"/opt/homebrew/include/\"\n",
    "#!export HDF5_DIR=/opt/homebrew/\n",
    "#!python3 -m pip install h5py"
   ]
  },
  {
   "cell_type": "code",
   "execution_count": 2,
   "id": "5bba8e26",
   "metadata": {},
   "outputs": [],
   "source": [
    "import os\n",
    "import csv\n",
    "import pickle\n",
    "\n",
    "import numpy as np\n",
    "import h5py"
   ]
  },
  {
   "cell_type": "code",
   "execution_count": 3,
   "id": "88ddf6ed",
   "metadata": {},
   "outputs": [],
   "source": [
    "path_root = '../'\n",
    "path_container = './Container/'"
   ]
  },
  {
   "cell_type": "code",
   "execution_count": 4,
   "id": "f2b6971b",
   "metadata": {},
   "outputs": [],
   "source": [
    "path_train = os.path.join(path_root, \"train.csv\")\n",
    "path_valid_class_que = os.path.join(path_root, \"validation_classification_question.csv\")\n",
    "path_valid_class_ans = os.path.join(path_root, \"validation_classification_answer.csv\")\n",
    "path_valid_compl_que = os.path.join(path_root, \"validation_completion_question.csv\")\n",
    "path_valid_compl_ans = os.path.join(path_root, \"validation_completion_answer.csv\")\n",
    "path_test_class_que = os.path.join(path_root, \"test_classification_question.csv\")\n",
    "path_test_compl_que = os.path.join(path_root, \"test_completion_question.csv\")\n",
    "path_ingredient_name = os.path.join(path_root, \"node_ingredient.txt\")"
   ]
  },
  {
   "cell_type": "markdown",
   "id": "6adcf00c",
   "metadata": {},
   "source": [
    "### Data 읽어서 list로 일단 저장"
   ]
  },
  {
   "cell_type": "code",
   "execution_count": 5,
   "id": "34dd278e",
   "metadata": {},
   "outputs": [],
   "source": [
    "def read_train_data(path):\n",
    "    \"\"\" Read train.csv and Return lists of data[int] / label[str]. \"\"\"\n",
    "    data = []\n",
    "    labels = []\n",
    "    with open(path, 'r') as f:\n",
    "        for line in csv.reader(f):\n",
    "            recipe = sorted(map(int, line[:-1]))  # a sorted list of recipe (integer)\n",
    "            cuisine = line[-1]                    # which country? (string)\n",
    "            data.append(recipe)\n",
    "            labels.append(cuisine)\n",
    "    return data, labels\n",
    "\n",
    "\n",
    "def read_classification_data(question_path, answer_path=None):\n",
    "    \"\"\" Read valid/test data for classification. Then return lists of data[int] / label[str]. \"\"\"\n",
    "    data = []\n",
    "    labels = [] if answer_path is not None else None\n",
    "    with open(question_path, 'r') as f:\n",
    "        for line in csv.reader(f):\n",
    "            recipe = sorted(map(int, line))  # a sorted list of recipe (integer)\n",
    "            data.append(recipe)\n",
    "    if answer_path is not None:\n",
    "        with open(answer_path, 'r') as f:\n",
    "            for line in csv.reader(f):\n",
    "                cuisine = line[0]            # which country? (string)\n",
    "                labels.append(cuisine)\n",
    "    return data, labels\n",
    "\n",
    "\n",
    "def read_completion_data(question_path, answer_path=None):\n",
    "    \"\"\" Read valid/test data for completion. Then return lists of data[int] / label[str]. \"\"\"\n",
    "    data = []\n",
    "    labels = [] if answer_path is not None else None\n",
    "    with open(question_path, 'r') as f:\n",
    "        for line in csv.reader(f):\n",
    "            recipe = sorted(map(int, line))                # recipe without an ingredient\n",
    "            data.append(recipe)\n",
    "    if answer_path is not None:\n",
    "        with open(answer_path, 'r') as f:\n",
    "            for line in csv.reader(f):\n",
    "                recipe = set(map(int, line))               # original recipe\n",
    "                missing = recipe - set(data[len(labels)])  # missing ingredient in data\n",
    "                labels.append(list(missing)[0])\n",
    "    return data, labels\n",
    "\n",
    "\n",
    "def read_ingredient_names(ingredient_path):\n",
    "    ingredients_names = []\n",
    "    with open(ingredient_path, 'r') as f:\n",
    "        for line in csv.reader(f):\n",
    "            ingredients_names.append(line[0])\n",
    "    return ingredients_names"
   ]
  },
  {
   "cell_type": "code",
   "execution_count": 6,
   "id": "9b11ea2a",
   "metadata": {},
   "outputs": [],
   "source": [
    "data_train, labels_train = read_train_data(path_train)\n",
    "data_valid_class, labels_valid_class = read_classification_data(path_valid_class_que, path_valid_class_ans)\n",
    "data_valid_compl, labels_valid_compl = read_completion_data(path_valid_compl_que, path_valid_compl_ans)\n",
    "data_test_class, _ = read_classification_data(path_test_class_que, None)\n",
    "data_test_compl, _ = read_completion_data(path_test_compl_que, None)\n",
    "ingredient_names = read_ingredient_names(path_ingredient_name)  # 재료 이름 (string)\n",
    "cuisine_names = sorted(set(labels_train+labels_valid_class))    # Cuisine 이름 (string), 알파벳 순"
   ]
  },
  {
   "cell_type": "markdown",
   "id": "e45b43b1",
   "metadata": {},
   "source": [
    "### List (```ingredient_names```, ```cuisine_names```) 를 Dictionary로 변환"
   ]
  },
  {
   "cell_type": "code",
   "execution_count": 7,
   "id": "bf8098d9",
   "metadata": {},
   "outputs": [
    {
     "name": "stdout",
     "output_type": "stream",
     "text": [
      "{0: 'brazilian', 1: 'british', 2: 'cajun_creole', 3: 'chinese', 4: 'filipino', 5: 'french', 6: 'greek', 7: 'indian', 8: 'irish', 9: 'italian', 10: 'jamaican', 11: 'japanese', 12: 'korean', 13: 'mexican', 14: 'moroccan', 15: 'russian', 16: 'southern_us', 17: 'spanish', 18: 'thai', 19: 'vietnamese'}\n"
     ]
    }
   ],
   "source": [
    "# Dict: id (int, 0~19) -> cuisine name (str, 알파벳 순)\n",
    "id_cuisine_dict = dict(zip(range(len(cuisine_names)), cuisine_names))\n",
    "print(id_cuisine_dict)"
   ]
  },
  {
   "cell_type": "code",
   "execution_count": 8,
   "id": "af227545",
   "metadata": {},
   "outputs": [
    {
     "name": "stdout",
     "output_type": "stream",
     "text": [
      "{'brazilian': 0, 'british': 1, 'cajun_creole': 2, 'chinese': 3, 'filipino': 4, 'french': 5, 'greek': 6, 'indian': 7, 'irish': 8, 'italian': 9, 'jamaican': 10, 'japanese': 11, 'korean': 12, 'mexican': 13, 'moroccan': 14, 'russian': 15, 'southern_us': 16, 'spanish': 17, 'thai': 18, 'vietnamese': 19}\n"
     ]
    }
   ],
   "source": [
    "# Dict: cuisine name (str) -> id (int)\n",
    "cuisine_id_dict = {b: a for a, b in id_cuisine_dict.items()}\n",
    "print(cuisine_id_dict)"
   ]
  },
  {
   "cell_type": "code",
   "execution_count": 9,
   "id": "4d80dced",
   "metadata": {},
   "outputs": [
    {
     "name": "stdout",
     "output_type": "stream",
     "text": [
      "6714\n",
      "{0: 'coca-cola', 1: 'vegan butter', 2: 'sourdough rolls', 3: 'reduced sodium refried beans', 4: 'ramen noodles', 5: 'crumbled corn bread', 6: 'japanese breadcrumbs', 7: 'toasted shredded coconut', 8: 'chinese spinach', 9: \"Hellmann's® Real Mayonnaise\", 10: 'ducklings', 11: 'basil olive oil', 12: 'white baking bar', 13: 'rye whiskey', 14: 'mushroom broth', 15: 'meat loaf mix', 16: 'cocktail sauce', 17: 'asparagus spears', 18: 'nonfat greek yogurt', 19: 'cabernet sauvignon'} ...\n"
     ]
    }
   ],
   "source": [
    "# Dict: id (int, 0~6713) -> ingredient name (str, node_ingredient.txt 기준)\n",
    "id_ingredient_dict = dict(zip(range(len(ingredient_names)), ingredient_names))\n",
    "print(len(id_ingredient_dict.items()))\n",
    "print(dict(list(id_ingredient_dict.items())[:20]), '...')  # 20개만 출력"
   ]
  },
  {
   "cell_type": "code",
   "execution_count": 10,
   "id": "ab8f3c5e",
   "metadata": {},
   "outputs": [
    {
     "name": "stdout",
     "output_type": "stream",
     "text": [
      "@@@ Duplicate ingredients: (19개) @@@\n",
      "      [917, 3335] (10 oz.) frozen chopped spinach\n",
      "      [585, 4634] bacon\n",
      "[698, 1039, 4315] bread\n",
      "     [3297, 5457] clams\n",
      "     [5368, 5932] cream cheese\n",
      "      [984, 4593] egg noodles\n",
      "     [3403, 4936] frozen chopped spinach\n",
      "     [3700, 5810] frozen lemonade concentrate\n",
      "       [83, 3076] frozen orange juice concentrate\n",
      "     [4999, 5908] green bell pepper\n",
      "     [4047, 4091] lasagna noodles\n",
      "     [2353, 4243] linguine\n",
      "     [2882, 3311] mussels\n",
      "      [343, 2798] pork chops\n",
      "     [4945, 5095] red bell pepper\n",
      "     [2938, 3099] spaghetti\n",
      "     [1063, 4921] tortellini\n",
      "     [5656, 6442] tuna\n",
      "     [1660, 6510] water chestnuts\n",
      "\n",
      "number of non-duplicate ingredient names: 6694\n",
      "{'coca-cola': 0, 'vegan butter': 1, 'sourdough rolls': 2, 'reduced sodium refried beans': 3, 'ramen noodles': 4, 'crumbled corn bread': 5, 'japanese breadcrumbs': 6, 'toasted shredded coconut': 7, 'chinese spinach': 8, \"Hellmann's® Real Mayonnaise\": 9, 'ducklings': 10, 'basil olive oil': 11, 'white baking bar': 12, 'rye whiskey': 13, 'mushroom broth': 14, 'meat loaf mix': 15, 'cocktail sauce': 16, 'asparagus spears': 17, 'nonfat greek yogurt': 18, 'cabernet sauvignon': 19} ...\n"
     ]
    }
   ],
   "source": [
    "# Dict: ingredient name (str) -> id (int, 0~6713)\n",
    "ingredient_id_dict = dict()\n",
    "duplicate_ingredient_names = set()\n",
    "for i, (a, b) in enumerate(id_ingredient_dict.items()):\n",
    "    if b in ingredient_id_dict:\n",
    "        duplicate_ingredient_names.add(b)\n",
    "        if type(ingredient_id_dict[b]) == int:\n",
    "            ingredient_id_dict[b] = [ingredient_id_dict[b], a]\n",
    "            #ingredient_id_dict[b] = [ingredient_id_dict[b], a]\n",
    "        else:\n",
    "            ingredient_id_dict[b] += [a]\n",
    "            #ingredient_id_dict[b] = tuple(list(ingredient_id_dict[b]) + [a])\n",
    "    else:\n",
    "        ingredient_id_dict[b] = a\n",
    "print(f'@@@ Duplicate ingredients: ({len(duplicate_ingredient_names)}개) @@@')\n",
    "for name in sorted(duplicate_ingredient_names):\n",
    "    print(f\"{str(ingredient_id_dict[name]):>17} {name}\")\n",
    "print()\n",
    "print('number of non-duplicate ingredient names:', len(ingredient_id_dict))\n",
    "print(dict(list(ingredient_id_dict.items())[:20]), '...')  # 20개만 출력"
   ]
  },
  {
   "cell_type": "markdown",
   "id": "c6c04da8",
   "metadata": {},
   "source": [
    "### Data, Label lists를 binary np.array로 변환"
   ]
  },
  {
   "cell_type": "code",
   "execution_count": 11,
   "id": "2445c1d2",
   "metadata": {},
   "outputs": [],
   "source": [
    "def data_to_binary_array(data, dim):\n",
    "    \"\"\" convert data(list of lists) into a 2D binary array. (for dataset, row = recipe) \"\"\"\n",
    "    \"\"\" dim (int) : dimension of each row (of 'enc') that must be. \"\"\"\n",
    "    enc = np.zeros((len(data), dim), dtype=int) \n",
    "    for i in range(len(data)):\n",
    "        recipe = data[i]\n",
    "        enc[i][recipe] = 1\n",
    "    return enc\n",
    "\n",
    "num_ingredients = len(ingredient_names)\n",
    "num_cuisines = len(cuisine_names)"
   ]
  },
  {
   "cell_type": "code",
   "execution_count": 12,
   "id": "6994d4f3",
   "metadata": {},
   "outputs": [
    {
     "name": "stdout",
     "output_type": "stream",
     "text": [
      "(23547, 6714)\n",
      "(7848, 6714)\n",
      "(7848, 6714)\n",
      "(3924, 6714)\n",
      "(3924, 6714)\n"
     ]
    }
   ],
   "source": [
    "# Data\n",
    "bin_data_train = data_to_binary_array(data_train, num_ingredients)\n",
    "bin_data_valid_class = data_to_binary_array(data_valid_class, num_ingredients)\n",
    "bin_data_valid_compl = data_to_binary_array(data_valid_compl, num_ingredients)\n",
    "bin_data_test_class = data_to_binary_array(data_test_class, num_ingredients)\n",
    "bin_data_test_compl = data_to_binary_array(data_test_compl, num_ingredients)\n",
    "\n",
    "for x in [bin_data_train, bin_data_valid_class, bin_data_valid_compl, bin_data_test_class, bin_data_test_compl]:\n",
    "    print(x.shape)"
   ]
  },
  {
   "cell_type": "code",
   "execution_count": 13,
   "id": "f60242fd",
   "metadata": {},
   "outputs": [
    {
     "name": "stdout",
     "output_type": "stream",
     "text": [
      "(23547,)\n",
      "(7848,)\n",
      "(7848,)\n"
     ]
    }
   ],
   "source": [
    "# String이던 Label을 id로 바꾸기\n",
    "int_labels_train = np.array([cuisine_id_dict[label] for label in labels_train])\n",
    "int_labels_valid_class = np.array([cuisine_id_dict[label] for label in labels_valid_class])\n",
    "int_labels_valid_compl = np.array(labels_valid_compl)  # 원래 int형.\n",
    "\n",
    "for x in [int_labels_train, int_labels_valid_class, int_labels_valid_compl]:\n",
    "    print(x.shape)"
   ]
  },
  {
   "cell_type": "code",
   "execution_count": 14,
   "id": "a6eab2e3",
   "metadata": {},
   "outputs": [
    {
     "name": "stdout",
     "output_type": "stream",
     "text": [
      "(23547, 20)\n",
      "(7848, 20)\n",
      "(7848, 6714)\n"
     ]
    }
   ],
   "source": [
    "# int형 label을 one-hot으로 바꾸기\n",
    "bin_labels_train = data_to_binary_array(int_labels_train, num_cuisines)\n",
    "bin_labels_valid_class = data_to_binary_array(int_labels_valid_class, num_cuisines)\n",
    "bin_labels_valid_compl = data_to_binary_array(labels_valid_compl, num_ingredients)\n",
    "\n",
    "for x in [bin_labels_train, bin_labels_valid_class, bin_labels_valid_compl]:\n",
    "    print(x.shape)"
   ]
  },
  {
   "cell_type": "markdown",
   "id": "9f111083",
   "metadata": {},
   "source": [
    "### Dictionary를 pickle로 저장"
   ]
  },
  {
   "cell_type": "code",
   "execution_count": 15,
   "id": "bf124dc8",
   "metadata": {},
   "outputs": [],
   "source": [
    "# %mkdir {path_container}"
   ]
  },
  {
   "cell_type": "code",
   "execution_count": 16,
   "id": "b965c23b",
   "metadata": {},
   "outputs": [
    {
     "name": "stdout",
     "output_type": "stream",
     "text": [
      "20\n",
      "20\n",
      "6714\n",
      "6694\n"
     ]
    }
   ],
   "source": [
    "for d, name in zip([id_cuisine_dict, cuisine_id_dict, id_ingredient_dict, ingredient_id_dict],\n",
    "                   ['id_cuisine_dict', 'cuisine_id_dict', 'id_ingredient_dict', 'ingredient_id_dict']):\n",
    "    print(len(d))\n",
    "    with open(path_container + name +'.pickle', 'wb') as fw:\n",
    "        pickle.dump(d, fw)"
   ]
  },
  {
   "cell_type": "markdown",
   "id": "8c1adea6",
   "metadata": {},
   "source": [
    "### np.ndarray를 h5py로 저장"
   ]
  },
  {
   "cell_type": "code",
   "execution_count": 17,
   "id": "08598836",
   "metadata": {},
   "outputs": [],
   "source": [
    "_train = [bin_data_train, int_labels_train, bin_labels_train]\n",
    "_valid_class = [bin_data_valid_class, int_labels_valid_class, bin_labels_valid_class]\n",
    "_valid_compl = [bin_data_valid_compl, int_labels_valid_compl, bin_labels_valid_compl]\n",
    "_test_class = [bin_data_test_class, None, None]\n",
    "_test_compl = [bin_data_test_compl, None, None]"
   ]
  },
  {
   "cell_type": "code",
   "execution_count": 19,
   "id": "93ccda54",
   "metadata": {},
   "outputs": [],
   "source": [
    "for (bin_data, int_labels, bin_labels), name in zip([_train, _valid_class, _valid_compl, _test_class, _test_compl],\n",
    "                                                    ['train', 'valid_class', 'valid_compl', 'test_class', 'test_compl']):\n",
    "    with h5py.File(path_container + name, 'w') as h5f:\n",
    "        h5f.create_dataset('bin_data', data=bin_data, compression=\"gzip\")\n",
    "        if 'test_' not in name:\n",
    "            h5f.create_dataset('int_labels', data=int_labels, compression=\"gzip\")\n",
    "            h5f.create_dataset('bin_labels', data=bin_labels, compression=\"gzip\")"
   ]
  },
  {
   "cell_type": "code",
   "execution_count": null,
   "id": "67802707",
   "metadata": {},
   "outputs": [],
   "source": []
  }
 ],
 "metadata": {
  "kernelspec": {
   "display_name": "Python 3.9.10 64-bit",
   "language": "python",
   "name": "python3910jvsc74a57bd0b0fa6594d8f4cbf19f97940f81e996739fb7646882a419484c72d19e05852a7e"
  },
  "language_info": {
   "codemirror_mode": {
    "name": "ipython",
    "version": 3
   },
   "file_extension": ".py",
   "mimetype": "text/x-python",
   "name": "python",
   "nbconvert_exporter": "python",
   "pygments_lexer": "ipython3",
   "version": "3.9.10"
  }
 },
 "nbformat": 4,
 "nbformat_minor": 5
}

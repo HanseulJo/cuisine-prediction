{
 "cells": [
  {
   "cell_type": "code",
   "execution_count": 1,
   "id": "87be5412",
   "metadata": {},
   "outputs": [],
   "source": [
    "# h5py 안 될 때 (M1 Mac)\n",
    "#!brew reinstall hdf5\n",
    "#!export CPATH=\"/opt/homebrew/include/\"\n",
    "#!export HDF5_DIR=/opt/homebrew/\n",
    "#!python3 -m pip install h5py"
   ]
  },
  {
   "cell_type": "code",
   "execution_count": 2,
   "id": "f965182c",
   "metadata": {},
   "outputs": [],
   "source": [
    "import os\n",
    "import csv\n",
    "import pickle\n",
    "\n",
    "import numpy as np\n",
    "import h5py"
   ]
  },
  {
   "cell_type": "code",
   "execution_count": 3,
   "id": "b69b146c",
   "metadata": {},
   "outputs": [],
   "source": [
    "path_root = '../'\n",
    "path_container = './Container/'"
   ]
  },
  {
   "cell_type": "code",
   "execution_count": 4,
   "id": "d498571f",
   "metadata": {},
   "outputs": [],
   "source": [
    "path_train = os.path.join(path_root, \"train.csv\")\n",
    "path_valid_class_que = os.path.join(path_root, \"validation_classification_question.csv\")\n",
    "path_valid_class_ans = os.path.join(path_root, \"validation_classification_answer.csv\")\n",
    "path_valid_compl_que = os.path.join(path_root, \"validation_completion_question.csv\")\n",
    "path_valid_compl_ans = os.path.join(path_root, \"validation_completion_answer.csv\")\n",
    "path_test_class_que = os.path.join(path_root, \"test_classification_question.csv\")\n",
    "path_test_compl_que = os.path.join(path_root, \"test_completion_question.csv\")\n",
    "path_ingredient_name = os.path.join(path_root, \"node_ingredient.txt\")"
   ]
  },
  {
   "cell_type": "markdown",
   "id": "3cdea96e",
   "metadata": {},
   "source": [
    "### Data 읽어서 list로 일단 저장"
   ]
  },
  {
   "cell_type": "code",
   "execution_count": 5,
   "id": "d4467f2f",
   "metadata": {},
   "outputs": [],
   "source": [
    "def read_train_data(path):\n",
    "    \"\"\" Read train.csv and Return lists of data[int] / label[str]. \"\"\"\n",
    "    data = []\n",
    "    labels = []\n",
    "    with open(path, 'r') as f:\n",
    "        for line in csv.reader(f):\n",
    "            recipe = sorted(set(map(int, line[:-1])))  # a sorted list of recipe (integer) # 0417: 중복되는 재료 삭제 (3개 recipe)\n",
    "            cuisine = line[-1]                    # which country? (string)\n",
    "            data.append(recipe)\n",
    "            labels.append(cuisine)\n",
    "    return data, labels\n",
    "\n",
    "\n",
    "def read_classification_data(question_path, answer_path=None):\n",
    "    \"\"\" Read valid/test data for classification. Then return lists of data[int] / label[str]. \"\"\"\n",
    "    data = []\n",
    "    labels = [] if answer_path is not None else None\n",
    "    with open(question_path, 'r') as f:\n",
    "        for line in csv.reader(f):\n",
    "            recipe = sorted(set(list(map(int, line))))  # a sorted list of recipe (integer)  # 0417: 중복되는 재료 삭제\n",
    "            data.append(recipe)\n",
    "    if answer_path is not None:\n",
    "        with open(answer_path, 'r') as f:\n",
    "            for line in csv.reader(f):\n",
    "                cuisine = line[0]            # which country? (string)\n",
    "                labels.append(cuisine)\n",
    "    return data, labels\n",
    "\n",
    "\n",
    "def read_completion_data(question_path, answer_path=None):\n",
    "    \"\"\" Read valid/test data for completion. Then return lists of data[int] / label[str]. \"\"\"\n",
    "    data = []\n",
    "    labels = [] if answer_path is not None else None\n",
    "    with open(question_path, 'r') as f:\n",
    "        for line in csv.reader(f):\n",
    "            recipe = sorted(set(map(int, line)))  # recipe without an ingredient\n",
    "            data.append(recipe)\n",
    "    if answer_path is not None:\n",
    "        with open(answer_path, 'r') as f:\n",
    "            for line in csv.reader(f):\n",
    "                recipe = set(map(int, line))   # original recipe set\n",
    "                missing = list(recipe - set(data[len(labels)]))[0]\n",
    "                labels.append(missing)\n",
    "    return data, labels\n",
    "\n",
    "\n",
    "def read_ingredient_names(ingredient_path):\n",
    "    ingredients_names = []\n",
    "    with open(ingredient_path, 'r') as f:\n",
    "        for line in csv.reader(f):\n",
    "            ingredients_names.append(line[0])\n",
    "    return ingredients_names"
   ]
  },
  {
   "cell_type": "code",
   "execution_count": 6,
   "id": "eed87426",
   "metadata": {},
   "outputs": [],
   "source": [
    "data_train_class, labels_train_class = read_train_data(path_train)  # classification-only dataset\n",
    "data_valid_class, labels_valid_class = read_classification_data(path_valid_class_que, path_valid_class_ans)\n",
    "data_valid_compl, labels_valid_compl = read_completion_data(path_valid_compl_que, path_valid_compl_ans)\n",
    "data_test_class, _ = read_classification_data(path_test_class_que, None)\n",
    "data_test_compl, _ = read_completion_data(path_test_compl_que, None)\n",
    "ingredient_names = read_ingredient_names(path_ingredient_name)  # 재료 이름 (string)\n",
    "cuisine_names = sorted(set(labels_train_class+labels_valid_class))    # Cuisine 이름 (string), 알파벳 순"
   ]
  },
  {
   "cell_type": "code",
   "execution_count": 7,
   "id": "784f0eaa",
   "metadata": {},
   "outputs": [],
   "source": [
    "# completion task용 dataset\n",
    "data_train_compl = []\n",
    "labels_train_compl = []\n",
    "labels_train_compl_class = []\n",
    "cnt = 0\n",
    "for recipe, label in zip(data_train_class, labels_train_class):\n",
    "    cnt += 1\n",
    "    if len(recipe) > 1:\n",
    "        for i in range(len(recipe)):\n",
    "            data_train_compl.append(recipe[:i]+recipe[i+1:])\n",
    "            labels_train_compl.append(recipe[i])\n",
    "            labels_train_compl_class.append(label)\n",
    "            #if cnt <=3:\n",
    "                #print(recipe[:i]+recipe[i+1:], recipe[i], label)"
   ]
  },
  {
   "cell_type": "markdown",
   "id": "845a6185",
   "metadata": {},
   "source": [
    "### List (```ingredient_names```, ```cuisine_names```) 를 Dictionary로 변환"
   ]
  },
  {
   "cell_type": "code",
   "execution_count": 8,
   "id": "8e17c432",
   "metadata": {},
   "outputs": [
    {
     "name": "stdout",
     "output_type": "stream",
     "text": [
      "{0: 'brazilian', 1: 'british', 2: 'cajun_creole', 3: 'chinese', 4: 'filipino', 5: 'french', 6: 'greek', 7: 'indian', 8: 'irish', 9: 'italian', 10: 'jamaican', 11: 'japanese', 12: 'korean', 13: 'mexican', 14: 'moroccan', 15: 'russian', 16: 'southern_us', 17: 'spanish', 18: 'thai', 19: 'vietnamese'}\n"
     ]
    }
   ],
   "source": [
    "# Dict: id (int, 0~19) -> cuisine name (str, 알파벳 순)\n",
    "id_cuisine_dict = dict(zip(range(len(cuisine_names)), cuisine_names))\n",
    "print(id_cuisine_dict)"
   ]
  },
  {
   "cell_type": "code",
   "execution_count": 9,
   "id": "2c2ba7ed",
   "metadata": {},
   "outputs": [
    {
     "name": "stdout",
     "output_type": "stream",
     "text": [
      "{'brazilian': 0, 'british': 1, 'cajun_creole': 2, 'chinese': 3, 'filipino': 4, 'french': 5, 'greek': 6, 'indian': 7, 'irish': 8, 'italian': 9, 'jamaican': 10, 'japanese': 11, 'korean': 12, 'mexican': 13, 'moroccan': 14, 'russian': 15, 'southern_us': 16, 'spanish': 17, 'thai': 18, 'vietnamese': 19}\n"
     ]
    }
   ],
   "source": [
    "# Dict: cuisine name (str) -> id (int)\n",
    "cuisine_id_dict = {b: a for a, b in id_cuisine_dict.items()}\n",
    "print(cuisine_id_dict)"
   ]
  },
  {
   "cell_type": "code",
   "execution_count": 10,
   "id": "358541ef",
   "metadata": {},
   "outputs": [
    {
     "name": "stdout",
     "output_type": "stream",
     "text": [
      "6714\n",
      "{0: 'coca-cola', 1: 'vegan butter', 2: 'sourdough rolls', 3: 'reduced sodium refried beans', 4: 'ramen noodles', 5: 'crumbled corn bread', 6: 'japanese breadcrumbs', 7: 'toasted shredded coconut', 8: 'chinese spinach', 9: \"Hellmann's® Real Mayonnaise\", 10: 'ducklings', 11: 'basil olive oil', 12: 'white baking bar', 13: 'rye whiskey', 14: 'mushroom broth', 15: 'meat loaf mix', 16: 'cocktail sauce', 17: 'asparagus spears', 18: 'nonfat greek yogurt', 19: 'cabernet sauvignon'} ...\n"
     ]
    }
   ],
   "source": [
    "# Dict: id (int, 0~6713) -> ingredient name (str, node_ingredient.txt 기준)\n",
    "id_ingredient_dict = dict(zip(range(len(ingredient_names)), ingredient_names))\n",
    "print(len(id_ingredient_dict.items()))\n",
    "print(dict(list(id_ingredient_dict.items())[:20]), '...')  # 20개만 출력"
   ]
  },
  {
   "cell_type": "code",
   "execution_count": 11,
   "id": "b57a0ebd",
   "metadata": {},
   "outputs": [
    {
     "name": "stdout",
     "output_type": "stream",
     "text": [
      "@@@ Duplicate ingredients: (19개) @@@\n",
      "      [917, 3335] (10 oz.) frozen chopped spinach\n",
      "      [585, 4634] bacon\n",
      "[698, 1039, 4315] bread\n",
      "     [3297, 5457] clams\n",
      "     [5368, 5932] cream cheese\n",
      "      [984, 4593] egg noodles\n",
      "     [3403, 4936] frozen chopped spinach\n",
      "     [3700, 5810] frozen lemonade concentrate\n",
      "       [83, 3076] frozen orange juice concentrate\n",
      "     [4999, 5908] green bell pepper\n",
      "     [4047, 4091] lasagna noodles\n",
      "     [2353, 4243] linguine\n",
      "     [2882, 3311] mussels\n",
      "      [343, 2798] pork chops\n",
      "     [4945, 5095] red bell pepper\n",
      "     [2938, 3099] spaghetti\n",
      "     [1063, 4921] tortellini\n",
      "     [5656, 6442] tuna\n",
      "     [1660, 6510] water chestnuts\n",
      "\n",
      "number of non-duplicate ingredient names: 6694\n",
      "{'coca-cola': 0, 'vegan butter': 1, 'sourdough rolls': 2, 'reduced sodium refried beans': 3, 'ramen noodles': 4, 'crumbled corn bread': 5, 'japanese breadcrumbs': 6, 'toasted shredded coconut': 7, 'chinese spinach': 8, \"Hellmann's® Real Mayonnaise\": 9, 'ducklings': 10, 'basil olive oil': 11, 'white baking bar': 12, 'rye whiskey': 13, 'mushroom broth': 14, 'meat loaf mix': 15, 'cocktail sauce': 16, 'asparagus spears': 17, 'nonfat greek yogurt': 18, 'cabernet sauvignon': 19} ...\n"
     ]
    }
   ],
   "source": [
    "# Dict: ingredient name (str) -> id (int, 0~6713)\n",
    "ingredient_id_dict = dict()\n",
    "duplicate_ingredient_names = set()\n",
    "for i, (a, b) in enumerate(id_ingredient_dict.items()):\n",
    "    if b in ingredient_id_dict:\n",
    "        duplicate_ingredient_names.add(b)\n",
    "        if type(ingredient_id_dict[b]) == int:\n",
    "            ingredient_id_dict[b] = [ingredient_id_dict[b], a]\n",
    "            #ingredient_id_dict[b] = [ingredient_id_dict[b], a]\n",
    "        else:\n",
    "            ingredient_id_dict[b] += [a]\n",
    "            #ingredient_id_dict[b] = tuple(list(ingredient_id_dict[b]) + [a])\n",
    "    else:\n",
    "        ingredient_id_dict[b] = a\n",
    "print(f'@@@ Duplicate ingredients: ({len(duplicate_ingredient_names)}개) @@@')\n",
    "for name in sorted(duplicate_ingredient_names):\n",
    "    print(f\"{str(ingredient_id_dict[name]):>17} {name}\")\n",
    "print()\n",
    "print('number of non-duplicate ingredient names:', len(ingredient_id_dict))\n",
    "print(dict(list(ingredient_id_dict.items())[:20]), '...')  # 20개만 출력"
   ]
  },
  {
   "cell_type": "markdown",
   "id": "f74a4769",
   "metadata": {},
   "source": [
    "### Data, Label lists를 np.array로 변환"
   ]
  },
  {
   "cell_type": "code",
   "execution_count": 12,
   "id": "90c442ff",
   "metadata": {},
   "outputs": [],
   "source": [
    "def data_to_binary_array(data, dim):\n",
    "    \"\"\" convert data(list of lists) into a 2D binary array. (for dataset, row = recipe) \"\"\"\n",
    "    \"\"\" dim (int) : dimension of each row (of 'enc') that must be. \"\"\"\n",
    "    enc = np.zeros((len(data), dim), dtype=int) \n",
    "    for i in range(len(data)):\n",
    "        recipe = data[i]\n",
    "        enc[i][recipe] = 1\n",
    "    return enc\n",
    "\n",
    "num_ingredients = len(ingredient_names)\n",
    "num_cuisines = len(cuisine_names)"
   ]
  },
  {
   "cell_type": "code",
   "execution_count": 13,
   "id": "a8211374",
   "metadata": {},
   "outputs": [
    {
     "name": "stdout",
     "output_type": "stream",
     "text": [
      "(23547, 6714)\n",
      "(253419, 6714)\n",
      "(7848, 6714)\n",
      "(7848, 6714)\n",
      "(3924, 6714)\n",
      "(3924, 6714)\n"
     ]
    }
   ],
   "source": [
    "# Data + labels_valid_compl\n",
    "bin_data_train_class = data_to_binary_array(data_train_class, num_ingredients)\n",
    "bin_data_train_compl = data_to_binary_array(data_train_compl, num_ingredients)\n",
    "bin_data_valid_class = data_to_binary_array(data_valid_class, num_ingredients)\n",
    "bin_data_valid_compl = data_to_binary_array(data_valid_compl, num_ingredients)\n",
    "bin_data_test_class = data_to_binary_array(data_test_class, num_ingredients)\n",
    "bin_data_test_compl = data_to_binary_array(data_test_compl, num_ingredients)\n",
    "\n",
    "for x in [bin_data_train_class, bin_data_train_compl, bin_data_valid_class, bin_data_valid_compl, bin_data_test_class, bin_data_test_compl]:\n",
    "    print(x.shape)"
   ]
  },
  {
   "cell_type": "code",
   "execution_count": 14,
   "id": "f0d29803",
   "metadata": {},
   "outputs": [
    {
     "name": "stdout",
     "output_type": "stream",
     "text": [
      "(23547,)\n",
      "(253419,)\n",
      "(253419,)\n",
      "(7848,)\n",
      "(7848,)\n"
     ]
    }
   ],
   "source": [
    "# String이던 Label을 id로 바꾸기 & int list를 int array로 바꾸기\n",
    "int_labels_train_class = np.array([cuisine_id_dict[label] for label in labels_train_class])\n",
    "int_labels_train_compl = np.array(labels_train_compl)\n",
    "int_labels_train_compl_class = np.array([cuisine_id_dict[label] for label in labels_train_compl_class])\n",
    "int_labels_valid_class = np.array([cuisine_id_dict[label] for label in labels_valid_class])\n",
    "int_labels_valid_compl = np.array(labels_valid_compl)\n",
    "\n",
    "for x in [int_labels_train_class, int_labels_train_compl, int_labels_train_compl_class, int_labels_valid_class, int_labels_valid_compl]:\n",
    "    print(x.shape)"
   ]
  },
  {
   "cell_type": "markdown",
   "id": "7b240aff",
   "metadata": {},
   "source": [
    "### Dictionary를 pickle로 저장"
   ]
  },
  {
   "cell_type": "code",
   "execution_count": 15,
   "id": "042d2225",
   "metadata": {},
   "outputs": [],
   "source": [
    "# %mkdir {path_container}"
   ]
  },
  {
   "cell_type": "code",
   "execution_count": 16,
   "id": "447aef9c",
   "metadata": {},
   "outputs": [
    {
     "name": "stdout",
     "output_type": "stream",
     "text": [
      "20\n",
      "20\n",
      "6714\n",
      "6694\n"
     ]
    }
   ],
   "source": [
    "for d, name in zip([id_cuisine_dict, cuisine_id_dict, id_ingredient_dict, ingredient_id_dict],\n",
    "                   ['id_cuisine_dict', 'cuisine_id_dict', 'id_ingredient_dict', 'ingredient_id_dict']):\n",
    "    print(len(d))\n",
    "    with open(path_container + name +'.pickle', 'wb') as fw:\n",
    "        pickle.dump(d, fw)"
   ]
  },
  {
   "cell_type": "markdown",
   "id": "553ea9d1",
   "metadata": {},
   "source": [
    "### np.ndarray를 h5py로 저장"
   ]
  },
  {
   "cell_type": "code",
   "execution_count": 17,
   "id": "ddb55ba6",
   "metadata": {},
   "outputs": [],
   "source": [
    "# train_class\n",
    "with h5py.File(path_container + 'train_class', 'w') as h5f:\n",
    "    h5f.create_dataset('bin_data', data=bin_data_train_class, compression=\"gzip\")\n",
    "    h5f.create_dataset('label_class', data=int_labels_train_class, compression=\"gzip\")"
   ]
  },
  {
   "cell_type": "code",
   "execution_count": 18,
   "id": "c2f9df40",
   "metadata": {},
   "outputs": [],
   "source": [
    "# train_compl\n",
    "with h5py.File(path_container + 'train_compl', 'w') as h5f:\n",
    "    h5f.create_dataset('bin_data', data=bin_data_train_compl, compression=\"gzip\")\n",
    "    h5f.create_dataset('label_class', data=int_labels_train_compl_class, compression=\"gzip\")\n",
    "    h5f.create_dataset('label_compl', data=int_labels_train_compl, compression=\"gzip\")"
   ]
  },
  {
   "cell_type": "code",
   "execution_count": 19,
   "id": "803a3eb3",
   "metadata": {},
   "outputs": [],
   "source": [
    "# valid_class\n",
    "with h5py.File(path_container + 'valid_class', 'w') as h5f:\n",
    "    h5f.create_dataset('bin_data', data=bin_data_valid_class, compression=\"gzip\")\n",
    "    h5f.create_dataset('label_class', data=int_labels_valid_class, compression=\"gzip\")"
   ]
  },
  {
   "cell_type": "code",
   "execution_count": 20,
   "id": "d9c51b11",
   "metadata": {},
   "outputs": [],
   "source": [
    "# valid_compl\n",
    "with h5py.File(path_container + 'valid_compl', 'w') as h5f:\n",
    "    h5f.create_dataset('bin_data', data=bin_data_valid_compl, compression=\"gzip\")\n",
    "    h5f.create_dataset('label_compl', data=int_labels_valid_compl, compression=\"gzip\")"
   ]
  },
  {
   "cell_type": "code",
   "execution_count": 21,
   "id": "a32fe699",
   "metadata": {},
   "outputs": [],
   "source": [
    "# test_class\n",
    "with h5py.File(path_container + 'test_class', 'w') as h5f:\n",
    "    h5f.create_dataset('bin_data', data=bin_data_test_class, compression=\"gzip\")"
   ]
  },
  {
   "cell_type": "code",
   "execution_count": 22,
   "id": "2220d61b",
   "metadata": {},
   "outputs": [],
   "source": [
    "# test_compl\n",
    "with h5py.File(path_container + 'test_class', 'w') as h5f:\n",
    "    h5f.create_dataset('bin_data', data=bin_data_test_compl, compression=\"gzip\")"
   ]
  },
  {
   "cell_type": "markdown",
   "id": "247b081a",
   "metadata": {},
   "source": [
    "## 각 재료는 얼마나 등장할까?"
   ]
  },
  {
   "cell_type": "code",
   "execution_count": 23,
   "id": "cd27a105",
   "metadata": {},
   "outputs": [
    {
     "name": "stdout",
     "output_type": "stream",
     "text": [
      "total_cnt 253438\n",
      "   plain    | label_appearance(relative)\n",
      " 937: 10682 |  937: 1029.238668427132\n",
      "5377:  4763 | 5377: 451.9161677791333\n",
      "5536:  4685 | 2945: 428.95297773804896\n",
      "2945:  4347 | 1308: 406.3646566533548\n",
      "6187:  4329 | 5536: 395.38299815444026\n",
      "1308:  3759 | 6187: 371.3897284542667\n",
      "2122:  3712 | 2122: 325.11233138262673\n",
      "2518:  2858 | 5648: 296.81267796850796\n",
      "5648:  2808 | 4799: 273.021986953124\n",
      "4799:  2739 | 2518: 252.05825911713433\n",
      "2813:  2631 |  167: 241.8706030228799\n",
      " 167:  2594 | 2813: 239.94656738638224\n",
      "1476:  2007 | 1476: 204.08035320744452\n",
      "3978:  1928 | 2809: 176.3161334401818\n",
      "3653:  1861 | 5882: 174.30191173884472\n",
      "  59:  1834 | 3978: 173.16011293968384\n",
      "5884:  1808 | 3653: 172.29724214725792\n",
      "2809:  1755 | 1679: 167.37086058738828\n",
      "5882:  1658 | 5884: 161.3637390092757\n",
      "5136:  1637 |   59: 161.3332578924371\n"
     ]
    }
   ],
   "source": [
    "# 매 epoch 마다 한 recipe는 한 번씩 뽑힌다. 그리고 completion에서는 그 중 하나의 재료씩 뽑힌다.\n",
    "plain_appearance = np.zeros(6714, dtype=int)  # dataset에 등장한 횟수 세기\n",
    "label_appearance = np.zeros(6714)             # completion label로 뽑힐 횟수 (in average, relative) 세기\n",
    "total_cnt = 0\n",
    "for recipe in data_train_class:\n",
    "    for ingredient in recipe:\n",
    "        plain_appearance[ingredient] += 1\n",
    "        if len(recipe) >= 2:\n",
    "            label_appearance[ingredient] += 1/len(recipe)\n",
    "        total_cnt += 1\n",
    "\n",
    "print('total_cnt', total_cnt)\n",
    "\n",
    "# 상위 20개만 보여주기\n",
    "print('   plain    | label_appearance(relative)')\n",
    "_i = 1\n",
    "for (i, num1), (j, num2) in zip(sorted(list(enumerate(plain_appearance)), key=lambda x: -x[1]),\n",
    "                   sorted(list(enumerate(label_appearance)), key=lambda x: -x[1])):\n",
    "    print(f\"{i:4d}: {num1:5d} | {j:4d}: {num2}\")\n",
    "    _i += 1\n",
    "    if _i > 20:\n",
    "        break\n"
   ]
  },
  {
   "cell_type": "code",
   "execution_count": 24,
   "id": "a7ac4a87",
   "metadata": {},
   "outputs": [
    {
     "name": "stdout",
     "output_type": "stream",
     "text": [
      "non-appear ingred? 855\n",
      "[   2    5   15   23   42   54   72   73   79   89  108  113  122  124\n",
      "  128  131  133  140  146  151  158  159  160  189  190  192  196  206\n",
      "  219  232  235  267  285  288  312  313  315  336  339  353  370  382\n",
      "  403  406  408  419  430  433  435  437  441  443  445  447  448  454\n",
      "  459  463  465  466  485  487  493  500  506  507  511  523  556  560\n",
      "  564  568  571  573  575  595  598  601  606  608  612  626  639  644\n",
      "  655  668  678  679  683  697  699  707  710  713  723  730  735  747\n",
      "  752  755  772  796  797  800  809  812  813  824  834  840  841  858\n",
      "  887  893  894  896  901  911  915  930  942  948  957  960  969  973\n",
      "  978  983  989  995  996 1008 1010 1034 1038 1042 1061 1067 1070 1071\n",
      " 1093 1096 1113 1126 1128 1132 1145 1154 1157 1164 1178 1183 1199 1220\n",
      " 1223 1226 1255 1261 1284 1295 1303 1304 1306 1313 1317 1351 1355 1358\n",
      " 1378 1384 1385 1387 1391 1397 1399 1402 1406 1408 1417 1428 1441 1444\n",
      " 1451 1455 1469 1477 1491 1501 1508 1526 1537 1540 1543 1549 1561 1562\n",
      " 1565 1569 1572 1574 1608 1617 1622 1628 1630 1631 1635 1658 1669 1671\n",
      " 1675 1684 1696 1699 1704 1710 1712 1714 1738 1739 1744 1753 1758 1767\n",
      " 1773 1784 1786 1787 1791 1793 1814 1824 1833 1836 1843 1845 1847 1855\n",
      " 1859 1865 1870 1873 1878 1885 1888 1911 1913 1933 1948 1949 1962 1965\n",
      " 1973 1978 1983 1992 1996 2003 2025 2035 2042 2069 2088 2091 2093 2109\n",
      " 2115 2125 2128 2129 2136 2149 2151 2159 2160 2163 2186 2202 2211 2225\n",
      " 2227 2228 2230 2237 2239 2241 2244 2248 2252 2257 2261 2268 2270 2310\n",
      " 2315 2322 2355 2367 2368 2380 2386 2396 2400 2401 2413 2434 2441 2450\n",
      " 2451 2456 2490 2492 2500 2506 2507 2516 2519 2521 2527 2529 2532 2542\n",
      " 2551 2552 2554 2556 2558 2568 2604 2605 2610 2621 2623 2632 2646 2650\n",
      " 2655 2664 2672 2673 2674 2682 2692 2694 2700 2703 2709 2717 2728 2732\n",
      " 2736 2745 2747 2761 2773 2788 2802 2803 2810 2843 2855 2861 2863 2864\n",
      " 2876 2879 2883 2886 2923 2934 2936 2943 2948 2949 2951 2952 2961 2962\n",
      " 2968 3009 3012 3013 3028 3052 3072 3075 3081 3088 3095 3100 3114 3127\n",
      " 3132 3166 3170 3172 3181 3190 3196 3222 3239 3244 3245 3251 3257 3260\n",
      " 3264 3272 3275 3276 3278 3282 3286 3289 3292 3298 3305 3307 3313 3321\n",
      " 3338 3340 3351 3357 3358 3362 3386 3395 3408 3425 3426 3462 3470 3474\n",
      " 3476 3477 3491 3509 3518 3547 3548 3557 3563 3571 3573 3580 3581 3582\n",
      " 3583 3600 3605 3610 3611 3629 3642 3662 3664 3667 3669 3671 3672 3680\n",
      " 3688 3693 3723 3727 3755 3759 3762 3765 3781 3784 3785 3817 3835 3836\n",
      " 3839 3861 3863 3869 3879 3880 3884 3888 3894 3921 3926 3928 3930 3942\n",
      " 3970 3982 3998 4001 4002 4012 4015 4016 4017 4021 4054 4074 4077 4078\n",
      " 4083 4090 4092 4109 4130 4131 4132 4139 4146 4148 4151 4153 4156 4160\n",
      " 4167 4184 4196 4197 4202 4206 4218 4225 4227 4228 4230 4235 4246 4248\n",
      " 4253 4282 4318 4324 4326 4332 4333 4347 4351 4357 4370 4372 4375 4382\n",
      " 4393 4394 4404 4407 4423 4427 4432 4439 4442 4445 4456 4459 4463 4466\n",
      " 4467 4470 4477 4482 4485 4489 4494 4499 4511 4524 4541 4545 4546 4548\n",
      " 4550 4559 4575 4589 4614 4648 4663 4679 4684 4686 4699 4700 4710 4739\n",
      " 4743 4746 4749 4768 4770 4774 4778 4782 4787 4803 4804 4807 4823 4825\n",
      " 4830 4836 4838 4840 4858 4865 4870 4871 4880 4892 4903 4923 4937 4938\n",
      " 4940 4943 4949 4951 4952 4958 4963 4975 4980 4981 4983 4990 4996 5001\n",
      " 5026 5048 5050 5069 5083 5108 5113 5116 5118 5132 5135 5138 5139 5148\n",
      " 5151 5154 5155 5164 5165 5166 5171 5172 5191 5220 5224 5228 5229 5237\n",
      " 5256 5268 5281 5284 5288 5289 5302 5304 5305 5313 5315 5320 5321 5322\n",
      " 5330 5356 5376 5386 5388 5389 5397 5406 5415 5448 5449 5453 5463 5472\n",
      " 5475 5479 5484 5497 5513 5530 5539 5548 5549 5558 5603 5610 5613 5621\n",
      " 5630 5659 5660 5668 5681 5692 5695 5700 5702 5704 5718 5725 5727 5729\n",
      " 5737 5744 5747 5750 5769 5794 5824 5831 5834 5837 5850 5852 5855 5863\n",
      " 5870 5900 5910 5924 5925 5930 5935 5939 5946 5961 5967 5968 5975 5979\n",
      " 5985 5994 5997 6006 6008 6019 6024 6025 6031 6038 6046 6052 6060 6066\n",
      " 6076 6088 6094 6099 6105 6108 6115 6134 6150 6154 6163 6169 6181 6182\n",
      " 6183 6196 6203 6211 6213 6216 6221 6231 6233 6234 6237 6242 6243 6252\n",
      " 6255 6266 6269 6277 6280 6283 6287 6306 6310 6311 6312 6314 6322 6330\n",
      " 6336 6358 6364 6366 6382 6385 6389 6398 6402 6405 6413 6414 6418 6423\n",
      " 6440 6445 6449 6455 6457 6458 6468 6472 6490 6491 6493 6499 6501 6509\n",
      " 6535 6537 6548 6553 6561 6571 6580 6586 6588 6592 6593 6595 6603 6606\n",
      " 6608 6615 6618 6629 6635 6641 6645 6670 6671 6673 6684 6688 6694 6695\n",
      " 6708]\n"
     ]
    }
   ],
   "source": [
    "print('non-appear ingred?', (plain_appearance==0).sum())\n",
    "print(np.arange(6714, dtype=int)[plain_appearance==0])"
   ]
  },
  {
   "cell_type": "code",
   "execution_count": 25,
   "id": "bfbff500",
   "metadata": {},
   "outputs": [
    {
     "name": "stdout",
     "output_type": "stream",
     "text": [
      "최대 5번.\n"
     ]
    }
   ],
   "source": [
    "# train data에서 안 보이던 재료가 validation이나 test set에서는 나타날까?\n",
    "plain_appearance_valid = np.zeros(6714, dtype=int)\n",
    "for recipe in data_valid_class:\n",
    "    for ingredient in recipe:\n",
    "        plain_appearance_valid[ingredient] += 1\n",
    "        \n",
    "d1 = {}\n",
    "for i in np.arange(6714, dtype=int)[plain_appearance==0]:\n",
    "    d1[str(i)] = plain_appearance_valid[i]\n",
    "print(f'최대 {max(d1.values())}번.')\n",
    "#print(d1)"
   ]
  },
  {
   "cell_type": "code",
   "execution_count": 26,
   "id": "ce674e20",
   "metadata": {},
   "outputs": [
    {
     "name": "stdout",
     "output_type": "stream",
     "text": [
      "최대 3번.\n"
     ]
    }
   ],
   "source": [
    "# train data에서 안 보이던 재료가 test set에서는 나타날까?\n",
    "plain_appearance_test = np.zeros(6714, dtype=int)\n",
    "for recipe in data_test_class:\n",
    "    for ingredient in recipe:\n",
    "        plain_appearance_test[ingredient] += 1\n",
    "        \n",
    "d2 = {}\n",
    "for i in np.arange(6714, dtype=int)[plain_appearance==0]:\n",
    "    d2[str(i)] = plain_appearance_test[i]\n",
    "print(f'최대 {max(d2.values())}번.')\n",
    "#print(d2)"
   ]
  },
  {
   "cell_type": "code",
   "execution_count": 27,
   "id": "3368abdd",
   "metadata": {},
   "outputs": [
    {
     "name": "stdout",
     "output_type": "stream",
     "text": [
      "개수: 192\n"
     ]
    }
   ],
   "source": [
    "# 아무 데이터셋에도 나타나지 않는 재료가 있을까?\n",
    "nowhere_ingred_idx = np.logical_and(np.logical_and(plain_appearance==0, plain_appearance_valid==0), plain_appearance_test==0)\n",
    "nowhere_ingred = np.arange(6714)[nowhere_ingred_idx]\n",
    "print('개수:', len(nowhere_ingred))\n",
    "#print(nowhere_ingred)"
   ]
  },
  {
   "cell_type": "code",
   "execution_count": 28,
   "id": "2425430e",
   "metadata": {},
   "outputs": [
    {
     "name": "stdout",
     "output_type": "stream",
     "text": [
      "개수: 218\n"
     ]
    }
   ],
   "source": [
    "# test set에만 있는 재료도 있을까?\n",
    "only_test_ingred_idx = np.logical_and(np.logical_and(plain_appearance==0, plain_appearance_valid==0), plain_appearance_test!=0)\n",
    "only_test_ingred = np.arange(6714)[only_test_ingred_idx]\n",
    "print('개수:', len(only_test_ingred))\n",
    "#print(only_test_ingred)"
   ]
  },
  {
   "cell_type": "code",
   "execution_count": 29,
   "id": "f1c77d93",
   "metadata": {},
   "outputs": [
    {
     "name": "stdout",
     "output_type": "stream",
     "text": [
      "개수: 401\n"
     ]
    }
   ],
   "source": [
    "# valid set에만 있는 재료도 있을까?\n",
    "only_valid_ingred_idx = np.logical_and(np.logical_and(plain_appearance==0, plain_appearance_test==0), plain_appearance_valid!=0)\n",
    "only_valid_ingred = np.arange(6714)[only_valid_ingred_idx]\n",
    "print('개수:', len(only_valid_ingred))\n",
    "#print(only_valid_ingred)"
   ]
  },
  {
   "cell_type": "code",
   "execution_count": 30,
   "id": "03d23253",
   "metadata": {},
   "outputs": [
    {
     "name": "stdout",
     "output_type": "stream",
     "text": [
      "개수: 1832\n"
     ]
    }
   ],
   "source": [
    "# train set에만 있는 재료도 있을까?\n",
    "only_train_ingred_idx = np.logical_and(np.logical_and(plain_appearance_test==0, plain_appearance_valid==0), plain_appearance!=0)\n",
    "only_train_ingred = np.arange(6714)[only_train_ingred_idx]\n",
    "print('개수:', len(only_train_ingred))\n",
    "#print(only_train_ingred)"
   ]
  },
  {
   "cell_type": "code",
   "execution_count": 31,
   "id": "0c183146",
   "metadata": {},
   "outputs": [
    {
     "name": "stdout",
     "output_type": "stream",
     "text": [
      "개수: 2568\n"
     ]
    }
   ],
   "source": [
    "# 모두 나타나는 재료는 얼마나 될까.\n",
    "everywhere_ingred_idx = np.logical_and(np.logical_and(plain_appearance_test!=0, plain_appearance_valid!=0), plain_appearance!=0)\n",
    "everywhere_ingred = np.arange(6714)[everywhere_ingred_idx]\n",
    "print('개수:', len(everywhere_ingred))\n",
    "#print(everywhere_ingred)"
   ]
  },
  {
   "cell_type": "code",
   "execution_count": 32,
   "id": "a73eb6b6",
   "metadata": {},
   "outputs": [
    {
     "name": "stdout",
     "output_type": "stream",
     "text": [
      "train | valid |  test | how many\n",
      "  O   |   O   |   O   |   2568\n",
      "  O   |   O   |   -   |   1073\n",
      "  O   |   -   |   O   |    386\n",
      "  O   |   -   |   -   |   1832\n",
      "  -   |   O   |   O   |     44\n",
      "  -   |   O   |   -   |    401\n",
      "  -   |   -   |   O   |    218\n",
      "  -   |   -   |   -   |    192\n"
     ]
    }
   ],
   "source": [
    "# 요약\n",
    "where_ingred = {}\n",
    "ox = lambda x: 'O' if x else '-'\n",
    "print(\"train | valid |  test | how many\")\n",
    "for in_train in [True, False]:\n",
    "    for in_val in [True, False]:\n",
    "        for in_test in [True, False]:\n",
    "            idx = np.logical_and(np.logical_and((plain_appearance!=0) if in_train else (plain_appearance==0),\n",
    "                                                (plain_appearance_valid!=0) if in_val else (plain_appearance_valid==0)),\n",
    "                                                (plain_appearance_test!=0) if in_test else (plain_appearance_test==0))\n",
    "            arr = np.arange(6714)[idx]\n",
    "            where_ingred[(in_train, in_val, in_test)] = arr\n",
    "            print(f\"  {ox(in_train)}   |   {ox(in_val)}   |   {ox(in_test)}   |   {len(arr):4d}\")"
   ]
  },
  {
   "cell_type": "code",
   "execution_count": 33,
   "id": "000389e9",
   "metadata": {},
   "outputs": [],
   "source": [
    "#with open(path_container + 'label_weight_compl.pickle', 'wb') as fw:\n",
    "#    pickle.dump(label_weight, fw)"
   ]
  },
  {
   "cell_type": "markdown",
   "id": "1e0add02",
   "metadata": {},
   "source": [
    "## 각 Cuisine은 얼마나 등장할까?"
   ]
  },
  {
   "cell_type": "code",
   "execution_count": 34,
   "id": "cbba160d",
   "metadata": {},
   "outputs": [
    {
     "name": "stdout",
     "output_type": "stream",
     "text": [
      " 9: 4678\n",
      "13: 3836\n",
      "16: 2515\n",
      " 7: 1748\n",
      " 3: 1599\n",
      " 5: 1543\n",
      " 2: 920\n",
      "18: 903\n",
      "11: 840\n",
      " 6: 714\n",
      "17: 590\n",
      "14: 496\n",
      "19: 487\n",
      " 1: 485\n",
      "12: 474\n",
      " 4: 452\n",
      " 8: 404\n",
      "15: 300\n",
      " 0: 283\n",
      "10: 280\n"
     ]
    }
   ],
   "source": [
    "label_count_class = [np.count_nonzero(int_labels_train_class==i) for i in range(20)]\n",
    "for i, _cnt in sorted(list(enumerate(label_count_class)), key=lambda x: -x[1]):\n",
    "    print(f\"{i:2d}: {_cnt}\")"
   ]
  },
  {
   "cell_type": "code",
   "execution_count": null,
   "id": "36399756",
   "metadata": {},
   "outputs": [],
   "source": []
  }
 ],
 "metadata": {
  "interpreter": {
   "hash": "b0fa6594d8f4cbf19f97940f81e996739fb7646882a419484c72d19e05852a7e"
  },
  "kernelspec": {
   "display_name": "Full on Python 3.7 (GPU)",
   "language": "python",
   "name": "python3"
  },
  "language_info": {
   "codemirror_mode": {
    "name": "ipython",
    "version": 3
   },
   "file_extension": ".py",
   "mimetype": "text/x-python",
   "name": "python",
   "nbconvert_exporter": "python",
   "pygments_lexer": "ipython3",
   "version": "3.9.10"
  }
 },
 "nbformat": 4,
 "nbformat_minor": 5
}

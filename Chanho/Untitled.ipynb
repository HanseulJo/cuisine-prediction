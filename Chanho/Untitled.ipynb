{
 "cells": [
  {
   "cell_type": "code",
   "execution_count": 1,
   "id": "3cc6f7f4",
   "metadata": {},
   "outputs": [],
   "source": [
    "import numpy as np\n",
    "import pickle\n",
    "import h5py"
   ]
  },
  {
   "cell_type": "code",
   "execution_count": 2,
   "id": "f4430812",
   "metadata": {},
   "outputs": [],
   "source": [
    "h5f_train = h5py.File('./Container/train', 'r')\n",
    "train_features = h5f_train['features_boolean'][:]\n",
    "train_labels = h5f_train['labels_one_hot'][:]\n",
    "h5f_train.close()"
   ]
  },
  {
   "cell_type": "code",
   "execution_count": 3,
   "id": "50fd6258",
   "metadata": {},
   "outputs": [
    {
     "data": {
      "text/plain": [
       "(23547, 6714)"
      ]
     },
     "execution_count": 3,
     "metadata": {},
     "output_type": "execute_result"
    }
   ],
   "source": [
    "train_features.shape"
   ]
  },
  {
   "cell_type": "code",
   "execution_count": 4,
   "id": "aeb221d3",
   "metadata": {},
   "outputs": [
    {
     "data": {
      "text/plain": [
       "(23547, 20)"
      ]
     },
     "execution_count": 4,
     "metadata": {},
     "output_type": "execute_result"
    }
   ],
   "source": [
    "train_labels.shape"
   ]
  },
  {
   "cell_type": "code",
   "execution_count": 5,
   "id": "c43ad04f",
   "metadata": {},
   "outputs": [],
   "source": [
    "h5f_valid = h5py.File('./Container/valid_cpl', 'r')\n",
    "valid_cpl_features = h5f_valid['features_boolean'][:]\n",
    "valid_cpl_label_id = h5f_valid['labels_id'][:]\n",
    "valid_cpl_label_one_hot = h5f_valid['labels_one_hot'][:]\n",
    "h5f_valid.close()"
   ]
  },
  {
   "cell_type": "code",
   "execution_count": 6,
   "id": "d28c984e",
   "metadata": {},
   "outputs": [
    {
     "data": {
      "text/plain": [
       "(7848, 6714)"
      ]
     },
     "execution_count": 6,
     "metadata": {},
     "output_type": "execute_result"
    }
   ],
   "source": [
    "valid_cpl_features.shape"
   ]
  },
  {
   "cell_type": "code",
   "execution_count": 7,
   "id": "2ebbb78b",
   "metadata": {},
   "outputs": [
    {
     "data": {
      "text/plain": [
       "(7848,)"
      ]
     },
     "execution_count": 7,
     "metadata": {},
     "output_type": "execute_result"
    }
   ],
   "source": [
    "valid_cpl_label_id.shape"
   ]
  },
  {
   "cell_type": "code",
   "execution_count": 8,
   "id": "f061c21b",
   "metadata": {},
   "outputs": [
    {
     "data": {
      "text/plain": [
       "(7848, 6714)"
      ]
     },
     "execution_count": 8,
     "metadata": {},
     "output_type": "execute_result"
    }
   ],
   "source": [
    "valid_cpl_label_one_hot.shape"
   ]
  },
  {
   "cell_type": "code",
   "execution_count": 9,
   "id": "c3560394",
   "metadata": {},
   "outputs": [],
   "source": [
    "h5f_valid = h5py.File('./Container/valid_clf', 'r')\n",
    "valid_clf_features = h5f_valid['features_boolean'][:]\n",
    "valid_clf_label_idx = h5f_valid['labels_int_enc'][:]\n",
    "valid_clf_label_one_hot = h5f_valid['labels_one_hot'][:]\n",
    "h5f_valid.close()"
   ]
  },
  {
   "cell_type": "code",
   "execution_count": 10,
   "id": "8fa17f45",
   "metadata": {},
   "outputs": [
    {
     "data": {
      "text/plain": [
       "(7848, 6714)"
      ]
     },
     "execution_count": 10,
     "metadata": {},
     "output_type": "execute_result"
    }
   ],
   "source": [
    "valid_clf_features.shape"
   ]
  },
  {
   "cell_type": "code",
   "execution_count": 11,
   "id": "d57134cc",
   "metadata": {},
   "outputs": [
    {
     "data": {
      "text/plain": [
       "(7848,)"
      ]
     },
     "execution_count": 11,
     "metadata": {},
     "output_type": "execute_result"
    }
   ],
   "source": [
    "valid_clf_label_idx.shape"
   ]
  },
  {
   "cell_type": "code",
   "execution_count": 12,
   "id": "dbaa3728",
   "metadata": {},
   "outputs": [
    {
     "data": {
      "text/plain": [
       "(7848, 20)"
      ]
     },
     "execution_count": 12,
     "metadata": {},
     "output_type": "execute_result"
    }
   ],
   "source": [
    "valid_clf_label_one_hot.shape"
   ]
  },
  {
   "cell_type": "code",
   "execution_count": 13,
   "id": "dcbd7ed2",
   "metadata": {},
   "outputs": [],
   "source": [
    "h5f_valid = h5py.File('./Container/test_cpl', 'r')\n",
    "test_cpl_features = h5f_valid['features_boolean'][:]\n",
    "h5f_valid.close()"
   ]
  },
  {
   "cell_type": "code",
   "execution_count": 14,
   "id": "14bd1bca",
   "metadata": {},
   "outputs": [
    {
     "data": {
      "text/plain": [
       "(3924, 6714)"
      ]
     },
     "execution_count": 14,
     "metadata": {},
     "output_type": "execute_result"
    }
   ],
   "source": [
    "test_cpl_features.shape"
   ]
  },
  {
   "cell_type": "code",
   "execution_count": 15,
   "id": "4e58ecb1",
   "metadata": {},
   "outputs": [],
   "source": [
    "h5f_valid = h5py.File('./Container/test_clf', 'r')\n",
    "test_clf_features = h5f_valid['features_boolean'][:]\n",
    "h5f_valid.close()"
   ]
  },
  {
   "cell_type": "code",
   "execution_count": 16,
   "id": "d8229431",
   "metadata": {},
   "outputs": [
    {
     "data": {
      "text/plain": [
       "(3924, 6714)"
      ]
     },
     "execution_count": 16,
     "metadata": {},
     "output_type": "execute_result"
    }
   ],
   "source": [
    "test_clf_features.shape"
   ]
  },
  {
   "cell_type": "code",
   "execution_count": null,
   "id": "a8565051",
   "metadata": {},
   "outputs": [],
   "source": []
  }
 ],
 "metadata": {
  "kernelspec": {
   "display_name": "Python 3 (ipykernel)",
   "language": "python",
   "name": "python3"
  },
  "language_info": {
   "codemirror_mode": {
    "name": "ipython",
    "version": 3
   },
   "file_extension": ".py",
   "mimetype": "text/x-python",
   "name": "python",
   "nbconvert_exporter": "python",
   "pygments_lexer": "ipython3",
   "version": "3.9.7"
  }
 },
 "nbformat": 4,
 "nbformat_minor": 5
}

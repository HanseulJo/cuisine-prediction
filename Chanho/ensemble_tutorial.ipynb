{
 "cells": [
  {
   "cell_type": "code",
   "execution_count": 1,
   "id": "834a3bc8",
   "metadata": {},
   "outputs": [],
   "source": [
    "import pickle\n",
    "from ensemble import ensemble\n",
    "from evaluation import get_metric"
   ]
  },
  {
   "cell_type": "code",
   "execution_count": 2,
   "id": "91c88d5e",
   "metadata": {},
   "outputs": [],
   "source": [
    "with open(\"./recs/Graph_rec_cpl_1_4_depth_10.pickle\", 'rb') as f:\n",
    "    recs1 = pickle.load(f)\n",
    "with open(\"./recs/Graph_rec_cpl_1_4_depth_2.pickle\", 'rb') as f:\n",
    "    recs2 = pickle.load(f)\n",
    "with open(\"./recs/Graph_rec_cpl_1_1_depth_5.pickle\", 'rb') as f:\n",
    "    recs3 = pickle.load(f)"
   ]
  },
  {
   "cell_type": "code",
   "execution_count": 9,
   "id": "5e3c9ffa",
   "metadata": {},
   "outputs": [
    {
     "data": {
      "text/plain": [
       "[(3978, 0.000142339901790946),\n",
       " (937, 9.583070022920579e-05),\n",
       " (4672, 9.528234427642516e-05),\n",
       " (1953, 9.318423812733292e-05),\n",
       " (6187, 7.842980295014702e-05),\n",
       " (2945, 7.676208827393038e-05),\n",
       " (167, 6.253706258063051e-05),\n",
       " (4544, 5.898684886538959e-05),\n",
       " (4677, 5.289615565499542e-05),\n",
       " (2021, 4.7506714336563583e-05)]"
      ]
     },
     "execution_count": 9,
     "metadata": {},
     "output_type": "execute_result"
    }
   ],
   "source": [
    "recs1[0]"
   ]
  },
  {
   "cell_type": "code",
   "execution_count": 3,
   "id": "b71f5903",
   "metadata": {},
   "outputs": [
    {
     "data": {
      "text/plain": [
       "[(937, 3.005737388060488e-05),\n",
       " (3978, 1.7325889548120122e-05),\n",
       " (2945, 1.652325249237656e-05),\n",
       " (6187, 1.2233295815126322e-05),\n",
       " (2122, 1.0960147381877885e-05),\n",
       " (167, 1.0766407402905299e-05),\n",
       " (4672, 9.631644668922994e-06),\n",
       " (5536, 9.631644668922992e-06),\n",
       " (1953, 8.164756256701962e-06),\n",
       " (4799, 7.804953438610012e-06)]"
      ]
     },
     "execution_count": 3,
     "metadata": {},
     "output_type": "execute_result"
    }
   ],
   "source": [
    "recs2[0]"
   ]
  },
  {
   "cell_type": "code",
   "execution_count": 4,
   "id": "43b51d63",
   "metadata": {},
   "outputs": [
    {
     "data": {
      "text/plain": [
       "[(937, 0.018598132975916018),\n",
       " (2945, 0.009529092623633089),\n",
       " (3978, 0.0073473068052501865),\n",
       " (6187, 0.006857834804532569),\n",
       " (4799, 0.006147751041956449),\n",
       " (5536, 0.005521443855393276),\n",
       " (167, 0.004795098943002464),\n",
       " (1953, 0.004639807069860031),\n",
       " (4672, 0.004143884685961015),\n",
       " (2813, 0.004037090612873696)]"
      ]
     },
     "execution_count": 4,
     "metadata": {},
     "output_type": "execute_result"
    }
   ],
   "source": [
    "recs3[0]"
   ]
  },
  {
   "cell_type": "code",
   "execution_count": 5,
   "id": "7ef23845",
   "metadata": {},
   "outputs": [],
   "source": [
    "# ensemble([list of rec_results], [weight of each rec_result])\n",
    "new_recs = ensemble([recs1, recs2, recs3], [2, 1, 1], 10)"
   ]
  },
  {
   "cell_type": "code",
   "execution_count": 6,
   "id": "aede8216",
   "metadata": {},
   "outputs": [
    {
     "data": {
      "text/plain": [
       "[(937, 2.0713549634364634),\n",
       " (3978, 1.7155950259582786),\n",
       " (2945, 1.2919839731799279),\n",
       " (6187, 1.1103245472156336),\n",
       " (4672, 1.076651389256013),\n",
       " (1953, 1.0484921170534318),\n",
       " (167, 0.8812934666157576),\n",
       " (4544, 0.44059598298454566),\n",
       " (5536, 0.41762317707707897),\n",
       " (4799, 0.4024067863068275)]"
      ]
     },
     "execution_count": 6,
     "metadata": {},
     "output_type": "execute_result"
    }
   ],
   "source": [
    "new_recs[0]"
   ]
  },
  {
   "cell_type": "code",
   "execution_count": null,
   "id": "b15d0bdf",
   "metadata": {},
   "outputs": [],
   "source": []
  }
 ],
 "metadata": {
  "kernelspec": {
   "display_name": "Python 3 (ipykernel)",
   "language": "python",
   "name": "python3"
  },
  "language_info": {
   "codemirror_mode": {
    "name": "ipython",
    "version": 3
   },
   "file_extension": ".py",
   "mimetype": "text/x-python",
   "name": "python",
   "nbconvert_exporter": "python",
   "pygments_lexer": "ipython3",
   "version": "3.9.7"
  }
 },
 "nbformat": 4,
 "nbformat_minor": 5
}

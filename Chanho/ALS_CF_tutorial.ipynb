{
 "cells": [
  {
   "cell_type": "code",
   "execution_count": 1,
   "id": "ee5f45c0",
   "metadata": {},
   "outputs": [],
   "source": [
    "from ALS_CF_model import ALS_CF_cpl, ALS_CF_clf"
   ]
  },
  {
   "cell_type": "code",
   "execution_count": 2,
   "id": "93a84184",
   "metadata": {},
   "outputs": [
    {
     "data": {
      "application/vnd.jupyter.widget-view+json": {
       "model_id": "7e4ee105d1f24cb4bd57776ab183fd95",
       "version_major": 2,
       "version_minor": 0
      },
      "text/plain": [
       "  0%|          | 0/15 [00:00<?, ?it/s]"
      ]
     },
     "metadata": {},
     "output_type": "display_data"
    },
    {
     "data": {
      "application/vnd.jupyter.widget-view+json": {
       "model_id": "aa3441368254434bab7ba9953267a7f4",
       "version_major": 2,
       "version_minor": 0
      },
      "text/plain": [
       "  0%|          | 0/15 [00:00<?, ?it/s]"
      ]
     },
     "metadata": {},
     "output_type": "display_data"
    },
    {
     "data": {
      "application/vnd.jupyter.widget-view+json": {
       "model_id": "f72d60100e1b48409c214d9f59dde9d9",
       "version_major": 2,
       "version_minor": 0
      },
      "text/plain": [
       "  0%|          | 0/15 [00:00<?, ?it/s]"
      ]
     },
     "metadata": {},
     "output_type": "display_data"
    }
   ],
   "source": [
    "# Train set\n",
    "ALS_CF_cpl(\"./Container/train\", \"../Hanseul/Container/train_cpl\", \"./train_recs\", k=2**6, topk=10)\n",
    "# Valid set\n",
    "ALS_CF_cpl(\"./Container/train\", \"./Container/valid_cpl\", \"./valid_recs\", k=2**6, topk=10)\n",
    "# Test set\n",
    "ALS_CF_cpl(\"./Container/train\", \"./Container/test_cpl\", \"./test_recs\", k=2**6, topk=10)"
   ]
  },
  {
   "cell_type": "code",
   "execution_count": 4,
   "id": "f2e92e07",
   "metadata": {},
   "outputs": [
    {
     "data": {
      "application/vnd.jupyter.widget-view+json": {
       "model_id": "8d243f9b39c04d93a9f5285ac13afade",
       "version_major": 2,
       "version_minor": 0
      },
      "text/plain": [
       "  0%|          | 0/15 [00:00<?, ?it/s]"
      ]
     },
     "metadata": {},
     "output_type": "display_data"
    },
    {
     "data": {
      "application/vnd.jupyter.widget-view+json": {
       "model_id": "f9b9e98c628d4185b975fb14fea47e70",
       "version_major": 2,
       "version_minor": 0
      },
      "text/plain": [
       "  0%|          | 0/15 [00:00<?, ?it/s]"
      ]
     },
     "metadata": {},
     "output_type": "display_data"
    },
    {
     "data": {
      "application/vnd.jupyter.widget-view+json": {
       "model_id": "1ac44ee72a7a4748863c03414ed14adb",
       "version_major": 2,
       "version_minor": 0
      },
      "text/plain": [
       "  0%|          | 0/15 [00:00<?, ?it/s]"
      ]
     },
     "metadata": {},
     "output_type": "display_data"
    }
   ],
   "source": [
    "# Train set\n",
    "ALS_CF_clf(\"./Container/train\", \"./Container/train\", \"./train_recs\", k=2**6, topk=5)\n",
    "# Valid set\n",
    "ALS_CF_clf(\"./Container/train\", \"./Container/valid_clf\", \"./valid_recs\", k=2**6, topk=5)\n",
    "# Test set\n",
    "ALS_CF_clf(\"./Container/train\", \"./Container/test_clf\", \"./test_recs\", k=2**6, topk=5)"
   ]
  },
  {
   "cell_type": "code",
   "execution_count": null,
   "id": "b9e5cdf1",
   "metadata": {},
   "outputs": [],
   "source": []
  }
 ],
 "metadata": {
  "kernelspec": {
   "display_name": "Python 3",
   "language": "python",
   "name": "python3"
  },
  "language_info": {
   "codemirror_mode": {
    "name": "ipython",
    "version": 3
   },
   "file_extension": ".py",
   "mimetype": "text/x-python",
   "name": "python",
   "nbconvert_exporter": "python",
   "pygments_lexer": "ipython3",
   "version": "3.9.5"
  }
 },
 "nbformat": 4,
 "nbformat_minor": 5
}

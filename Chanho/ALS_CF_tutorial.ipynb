{
 "cells": [
  {
   "cell_type": "code",
   "execution_count": 4,
   "id": "ee5f45c0",
   "metadata": {},
   "outputs": [],
   "source": [
    "from ALS_CF_model import ALS_CF_cpl, ALS_CF_clf"
   ]
  },
  {
   "cell_type": "code",
   "execution_count": 5,
   "id": "93a84184",
   "metadata": {},
   "outputs": [
    {
     "data": {
      "application/vnd.jupyter.widget-view+json": {
       "model_id": "44d66f312e694eb3b8e9ccf57f62e981",
       "version_major": 2,
       "version_minor": 0
      },
      "text/plain": [
       "  0%|          | 0/15 [00:00<?, ?it/s]"
      ]
     },
     "metadata": {},
     "output_type": "display_data"
    }
   ],
   "source": [
    "ALS_CF_cpl(\"./Container/train\", \"./Container/valid_cpl\", \"./valid_recs\", k=2**6, topk=10)"
   ]
  },
  {
   "cell_type": "code",
   "execution_count": 6,
   "id": "f2e92e07",
   "metadata": {},
   "outputs": [
    {
     "data": {
      "application/vnd.jupyter.widget-view+json": {
       "model_id": "3d1269be3e7643b0ab961f384b1c20b8",
       "version_major": 2,
       "version_minor": 0
      },
      "text/plain": [
       "  0%|          | 0/15 [00:00<?, ?it/s]"
      ]
     },
     "metadata": {},
     "output_type": "display_data"
    }
   ],
   "source": [
    "ALS_CF_clf(\"./Container/train\", \"./Container/valid_clf\", \"./valid_recs\", k=2**6, topk=5)"
   ]
  },
  {
   "cell_type": "code",
   "execution_count": null,
   "id": "b9e5cdf1",
   "metadata": {},
   "outputs": [],
   "source": []
  }
 ],
 "metadata": {
  "kernelspec": {
   "display_name": "Python 3",
   "language": "python",
   "name": "python3"
  },
  "language_info": {
   "codemirror_mode": {
    "name": "ipython",
    "version": 3
   },
   "file_extension": ".py",
   "mimetype": "text/x-python",
   "name": "python",
   "nbconvert_exporter": "python",
   "pygments_lexer": "ipython3",
   "version": "3.9.5"
  }
 },
 "nbformat": 4,
 "nbformat_minor": 5
}

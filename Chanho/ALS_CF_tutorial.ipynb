{
 "cells": [
  {
   "cell_type": "code",
   "execution_count": 1,
   "id": "ee5f45c0",
   "metadata": {},
   "outputs": [],
   "source": [
    "from ALS_CF_model import ALS_CF_cpl, ALS_CF_clf"
   ]
  },
  {
   "cell_type": "code",
   "execution_count": null,
   "id": "93a84184",
   "metadata": {},
   "outputs": [
    {
     "name": "stderr",
     "output_type": "stream",
     "text": [
      "C:\\Users\\kami.DESKTOP-5P4EH18\\anaconda3\\envs\\pytorch\\lib\\site-packages\\implicit\\utils.py:31: UserWarning: Intel MKL BLAS detected. Its highly recommend to set the environment variable 'export MKL_NUM_THREADS=1' to disable its internal multithreading\n",
      "  warnings.warn(\n"
     ]
    },
    {
     "data": {
      "application/vnd.jupyter.widget-view+json": {
       "model_id": "f0e0ced0c9eb4708b4b3d1c13c6d1d32",
       "version_major": 2,
       "version_minor": 0
      },
      "text/plain": [
       "  0%|          | 0/15 [00:00<?, ?it/s]"
      ]
     },
     "metadata": {},
     "output_type": "display_data"
    }
   ],
   "source": [
    "# Train set\n",
    "ALS_CF_cpl(\"./Container/train\", \"../Hanseul/Container/train_cpl\", \"./train_recs\", k=2**6, topk=10)\n",
    "# Valid set\n",
    "ALS_CF_cpl(\"./Container/train\", \"./Container/valid_cpl\", \"./valid_recs\", k=2**6, topk=10)\n",
    "# Test set\n",
    "ALS_CF_cpl(\"./Container/train\", \"./Container/test_cpl\", \"./test_recs\", k=2**6, topk=10)"
   ]
  },
  {
   "cell_type": "code",
   "execution_count": null,
   "id": "f2e92e07",
   "metadata": {},
   "outputs": [],
   "source": [
    "# Train set\n",
    "ALS_CF_clf(\"./Container/train\", \"./Container/train\", \"./train_recs\", k=2**6, topk=5)\n",
    "# Valid set\n",
    "ALS_CF_clf(\"./Container/train\", \"./Container/valid_clf\", \"./valid_recs\", k=2**6, topk=5)\n",
    "# Test set\n",
    "ALS_CF_clf(\"./Container/train\", \"./Container/test_clf\", \"./test_recs\", k=2**6, topk=5)"
   ]
  },
  {
   "cell_type": "code",
   "execution_count": null,
   "id": "b9e5cdf1",
   "metadata": {},
   "outputs": [],
   "source": []
  }
 ],
 "metadata": {
  "kernelspec": {
   "display_name": "Python 3 (ipykernel)",
   "language": "python",
   "name": "python3"
  },
  "language_info": {
   "codemirror_mode": {
    "name": "ipython",
    "version": 3
   },
   "file_extension": ".py",
   "mimetype": "text/x-python",
   "name": "python",
   "nbconvert_exporter": "python",
   "pygments_lexer": "ipython3",
   "version": "3.9.7"
  }
 },
 "nbformat": 4,
 "nbformat_minor": 5
}

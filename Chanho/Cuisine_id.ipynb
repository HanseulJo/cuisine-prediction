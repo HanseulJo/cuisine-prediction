{
 "cells": [
  {
   "cell_type": "code",
   "execution_count": 1,
   "id": "d1198233",
   "metadata": {},
   "outputs": [],
   "source": [
    "import numpy as np\n",
    "import pickle"
   ]
  },
  {
   "cell_type": "code",
   "execution_count": 2,
   "id": "7caea843",
   "metadata": {},
   "outputs": [
    {
     "name": "stdout",
     "output_type": "stream",
     "text": [
      "{'brazilian': 0, 'british': 1, 'cajun_creole': 2, 'chinese': 3, 'filipino': 4, 'french': 5, 'greek': 6, 'indian': 7, 'irish': 8, 'italian': 9, 'jamaican': 10, 'japanese': 11, 'korean': 12, 'mexican': 13, 'moroccan': 14, 'russian': 15, 'southern_us': 16, 'spanish': 17, 'thai': 18, 'vietnamese': 19}\n"
     ]
    }
   ],
   "source": [
    "target_file_name = \"../train.csv\"\n",
    "t_file = open(target_file_name, 'r')\n",
    "\n",
    "cuisines = set()\n",
    "\n",
    "lines = t_file.readlines()\n",
    "for line in lines:\n",
    "    temp_lst = line.strip().split(\",\")\n",
    "    cuisines.add(temp_lst[-1])\n",
    "\n",
    "cuisines = list(cuisines)\n",
    "cuisines.sort(reverse=True)\n",
    "\n",
    "cuisine_id = 0\n",
    "cuisine_dict = {}\n",
    "cuisine_dict_inv = {}\n",
    "while len(cuisines) > 0:\n",
    "    cuisine = cuisines.pop()\n",
    "    cuisine_dict[cuisine] = cuisine_id\n",
    "    cuisine_dict_inv[cuisine_id] = cuisine\n",
    "    cuisine_id += 1\n",
    "\n",
    "print(cuisine_dict)"
   ]
  },
  {
   "cell_type": "code",
   "execution_count": 3,
   "id": "3e0c9ea9",
   "metadata": {},
   "outputs": [],
   "source": [
    "with open('./container/cuisine_id_dict.pickle', 'wb') as fw:\n",
    "    pickle.dump(cuisine_dict, fw)\n",
    "    \n",
    "with open('./container/id_cuisine_dict.pickle', 'wb') as fw:\n",
    "    pickle.dump(cuisine_dict_inv, fw)"
   ]
  },
  {
   "cell_type": "code",
   "execution_count": 4,
   "id": "19631b74",
   "metadata": {},
   "outputs": [
    {
     "name": "stdout",
     "output_type": "stream",
     "text": [
      "{0: 'brazilian', 1: 'british', 2: 'cajun_creole', 3: 'chinese', 4: 'filipino', 5: 'french', 6: 'greek', 7: 'indian', 8: 'irish', 9: 'italian', 10: 'jamaican', 11: 'japanese', 12: 'korean', 13: 'mexican', 14: 'moroccan', 15: 'russian', 16: 'southern_us', 17: 'spanish', 18: 'thai', 19: 'vietnamese'}\n"
     ]
    }
   ],
   "source": [
    "print(cuisine_dict_inv)"
   ]
  },
  {
   "cell_type": "code",
   "execution_count": null,
   "id": "1de05f31",
   "metadata": {},
   "outputs": [],
   "source": []
  }
 ],
 "metadata": {
  "kernelspec": {
   "display_name": "Python 3 (ipykernel)",
   "language": "python",
   "name": "python3"
  },
  "language_info": {
   "codemirror_mode": {
    "name": "ipython",
    "version": 3
   },
   "file_extension": ".py",
   "mimetype": "text/x-python",
   "name": "python",
   "nbconvert_exporter": "python",
   "pygments_lexer": "ipython3",
   "version": "3.9.7"
  }
 },
 "nbformat": 4,
 "nbformat_minor": 5
}

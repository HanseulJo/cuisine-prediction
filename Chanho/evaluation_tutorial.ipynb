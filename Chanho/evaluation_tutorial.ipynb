{
 "cells": [
  {
   "cell_type": "code",
   "execution_count": 3,
   "id": "8f26037b",
   "metadata": {},
   "outputs": [],
   "source": [
    "import pickle\n",
    "from evaluation import get_metric\n",
    "import h5py\n",
    "import numpy as np"
   ]
  },
  {
   "cell_type": "code",
   "execution_count": null,
   "id": "70515261",
   "metadata": {},
   "outputs": [],
   "source": [
    "# Get Answer\n",
    "#h5f_valid = h5py.File('../Hanseul/Container/train_cpl', 'r')\n",
    "h5f_valid = h5py.File('./Container/valid_cpl', 'r')\n",
    "answer = h5f_valid['labels_id'][:].astype(np.int64)\n",
    "h5f_valid.close()\n",
    "    \n",
    "answer_dict = {}\n",
    "for i, ans in enumerate(answer):\n",
    "    answer_dict[i] = ans\n",
    "# Get Reco result\n",
    "\"\"\"\n",
    "\"./valid_recs/CF_rec_cpl_dim_64.pickle\",\n",
    "\"./valid_recs/Graph_rec_cpl_1_2_depth_5.pickle\",\n",
    "\"./valid_recs/Graph_rec_cpl_1_4_depth_3.pickle\",\n",
    "\"./valid_recs/Graph_rec_cpl_1_8_depth_3.pickle\",\n",
    "\"./valid_recs/Graph_rec_cpl_1_8_depth_1.pickle\"\n",
    "\"\"\"\n",
    "with open(\"./valid_recs/Graph_rec_cpl_1_8_depth_1.pickle\", 'rb') as f:\n",
    "    recs = pickle.load(f)"
   ]
  },
  {
   "cell_type": "code",
   "execution_count": null,
   "id": "05d97d40",
   "metadata": {},
   "outputs": [],
   "source": [
    "metric = get_metric(recs, answer_dict)"
   ]
  },
  {
   "cell_type": "code",
   "execution_count": 3,
   "id": "1e575ded",
   "metadata": {},
   "outputs": [
    {
     "data": {
      "text/plain": [
       "{'macro': 0.0010897258905906181,\n",
       " 'micro': 0.07135575942915393,\n",
       " 'accuracy': 0.07135575942915393,\n",
       " 'map': 0.12982096338365487,\n",
       " 'recall': 0.292940876656473,\n",
       " 'recall_rank': 4.112657677250978}"
      ]
     },
     "execution_count": 3,
     "metadata": {},
     "output_type": "execute_result"
    }
   ],
   "source": [
    "metric"
   ]
  },
  {
   "cell_type": "code",
   "execution_count": 2,
   "id": "f956a337",
   "metadata": {},
   "outputs": [
    {
     "name": "stdout",
     "output_type": "stream",
     "text": [
      "./final_recs/Chanho_recs/valid_recs/CF_rec_cpl_dim_64.pickle\n",
      "0.013251783893985729\n",
      "./final_recs/Chanho_recs/valid_recs/Graph_rec_cpl_1_2_depth_5.pickle\n",
      "0.06625891946992865\n",
      "./final_recs/Chanho_recs/valid_recs/Graph_rec_cpl_1_4_depth_3.pickle\n",
      "0.0676605504587156\n",
      "./final_recs/Chanho_recs/valid_recs/Graph_rec_cpl_1_8_depth_3.pickle\n",
      "0.06791539245667685\n",
      "./final_recs/Chanho_recs/valid_recs/Graph_rec_cpl_1_8_depth_1.pickle\n",
      "0.07135575942915393\n",
      "./final_recs/Junwon_recs/inference_valid_cpl_completion_DNN_fc_layer_sizes_1024-1024-512-512_batch_16_seed_0.pkl\n",
      "0.02471967380224261\n",
      "./final_recs/Hanseul_recs/rec_CCNet_valid_cpl_EncFC_PoolPMA_CplPooled_NumEnc5_NumDec0_Hid512_Emb512_Ind10.pickle\n",
      "0.156855249745158\n",
      "./final_recs/Hanseul_recs/rec_CCNet_valid_cpl_EncFC_PoolPMA_CplPooled_NumEnc8_NumDec0_Hid512_Emb512_Ind10.pickle\n",
      "0.15163098878695208\n",
      "./final_recs/Hanseul_recs/rec_CCNet_valid_cpl_EncFC_PoolPMA_CplPooled_NumEnc8_NumDec0_Hid512_Emb512_Ind10.pickle\n",
      "0.15163098878695208\n",
      "./final_recs/Hanseul_recs/rec_CCNet_valid_cpl_EncHYBRID_PoolPMA_CplPooled_NumEnc3_NumDec0_Hid512_Emb512_Ind16.pickle\n",
      "0.1529051987767584\n",
      "./final_recs/Hanseul_recs/rec_CCNet_valid_cpl_EncHYBRID_PoolPMA_CplPooled_NumEnc3_NumDec3_Hid512_Emb512_Ind6.pickle\n",
      "0.1559633027522936\n",
      "./final_recs/Hanseul_recs/rec_CCNet_valid_cpl_EncHYBRID_PoolPMA_CplPooled_NumEnc3_NumDec3_Hid512_Emb512_Ind7.pickle\n",
      "0.15188583078491336\n",
      "./final_recs/Hanseul_recs/rec_CCNet_valid_cpl_EncHYBRID_PoolPMA_CplPooled_NumEnc3_NumDec3_Hid512_Emb512_Ind10.pickle\n",
      "0.15073904179408767\n",
      "./final_recs/Hanseul_recs/rec_CCNet_valid_cpl_EncHYBRID_PoolPMA_CplPooled_NumEnc4_NumDec3_Hid512_Emb512_Ind6.pickle\n",
      "0.15035677879714576\n",
      "./final_recs/Hanseul_recs/rec_CCNet_valid_cpl_EncHYBRID_PoolPMA_CplPooled_NumEnc6_NumDec0_Hid512_Emb512_Ind29.pickle\n",
      "0.154434250764526\n",
      "./final_recs/Hanseul_recs/rec_CCNet_valid_cpl_EncHYBRID_SA_PoolPMA_CplEncoded_NumEnc4_NumDec0_Hid512_Emb512_Ind10.pickle\n",
      "0.15061162079510704\n",
      "./final_recs/Hanseul_recs/rec_CCNet_valid_cpl_EncHYBRID_SA_PoolPMA_CplEncoded_NumEnc6_NumDec0_Hid512_Emb512_Ind10.pickle\n",
      "0.14870030581039756\n",
      "./final_recs/Hanseul_recs/rec_CCNet_valid_cpl_EncHYBRID_SA_PoolPMA_CplEncoded_NumEnc8_NumDec0_Hid512_Emb512_Ind10.pickle\n",
      "0.15456167176350663\n"
     ]
    }
   ],
   "source": [
    "h5f_valid = h5py.File('./Container/valid_cpl', 'r')\n",
    "answer = h5f_valid['labels_id'][:].astype(np.int64)\n",
    "h5f_valid.close()\n",
    "    \n",
    "answer_dict = {}\n",
    "for i, ans in enumerate(answer):\n",
    "    answer_dict[i] = ans\n",
    "\n",
    "file_list = [\"./final_recs/Chanho_recs/valid_recs/CF_rec_cpl_dim_64.pickle\",\n",
    "                       \"./final_recs/Chanho_recs/valid_recs/Graph_rec_cpl_1_2_depth_5.pickle\",\n",
    "                       \"./final_recs/Chanho_recs/valid_recs/Graph_rec_cpl_1_4_depth_3.pickle\",\n",
    "                       \"./final_recs/Chanho_recs/valid_recs/Graph_rec_cpl_1_8_depth_3.pickle\",\n",
    "                       \"./final_recs/Chanho_recs/valid_recs/Graph_rec_cpl_1_8_depth_1.pickle\",\n",
    "                       \"./final_recs/Junwon_recs/inference_valid_cpl_completion_DNN_fc_layer_sizes_1024-1024-512-512_batch_16_seed_0.pkl\",\n",
    "                       \"./final_recs/Hanseul_recs/rec_CCNet_valid_cpl_EncFC_PoolPMA_CplPooled_NumEnc5_NumDec0_Hid512_Emb512_Ind10.pickle\",\n",
    "                       \"./final_recs/Hanseul_recs/rec_CCNet_valid_cpl_EncFC_PoolPMA_CplPooled_NumEnc8_NumDec0_Hid512_Emb512_Ind10.pickle\",\n",
    "                       \"./final_recs/Hanseul_recs/rec_CCNet_valid_cpl_EncFC_PoolPMA_CplPooled_NumEnc8_NumDec0_Hid512_Emb512_Ind10.pickle\",\n",
    "                       \"./final_recs/Hanseul_recs/rec_CCNet_valid_cpl_EncHYBRID_PoolPMA_CplPooled_NumEnc3_NumDec0_Hid512_Emb512_Ind16.pickle\",\n",
    "                       \"./final_recs/Hanseul_recs/rec_CCNet_valid_cpl_EncHYBRID_PoolPMA_CplPooled_NumEnc3_NumDec3_Hid512_Emb512_Ind6.pickle\",\n",
    "                       \"./final_recs/Hanseul_recs/rec_CCNet_valid_cpl_EncHYBRID_PoolPMA_CplPooled_NumEnc3_NumDec3_Hid512_Emb512_Ind7.pickle\",\n",
    "                       \"./final_recs/Hanseul_recs/rec_CCNet_valid_cpl_EncHYBRID_PoolPMA_CplPooled_NumEnc3_NumDec3_Hid512_Emb512_Ind10.pickle\",\n",
    "                       \"./final_recs/Hanseul_recs/rec_CCNet_valid_cpl_EncHYBRID_PoolPMA_CplPooled_NumEnc4_NumDec3_Hid512_Emb512_Ind6.pickle\",\n",
    "                       \"./final_recs/Hanseul_recs/rec_CCNet_valid_cpl_EncHYBRID_PoolPMA_CplPooled_NumEnc6_NumDec0_Hid512_Emb512_Ind29.pickle\",\n",
    "                       \"./final_recs/Hanseul_recs/rec_CCNet_valid_cpl_EncHYBRID_SA_PoolPMA_CplEncoded_NumEnc4_NumDec0_Hid512_Emb512_Ind10.pickle\",\n",
    "                       \"./final_recs/Hanseul_recs/rec_CCNet_valid_cpl_EncHYBRID_SA_PoolPMA_CplEncoded_NumEnc6_NumDec0_Hid512_Emb512_Ind10.pickle\",\n",
    "                       \"./final_recs/Hanseul_recs/rec_CCNet_valid_cpl_EncHYBRID_SA_PoolPMA_CplEncoded_NumEnc8_NumDec0_Hid512_Emb512_Ind10.pickle\",\n",
    "                      ]\n",
    "for file_name in file_list:\n",
    "    with open(file_name, 'rb') as f:\n",
    "        recs = pickle.load(f)\n",
    "    metric = get_metric(recs, answer_dict)\n",
    "    print(file_name)\n",
    "    print(metric['accuracy'])"
   ]
  },
  {
   "cell_type": "code",
   "execution_count": 5,
   "id": "e883b95f",
   "metadata": {},
   "outputs": [
    {
     "name": "stdout",
     "output_type": "stream",
     "text": [
      "./final_recs/Chanho_recs/valid_recs/CF_rec_clf_dim_64.pickle\n",
      "0.6369775739041794\n",
      "./final_recs/Chanho_recs/valid_recs/Graph_rec_clf_1_8_depth_3.pickle\n",
      "0.4906982670744139\n",
      "./final_recs/Chanho_recs/valid_recs/Graph_rec_clf_1_8_depth_1.pickle\n",
      "0.4988532110091743\n",
      "./final_recs/Junwon_recs/inference_valid_clf_classification_DNN_fc_layer_sizes_2048-1024-512-256_batch_16_seed_0.pkl\n",
      "0.7468144750254841\n",
      "./final_recs/Hanseul_recs/rec_CCNet_valid_clf_EncFC_PoolPMA_CplNone_NumEnc7_NumDec1_Hid512_Emb512_Ind10.pickle\n",
      "0.7656727828746177\n",
      "./final_recs/Hanseul_recs/rec_CCNet_valid_clf_EncFC_PoolPMA_CplNone_NumEnc9_NumDec1_Hid512_Emb512_Ind10.pickle\n",
      "0.7675840978593272\n",
      "./final_recs/Hanseul_recs/rec_CCNet_valid_clf_EncFC_PoolPMA_CplNone_NumEnc10_NumDec1_Hid512_Emb512_Ind10.pickle\n",
      "0.7693679918450561\n",
      "./final_recs/Hanseul_recs/rec_CCNet_valid_clf_EncFC_PoolPMA_CplPooled_NumEnc5_NumDec0_Hid512_Emb512_Ind10.pickle\n",
      "0.7593017329255861\n",
      "./final_recs/Hanseul_recs/rec_CCNet_valid_clf_EncFC_PoolPMA_CplPooled_NumEnc8_NumDec0_Hid512_Emb512_Ind10.pickle\n",
      "0.762487257900102\n",
      "./final_recs/Hanseul_recs/rec_CCNet_valid_clf_EncHYBRID_PoolPMA_CplNone_NumEnc8_NumDec3_Hid512_Emb512_Ind10.pickle\n",
      "0.7617227319062182\n",
      "./final_recs/Hanseul_recs/rec_CCNet_valid_clf_EncHYBRID_PoolPMA_CplPooled_NumEnc2_NumDec0_Hid512_Emb512_Ind8.pickle\n",
      "0.7510193679918451\n",
      "./final_recs/Hanseul_recs/rec_CCNet_valid_clf_EncHYBRID_PoolPMA_CplPooled_NumEnc3_NumDec0_Hid512_Emb512_Ind16.pickle\n",
      "0.7582823649337411\n",
      "./final_recs/Hanseul_recs/rec_CCNet_valid_clf_EncHYBRID_PoolPMA_CplPooled_NumEnc3_NumDec3_Hid512_Emb512_Ind6.pickle\n",
      "0.7559887869520897\n",
      "./final_recs/Hanseul_recs/rec_CCNet_valid_clf_EncHYBRID_PoolPMA_CplPooled_NumEnc3_NumDec3_Hid512_Emb512_Ind7.pickle\n",
      "0.7522935779816514\n",
      "./final_recs/Hanseul_recs/rec_CCNet_valid_clf_EncHYBRID_PoolPMA_CplPooled_NumEnc3_NumDec3_Hid512_Emb512_Ind10.pickle\n",
      "0.752420998980632\n",
      "./final_recs/Hanseul_recs/rec_CCNet_valid_clf_EncHYBRID_PoolPMA_CplPooled_NumEnc4_NumDec3_Hid512_Emb512_Ind6.pickle\n",
      "0.7533129459734964\n",
      "./final_recs/Hanseul_recs/rec_CCNet_valid_clf_EncHYBRID_PoolPMA_CplPooled_NumEnc6_NumDec0_Hid512_Emb512_Ind29.pickle\n",
      "0.7585372069317023\n",
      "./final_recs/Hanseul_recs/rec_CCNet_valid_clf_EncHYBRID_SA_PoolPMA_CplEncoded_NumEnc4_NumDec0_Hid512_Emb512_Ind10.pickle\n",
      "0.747579001019368\n",
      "./final_recs/Hanseul_recs/rec_CCNet_valid_clf_EncHYBRID_SA_PoolPMA_CplEncoded_NumEnc8_NumDec0_Hid512_Emb512_Ind10.pickle\n",
      "0.7607033639143731\n",
      "./final_recs/Hanseul_recs/rec_CCNet_valid_clf_EncHYBRID_SA_PoolPMA_CplNone_NumEnc2_NumDec0_Hid512_Emb512_Ind10.pickle\n",
      "0.7692405708460754\n",
      "./final_recs/Hanseul_recs/rec_CCNet_valid_clf_EncHYBRID_SA_PoolPMA_CplNone_NumEnc3_NumDec1_Hid512_Emb512_Ind10.pickle\n",
      "0.7716615698267074\n",
      "./final_recs/Hanseul_recs/rec_CCNet_valid_clf_EncHYBRID_SA_PoolPMA_CplNone_NumEnc10_NumDec1_Hid512_Emb512_Ind10.pickle\n",
      "0.7700050968399592\n"
     ]
    }
   ],
   "source": [
    "h5f_valid = h5py.File('./Container/valid_clf', 'r')\n",
    "answer = h5f_valid['labels_int_enc'][:].astype(np.int64)\n",
    "h5f_valid.close()\n",
    "    \n",
    "answer_dict = {}\n",
    "for i, ans in enumerate(answer):\n",
    "    answer_dict[i] = ans\n",
    "\n",
    "file_list = [\"./final_recs/Chanho_recs/valid_recs/CF_rec_clf_dim_64.pickle\",\n",
    "                       \"./final_recs/Chanho_recs/valid_recs/Graph_rec_clf_1_8_depth_3.pickle\",\n",
    "                       \"./final_recs/Chanho_recs/valid_recs/Graph_rec_clf_1_8_depth_1.pickle\",\n",
    "                       \"./final_recs/Junwon_recs/inference_valid_clf_classification_DNN_fc_layer_sizes_2048-1024-512-256_batch_16_seed_0.pkl\",\n",
    "                       \"./final_recs/Hanseul_recs/rec_CCNet_valid_clf_EncFC_PoolPMA_CplNone_NumEnc7_NumDec1_Hid512_Emb512_Ind10.pickle\",\n",
    "                       \"./final_recs/Hanseul_recs/rec_CCNet_valid_clf_EncFC_PoolPMA_CplNone_NumEnc9_NumDec1_Hid512_Emb512_Ind10.pickle\",\n",
    "                       \"./final_recs/Hanseul_recs/rec_CCNet_valid_clf_EncFC_PoolPMA_CplNone_NumEnc10_NumDec1_Hid512_Emb512_Ind10.pickle\",\n",
    "                       \"./final_recs/Hanseul_recs/rec_CCNet_valid_clf_EncFC_PoolPMA_CplPooled_NumEnc5_NumDec0_Hid512_Emb512_Ind10.pickle\",\n",
    "                       \"./final_recs/Hanseul_recs/rec_CCNet_valid_clf_EncFC_PoolPMA_CplPooled_NumEnc8_NumDec0_Hid512_Emb512_Ind10.pickle\",\n",
    "                       \"./final_recs/Hanseul_recs/rec_CCNet_valid_clf_EncHYBRID_PoolPMA_CplNone_NumEnc8_NumDec3_Hid512_Emb512_Ind10.pickle\",\n",
    "                       \"./final_recs/Hanseul_recs/rec_CCNet_valid_clf_EncHYBRID_PoolPMA_CplPooled_NumEnc2_NumDec0_Hid512_Emb512_Ind8.pickle\",\n",
    "                       \"./final_recs/Hanseul_recs/rec_CCNet_valid_clf_EncHYBRID_PoolPMA_CplPooled_NumEnc3_NumDec0_Hid512_Emb512_Ind16.pickle\",\n",
    "                       \"./final_recs/Hanseul_recs/rec_CCNet_valid_clf_EncHYBRID_PoolPMA_CplPooled_NumEnc3_NumDec3_Hid512_Emb512_Ind6.pickle\",\n",
    "                       \"./final_recs/Hanseul_recs/rec_CCNet_valid_clf_EncHYBRID_PoolPMA_CplPooled_NumEnc3_NumDec3_Hid512_Emb512_Ind7.pickle\",\n",
    "                       \"./final_recs/Hanseul_recs/rec_CCNet_valid_clf_EncHYBRID_PoolPMA_CplPooled_NumEnc3_NumDec3_Hid512_Emb512_Ind10.pickle\",\n",
    "                       \"./final_recs/Hanseul_recs/rec_CCNet_valid_clf_EncHYBRID_PoolPMA_CplPooled_NumEnc4_NumDec3_Hid512_Emb512_Ind6.pickle\",\n",
    "                       \"./final_recs/Hanseul_recs/rec_CCNet_valid_clf_EncHYBRID_PoolPMA_CplPooled_NumEnc6_NumDec0_Hid512_Emb512_Ind29.pickle\",\n",
    "                       \"./final_recs/Hanseul_recs/rec_CCNet_valid_clf_EncHYBRID_SA_PoolPMA_CplEncoded_NumEnc4_NumDec0_Hid512_Emb512_Ind10.pickle\",\n",
    "                       \"./final_recs/Hanseul_recs/rec_CCNet_valid_clf_EncHYBRID_SA_PoolPMA_CplEncoded_NumEnc8_NumDec0_Hid512_Emb512_Ind10.pickle\",\n",
    "                       \"./final_recs/Hanseul_recs/rec_CCNet_valid_clf_EncHYBRID_SA_PoolPMA_CplNone_NumEnc2_NumDec0_Hid512_Emb512_Ind10.pickle\",\n",
    "                       \"./final_recs/Hanseul_recs/rec_CCNet_valid_clf_EncHYBRID_SA_PoolPMA_CplNone_NumEnc3_NumDec1_Hid512_Emb512_Ind10.pickle\",\n",
    "                       \"./final_recs/Hanseul_recs/rec_CCNet_valid_clf_EncHYBRID_SA_PoolPMA_CplNone_NumEnc10_NumDec1_Hid512_Emb512_Ind10.pickle\",\n",
    "                      ]\n",
    "for file_name in file_list:\n",
    "    with open(file_name, 'rb') as f:\n",
    "        recs = pickle.load(f)\n",
    "    metric = get_metric(recs, answer_dict)\n",
    "    print(file_name)\n",
    "    print(metric['macro'])\n",
    "    print(metric['micro'])"
   ]
  },
  {
   "cell_type": "code",
   "execution_count": 9,
   "id": "5b4c82a9",
   "metadata": {},
   "outputs": [],
   "source": [
    "for i in range(len(recall_rank_lst)):\n",
    "    recall_rank_lst[i] /= 10"
   ]
  },
  {
   "cell_type": "code",
   "execution_count": 11,
   "id": "5b32ba34",
   "metadata": {},
   "outputs": [
    {
     "data": {
      "image/png": "[encoded data removed]",
      "text/plain": [
       "<Figure size 576x360 with 1 Axes>"
      ]
     },
     "metadata": {
      "needs_background": "light"
     },
     "output_type": "display_data"
    }
   ],
   "source": [
    "import matplotlib.pyplot as plt\n",
    "ratio_lst = [w1/w2 for w1, w2 in [(1,4)]]\n",
    "depth_lst = list(range(1, 11))\n",
    "\n",
    "plt.figure(figsize=(8,5))\n",
    "for ratio in ratio_lst:\n",
    "    plt.plot(depth_lst, acc_lst, 'o-', label=\"acc\")\n",
    "    plt.plot(depth_lst, recall_lst, 'o-', label=\"recall\")\n",
    "    plt.plot(depth_lst, recall_rank_lst, 'o-', label=\"recall_rank\")\n",
    "plt.title(\"Recall@10 of Graph Model Completion Task\")\n",
    "plt.xlabel('Traverse depth')\n",
    "plt.ylabel('Recall@10')\n",
    "plt.xticks(depth_lst)\n",
    "plt.legend()\n",
    "#plt.savefig('./data_analysis/graph_cpl_recall10.png', dpi=100)\n",
    "plt.show()"
   ]
  },
  {
   "cell_type": "code",
   "execution_count": null,
   "id": "087146e4",
   "metadata": {},
   "outputs": [],
   "source": []
  }
 ],
 "metadata": {
  "kernelspec": {
   "display_name": "Python 3 (ipykernel)",
   "language": "python",
   "name": "python3"
  },
  "language_info": {
   "codemirror_mode": {
    "name": "ipython",
    "version": 3
   },
   "file_extension": ".py",
   "mimetype": "text/x-python",
   "name": "python",
   "nbconvert_exporter": "python",
   "pygments_lexer": "ipython3",
   "version": "3.9.7"
  }
 },
 "nbformat": 4,
 "nbformat_minor": 5
}

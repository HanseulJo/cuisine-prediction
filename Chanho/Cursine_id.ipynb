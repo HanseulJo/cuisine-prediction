{
 "cells": [
  {
   "cell_type": "code",
   "execution_count": 1,
   "id": "d1198233",
   "metadata": {},
   "outputs": [],
   "source": [
    "import numpy as np\n",
    "import pickle"
   ]
  },
  {
   "cell_type": "code",
   "execution_count": 2,
   "id": "7caea843",
   "metadata": {},
   "outputs": [
    {
     "name": "stdout",
     "output_type": "stream",
     "text": [
      "{'cajun_creole': 0, 'vietnamese': 1, 'italian': 2, 'mexican': 3, 'korean': 4, 'indian': 5, 'japanese': 6, 'greek': 7, 'filipino': 8, 'french': 9, 'moroccan': 10, 'spanish': 11, 'brazilian': 12, 'thai': 13, 'southern_us': 14, 'chinese': 15, 'irish': 16, 'jamaican': 17, 'russian': 18, 'british': 19}\n"
     ]
    }
   ],
   "source": [
    "target_file_name = \"../train.csv\"\n",
    "t_file = open(target_file_name, 'r')\n",
    "\n",
    "cursines = set()\n",
    "\n",
    "lines = t_file.readlines()\n",
    "for line in lines:\n",
    "    temp_lst = line.strip().split(\",\")\n",
    "    cursines.add(temp_lst[-1])\n",
    "\n",
    "cursine_id = 0\n",
    "cursine_dict = {}\n",
    "while len(cursines) > 0:\n",
    "    cursine_dict[cursines.pop()] = cursine_id\n",
    "    cursine_id += 1\n",
    "\n",
    "print(cursine_dict)"
   ]
  },
  {
   "cell_type": "code",
   "execution_count": 3,
   "id": "3e0c9ea9",
   "metadata": {},
   "outputs": [],
   "source": [
    "with open('./container/cursine_id_dict.pickle', 'wb') as fw:\n",
    "    pickle.dump(cursine_dict, fw)"
   ]
  },
  {
   "cell_type": "code",
   "execution_count": null,
   "id": "19631b74",
   "metadata": {},
   "outputs": [],
   "source": []
  }
 ],
 "metadata": {
  "kernelspec": {
   "display_name": "Python 3 (ipykernel)",
   "language": "python",
   "name": "python3"
  },
  "language_info": {
   "codemirror_mode": {
    "name": "ipython",
    "version": 3
   },
   "file_extension": ".py",
   "mimetype": "text/x-python",
   "name": "python",
   "nbconvert_exporter": "python",
   "pygments_lexer": "ipython3",
   "version": "3.9.7"
  }
 },
 "nbformat": 4,
 "nbformat_minor": 5
}

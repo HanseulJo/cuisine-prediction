{
 "cells": [
  {
   "cell_type": "code",
   "execution_count": 1,
   "id": "d1198233",
   "metadata": {},
   "outputs": [],
   "source": [
    "import numpy as np\n",
    "import pickle"
   ]
  },
  {
   "cell_type": "code",
   "execution_count": 2,
   "id": "7caea843",
   "metadata": {},
   "outputs": [
    {
     "name": "stdout",
     "output_type": "stream",
     "text": [
      "{'filipino': 0, 'british': 1, 'irish': 2, 'italian': 3, 'chinese': 4, 'vietnamese': 5, 'french': 6, 'greek': 7, 'indian': 8, 'spanish': 9, 'japanese': 10, 'korean': 11, 'southern_us': 12, 'mexican': 13, 'jamaican': 14, 'moroccan': 15, 'russian': 16, 'brazilian': 17, 'thai': 18, 'cajun_creole': 19}\n"
     ]
    }
   ],
   "source": [
    "target_file_name = \"../train.csv\"\n",
    "t_file = open(target_file_name, 'r')\n",
    "\n",
    "cursines = set()\n",
    "\n",
    "lines = t_file.readlines()\n",
    "for line in lines:\n",
    "    temp_lst = line.strip().split(\",\")\n",
    "    cursines.add(temp_lst[-1])\n",
    "\n",
    "cursine_id = 0\n",
    "cursine_dict = {}\n",
    "cursine_dict_inv = {}\n",
    "while len(cursines) > 0:\n",
    "    cursine = cursines.pop()\n",
    "    cursine_dict[cursine] = cursine_id\n",
    "    cursine_dict_inv[cursine_id] = cursine\n",
    "    cursine_id += 1\n",
    "\n",
    "print(cursine_dict)"
   ]
  },
  {
   "cell_type": "code",
   "execution_count": 3,
   "id": "3e0c9ea9",
   "metadata": {},
   "outputs": [],
   "source": [
    "with open('./container/cursine_id_dict.pickle', 'wb') as fw:\n",
    "    pickle.dump(cursine_dict, fw)\n",
    "    \n",
    "with open('./container/id_cursine_dict.pickle', 'wb') as fw:\n",
    "    pickle.dump(cursine_dict_inv, fw)"
   ]
  },
  {
   "cell_type": "code",
   "execution_count": 4,
   "id": "19631b74",
   "metadata": {},
   "outputs": [
    {
     "name": "stdout",
     "output_type": "stream",
     "text": [
      "{0: 'filipino', 1: 'british', 2: 'irish', 3: 'italian', 4: 'chinese', 5: 'vietnamese', 6: 'french', 7: 'greek', 8: 'indian', 9: 'spanish', 10: 'japanese', 11: 'korean', 12: 'southern_us', 13: 'mexican', 14: 'jamaican', 15: 'moroccan', 16: 'russian', 17: 'brazilian', 18: 'thai', 19: 'cajun_creole'}\n"
     ]
    }
   ],
   "source": [
    "print(cursine_dict_inv)"
   ]
  },
  {
   "cell_type": "code",
   "execution_count": null,
   "id": "1de05f31",
   "metadata": {},
   "outputs": [],
   "source": []
  }
 ],
 "metadata": {
  "kernelspec": {
   "display_name": "Python 3 (ipykernel)",
   "language": "python",
   "name": "python3"
  },
  "language_info": {
   "codemirror_mode": {
    "name": "ipython",
    "version": 3
   },
   "file_extension": ".py",
   "mimetype": "text/x-python",
   "name": "python",
   "nbconvert_exporter": "python",
   "pygments_lexer": "ipython3",
   "version": "3.9.7"
  }
 },
 "nbformat": 4,
 "nbformat_minor": 5
}

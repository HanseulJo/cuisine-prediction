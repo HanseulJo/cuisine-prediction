{
 "cells": [
  {
   "cell_type": "code",
   "execution_count": 2,
   "id": "e4296fe8",
   "metadata": {},
   "outputs": [],
   "source": [
    "import numpy as np\n",
    "import pickle\n",
    "from collections import defaultdict"
   ]
  },
  {
   "cell_type": "code",
   "execution_count": 3,
   "id": "2a4d13cb",
   "metadata": {},
   "outputs": [],
   "source": [
    "ingred_dict = defaultdict(list)\n",
    "ingred_lst = []\n",
    "with open('../node_ingredient.txt', 'rb') as fr:\n",
    "    for i, line in enumerate(fr):\n",
    "        ingred = line.strip()\n",
    "        ingred_dict[ingred].append(i+1)\n",
    "        ingred_lst.append(ingred)\n",
    "\n",
    "with open('./container/same_ingred_dict.pickle', 'wb') as fw:\n",
    "    pickle.dump(ingred_dict, fw)\n",
    "    \n",
    "with open('./container/same_ingred_lst.pickle', 'wb') as fw:\n",
    "    pickle.dump(ingred_lst, fw)"
   ]
  },
  {
   "cell_type": "code",
   "execution_count": null,
   "id": "e29b2ec8",
   "metadata": {},
   "outputs": [],
   "source": []
  }
 ],
 "metadata": {
  "kernelspec": {
   "display_name": "Python 3 (ipykernel)",
   "language": "python",
   "name": "python3"
  },
  "language_info": {
   "codemirror_mode": {
    "name": "ipython",
    "version": 3
   },
   "file_extension": ".py",
   "mimetype": "text/x-python",
   "name": "python",
   "nbconvert_exporter": "python",
   "pygments_lexer": "ipython3",
   "version": "3.9.7"
  }
 },
 "nbformat": 4,
 "nbformat_minor": 5
}

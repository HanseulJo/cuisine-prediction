{
 "cells": [
  {
   "cell_type": "code",
   "execution_count": 39,
   "id": "470952a8",
   "metadata": {},
   "outputs": [],
   "source": [
    "import torch\n",
    "import h5py\n",
    "import numpy as np\n",
    "from torch import nn\n",
    "from torchvision import datasets\n",
    "from torchvision.transforms import ToTensor, Lambda\n",
    "from torch.utils.data import Dataset\n",
    "from torch.utils.data import DataLoader\n",
    "import pickle\n",
    "from sklearn.preprocessing import normalize\n",
    "from scipy.sparse import lil_matrix, csr_matrix, hstack\n",
    "from tqdm import tqdm\n",
    "import math"
   ]
  },
  {
   "cell_type": "code",
   "execution_count": 47,
   "id": "0794101c",
   "metadata": {},
   "outputs": [],
   "source": [
    "# 변수 선언 block\n",
    "train_rec_file_list = [\"./final_recs/Chanho_recs/train_recs/CF_rec_clf_dim_64.pickle\",\n",
    "                       \"./final_recs/Chanho_recs/train_recs/Graph_rec_clf_1_8_depth_3.pickle\",\n",
    "                       \"./final_recs/Chanho_recs/train_recs/Graph_rec_clf_1_8_depth_1.pickle\",\n",
    "                       \"./final_recs/Junwon_recs/inference_train_classification_DNN_fc_layer_sizes_2048-1024-512-256_batch_16_seed_0.pkl\",\n",
    "                       \"./final_recs/Hanseul_recs/rec_CCNet_train_clf_EncFC_PoolPMA_CplNone_NumEnc7_NumDec1_Hid512_Emb512_Ind10.pickle\",\n",
    "                       \"./final_recs/Hanseul_recs/rec_CCNet_train_clf_EncFC_PoolPMA_CplNone_NumEnc9_NumDec1_Hid512_Emb512_Ind10.pickle\",\n",
    "                       \"./final_recs/Hanseul_recs/rec_CCNet_train_clf_EncFC_PoolPMA_CplNone_NumEnc10_NumDec1_Hid512_Emb512_Ind10.pickle\",\n",
    "                       \"./final_recs/Hanseul_recs/rec_CCNet_train_clf_EncFC_PoolPMA_CplPooled_NumEnc5_NumDec0_Hid512_Emb512_Ind10.pickle\",\n",
    "                       \"./final_recs/Hanseul_recs/rec_CCNet_train_clf_EncFC_PoolPMA_CplPooled_NumEnc8_NumDec0_Hid512_Emb512_Ind10.pickle\",\n",
    "                       \"./final_recs/Hanseul_recs/rec_CCNet_train_clf_EncHYBRID_PoolPMA_CplNone_NumEnc8_NumDec3_Hid512_Emb512_Ind10.pickle\",\n",
    "                       \"./final_recs/Hanseul_recs/rec_CCNet_train_clf_EncHYBRID_PoolPMA_CplPooled_NumEnc2_NumDec0_Hid512_Emb512_Ind8.pickle\",\n",
    "                       \"./final_recs/Hanseul_recs/rec_CCNet_train_clf_EncHYBRID_PoolPMA_CplPooled_NumEnc3_NumDec0_Hid512_Emb512_Ind16.pickle\",\n",
    "                       \"./final_recs/Hanseul_recs/rec_CCNet_train_clf_EncHYBRID_PoolPMA_CplPooled_NumEnc3_NumDec3_Hid512_Emb512_Ind6.pickle\",\n",
    "                       \"./final_recs/Hanseul_recs/rec_CCNet_train_clf_EncHYBRID_PoolPMA_CplPooled_NumEnc3_NumDec3_Hid512_Emb512_Ind7.pickle\",\n",
    "                       \"./final_recs/Hanseul_recs/rec_CCNet_train_clf_EncHYBRID_PoolPMA_CplPooled_NumEnc3_NumDec3_Hid512_Emb512_Ind10.pickle\",\n",
    "                       \"./final_recs/Hanseul_recs/rec_CCNet_train_clf_EncHYBRID_PoolPMA_CplPooled_NumEnc4_NumDec3_Hid512_Emb512_Ind6.pickle\",\n",
    "                       \"./final_recs/Hanseul_recs/rec_CCNet_train_clf_EncHYBRID_PoolPMA_CplPooled_NumEnc6_NumDec0_Hid512_Emb512_Ind29.pickle\",\n",
    "                       \"./final_recs/Hanseul_recs/rec_CCNet_train_clf_EncHYBRID_SA_PoolPMA_CplEncoded_NumEnc4_NumDec0_Hid512_Emb512_Ind10.pickle\",\n",
    "                       \"./final_recs/Hanseul_recs/rec_CCNet_train_clf_EncHYBRID_SA_PoolPMA_CplEncoded_NumEnc8_NumDec0_Hid512_Emb512_Ind10.pickle\",\n",
    "                       \"./final_recs/Hanseul_recs/rec_CCNet_train_clf_EncHYBRID_SA_PoolPMA_CplNone_NumEnc2_NumDec0_Hid512_Emb512_Ind10.pickle\",\n",
    "                       \"./final_recs/Hanseul_recs/rec_CCNet_train_clf_EncHYBRID_SA_PoolPMA_CplNone_NumEnc3_NumDec1_Hid512_Emb512_Ind10.pickle\",\n",
    "                       \"./final_recs/Hanseul_recs/rec_CCNet_train_clf_EncHYBRID_SA_PoolPMA_CplNone_NumEnc10_NumDec1_Hid512_Emb512_Ind10.pickle\",\n",
    "                      ]\n",
    "\n",
    "valid_rec_file_list = [\"./final_recs/Chanho_recs/valid_recs/CF_rec_clf_dim_64.pickle\",\n",
    "                       \"./final_recs/Chanho_recs/valid_recs/Graph_rec_clf_1_8_depth_3.pickle\",\n",
    "                       \"./final_recs/Chanho_recs/valid_recs/Graph_rec_clf_1_8_depth_1.pickle\",\n",
    "                       \"./final_recs/Junwon_recs/inference_valid_clf_classification_DNN_fc_layer_sizes_2048-1024-512-256_batch_16_seed_0.pkl\",\n",
    "                       \"./final_recs/Hanseul_recs/rec_CCNet_valid_clf_EncFC_PoolPMA_CplNone_NumEnc7_NumDec1_Hid512_Emb512_Ind10.pickle\",\n",
    "                       \"./final_recs/Hanseul_recs/rec_CCNet_valid_clf_EncFC_PoolPMA_CplNone_NumEnc9_NumDec1_Hid512_Emb512_Ind10.pickle\",\n",
    "                       \"./final_recs/Hanseul_recs/rec_CCNet_valid_clf_EncFC_PoolPMA_CplNone_NumEnc10_NumDec1_Hid512_Emb512_Ind10.pickle\",\n",
    "                       \"./final_recs/Hanseul_recs/rec_CCNet_valid_clf_EncFC_PoolPMA_CplPooled_NumEnc5_NumDec0_Hid512_Emb512_Ind10.pickle\",\n",
    "                       \"./final_recs/Hanseul_recs/rec_CCNet_valid_clf_EncFC_PoolPMA_CplPooled_NumEnc8_NumDec0_Hid512_Emb512_Ind10.pickle\",\n",
    "                       \"./final_recs/Hanseul_recs/rec_CCNet_valid_clf_EncHYBRID_PoolPMA_CplNone_NumEnc8_NumDec3_Hid512_Emb512_Ind10.pickle\",\n",
    "                       \"./final_recs/Hanseul_recs/rec_CCNet_valid_clf_EncHYBRID_PoolPMA_CplPooled_NumEnc2_NumDec0_Hid512_Emb512_Ind8.pickle\",\n",
    "                       \"./final_recs/Hanseul_recs/rec_CCNet_valid_clf_EncHYBRID_PoolPMA_CplPooled_NumEnc3_NumDec0_Hid512_Emb512_Ind16.pickle\",\n",
    "                       \"./final_recs/Hanseul_recs/rec_CCNet_valid_clf_EncHYBRID_PoolPMA_CplPooled_NumEnc3_NumDec3_Hid512_Emb512_Ind6.pickle\",\n",
    "                       \"./final_recs/Hanseul_recs/rec_CCNet_valid_clf_EncHYBRID_PoolPMA_CplPooled_NumEnc3_NumDec3_Hid512_Emb512_Ind7.pickle\",\n",
    "                       \"./final_recs/Hanseul_recs/rec_CCNet_valid_clf_EncHYBRID_PoolPMA_CplPooled_NumEnc3_NumDec3_Hid512_Emb512_Ind10.pickle\",\n",
    "                       \"./final_recs/Hanseul_recs/rec_CCNet_valid_clf_EncHYBRID_PoolPMA_CplPooled_NumEnc4_NumDec3_Hid512_Emb512_Ind6.pickle\",\n",
    "                       \"./final_recs/Hanseul_recs/rec_CCNet_valid_clf_EncHYBRID_PoolPMA_CplPooled_NumEnc6_NumDec0_Hid512_Emb512_Ind29.pickle\",\n",
    "                       \"./final_recs/Hanseul_recs/rec_CCNet_valid_clf_EncHYBRID_SA_PoolPMA_CplEncoded_NumEnc4_NumDec0_Hid512_Emb512_Ind10.pickle\",\n",
    "                       \"./final_recs/Hanseul_recs/rec_CCNet_valid_clf_EncHYBRID_SA_PoolPMA_CplEncoded_NumEnc8_NumDec0_Hid512_Emb512_Ind10.pickle\",\n",
    "                       \"./final_recs/Hanseul_recs/rec_CCNet_valid_clf_EncHYBRID_SA_PoolPMA_CplNone_NumEnc2_NumDec0_Hid512_Emb512_Ind10.pickle\",\n",
    "                       \"./final_recs/Hanseul_recs/rec_CCNet_valid_clf_EncHYBRID_SA_PoolPMA_CplNone_NumEnc3_NumDec1_Hid512_Emb512_Ind10.pickle\",\n",
    "                       \"./final_recs/Hanseul_recs/rec_CCNet_valid_clf_EncHYBRID_SA_PoolPMA_CplNone_NumEnc10_NumDec1_Hid512_Emb512_Ind10.pickle\",\n",
    "                      ]\n",
    "\n",
    "train_path = './Container/train'\n",
    "\n",
    "valid_path = './Container/valid_clf'\n",
    "\n",
    "state_dict_save_path = \"./ensemble_model/ensemble_model_best_clf.pt\"\n",
    "\n",
    "loss_fig_path = \"./ensemble_model/ensemble_clf_loss.png\"\n",
    "acc_fig_path = \"./ensemble_model/ensemble_clf_acc.png\"\n",
    "\n",
    "epochs = 20"
   ]
  },
  {
   "cell_type": "code",
   "execution_count": 48,
   "id": "e72d0fff",
   "metadata": {},
   "outputs": [],
   "source": [
    "class RecDataset(Dataset):\n",
    "    def __init__(self, recs_list, answer_dict, query_num, item_num, transform=None, target_transform=None):\n",
    "        # rec_matrix = [query num, model_num, item_num]\n",
    "        self.rec_matrix = []\n",
    "        for i in range(query_num):\n",
    "            self.rec_matrix.append(lil_matrix((len(recs_list), item_num)))\n",
    "        for i, recs in enumerate(recs_list):\n",
    "            for query in tqdm(recs.keys()):\n",
    "                rec = recs[query]\n",
    "                rec_items, rec_scores = [rec_ for rec_, score in rec], [score for rec_, score in rec]\n",
    "                rec_scores = normalize(np.array(rec_scores)[:,np.newaxis], axis=0).ravel()\n",
    "                for item, score in zip(rec_items, rec_scores):\n",
    "                    self.rec_matrix[query][i, item] = score\n",
    "        self.labels = answer_dict\n",
    "        self.transform = transform\n",
    "        self.target_transform = target_transform\n",
    "        self.device = \"cuda\" if torch.cuda.is_available() else \"cpu\"\n",
    "\n",
    "    def __len__(self):\n",
    "        return len(self.rec_matrix)\n",
    "\n",
    "    def __getitem__(self, idx):\n",
    "        rec_matrix = self.rec_matrix[idx].toarray()\n",
    "        label = self.labels[idx]\n",
    "        if self.transform:\n",
    "            rec_matrix = self.transform(rec_matrix).to(self.device)\n",
    "        if self.target_transform:\n",
    "            label = self.target_transform(label)\n",
    "        return rec_matrix.to(self.device), label.to(self.device)"
   ]
  },
  {
   "cell_type": "code",
   "execution_count": 49,
   "id": "e8e7c09c",
   "metadata": {},
   "outputs": [],
   "source": [
    "class Network(nn.Module):\n",
    "    def __init__(self, model_len, k=10):\n",
    "        super(Network, self).__init__()\n",
    "        self.w1 = torch.nn.Parameter(torch.rand(k, model_len))\n",
    "        self.w2 = torch.nn.Parameter(torch.rand(1, k))\n",
    "        \n",
    "    def forward(self, x):\n",
    "        #import ipdb; ipdb.set_trace()\n",
    "        x = x.float()\n",
    "        x = torch.einsum('nm, bmp -> bnp', self.w1, x)\n",
    "        x = torch.einsum('nm, bmp -> bnp', self.w2, x).squeeze(1)\n",
    "        return x"
   ]
  },
  {
   "cell_type": "code",
   "execution_count": 43,
   "id": "e6961769",
   "metadata": {},
   "outputs": [
    {
     "name": "stderr",
     "output_type": "stream",
     "text": [
      "100%|█████████████████████████████████████████████████████████████████████████| 23547/23547 [00:02<00:00, 10446.75it/s]\n",
      "100%|█████████████████████████████████████████████████████████████████████████| 23547/23547 [00:02<00:00, 10535.56it/s]\n",
      "100%|█████████████████████████████████████████████████████████████████████████| 23547/23547 [00:02<00:00, 11065.23it/s]\n",
      "100%|██████████████████████████████████████████████████████████████████████████| 23547/23547 [00:02<00:00, 9610.92it/s]\n",
      "100%|██████████████████████████████████████████████████████████████████████████| 23547/23547 [00:02<00:00, 9560.21it/s]\n",
      "100%|██████████████████████████████████████████████████████████████████████████| 23547/23547 [00:02<00:00, 9626.73it/s]\n",
      "100%|██████████████████████████████████████████████████████████████████████████| 23547/23547 [00:02<00:00, 9569.80it/s]\n",
      "100%|██████████████████████████████████████████████████████████████████████████| 23547/23547 [00:02<00:00, 9658.46it/s]\n",
      "100%|██████████████████████████████████████████████████████████████████████████| 23547/23547 [00:02<00:00, 9285.68it/s]\n",
      "100%|██████████████████████████████████████████████████████████████████████████| 23547/23547 [00:02<00:00, 9760.09it/s]\n",
      "100%|██████████████████████████████████████████████████████████████████████████| 23547/23547 [00:02<00:00, 9573.32it/s]\n",
      "100%|██████████████████████████████████████████████████████████████████████████| 23547/23547 [00:02<00:00, 9819.38it/s]\n",
      "100%|██████████████████████████████████████████████████████████████████████████| 23547/23547 [00:02<00:00, 9436.45it/s]\n",
      "100%|██████████████████████████████████████████████████████████████████████████| 23547/23547 [00:02<00:00, 9490.82it/s]\n",
      "100%|██████████████████████████████████████████████████████████████████████████| 23547/23547 [00:02<00:00, 9571.95it/s]\n",
      "100%|██████████████████████████████████████████████████████████████████████████| 23547/23547 [00:02<00:00, 9714.11it/s]\n",
      "100%|██████████████████████████████████████████████████████████████████████████| 23547/23547 [00:02<00:00, 9694.12it/s]\n",
      "100%|██████████████████████████████████████████████████████████████████████████| 23547/23547 [00:02<00:00, 9388.75it/s]\n",
      "100%|██████████████████████████████████████████████████████████████████████████| 23547/23547 [00:02<00:00, 9838.78it/s]\n",
      "100%|██████████████████████████████████████████████████████████████████████████| 23547/23547 [00:02<00:00, 9456.62it/s]\n",
      "100%|██████████████████████████████████████████████████████████████████████████| 23547/23547 [00:02<00:00, 9744.40it/s]\n",
      "100%|██████████████████████████████████████████████████████████████████████████| 23547/23547 [00:02<00:00, 9781.76it/s]\n",
      "100%|███████████████████████████████████████████████████████████████████████████| 7848/7848 [00:00<00:00, 11292.05it/s]\n",
      "100%|███████████████████████████████████████████████████████████████████████████| 7848/7848 [00:00<00:00, 11541.15it/s]\n",
      "100%|███████████████████████████████████████████████████████████████████████████| 7848/7848 [00:00<00:00, 10010.23it/s]\n",
      "100%|████████████████████████████████████████████████████████████████████████████| 7848/7848 [00:00<00:00, 9605.87it/s]\n",
      "100%|████████████████████████████████████████████████████████████████████████████| 7848/7848 [00:00<00:00, 9822.26it/s]\n",
      "100%|████████████████████████████████████████████████████████████████████████████| 7848/7848 [00:00<00:00, 9629.46it/s]\n",
      "100%|████████████████████████████████████████████████████████████████████████████| 7848/7848 [00:00<00:00, 9570.72it/s]\n",
      "100%|████████████████████████████████████████████████████████████████████████████| 7848/7848 [00:00<00:00, 9232.94it/s]\n",
      "100%|████████████████████████████████████████████████████████████████████████████| 7848/7848 [00:00<00:00, 9617.63it/s]\n",
      "100%|████████████████████████████████████████████████████████████████████████████| 7848/7848 [00:00<00:00, 9582.44it/s]\n",
      "100%|████████████████████████████████████████████████████████████████████████████| 7848/7848 [00:00<00:00, 9309.62it/s]\n",
      "100%|████████████████████████████████████████████████████████████████████████████| 7848/7848 [00:00<00:00, 9222.10it/s]\n",
      "100%|████████████████████████████████████████████████████████████████████████████| 7848/7848 [00:00<00:00, 9211.30it/s]\n",
      "100%|████████████████████████████████████████████████████████████████████████████| 7848/7848 [00:00<00:00, 9398.81it/s]\n",
      "100%|████████████████████████████████████████████████████████████████████████████| 7848/7848 [00:00<00:00, 9041.47it/s]\n",
      "100%|███████████████████████████████████████████████████████████████████████████| 7848/7848 [00:00<00:00, 10139.54it/s]\n",
      "100%|████████████████████████████████████████████████████████████████████████████| 7848/7848 [00:00<00:00, 9287.60it/s]\n",
      "100%|███████████████████████████████████████████████████████████████████████████| 7848/7848 [00:00<00:00, 10450.04it/s]\n",
      "100%|████████████████████████████████████████████████████████████████████████████| 7848/7848 [00:00<00:00, 9997.48it/s]\n",
      "100%|████████████████████████████████████████████████████████████████████████████| 7848/7848 [00:00<00:00, 9273.30it/s]\n",
      "100%|████████████████████████████████████████████████████████████████████████████| 7848/7848 [00:00<00:00, 9749.10it/s]\n",
      "100%|████████████████████████████████████████████████████████████████████████████| 7848/7848 [00:00<00:00, 9712.86it/s]\n"
     ]
    }
   ],
   "source": [
    "recs_list = []\n",
    "for rec_file in train_rec_file_list:\n",
    "    with open(rec_file, 'rb') as f:\n",
    "        recs = pickle.load(f)\n",
    "        recs_list.append(recs)\n",
    "\n",
    "query_num = len(recs_list[0])\n",
    "item_num = 20\n",
    "\n",
    "h5f_train = h5py.File(train_path, 'r')\n",
    "answer = h5f_train['labels_int_enc'][:].astype(np.int64)\n",
    "h5f_train.close()\n",
    "\n",
    "answer_dict = {}\n",
    "for i, ans in enumerate(answer):\n",
    "    answer_dict[i] = ans\n",
    "\n",
    "train_data = RecDataset(recs_list, answer_dict, query_num, item_num, transform=torch.Tensor, target_transform=torch.tensor)\n",
    "train_dataloader = DataLoader(train_data, batch_size=64, shuffle=True)\n",
    "###############\n",
    "\n",
    "recs_list = []\n",
    "for rec_file in valid_rec_file_list:\n",
    "    with open(rec_file, 'rb') as f:\n",
    "        recs = pickle.load(f)\n",
    "        recs_list.append(recs)\n",
    "\n",
    "query_num = len(recs_list[0])\n",
    "item_num = 20\n",
    "\n",
    "h5f_valid = h5py.File(valid_path, 'r')\n",
    "answer = h5f_valid['labels_int_enc'][:].astype(np.int64)\n",
    "h5f_valid.close()\n",
    "\n",
    "answer_dict = {}\n",
    "for i, ans in enumerate(answer):\n",
    "    answer_dict[i] = ans\n",
    "\n",
    "test_data = RecDataset(recs_list, answer_dict, query_num, item_num, transform=torch.Tensor, target_transform=torch.tensor)\n",
    "test_dataloader = DataLoader(test_data, batch_size=64, shuffle=True)"
   ]
  },
  {
   "cell_type": "code",
   "execution_count": 51,
   "id": "8fe6e8f9",
   "metadata": {},
   "outputs": [
    {
     "name": "stdout",
     "output_type": "stream",
     "text": [
      "Epoch 1\n",
      "-------------------------------\n"
     ]
    },
    {
     "name": "stderr",
     "output_type": "stream",
     "text": [
      "100%|████████████████████████████████████████████████████████████████████████████████| 368/368 [00:26<00:00, 14.02it/s]\n"
     ]
    },
    {
     "name": "stdout",
     "output_type": "stream",
     "text": [
      "Train loss: 1.851878\n"
     ]
    },
    {
     "name": "stderr",
     "output_type": "stream",
     "text": [
      "100%|████████████████████████████████████████████████████████████████████████████████| 123/123 [00:09<00:00, 13.55it/s]\n"
     ]
    },
    {
     "name": "stdout",
     "output_type": "stream",
     "text": [
      "Test Error: \n",
      " Accuracy: 78.6%, Avg loss: 4.657953 \n",
      "\n",
      "<generator object Module.parameters at 0x000001BDF186F660>\n",
      "save\n",
      "Epoch 2\n",
      "-------------------------------\n"
     ]
    },
    {
     "name": "stderr",
     "output_type": "stream",
     "text": [
      "100%|████████████████████████████████████████████████████████████████████████████████| 368/368 [00:26<00:00, 14.09it/s]\n"
     ]
    },
    {
     "name": "stdout",
     "output_type": "stream",
     "text": [
      "Train loss: 1.607570\n"
     ]
    },
    {
     "name": "stderr",
     "output_type": "stream",
     "text": [
      "100%|████████████████████████████████████████████████████████████████████████████████| 123/123 [00:09<00:00, 13.47it/s]\n"
     ]
    },
    {
     "name": "stdout",
     "output_type": "stream",
     "text": [
      "Test Error: \n",
      " Accuracy: 78.6%, Avg loss: 4.032047 \n",
      "\n",
      "<generator object Module.parameters at 0x000001BDF186FAC0>\n",
      "save\n",
      "Epoch 3\n",
      "-------------------------------\n"
     ]
    },
    {
     "name": "stderr",
     "output_type": "stream",
     "text": [
      "100%|████████████████████████████████████████████████████████████████████████████████| 368/368 [00:26<00:00, 14.11it/s]\n"
     ]
    },
    {
     "name": "stdout",
     "output_type": "stream",
     "text": [
      "Train loss: 1.384191\n"
     ]
    },
    {
     "name": "stderr",
     "output_type": "stream",
     "text": [
      "100%|████████████████████████████████████████████████████████████████████████████████| 123/123 [00:08<00:00, 13.72it/s]\n"
     ]
    },
    {
     "name": "stdout",
     "output_type": "stream",
     "text": [
      "Test Error: \n",
      " Accuracy: 78.7%, Avg loss: 3.464534 \n",
      "\n",
      "<generator object Module.parameters at 0x000001BDF186F270>\n",
      "save\n",
      "Epoch 4\n",
      "-------------------------------\n"
     ]
    },
    {
     "name": "stderr",
     "output_type": "stream",
     "text": [
      "100%|████████████████████████████████████████████████████████████████████████████████| 368/368 [00:25<00:00, 14.22it/s]\n"
     ]
    },
    {
     "name": "stdout",
     "output_type": "stream",
     "text": [
      "Train loss: 1.181137\n"
     ]
    },
    {
     "name": "stderr",
     "output_type": "stream",
     "text": [
      "100%|████████████████████████████████████████████████████████████████████████████████| 123/123 [00:09<00:00, 13.58it/s]\n"
     ]
    },
    {
     "name": "stdout",
     "output_type": "stream",
     "text": [
      "Test Error: \n",
      " Accuracy: 78.7%, Avg loss: 2.941555 \n",
      "\n",
      "<generator object Module.parameters at 0x000001BDF186F5F0>\n",
      "save\n",
      "Epoch 5\n",
      "-------------------------------\n"
     ]
    },
    {
     "name": "stderr",
     "output_type": "stream",
     "text": [
      "100%|████████████████████████████████████████████████████████████████████████████████| 368/368 [00:26<00:00, 14.09it/s]\n"
     ]
    },
    {
     "name": "stdout",
     "output_type": "stream",
     "text": [
      "Train loss: 0.995058\n"
     ]
    },
    {
     "name": "stderr",
     "output_type": "stream",
     "text": [
      "100%|████████████████████████████████████████████████████████████████████████████████| 123/123 [00:08<00:00, 13.74it/s]\n"
     ]
    },
    {
     "name": "stdout",
     "output_type": "stream",
     "text": [
      "Test Error: \n",
      " Accuracy: 78.7%, Avg loss: 2.462493 \n",
      "\n",
      "<generator object Module.parameters at 0x000001BDF186FAC0>\n",
      "save\n",
      "Epoch 6\n",
      "-------------------------------\n"
     ]
    },
    {
     "name": "stderr",
     "output_type": "stream",
     "text": [
      "100%|████████████████████████████████████████████████████████████████████████████████| 368/368 [00:26<00:00, 13.91it/s]\n"
     ]
    },
    {
     "name": "stdout",
     "output_type": "stream",
     "text": [
      "Train loss: 0.821448\n"
     ]
    },
    {
     "name": "stderr",
     "output_type": "stream",
     "text": [
      "100%|████████████████████████████████████████████████████████████████████████████████| 123/123 [00:09<00:00, 13.57it/s]\n"
     ]
    },
    {
     "name": "stdout",
     "output_type": "stream",
     "text": [
      "Test Error: \n",
      " Accuracy: 78.6%, Avg loss: 2.009687 \n",
      "\n",
      "<generator object Module.parameters at 0x000001BDF186F5F0>\n",
      "save\n",
      "Epoch 7\n",
      "-------------------------------\n"
     ]
    },
    {
     "name": "stderr",
     "output_type": "stream",
     "text": [
      "100%|████████████████████████████████████████████████████████████████████████████████| 368/368 [00:25<00:00, 14.33it/s]\n"
     ]
    },
    {
     "name": "stdout",
     "output_type": "stream",
     "text": [
      "Train loss: 0.657602\n"
     ]
    },
    {
     "name": "stderr",
     "output_type": "stream",
     "text": [
      "100%|████████████████████████████████████████████████████████████████████████████████| 123/123 [00:09<00:00, 13.46it/s]\n"
     ]
    },
    {
     "name": "stdout",
     "output_type": "stream",
     "text": [
      "Test Error: \n",
      " Accuracy: 78.5%, Avg loss: 1.575907 \n",
      "\n",
      "<generator object Module.parameters at 0x000001BDF186F200>\n",
      "save\n",
      "Epoch 8\n",
      "-------------------------------\n"
     ]
    },
    {
     "name": "stderr",
     "output_type": "stream",
     "text": [
      "100%|████████████████████████████████████████████████████████████████████████████████| 368/368 [00:27<00:00, 13.56it/s]\n"
     ]
    },
    {
     "name": "stdout",
     "output_type": "stream",
     "text": [
      "Train loss: 0.503179\n"
     ]
    },
    {
     "name": "stderr",
     "output_type": "stream",
     "text": [
      "100%|████████████████████████████████████████████████████████████████████████████████| 123/123 [00:09<00:00, 13.45it/s]\n"
     ]
    },
    {
     "name": "stdout",
     "output_type": "stream",
     "text": [
      "Test Error: \n",
      " Accuracy: 78.4%, Avg loss: 1.179162 \n",
      "\n",
      "<generator object Module.parameters at 0x000001BDF186F430>\n",
      "save\n",
      "Epoch 9\n",
      "-------------------------------\n"
     ]
    },
    {
     "name": "stderr",
     "output_type": "stream",
     "text": [
      "100%|████████████████████████████████████████████████████████████████████████████████| 368/368 [00:26<00:00, 13.77it/s]\n"
     ]
    },
    {
     "name": "stdout",
     "output_type": "stream",
     "text": [
      "Train loss: 0.385523\n"
     ]
    },
    {
     "name": "stderr",
     "output_type": "stream",
     "text": [
      "100%|████████████████████████████████████████████████████████████████████████████████| 123/123 [00:08<00:00, 15.06it/s]\n"
     ]
    },
    {
     "name": "stdout",
     "output_type": "stream",
     "text": [
      "Test Error: \n",
      " Accuracy: 78.2%, Avg loss: 0.938594 \n",
      "\n",
      "<generator object Module.parameters at 0x000001BDF186F510>\n",
      "save\n",
      "Epoch 10\n",
      "-------------------------------\n"
     ]
    },
    {
     "name": "stderr",
     "output_type": "stream",
     "text": [
      "100%|████████████████████████████████████████████████████████████████████████████████| 368/368 [00:27<00:00, 13.40it/s]\n"
     ]
    },
    {
     "name": "stdout",
     "output_type": "stream",
     "text": [
      "Train loss: 0.350084\n"
     ]
    },
    {
     "name": "stderr",
     "output_type": "stream",
     "text": [
      "100%|████████████████████████████████████████████████████████████████████████████████| 123/123 [00:07<00:00, 16.46it/s]\n"
     ]
    },
    {
     "name": "stdout",
     "output_type": "stream",
     "text": [
      "Test Error: \n",
      " Accuracy: 78.1%, Avg loss: 0.906916 \n",
      "\n",
      "<generator object Module.parameters at 0x000001BDF186F430>\n",
      "save\n",
      "Epoch 11\n",
      "-------------------------------\n"
     ]
    },
    {
     "name": "stderr",
     "output_type": "stream",
     "text": [
      "100%|████████████████████████████████████████████████████████████████████████████████| 368/368 [00:27<00:00, 13.33it/s]\n"
     ]
    },
    {
     "name": "stdout",
     "output_type": "stream",
     "text": [
      "Train loss: 0.340681\n"
     ]
    },
    {
     "name": "stderr",
     "output_type": "stream",
     "text": [
      "100%|████████████████████████████████████████████████████████████████████████████████| 123/123 [00:07<00:00, 15.64it/s]\n"
     ]
    },
    {
     "name": "stdout",
     "output_type": "stream",
     "text": [
      "Test Error: \n",
      " Accuracy: 78.2%, Avg loss: 0.906083 \n",
      "\n",
      "<generator object Module.parameters at 0x000001BDF186F5F0>\n",
      "save\n",
      "Epoch 12\n",
      "-------------------------------\n"
     ]
    },
    {
     "name": "stderr",
     "output_type": "stream",
     "text": [
      "100%|████████████████████████████████████████████████████████████████████████████████| 368/368 [00:27<00:00, 13.19it/s]\n"
     ]
    },
    {
     "name": "stdout",
     "output_type": "stream",
     "text": [
      "Train loss: 0.332474\n"
     ]
    },
    {
     "name": "stderr",
     "output_type": "stream",
     "text": [
      "100%|████████████████████████████████████████████████████████████████████████████████| 123/123 [00:08<00:00, 14.73it/s]\n"
     ]
    },
    {
     "name": "stdout",
     "output_type": "stream",
     "text": [
      "Test Error: \n",
      " Accuracy: 78.1%, Avg loss: 0.909912 \n",
      "\n",
      "<generator object Module.parameters at 0x000001BDF186F510>\n",
      "Epoch 13\n",
      "-------------------------------\n"
     ]
    },
    {
     "name": "stderr",
     "output_type": "stream",
     "text": [
      "100%|████████████████████████████████████████████████████████████████████████████████| 368/368 [00:27<00:00, 13.45it/s]\n"
     ]
    },
    {
     "name": "stdout",
     "output_type": "stream",
     "text": [
      "Train loss: 0.325132\n"
     ]
    },
    {
     "name": "stderr",
     "output_type": "stream",
     "text": [
      "100%|████████████████████████████████████████████████████████████████████████████████| 123/123 [00:09<00:00, 13.21it/s]\n"
     ]
    },
    {
     "name": "stdout",
     "output_type": "stream",
     "text": [
      "Test Error: \n",
      " Accuracy: 78.1%, Avg loss: 0.910213 \n",
      "\n",
      "<generator object Module.parameters at 0x000001BDF186F4A0>\n",
      "Epoch 14\n",
      "-------------------------------\n"
     ]
    },
    {
     "name": "stderr",
     "output_type": "stream",
     "text": [
      "100%|████████████████████████████████████████████████████████████████████████████████| 368/368 [00:26<00:00, 13.83it/s]\n"
     ]
    },
    {
     "name": "stdout",
     "output_type": "stream",
     "text": [
      "Train loss: 0.318400\n"
     ]
    },
    {
     "name": "stderr",
     "output_type": "stream",
     "text": [
      "100%|████████████████████████████████████████████████████████████████████████████████| 123/123 [00:09<00:00, 13.06it/s]\n"
     ]
    },
    {
     "name": "stdout",
     "output_type": "stream",
     "text": [
      "Test Error: \n",
      " Accuracy: 78.2%, Avg loss: 0.916068 \n",
      "\n",
      "<generator object Module.parameters at 0x000001BDF186FBA0>\n",
      "Epoch 15\n",
      "-------------------------------\n"
     ]
    },
    {
     "name": "stderr",
     "output_type": "stream",
     "text": [
      "100%|████████████████████████████████████████████████████████████████████████████████| 368/368 [00:26<00:00, 14.00it/s]\n"
     ]
    },
    {
     "name": "stdout",
     "output_type": "stream",
     "text": [
      "Train loss: 0.312443\n"
     ]
    },
    {
     "name": "stderr",
     "output_type": "stream",
     "text": [
      "100%|████████████████████████████████████████████████████████████████████████████████| 123/123 [00:09<00:00, 13.20it/s]\n"
     ]
    },
    {
     "name": "stdout",
     "output_type": "stream",
     "text": [
      "Test Error: \n",
      " Accuracy: 78.3%, Avg loss: 0.917757 \n",
      "\n",
      "<generator object Module.parameters at 0x000001BDF186F430>\n",
      "Epoch 16\n",
      "-------------------------------\n"
     ]
    },
    {
     "name": "stderr",
     "output_type": "stream",
     "text": [
      "100%|████████████████████████████████████████████████████████████████████████████████| 368/368 [00:26<00:00, 13.83it/s]\n"
     ]
    },
    {
     "name": "stdout",
     "output_type": "stream",
     "text": [
      "Train loss: 0.307009\n"
     ]
    },
    {
     "name": "stderr",
     "output_type": "stream",
     "text": [
      "100%|████████████████████████████████████████████████████████████████████████████████| 123/123 [00:09<00:00, 13.33it/s]\n"
     ]
    },
    {
     "name": "stdout",
     "output_type": "stream",
     "text": [
      "Test Error: \n",
      " Accuracy: 78.3%, Avg loss: 0.922182 \n",
      "\n",
      "<generator object Module.parameters at 0x000001BDF186F660>\n",
      "Epoch 17\n",
      "-------------------------------\n"
     ]
    },
    {
     "name": "stderr",
     "output_type": "stream",
     "text": [
      "100%|████████████████████████████████████████████████████████████████████████████████| 368/368 [00:26<00:00, 14.06it/s]\n"
     ]
    },
    {
     "name": "stdout",
     "output_type": "stream",
     "text": [
      "Train loss: 0.302242\n"
     ]
    },
    {
     "name": "stderr",
     "output_type": "stream",
     "text": [
      "100%|████████████████████████████████████████████████████████████████████████████████| 123/123 [00:09<00:00, 13.38it/s]\n"
     ]
    },
    {
     "name": "stdout",
     "output_type": "stream",
     "text": [
      "Test Error: \n",
      " Accuracy: 78.3%, Avg loss: 0.927607 \n",
      "\n",
      "<generator object Module.parameters at 0x000001BDF186F5F0>\n",
      "Epoch 18\n",
      "-------------------------------\n"
     ]
    },
    {
     "name": "stderr",
     "output_type": "stream",
     "text": [
      "100%|████████████████████████████████████████████████████████████████████████████████| 368/368 [00:25<00:00, 14.33it/s]\n"
     ]
    },
    {
     "name": "stdout",
     "output_type": "stream",
     "text": [
      "Train loss: 0.297971\n"
     ]
    },
    {
     "name": "stderr",
     "output_type": "stream",
     "text": [
      "100%|████████████████████████████████████████████████████████████████████████████████| 123/123 [00:09<00:00, 13.36it/s]\n"
     ]
    },
    {
     "name": "stdout",
     "output_type": "stream",
     "text": [
      "Test Error: \n",
      " Accuracy: 78.3%, Avg loss: 0.937799 \n",
      "\n",
      "<generator object Module.parameters at 0x000001BDF186F270>\n",
      "Epoch 19\n",
      "-------------------------------\n"
     ]
    },
    {
     "name": "stderr",
     "output_type": "stream",
     "text": [
      "100%|████████████████████████████████████████████████████████████████████████████████| 368/368 [00:26<00:00, 14.03it/s]\n"
     ]
    },
    {
     "name": "stdout",
     "output_type": "stream",
     "text": [
      "Train loss: 0.294190\n"
     ]
    },
    {
     "name": "stderr",
     "output_type": "stream",
     "text": [
      "100%|████████████████████████████████████████████████████████████████████████████████| 123/123 [00:08<00:00, 13.92it/s]\n"
     ]
    },
    {
     "name": "stdout",
     "output_type": "stream",
     "text": [
      "Test Error: \n",
      " Accuracy: 78.2%, Avg loss: 0.932780 \n",
      "\n",
      "<generator object Module.parameters at 0x000001BDF186F5F0>\n",
      "Epoch 20\n",
      "-------------------------------\n"
     ]
    },
    {
     "name": "stderr",
     "output_type": "stream",
     "text": [
      "100%|████████████████████████████████████████████████████████████████████████████████| 368/368 [00:25<00:00, 14.34it/s]\n"
     ]
    },
    {
     "name": "stdout",
     "output_type": "stream",
     "text": [
      "Train loss: 0.290838\n"
     ]
    },
    {
     "name": "stderr",
     "output_type": "stream",
     "text": [
      "100%|████████████████████████████████████████████████████████████████████████████████| 123/123 [00:08<00:00, 13.75it/s]"
     ]
    },
    {
     "name": "stdout",
     "output_type": "stream",
     "text": [
      "Test Error: \n",
      " Accuracy: 78.2%, Avg loss: 0.939243 \n",
      "\n",
      "<generator object Module.parameters at 0x000001BDF186F660>\n",
      "Done!\n"
     ]
    },
    {
     "name": "stderr",
     "output_type": "stream",
     "text": [
      "\n"
     ]
    }
   ],
   "source": [
    "device = \"cuda\" if torch.cuda.is_available() else \"cpu\"\n",
    "model = Network(len(train_rec_file_list), k=10).to(device)\n",
    "loss_fn = nn.CrossEntropyLoss()\n",
    "optimizer = torch.optim.Adam(model.parameters(), lr=0.0001)\n",
    "\n",
    "def train_loop(dataloader, model, loss_fn, optimizer):\n",
    "    size = len(dataloader.dataset)\n",
    "    total_loss = 0\n",
    "    for batch, (X, y) in tqdm(enumerate(dataloader),total=len(dataloader)):\n",
    "        pred = model(X)\n",
    "        loss = loss_fn(pred, y)\n",
    "        \n",
    "        optimizer.zero_grad()\n",
    "        loss.backward()\n",
    "        optimizer.step()\n",
    "        total_loss += loss.item()\n",
    "    avg_loss = total_loss / (batch + 1)\n",
    "    print(f\"Train loss: {avg_loss:>7f}\")\n",
    "    return avg_loss\n",
    "            \n",
    "def test_loop(dataloader, model, loss_fn):\n",
    "    size = len(dataloader.dataset)\n",
    "    num_batches = len(dataloader)\n",
    "    test_loss, correct = 0, 0\n",
    "\n",
    "    with torch.no_grad():\n",
    "        for X, y in tqdm(dataloader):\n",
    "            pred = model(X)\n",
    "            test_loss += loss_fn(pred, y).item()\n",
    "            correct += (pred.argmax(1) == y).type(torch.float).sum().item()\n",
    "\n",
    "    test_loss /= num_batches\n",
    "    correct /= size\n",
    "    print(f\"Test Error: \\n Accuracy: {(100*correct):>0.1f}%, Avg loss: {test_loss:>8f} \\n\")\n",
    "    return test_loss, correct\n",
    "\n",
    "train_loss_lst = []\n",
    "test_loss_lst = []\n",
    "test_acc_lst = []\n",
    "min_test_loss = math.inf\n",
    "for t in range(epochs):\n",
    "    print(f\"Epoch {t+1}\\n-------------------------------\")\n",
    "    train_loss = train_loop(train_dataloader, model, loss_fn, optimizer)\n",
    "    test_loss, test_acc = test_loop(test_dataloader, model, loss_fn)\n",
    "    train_loss_lst.append(train_loss)\n",
    "    test_loss_lst.append(test_loss)\n",
    "    test_acc_lst.append(test_acc)\n",
    "    print(model.parameters())\n",
    "    if test_loss < min_test_loss:\n",
    "        print(\"save\")\n",
    "        min_test_loss = test_loss\n",
    "        torch.save(model.state_dict(), state_dict_save_path)\n",
    "print(\"Done!\")"
   ]
  },
  {
   "cell_type": "code",
   "execution_count": 52,
   "id": "b8dd36b9",
   "metadata": {},
   "outputs": [
    {
     "data": {
      "image/png": "[encoded data removed]",
      "text/plain": [
       "<Figure size 432x288 with 1 Axes>"
      ]
     },
     "metadata": {
      "needs_background": "light"
     },
     "output_type": "display_data"
    },
    {
     "data": {
      "image/png": "[encoded data removed]",
      "text/plain": [
       "<Figure size 432x288 with 1 Axes>"
      ]
     },
     "metadata": {
      "needs_background": "light"
     },
     "output_type": "display_data"
    }
   ],
   "source": [
    "import matplotlib.pyplot as plt\n",
    "epoch_lst = list(range(1, epochs+1))\n",
    "plt.plot(epoch_lst, train_loss_lst, 'r', label='train loss')\n",
    "plt.plot(epoch_lst, test_loss_lst, 'b', label = 'validation loss')\n",
    "plt.legend()\n",
    "plt.savefig(loss_fig_path)\n",
    "plt.show()\n",
    "\n",
    "plt.plot(epoch_lst, test_acc_lst)\n",
    "plt.savefig(acc_fig_path)\n",
    "plt.show()"
   ]
  },
  {
   "cell_type": "code",
   "execution_count": null,
   "id": "9676d698",
   "metadata": {},
   "outputs": [],
   "source": []
  }
 ],
 "metadata": {
  "kernelspec": {
   "display_name": "Python 3 (ipykernel)",
   "language": "python",
   "name": "python3"
  },
  "language_info": {
   "codemirror_mode": {
    "name": "ipython",
    "version": 3
   },
   "file_extension": ".py",
   "mimetype": "text/x-python",
   "name": "python",
   "nbconvert_exporter": "python",
   "pygments_lexer": "ipython3",
   "version": "3.9.7"
  }
 },
 "nbformat": 4,
 "nbformat_minor": 5
}

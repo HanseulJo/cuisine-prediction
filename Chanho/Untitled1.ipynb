{
 "cells": [
  {
   "cell_type": "code",
   "execution_count": 108,
   "id": "afacff31",
   "metadata": {},
   "outputs": [],
   "source": [
    "import numpy as np\n",
    "import pickle\n",
    "from scipy.special import softmax\n",
    "from collections import defaultdict\n",
    "import h5py\n",
    "from sklearn.preprocessing import normalize"
   ]
  },
  {
   "cell_type": "code",
   "execution_count": 109,
   "id": "f5c63229",
   "metadata": {},
   "outputs": [],
   "source": [
    "# Get Answer\n",
    "h5f_valid = h5py.File('./Container/valid_cpl', 'r')\n",
    "answer = h5f_valid['labels_id'][:].astype(np.int64)\n",
    "h5f_valid.close()\n",
    "    \n",
    "answer_dict = {}\n",
    "for i, ans in enumerate(answer):\n",
    "    answer_dict[i] = ans"
   ]
  },
  {
   "cell_type": "code",
   "execution_count": 122,
   "id": "39647d6b",
   "metadata": {},
   "outputs": [],
   "source": [
    "def ensemble(rec_list, weight=None):\n",
    "    new_recs = {}\n",
    "    query_set = set()\n",
    "    if weight == None:\n",
    "        weight = [1 for i in range(len(rec_list))]\n",
    "    for recs in rec_list:\n",
    "        query_set = query_set.union(set(recs.keys()))\n",
    "    for query in query_set:\n",
    "        en_rec = defaultdict(int)\n",
    "        for recs, w in zip(rec_list, weight):\n",
    "            try:\n",
    "                rec = recs[query]\n",
    "            except:\n",
    "                continue\n",
    "            rec_items, rec_scores = [rec_ for rec_, score in rec], [score for rec_, score in rec]\n",
    "            #rec_scores = softmax(rec_scores)\n",
    "            rec_scores = normalize(np.array(rec_scores)[:,np.newaxis], axis=0).ravel()\n",
    "            for i, rec_item in enumerate(rec_items):\n",
    "                en_rec[rec_item] += rec_scores[i] * w\n",
    "        rec_lst = sorted(list(en_rec.items()), key= lambda x: x[1], reverse=True)[:10]\n",
    "        new_recs[query] = rec_lst\n",
    "    return new_recs"
   ]
  },
  {
   "cell_type": "code",
   "execution_count": 123,
   "id": "293397f5",
   "metadata": {},
   "outputs": [],
   "source": [
    "with open(\"./recs/Graph_rec_cpl_1_4_depth_10.pickle\", 'rb') as f:\n",
    "    recs1 = pickle.load(f)\n",
    "with open(\"./recs/Graph_rec_cpl_1_4_depth_2.pickle\", 'rb') as f:\n",
    "    recs2 = pickle.load(f)"
   ]
  },
  {
   "cell_type": "code",
   "execution_count": 124,
   "id": "06633dc1",
   "metadata": {},
   "outputs": [],
   "source": [
    "ensembled_rec = ensemble([recs1, recs2],[1,1])"
   ]
  },
  {
   "cell_type": "code",
   "execution_count": 119,
   "id": "5bc936fa",
   "metadata": {},
   "outputs": [
    {
     "data": {
      "text/plain": [
       "{'macro': 0.0008647220070362844,\n",
       " 'micro': 0.06549439347604485,\n",
       " 'accuracy': 0.06549439347604485,\n",
       " 'map': 0.10837029553581552,\n",
       " 'recall': 0.2344546381243629,\n",
       " 'recall_rank': 4.008695652173913}"
      ]
     },
     "execution_count": 119,
     "metadata": {},
     "output_type": "execute_result"
    }
   ],
   "source": [
    "get_metric(recs1, answer_dict)"
   ]
  },
  {
   "cell_type": "code",
   "execution_count": 120,
   "id": "1bc09a25",
   "metadata": {},
   "outputs": [
    {
     "data": {
      "text/plain": [
       "{'macro': 0.0010901378683250262,\n",
       " 'micro': 0.07135575942915393,\n",
       " 'accuracy': 0.07135575942915393,\n",
       " 'map': 0.12982516018639906,\n",
       " 'recall': 0.29281345565749234,\n",
       " 'recall_rank': 4.109225413402959}"
      ]
     },
     "execution_count": 120,
     "metadata": {},
     "output_type": "execute_result"
    }
   ],
   "source": [
    "get_metric(recs2, answer_dict)"
   ]
  },
  {
   "cell_type": "code",
   "execution_count": 121,
   "id": "8d26af63",
   "metadata": {},
   "outputs": [
    {
     "data": {
      "text/plain": [
       "{'macro': 0.0010162812569353107,\n",
       " 'micro': 0.06906218144750255,\n",
       " 'accuracy': 0.06906218144750255,\n",
       " 'map': 0.12177260812581944,\n",
       " 'recall': 0.26783893985728846,\n",
       " 'recall_rank': 3.999524262607041}"
      ]
     },
     "execution_count": 121,
     "metadata": {},
     "output_type": "execute_result"
    }
   ],
   "source": [
    "get_metric(ensembled_rec, answer_dict)"
   ]
  },
  {
   "cell_type": "code",
   "execution_count": 125,
   "id": "48ea3540",
   "metadata": {},
   "outputs": [
    {
     "data": {
      "text/plain": [
       "{'macro': 0.0009517727107804095,\n",
       " 'micro': 0.06855249745158003,\n",
       " 'accuracy': 0.06855249745158003,\n",
       " 'map': 0.12113267155316104,\n",
       " 'recall': 0.2837665647298675,\n",
       " 'recall_rank': 4.406376290974405}"
      ]
     },
     "execution_count": 125,
     "metadata": {},
     "output_type": "execute_result"
    }
   ],
   "source": [
    "get_metric(ensembled_rec, answer_dict)"
   ]
  },
  {
   "cell_type": "code",
   "execution_count": null,
   "id": "a28c67b0",
   "metadata": {},
   "outputs": [],
   "source": []
  }
 ],
 "metadata": {
  "kernelspec": {
   "display_name": "Python 3 (ipykernel)",
   "language": "python",
   "name": "python3"
  },
  "language_info": {
   "codemirror_mode": {
    "name": "ipython",
    "version": 3
   },
   "file_extension": ".py",
   "mimetype": "text/x-python",
   "name": "python",
   "nbconvert_exporter": "python",
   "pygments_lexer": "ipython3",
   "version": "3.9.7"
  }
 },
 "nbformat": 4,
 "nbformat_minor": 5
}

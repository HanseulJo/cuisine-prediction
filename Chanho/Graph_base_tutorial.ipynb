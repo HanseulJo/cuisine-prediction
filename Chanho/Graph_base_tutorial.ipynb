{
 "cells": [
  {
   "cell_type": "code",
   "execution_count": 6,
   "id": "80c7ea26",
   "metadata": {},
   "outputs": [],
   "source": [
    "from Graph_base_model import graph_cpl, graph_clf"
   ]
  },
  {
   "cell_type": "code",
   "execution_count": 7,
   "id": "5857146b",
   "metadata": {},
   "outputs": [],
   "source": [
    "graph_cpl(\"./Container/train\", \"./Container/valid_cpl\", \"./valid_recs\", 6, (1,2), recipe_th=2000, ingred_th=700, label_th=10, topk=10)"
   ]
  },
  {
   "cell_type": "code",
   "execution_count": 8,
   "id": "34cbbd9f",
   "metadata": {},
   "outputs": [],
   "source": [
    "graph_cpl(\"./Container/train\", \"./Container/valid_cpl\", \"./valid_recs\", 6, (1,4), recipe_th=2000, ingred_th=700, label_th=10, topk=10)"
   ]
  },
  {
   "cell_type": "code",
   "execution_count": 9,
   "id": "a9a5a23a",
   "metadata": {},
   "outputs": [],
   "source": [
    "graph_clf(\"./Container/train\", \"./Container/valid_clf\", \"./valid_recs\", 6, (1,8), recipe_th=2000, ingred_th=700, label_th=10, topk=5)"
   ]
  },
  {
   "cell_type": "code",
   "execution_count": null,
   "id": "edf39397",
   "metadata": {},
   "outputs": [],
   "source": []
  }
 ],
 "metadata": {
  "kernelspec": {
   "display_name": "Python 3",
   "language": "python",
   "name": "python3"
  },
  "language_info": {
   "codemirror_mode": {
    "name": "ipython",
    "version": 3
   },
   "file_extension": ".py",
   "mimetype": "text/x-python",
   "name": "python",
   "nbconvert_exporter": "python",
   "pygments_lexer": "ipython3",
   "version": "3.9.5"
  }
 },
 "nbformat": 4,
 "nbformat_minor": 5
}

{
 "cells": [
  {
   "cell_type": "code",
   "execution_count": 1,
   "id": "80c7ea26",
   "metadata": {},
   "outputs": [],
   "source": [
    "from Graph_base_model import graph_cpl, graph_clf"
   ]
  },
  {
   "cell_type": "code",
   "execution_count": 2,
   "id": "5857146b",
   "metadata": {
    "scrolled": true
   },
   "outputs": [
    {
     "name": "stderr",
     "output_type": "stream",
     "text": [
      "100%|████████████████████████████████████████████████████████████████████████████████████| 8/8 [06:46<00:00, 50.78s/it]\n",
      "100%|████████████████████████████████████████████████████████████████████████████████████| 8/8 [06:47<00:00, 50.92s/it]\n",
      "100%|████████████████████████████████████████████████████████████████████████████████████| 8/8 [06:43<00:00, 50.40s/it]\n",
      "100%|██████████████████████████████████████████████████████████████████████████████| 248/248 [3:40:53<00:00, 53.44s/it]\n",
      "100%|██████████████████████████████████████████████████████████████████████████████| 248/248 [3:43:11<00:00, 54.00s/it]\n",
      "100%|██████████████████████████████████████████████████████████████████████████████| 248/248 [3:40:45<00:00, 53.41s/it]\n",
      "100%|████████████████████████████████████████████████████████████████████████████████████| 4/4 [03:20<00:00, 50.24s/it]\n",
      "100%|████████████████████████████████████████████████████████████████████████████████████| 4/4 [03:22<00:00, 50.63s/it]\n",
      "100%|████████████████████████████████████████████████████████████████████████████████████| 4/4 [03:20<00:00, 50.18s/it]\n"
     ]
    }
   ],
   "source": [
    "# Valid set\n",
    "graph_cpl(\"./Container/train\", \"./Container/valid_cpl\", \"./valid_recs\", 10, (1,4), recipe_th=2000, ingred_th=700, label_th=10, topk=10)\n",
    "graph_cpl(\"./Container/train\", \"./Container/valid_cpl\", \"./valid_recs\", 10, (1,2), recipe_th=2000, ingred_th=700, label_th=10, topk=10)\n",
    "graph_cpl(\"./Container/train\", \"./Container/valid_cpl\", \"./valid_recs\", 10, (1,8), recipe_th=2000, ingred_th=700, label_th=10, topk=10)\n",
    "# Train set\n",
    "graph_cpl(\"./Container/train\", \"../Hanseul/Container/train_cpl\", \"./train_recs\", 10, (1,4), recipe_th=2000, ingred_th=700, label_th=10, topk=10)\n",
    "graph_cpl(\"./Container/train\", \"../Hanseul/Container/train_cpl\", \"./train_recs\", 10, (1,2), recipe_th=2000, ingred_th=700, label_th=10, topk=10)\n",
    "graph_cpl(\"./Container/train\", \"../Hanseul/Container/train_cpl\", \"./train_recs\", 10, (1,8), recipe_th=2000, ingred_th=700, label_th=10, topk=10)\n",
    "# Test set\n",
    "graph_cpl(\"./Container/train\", \"./Container/test_cpl\", \"./test_recs\", 10, (1,4), recipe_th=2000, ingred_th=700, label_th=10, topk=10)\n",
    "graph_cpl(\"./Container/train\", \"./Container/test_cpl\", \"./test_recs\", 10, (1,2), recipe_th=2000, ingred_th=700, label_th=10, topk=10)\n",
    "graph_cpl(\"./Container/train\", \"./Container/test_cpl\", \"./test_recs\", 10, (1,8), recipe_th=2000, ingred_th=700, label_th=10, topk=10)"
   ]
  },
  {
   "cell_type": "code",
   "execution_count": 3,
   "id": "34cbbd9f",
   "metadata": {},
   "outputs": [
    {
     "name": "stderr",
     "output_type": "stream",
     "text": [
      "100%|████████████████████████████████████████████████████████████████████████████████████| 8/8 [06:09<00:00, 46.21s/it]\n",
      "100%|██████████████████████████████████████████████████████████████████████████████████| 23/23 [18:20<00:00, 47.85s/it]\n",
      "100%|████████████████████████████████████████████████████████████████████████████████████| 4/4 [03:05<00:00, 46.26s/it]\n"
     ]
    }
   ],
   "source": [
    "# Valid set\n",
    "graph_clf(\"./Container/train\", \"./Container/valid_clf\", \"./valid_recs\", 10, (1,8), recipe_th=2000, ingred_th=700, label_th=10, topk=5)\n",
    "# Train set\n",
    "graph_clf(\"./Container/train\", \"../Hanseul/Container/train\", \"./train_recs\", 10, (1,8), recipe_th=2000, ingred_th=700, label_th=10, topk=5)\n",
    "# Test set\n",
    "graph_clf(\"./Container/train\", \"./Container/test_clf\", \"./test_recs\", 10, (1,8), recipe_th=2000, ingred_th=700, label_th=10, topk=5)"
   ]
  },
  {
   "cell_type": "code",
   "execution_count": 9,
   "id": "a9a5a23a",
   "metadata": {},
   "outputs": [],
   "source": []
  },
  {
   "cell_type": "code",
   "execution_count": null,
   "id": "edf39397",
   "metadata": {},
   "outputs": [],
   "source": []
  }
 ],
 "metadata": {
  "kernelspec": {
   "display_name": "Python 3 (ipykernel)",
   "language": "python",
   "name": "python3"
  },
  "language_info": {
   "codemirror_mode": {
    "name": "ipython",
    "version": 3
   },
   "file_extension": ".py",
   "mimetype": "text/x-python",
   "name": "python",
   "nbconvert_exporter": "python",
   "pygments_lexer": "ipython3",
   "version": "3.9.7"
  }
 },
 "nbformat": 4,
 "nbformat_minor": 5
}

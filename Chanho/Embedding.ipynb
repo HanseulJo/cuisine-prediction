{
 "cells": [
  {
   "cell_type": "code",
   "execution_count": 24,
   "id": "ca2dcc52",
   "metadata": {},
   "outputs": [],
   "source": [
    "import numpy as np\n",
    "import pickle\n",
    "import h5py"
   ]
  },
  {
   "cell_type": "code",
   "execution_count": 25,
   "id": "9a53b92e",
   "metadata": {},
   "outputs": [
    {
     "name": "stdout",
     "output_type": "stream",
     "text": [
      "[array([0., 0., 0., ..., 0., 0., 0.]), array([0., 0., 0., ..., 0., 0., 0.]), array([0., 0., 0., ..., 0., 0., 0.]), array([0., 0., 0., ..., 0., 0., 0.]), array([0., 0., 0., ..., 0., 0., 0.])] [6, 4, 7, 7, 10]\n"
     ]
    }
   ],
   "source": [
    "num_ingredients = 6714\n",
    "\n",
    "with open('./container/cuisine_id_dict.pickle', 'rb') as fr:\n",
    "    cuisine_dict = pickle.load(fr)\n",
    "\n",
    "target_file_name = \"../train.csv\"\n",
    "t_file = open(target_file_name, 'r')\n",
    "\n",
    "features = []\n",
    "labels = []\n",
    "\n",
    "lines = t_file.readlines()\n",
    "for line in lines:\n",
    "    feature = np.zeros(num_ingredients)\n",
    "    temp_lst = line.strip().split(\",\")\n",
    "    for ingred in temp_lst[:-1]:\n",
    "        feature[int(ingred)-1] = 1\n",
    "    features.append(feature)\n",
    "    labels.append(cuisine_dict[temp_lst[-1]])\n",
    "\n",
    "t_file.close()    \n",
    "\n",
    "print(features[:5], labels[:5])"
   ]
  },
  {
   "cell_type": "code",
   "execution_count": 26,
   "id": "cdd12e76",
   "metadata": {},
   "outputs": [],
   "source": [
    "one_hot_labels = []\n",
    "for label in labels:\n",
    "    one_hot_label = np.zeros(20)\n",
    "    one_hot_label[label] = 1\n",
    "    one_hot_labels.append(one_hot_label)"
   ]
  },
  {
   "cell_type": "code",
   "execution_count": 27,
   "id": "3741d411",
   "metadata": {},
   "outputs": [],
   "source": [
    "h5f = h5py.File(\"./container/train\", 'w')\n",
    "h5f.create_dataset('features_boolean', data=features, compression=\"gzip\")\n",
    "h5f.create_dataset('labels_int_enc', data=labels, compression=\"gzip\")\n",
    "h5f.create_dataset('labels_one_hot', data=one_hot_labels, compression=\"gzip\")\n",
    "\n",
    "h5f.close()"
   ]
  },
  {
   "cell_type": "code",
   "execution_count": 28,
   "id": "c1609629",
   "metadata": {},
   "outputs": [],
   "source": [
    "h5f = h5py.File(\"./container/valid_cpl\", 'w')"
   ]
  },
  {
   "cell_type": "code",
   "execution_count": 29,
   "id": "8b0781bb",
   "metadata": {},
   "outputs": [],
   "source": [
    "target_file_name = \"../validation_completion_question.csv\"\n",
    "t_file = open(target_file_name, 'r')\n",
    "\n",
    "features = []\n",
    "\n",
    "lines = t_file.readlines()\n",
    "for line in lines:\n",
    "    feature = np.zeros(num_ingredients)\n",
    "    temp_lst = line.strip().split(\",\")\n",
    "    for ingred in temp_lst:\n",
    "        feature[int(ingred)-1] = 1\n",
    "    features.append(feature)\n",
    "\n",
    "h5f.create_dataset('features_cpl', data=features, compression=\"gzip\")\n",
    "    \n",
    "t_file.close()"
   ]
  },
  {
   "cell_type": "code",
   "execution_count": 31,
   "id": "eef8c86f",
   "metadata": {},
   "outputs": [],
   "source": [
    "target_file_name = \"../validation_completion_answer.csv\"\n",
    "t_file = open(target_file_name, 'r')\n",
    "\n",
    "features = []\n",
    "\n",
    "lines = t_file.readlines()\n",
    "for line in lines:\n",
    "    feature = np.zeros(num_ingredients)\n",
    "    temp_lst = line.strip().split(\",\")\n",
    "    for ingred in temp_lst:\n",
    "        feature[int(ingred)-1] = 1\n",
    "    features.append(feature)\n",
    "\n",
    "h5f.create_dataset('features_answer', data=features, compression=\"gzip\")\n",
    "    \n",
    "t_file.close()\n",
    "\n",
    "h5f.close()"
   ]
  },
  {
   "cell_type": "code",
   "execution_count": 32,
   "id": "9934859a",
   "metadata": {},
   "outputs": [],
   "source": [
    "h5f = h5py.File(\"./container/valid_clf\", 'w')"
   ]
  },
  {
   "cell_type": "code",
   "execution_count": 33,
   "id": "3dc4fdf8",
   "metadata": {},
   "outputs": [],
   "source": [
    "target_file_name = \"../validation_classification_question.csv\"\n",
    "t_file = open(target_file_name, 'r')\n",
    "\n",
    "features = []\n",
    "\n",
    "lines = t_file.readlines()\n",
    "for line in lines:\n",
    "    feature = np.zeros(num_ingredients)\n",
    "    temp_lst = line.strip().split(\",\")\n",
    "    for ingred in temp_lst:\n",
    "        feature[int(ingred)-1] = 1\n",
    "    features.append(feature)\n",
    "\n",
    "h5f.create_dataset('features_clf', data=features, compression=\"gzip\")\n",
    "    \n",
    "t_file.close()"
   ]
  },
  {
   "cell_type": "code",
   "execution_count": 35,
   "id": "60761c8f",
   "metadata": {},
   "outputs": [],
   "source": [
    "target_file_name = \"../validation_classification_answer.csv\"\n",
    "t_file = open(target_file_name, 'r')\n",
    "\n",
    "labels = []\n",
    "\n",
    "lines = t_file.readlines()\n",
    "for line in lines:\n",
    "    cuisine = line.strip()\n",
    "    labels.append(cuisine_dict[cuisine])\n",
    "\n",
    "one_hot_labels = []\n",
    "for label in labels:\n",
    "    one_hot_label = np.zeros(20)\n",
    "    one_hot_label[label] = 1\n",
    "    one_hot_labels.append(one_hot_label)\n",
    "    \n",
    "h5f.create_dataset('labels_int_enc', data=labels, compression=\"gzip\")\n",
    "h5f.create_dataset('labels_one_hot', data=one_hot_labels, compression=\"gzip\")\n",
    "    \n",
    "t_file.close()\n",
    "\n",
    "h5f.close()"
   ]
  },
  {
   "cell_type": "code",
   "execution_count": null,
   "id": "dcc74fa7",
   "metadata": {},
   "outputs": [],
   "source": []
  }
 ],
 "metadata": {
  "kernelspec": {
   "display_name": "Python 3",
   "language": "python",
   "name": "python3"
  },
  "language_info": {
   "codemirror_mode": {
    "name": "ipython",
    "version": 3
   },
   "file_extension": ".py",
   "mimetype": "text/x-python",
   "name": "python",
   "nbconvert_exporter": "python",
   "pygments_lexer": "ipython3",
   "version": "3.9.10"
  }
 },
 "nbformat": 4,
 "nbformat_minor": 5
}

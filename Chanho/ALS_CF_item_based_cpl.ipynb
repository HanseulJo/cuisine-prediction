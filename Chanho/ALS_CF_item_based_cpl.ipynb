{
 "cells": [
  {
   "cell_type": "code",
   "execution_count": 1,
   "id": "19f5a91c",
   "metadata": {},
   "outputs": [],
   "source": [
    "import numpy as np\n",
    "import pickle\n",
    "import h5py\n",
    "import matplotlib.pyplot as plt\n",
    "from evaluation import get_metric\n",
    "from implicit.als import AlternatingLeastSquares\n",
    "from scipy.sparse import csr_matrix\n",
    "from sklearn.metrics import f1_score, accuracy_score\n",
    "from sklearn.metrics import pairwise_distances"
   ]
  },
  {
   "cell_type": "code",
   "execution_count": 2,
   "id": "bd3d86f5",
   "metadata": {},
   "outputs": [],
   "source": [
    "ingred_topk = 10"
   ]
  },
  {
   "cell_type": "code",
   "execution_count": 3,
   "id": "a610e95d",
   "metadata": {},
   "outputs": [],
   "source": [
    "h5f_train = h5py.File('./Container/train', 'r')\n",
    "train_features = h5f_train['features_boolean'][:]\n",
    "train_labels = h5f_train['labels_one_hot'][:]\n",
    "h5f_train.close()"
   ]
  },
  {
   "cell_type": "code",
   "execution_count": 4,
   "id": "d6a98d44",
   "metadata": {},
   "outputs": [],
   "source": [
    "h5f_valid = h5py.File('./Container/valid_cpl', 'r')\n",
    "valid_features = h5f_valid['features_boolean'][:]\n",
    "answer = h5f_valid['labels_id'][:].astype(np.int64)\n",
    "h5f_valid.close()\n",
    "\n",
    "answer_dict = {}\n",
    "for i, ans in enumerate(answer):\n",
    "    answer_dict[i] = ans"
   ]
  },
  {
   "cell_type": "code",
   "execution_count": 5,
   "id": "d5c7ef65",
   "metadata": {},
   "outputs": [],
   "source": [
    "features_csr = csr_matrix(train_features)\n",
    "features_csr_T = csr_matrix(features_csr.T)"
   ]
  },
  {
   "cell_type": "code",
   "execution_count": 6,
   "id": "295edb64",
   "metadata": {},
   "outputs": [
    {
     "name": "stderr",
     "output_type": "stream",
     "text": [
      "C:\\Users\\kami.DESKTOP-5P4EH18\\anaconda3\\envs\\pytorch\\lib\\site-packages\\implicit\\utils.py:31: UserWarning: Intel MKL BLAS detected. Its highly recommend to set the environment variable 'export MKL_NUM_THREADS=1' to disable its internal multithreading\n",
      "  warnings.warn(\n"
     ]
    },
    {
     "data": {
      "application/vnd.jupyter.widget-view+json": {
       "model_id": "92ed3a6115f04351ae50e723b19bbdb9",
       "version_major": 2,
       "version_minor": 0
      },
      "text/plain": [
       "  0%|          | 0/15 [00:00<?, ?it/s]"
      ]
     },
     "metadata": {},
     "output_type": "display_data"
    },
    {
     "data": {
      "application/vnd.jupyter.widget-view+json": {
       "model_id": "434ea41e5dd64cdebc5ab04a8e4ef39b",
       "version_major": 2,
       "version_minor": 0
      },
      "text/plain": [
       "  0%|          | 0/15 [00:00<?, ?it/s]"
      ]
     },
     "metadata": {},
     "output_type": "display_data"
    },
    {
     "data": {
      "application/vnd.jupyter.widget-view+json": {
       "model_id": "4fe055689fec4ae784daf9da50da3630",
       "version_major": 2,
       "version_minor": 0
      },
      "text/plain": [
       "  0%|          | 0/15 [00:00<?, ?it/s]"
      ]
     },
     "metadata": {},
     "output_type": "display_data"
    },
    {
     "data": {
      "application/vnd.jupyter.widget-view+json": {
       "model_id": "df609333157c4391bad1ab4352c8223f",
       "version_major": 2,
       "version_minor": 0
      },
      "text/plain": [
       "  0%|          | 0/15 [00:00<?, ?it/s]"
      ]
     },
     "metadata": {},
     "output_type": "display_data"
    },
    {
     "data": {
      "application/vnd.jupyter.widget-view+json": {
       "model_id": "bc0cc06fd4b64379b236b05cf3b7ed12",
       "version_major": 2,
       "version_minor": 0
      },
      "text/plain": [
       "  0%|          | 0/15 [00:00<?, ?it/s]"
      ]
     },
     "metadata": {},
     "output_type": "display_data"
    },
    {
     "data": {
      "application/vnd.jupyter.widget-view+json": {
       "model_id": "243db3a6cbb044e6b0e60d95a2c22d09",
       "version_major": 2,
       "version_minor": 0
      },
      "text/plain": [
       "  0%|          | 0/15 [00:00<?, ?it/s]"
      ]
     },
     "metadata": {},
     "output_type": "display_data"
    },
    {
     "data": {
      "application/vnd.jupyter.widget-view+json": {
       "model_id": "07d0a12175b04bd385f420cd7dca5e44",
       "version_major": 2,
       "version_minor": 0
      },
      "text/plain": [
       "  0%|          | 0/15 [00:00<?, ?it/s]"
      ]
     },
     "metadata": {},
     "output_type": "display_data"
    },
    {
     "data": {
      "application/vnd.jupyter.widget-view+json": {
       "model_id": "d4ddfc43e0b54feda74eeebaa325acf9",
       "version_major": 2,
       "version_minor": 0
      },
      "text/plain": [
       "  0%|          | 0/15 [00:00<?, ?it/s]"
      ]
     },
     "metadata": {},
     "output_type": "display_data"
    },
    {
     "data": {
      "application/vnd.jupyter.widget-view+json": {
       "model_id": "aa2848237b764f51a5b08de3f43c205b",
       "version_major": 2,
       "version_minor": 0
      },
      "text/plain": [
       "  0%|          | 0/15 [00:00<?, ?it/s]"
      ]
     },
     "metadata": {},
     "output_type": "display_data"
    },
    {
     "data": {
      "application/vnd.jupyter.widget-view+json": {
       "model_id": "e62589af8cc94985ade635d1ca3c7dd9",
       "version_major": 2,
       "version_minor": 0
      },
      "text/plain": [
       "  0%|          | 0/15 [00:00<?, ?it/s]"
      ]
     },
     "metadata": {},
     "output_type": "display_data"
    }
   ],
   "source": [
    "macro_f1_lst = []\n",
    "micro_f1_lst = []\n",
    "acc_lst = []\n",
    "MAP_lst = []\n",
    "recall10_lst = []\n",
    "recall_rank_lst = []\n",
    "\n",
    "max_dim = 10\n",
    "\n",
    "for i in range(max_dim):\n",
    "    model = AlternatingLeastSquares(factors=2**(i+1), regularization=0.01, calculate_training_loss=True)\n",
    "    model.fit(features_csr)\n",
    "    \n",
    "    sim_matrix = 1 - pairwise_distances(model.item_factors, metric=\"cosine\") - np.eye(len(model.item_factors))\n",
    "    score_matrix = valid_features @ sim_matrix\n",
    "    rec_indices = np.argpartition(score_matrix, -ingred_topk)[:,-ingred_topk:]\n",
    "    \n",
    "    ingred_recs = {}\n",
    "    for query, ingred_rec_idx in enumerate(rec_indices):\n",
    "        ingred_recs[query] = []\n",
    "        for idx in ingred_rec_idx:\n",
    "            # ingred index를 1부터 시작하도록 함.\n",
    "            ingred_recs[query].append((idx + 1, score_matrix[query, idx]))\n",
    "        ingred_recs[query].sort(key=lambda x : x[1], reverse=True)\n",
    "        \n",
    "    with open(\"./recs/CF_rec_cpl_dim_{}.pickle\".format(2**i), 'wb') as f:\n",
    "        pickle.dump(ingred_recs, f)\n",
    "        \n",
    "    metric_dict = get_metric(ingred_recs, answer_dict)\n",
    "    macro_f1_lst.append(metric_dict['macro'])\n",
    "    micro_f1_lst.append(metric_dict['micro'])\n",
    "    acc_lst.append(metric_dict['accuracy'])\n",
    "    MAP_lst.append(metric_dict['map'])\n",
    "    recall10_lst.append(metric_dict['recall'])\n",
    "    recall_rank_lst.append(metric_dict['recall_rank'])"
   ]
  },
  {
   "cell_type": "code",
   "execution_count": 16,
   "id": "97d80c3f",
   "metadata": {},
   "outputs": [
    {
     "data": {
      "image/png": "[encoded data removed]",
      "text/plain": [
       "<Figure size 576x360 with 1 Axes>"
      ]
     },
     "metadata": {
      "needs_background": "light"
     },
     "output_type": "display_data"
    }
   ],
   "source": [
    "dim_lst = [2**(i+1) for i in range(max_dim)]\n",
    "\n",
    "plt.figure(figsize=(8,5))\n",
    "plt.plot(dim_lst, macro_f1_lst, 'o-', label='macro-f1')\n",
    "plt.plot(dim_lst, micro_f1_lst, 'o-', label='micro-f1')\n",
    "plt.plot(dim_lst, acc_lst, 'o-', label='acc')\n",
    "# plt.plot(dim_lst, MAP_lst, 'o-', label='MAP')\n",
    "plt.plot(dim_lst, recall10_lst, 'o-', label='recall@10')\n",
    "plt.title(\"CF Model Completion Score\")\n",
    "plt.xscale('log', base=2)\n",
    "plt.xlabel('Dimension of Latent vector')\n",
    "plt.ylabel('Metric value')\n",
    "plt.legend()\n",
    "plt.savefig('./data_analysis/CF_cpl_scores.png', dpi=100)\n",
    "plt.show()"
   ]
  },
  {
   "cell_type": "code",
   "execution_count": 17,
   "id": "00e6d904",
   "metadata": {},
   "outputs": [
    {
     "data": {
      "text/plain": [
       "[0.0,\n",
       " 0.0012742099898063201,\n",
       " 0.003950050968399592,\n",
       " 0.004969418960244648,\n",
       " 0.009046890927624873,\n",
       " 0.013379204892966361,\n",
       " 0.01083078491335372,\n",
       " 0.009683995922528032,\n",
       " 0.005861365953109072,\n",
       " 0.001656472986748216]"
      ]
     },
     "execution_count": 17,
     "metadata": {},
     "output_type": "execute_result"
    }
   ],
   "source": [
    "acc_lst"
   ]
  },
  {
   "cell_type": "code",
   "execution_count": 18,
   "id": "6e0621e8",
   "metadata": {},
   "outputs": [
    {
     "data": {
      "text/plain": [
       "[0.0028032619775739042,\n",
       " 0.012487257900101937,\n",
       " 0.030326197757390417,\n",
       " 0.04485219164118247,\n",
       " 0.06944444444444445,\n",
       " 0.07084607543323139,\n",
       " 0.047400611620795105,\n",
       " 0.034785932721712536,\n",
       " 0.01643730886850153,\n",
       " 0.005479102956167176]"
      ]
     },
     "execution_count": 18,
     "metadata": {},
     "output_type": "execute_result"
    }
   ],
   "source": [
    "recall10_lst"
   ]
  },
  {
   "cell_type": "code",
   "execution_count": null,
   "id": "04a45577",
   "metadata": {},
   "outputs": [],
   "source": []
  }
 ],
 "metadata": {
  "kernelspec": {
   "display_name": "Python 3 (ipykernel)",
   "language": "python",
   "name": "python3"
  },
  "language_info": {
   "codemirror_mode": {
    "name": "ipython",
    "version": 3
   },
   "file_extension": ".py",
   "mimetype": "text/x-python",
   "name": "python",
   "nbconvert_exporter": "python",
   "pygments_lexer": "ipython3",
   "version": "3.9.7"
  }
 },
 "nbformat": 4,
 "nbformat_minor": 5
}

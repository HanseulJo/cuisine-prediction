{
 "cells": [
  {
   "cell_type": "code",
   "execution_count": 72,
   "id": "5354bc11",
   "metadata": {},
   "outputs": [],
   "source": [
    "import torch\n",
    "import h5py\n",
    "import numpy as np\n",
    "from torch import nn\n",
    "from torchvision import datasets\n",
    "from torchvision.transforms import ToTensor, Lambda\n",
    "from torch.utils.data import Dataset\n",
    "from torch.utils.data import DataLoader\n",
    "import pickle\n",
    "from sklearn.preprocessing import normalize\n",
    "from scipy.sparse import lil_matrix, csr_matrix, hstack\n",
    "from tqdm import tqdm\n",
    "import math\n",
    "import os\n",
    "import csv"
   ]
  },
  {
   "cell_type": "code",
   "execution_count": 73,
   "id": "3cf48b4d",
   "metadata": {},
   "outputs": [],
   "source": [
    "# 변수 선언 block\n",
    "rec_file_list = [\"./test_recs/CF_rec_clf_dim_64.pickle\",\n",
    "                \"./test_recs/Graph_rec_clf_1_8_depth_3.pickle\",\n",
    "                \"./test_recs/Graph_rec_clf_1_8_depth_1.pickle\",]\n",
    "state_dict_path = \"./ensemble_model/ensemble_model_best_clf.pt\"\n",
    "id_cuisine_dict_path = os.path.join(\"./container\", 'id_cuisine_dict.pickle')\n",
    "save_path = './ensemble_model/test_clf.csv'"
   ]
  },
  {
   "cell_type": "code",
   "execution_count": 74,
   "id": "34e4c019",
   "metadata": {},
   "outputs": [],
   "source": [
    "class RecDataset(Dataset):\n",
    "    def __init__(self, recs_list, query_num, item_num, transform=None, target_transform=None):\n",
    "        # rec_matrix = [query num, model_num, item_num]\n",
    "        self.rec_matrix = []\n",
    "        for i in range(query_num):\n",
    "            self.rec_matrix.append(lil_matrix((len(rec_file_list), item_num)))\n",
    "        for i, recs in enumerate(recs_list):\n",
    "            for query in tqdm(recs.keys()):\n",
    "                rec = recs[query]\n",
    "                rec_items, rec_scores = [rec_ for rec_, score in rec], [score for rec_, score in rec]\n",
    "                rec_scores = normalize(np.array(rec_scores)[:,np.newaxis], axis=0).ravel()\n",
    "                for item, score in zip(rec_items, rec_scores):\n",
    "                    self.rec_matrix[query][i, item] = score\n",
    "        self.transform = transform\n",
    "        self.target_transform = target_transform\n",
    "        self.device = \"cuda\" if torch.cuda.is_available() else \"cpu\"\n",
    "\n",
    "    def __len__(self):\n",
    "        return len(self.rec_matrix)\n",
    "\n",
    "    def __getitem__(self, idx):\n",
    "        rec_matrix = self.rec_matrix[idx].toarray()\n",
    "        if self.transform:\n",
    "            rec_matrix = self.transform(rec_matrix).to(self.device)\n",
    "        return rec_matrix.to(self.device)"
   ]
  },
  {
   "cell_type": "code",
   "execution_count": 75,
   "id": "24910a28",
   "metadata": {},
   "outputs": [],
   "source": [
    "class Network(nn.Module):\n",
    "    def __init__(self, model_len, k=10):\n",
    "        super(Network, self).__init__()\n",
    "        self.w1 = torch.nn.Parameter(torch.randn(k, model_len))\n",
    "        self.w2 = torch.nn.Parameter(torch.randn(1, k))\n",
    "        \n",
    "    def forward(self, x):\n",
    "        #import ipdb; ipdb.set_trace()\n",
    "        x = x.float()\n",
    "        x = torch.einsum('nm, bmp -> bnp', self.w1, x)\n",
    "        x = torch.einsum('nm, bmp -> bnp', self.w2, x).squeeze(1)\n",
    "        return x"
   ]
  },
  {
   "cell_type": "code",
   "execution_count": 76,
   "id": "fc923406",
   "metadata": {},
   "outputs": [
    {
     "name": "stderr",
     "output_type": "stream",
     "text": [
      "100%|███████████████████████████████████████████████████████████████████████████| 3924/3924 [00:00<00:00, 14164.59it/s]\n",
      "100%|███████████████████████████████████████████████████████████████████████████| 3924/3924 [00:00<00:00, 13768.47it/s]\n",
      "100%|███████████████████████████████████████████████████████████████████████████| 3924/3924 [00:00<00:00, 13916.33it/s]\n"
     ]
    }
   ],
   "source": [
    "recs_list = []\n",
    "for rec_file in rec_file_list:\n",
    "    with open(rec_file, 'rb') as f:\n",
    "        recs = pickle.load(f)\n",
    "        recs_list.append(recs)\n",
    "\n",
    "query_num = len(recs_list[0])\n",
    "item_num = 20\n",
    "\n",
    "test_data = RecDataset(recs_list, query_num, item_num, transform=torch.Tensor, target_transform=torch.tensor)\n",
    "test_dataloader = DataLoader(test_data, batch_size=64, shuffle=False)"
   ]
  },
  {
   "cell_type": "code",
   "execution_count": 77,
   "id": "55e544ae",
   "metadata": {},
   "outputs": [
    {
     "name": "stderr",
     "output_type": "stream",
     "text": [
      "100%|█████████████████████████████████████████████████████████████████████████████████| 62/62 [00:00<00:00, 174.16it/s]\n"
     ]
    }
   ],
   "source": [
    "device = \"cuda\" if torch.cuda.is_available() else \"cpu\"\n",
    "model = Network(len(rec_file_list), k=10).to(device)\n",
    "model_state_dict = torch.load(state_dict_path, map_location=device)\n",
    "model.load_state_dict(model_state_dict)\n",
    "\n",
    "\n",
    "def inference(dataloader, model):\n",
    "    rec_lst = []\n",
    "    with torch.no_grad():\n",
    "        for batch, X in tqdm(enumerate(dataloader),total=len(dataloader)):\n",
    "            pred = model(X)\n",
    "            pred = pred.cpu().numpy()\n",
    "            top_recommends = list(np.argmax(pred, axis=1))\n",
    "            rec_lst.extend(top_recommends)\n",
    "    return rec_lst\n",
    "            \n",
    "\n",
    "infer = inference(test_dataloader, model)"
   ]
  },
  {
   "cell_type": "code",
   "execution_count": 78,
   "id": "631f929a",
   "metadata": {},
   "outputs": [],
   "source": [
    "with open(id_cuisine_dict_path, 'rb') as fr:\n",
    "    cuisine_dict = pickle.load(fr)\n",
    "infer_name = [[cuisine_dict[i]] for i in infer]\n",
    "with open(save_path, 'w+', newline ='') as f:\n",
    "    write = csv.writer(f)\n",
    "    write.writerows(infer_name)"
   ]
  },
  {
   "cell_type": "code",
   "execution_count": 58,
   "id": "9a765ae3",
   "metadata": {},
   "outputs": [],
   "source": []
  },
  {
   "cell_type": "code",
   "execution_count": 59,
   "id": "d49dcca1",
   "metadata": {},
   "outputs": [],
   "source": []
  },
  {
   "cell_type": "code",
   "execution_count": null,
   "id": "e887d7bb",
   "metadata": {},
   "outputs": [],
   "source": []
  }
 ],
 "metadata": {
  "kernelspec": {
   "display_name": "Python 3 (ipykernel)",
   "language": "python",
   "name": "python3"
  },
  "language_info": {
   "codemirror_mode": {
    "name": "ipython",
    "version": 3
   },
   "file_extension": ".py",
   "mimetype": "text/x-python",
   "name": "python",
   "nbconvert_exporter": "python",
   "pygments_lexer": "ipython3",
   "version": "3.9.7"
  }
 },
 "nbformat": 4,
 "nbformat_minor": 5
}

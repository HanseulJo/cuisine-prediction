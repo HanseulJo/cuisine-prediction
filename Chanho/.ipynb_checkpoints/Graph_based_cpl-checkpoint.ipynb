{
 "cells": [
  {
   "cell_type": "code",
   "execution_count": 1,
   "id": "3bb1e387",
   "metadata": {},
   "outputs": [],
   "source": [
    "import numpy as np\n",
    "import pickle\n",
    "import h5py\n",
    "from implicit.als import AlternatingLeastSquares\n",
    "from scipy.sparse import csr_matrix\n",
    "from sklearn.metrics import f1_score, accuracy_score\n",
    "from sklearn.preprocessing import normalize"
   ]
  },
  {
   "cell_type": "code",
   "execution_count": 2,
   "id": "ee3c1997",
   "metadata": {},
   "outputs": [],
   "source": [
    "h5f_train = h5py.File('./Container/train', 'r')\n",
    "train_features = h5f_train['features_boolean'][:]\n",
    "train_labels = h5f_train['labels_one_hot'][:]\n",
    "h5f_train.close()"
   ]
  },
  {
   "cell_type": "code",
   "execution_count": 3,
   "id": "3467243b",
   "metadata": {},
   "outputs": [],
   "source": [
    "h5f_valid = h5py.File('./Container/valid_cpl', 'r')\n",
    "valid_features = h5f_valid['features_cpl'][:]\n",
    "valid_answer = h5f_valid['features_answer'][:]\n",
    "answer = np.where(valid_answer - valid_features == 1)[1]\n",
    "h5f_valid.close()"
   ]
  },
  {
   "cell_type": "code",
   "execution_count": 4,
   "id": "ec6aa43d",
   "metadata": {},
   "outputs": [],
   "source": [
    "recipe_num, ingred_num = train_features.shape\n",
    "_, label_num = train_labels.shape\n",
    "\n",
    "adj_matrix = np.hstack([np.zeros((recipe_num, recipe_num)), train_features*0.7, train_labels*0.1])\n",
    "temp_matrix = np.hstack([train_features.T*0.7, np.zeros((ingred_num, ingred_num)), np.zeros((ingred_num, label_num))])\n",
    "adj_matrix = np.vstack([adj_matrix, temp_matrix])\n",
    "temp_matrix = np.hstack([train_labels.T*0.1, np.zeros((label_num, ingred_num)), np.zeros((label_num, label_num))])\n",
    "adj_matrix = np.vstack([adj_matrix, temp_matrix])"
   ]
  },
  {
   "cell_type": "code",
   "execution_count": 5,
   "id": "ec2b1379",
   "metadata": {},
   "outputs": [],
   "source": [
    "adj_matrix = csr_matrix(adj_matrix)"
   ]
  },
  {
   "cell_type": "code",
   "execution_count": 6,
   "id": "5856dc25",
   "metadata": {},
   "outputs": [],
   "source": [
    "query_num, _ = valid_features.shape\n",
    "score_matrix = csr_matrix(np.hstack([np.zeros((query_num, recipe_num)), valid_features, np.zeros((query_num, label_num))]))\n",
    "src_matrix = score_matrix.copy()\n",
    "#score_matrix = normalize(score_matrix, axis=0, norm='l1')"
   ]
  },
  {
   "cell_type": "code",
   "execution_count": 7,
   "id": "7999a07f",
   "metadata": {},
   "outputs": [],
   "source": [
    "exist_idx = score_matrix > 0"
   ]
  },
  {
   "cell_type": "code",
   "execution_count": 8,
   "id": "2b8e33a3",
   "metadata": {},
   "outputs": [
    {
     "name": "stdout",
     "output_type": "stream",
     "text": [
      "depth:0\tmacro_f1: 0.0\tmicro_f1: 0.0\tacc: 0.0\tMAP: 4.247366632687733e-05\trecall: 0.00012742099898063202\trecall_rank: 2.0\n",
      "depth:1\tmacro_f1: 0.00195769104662024\tmicro_f1: 0.015672782874617736\tacc: 0.015672782874617736\tMAP: 0.1297780852062201\trecall: 0.29268603465851173\trecall_rank: 3.108837614279495\n",
      "depth:2\tmacro_f1: 0.0019603646008462725\tmicro_f1: 0.01580020387359837\tacc: 0.01580020387359837\tMAP: 0.12977014667572806\trecall: 0.29268603465851173\trecall_rank: 3.110143665650849\n",
      "depth:3\tmacro_f1: 0.0005087470266020255\tmicro_f1: 0.008792048929663608\tacc: 0.008792048929663608\tMAP: 0.11363364237981984\trecall: 0.24821610601427116\trecall_rank: 2.9291581108829567\n",
      "depth:4\tmacro_f1: 0.0005424626170633158\tmicro_f1: 0.009174311926605505\tacc: 0.009174311926605505\tMAP: 0.11366357620180259\trecall: 0.2483435270132518\trecall_rank: 2.9317598768599282\n",
      "depth:5\tmacro_f1: 0.0005046871409997827\tmicro_f1: 0.010066258919469929\tacc: 0.010066258919469929\tMAP: 0.10680524205944733\trecall: 0.23037716615698267\trecall_rank: 2.8882743362831858\n",
      "depth:6\tmacro_f1: 0.00048350806271865975\tmicro_f1: 0.009811416921508664\tacc: 0.009811416921508664\tMAP: 0.1067784937624391\trecall: 0.23024974515800203\trecall_rank: 2.8854454897620365\n",
      "depth:7\tmacro_f1: 0.00034865084548797075\tmicro_f1: 0.009301732925586137\tacc: 0.009301732925586137\tMAP: 0.10245775892756045\trecall: 0.21839959225280325\trecall_rank: 2.836056009334889\n",
      "depth:8\tmacro_f1: 0.00036243201504582005\tmicro_f1: 0.0095565749235474\tacc: 0.0095565749235474\tMAP: 0.10248501286345353\trecall: 0.2185270132517839\trecall_rank: 2.840816326530612\n",
      "depth:9\tmacro_f1: 0.0003098139934690423\tmicro_f1: 0.008537206931702344\tacc: 0.008537206931702344\tMAP: 0.10030444517256472\trecall: 0.21088175331294598\trecall_rank: 2.777643504531722\n"
     ]
    }
   ],
   "source": [
    "depth = 10\n",
    "recipe_threshold = 2000\n",
    "ingred_threshold = 700\n",
    "label_threshold = 10\n",
    "\n",
    "import time\n",
    "from sklearn.preprocessing import normalize\n",
    "\n",
    "def topk_values(array, topk):\n",
    "    temp_mat = np.zeros(len(array))\n",
    "    topk = min(topk, np.count_nonzero(array > 0))\n",
    "    temp_mat[np.argpartition(array, -topk)[-topk:]] = 1\n",
    "    return temp_mat\n",
    "\n",
    "def topk_per_row(matrix, topk):\n",
    "    temp_mat = np.apply_along_axis(topk_values, 1, matrix, topk)\n",
    "    return temp_mat\n",
    "\n",
    "ingred_topk = 10\n",
    "\n",
    "macro_f1_lst = []\n",
    "micro_f1_lst = []\n",
    "acc_lst = []\n",
    "MAP_lst = []\n",
    "recall10_lst = []\n",
    "recall_rank_lst = []\n",
    "\n",
    "for k in range(depth):\n",
    "    # start node의 누적 점수 * 인접행렬 -> next node에 더해질 값\n",
    "    src_matrix = np.multiply(score_matrix.toarray(), src_matrix.toarray()) @ adj_matrix\n",
    "    score_matrix = csr_matrix(score_matrix + src_matrix)\n",
    "    score_matrix = normalize(score_matrix, axis=1, norm='l1')\n",
    "    # next_node의 score matrix\n",
    "    src_matrix = score_matrix.toarray() * (src_matrix>0)\n",
    "    src_recipe_matrix = topk_per_row(src_matrix[:, :recipe_num], recipe_threshold)\n",
    "    src_ingred_matrix = topk_per_row(src_matrix[:, recipe_num:recipe_num+ingred_num], ingred_threshold)\n",
    "    src_label_matrix = topk_per_row(src_matrix[:, recipe_num+ingred_num:], label_threshold)\n",
    "    src_matrix = csr_matrix(np.hstack([src_recipe_matrix, src_ingred_matrix, src_label_matrix]))\n",
    "    \n",
    "    score_matrix_ = score_matrix.copy()\n",
    "    score_matrix_[exist_idx] = 0\n",
    "    \n",
    "    ingred_recs = {}\n",
    "    ingred_rec_idx_lst = np.argpartition(score_matrix_[:, recipe_num:recipe_num+ingred_num].toarray(), -ingred_topk)[:,-ingred_topk:]\n",
    "    top_recommends = ingred_rec_idx_lst[:,0].flatten()\n",
    "        \n",
    "    MAP = 0\n",
    "    recall10 = 0\n",
    "    recall_rank = 0\n",
    "\n",
    "    for query, ingred_rec_idx in enumerate(ingred_rec_idx_lst):\n",
    "        ingred_recs[query] = []\n",
    "\n",
    "        for idx in ingred_rec_idx:\n",
    "            ingred_recs[query].append((idx, score_matrix_[query, recipe_num + idx]))\n",
    "\n",
    "        ingred_recs[query].sort(key=lambda x : x[1], reverse=True)\n",
    "\n",
    "        for j, rec in enumerate(ingred_recs[query]):\n",
    "            idx, _ = rec\n",
    "            if answer[query] == idx:\n",
    "                MAP += 1/(j+1)\n",
    "                recall10 += 1\n",
    "                recall_rank += j\n",
    "\n",
    "    MAP = MAP / len(ingred_rec_idx_lst)\n",
    "    if recall10 != 0:\n",
    "        recall_rank_avg = recall_rank / recall10\n",
    "    else:\n",
    "        recall_rank_avg = 0\n",
    "    recall10 = recall10/len(ingred_rec_idx_lst)\n",
    "\n",
    "    MAP_lst.append(MAP)\n",
    "    recall10_lst.append(recall10)\n",
    "    recall_rank_lst.append(recall_rank_avg)\n",
    "\n",
    "    macro_f1 = f1_score(answer, top_recommends, average='macro')\n",
    "    micro_f1 = f1_score(answer, top_recommends, average='micro')\n",
    "    accuracy = accuracy_score(answer, top_recommends)\n",
    "    macro_f1_lst.append(macro_f1)\n",
    "    micro_f1_lst.append(micro_f1)\n",
    "    acc_lst.append(accuracy)\n",
    "    if k % 1 == 0:\n",
    "        print(\"depth:{}\\tmacro_f1: {}\\tmicro_f1: {}\\tacc: {}\\tMAP: {}\\trecall: {}\\trecall_rank: {}\".format(k, macro_f1, micro_f1, accuracy, MAP, recall10, recall_rank_avg))\n",
    "        with open(\"./recs/Graph_rec_cpl_depth_{}.pickle\".format(k), 'wb') as f:\n",
    "            pickle.dump(ingred_recs, f)\n",
    "    "
   ]
  },
  {
   "cell_type": "code",
   "execution_count": 10,
   "id": "cff50a35",
   "metadata": {},
   "outputs": [
    {
     "data": {
      "image/png": "[encoded data removed]",
      "text/plain": [
       "<Figure size 720x504 with 1 Axes>"
      ]
     },
     "metadata": {
      "needs_background": "light"
     },
     "output_type": "display_data"
    }
   ],
   "source": [
    "import matplotlib.pyplot as plt\n",
    "\n",
    "depth_lst = [i for i in range(1, depth+1)]\n",
    "\n",
    "plt.figure(figsize=(10,7))\n",
    "plt.plot(depth_lst, macro_f1_lst, 'o-', label='macro-f1')\n",
    "plt.plot(depth_lst, micro_f1_lst, 'o-', label='micro-f1')\n",
    "plt.plot(depth_lst, acc_lst, 'o-', label='acc')\n",
    "plt.plot(depth_lst, MAP_lst, 'o-', label='MAP')\n",
    "plt.plot(depth_lst, recall10_lst, 'o-', label='recall@10')\n",
    "plt.title(\"graph base reco score\")\n",
    "plt.legend()\n",
    "plt.savefig('./data_analysis/graph_scores.png', dpi=100)\n",
    "plt.show()"
   ]
  },
  {
   "cell_type": "code",
   "execution_count": 11,
   "id": "367dc53a",
   "metadata": {},
   "outputs": [
    {
     "data": {
      "text/plain": [
       "Text(0.5, 1.0, 'graph base reco score')"
      ]
     },
     "execution_count": 11,
     "metadata": {},
     "output_type": "execute_result"
    },
    {
     "data": {
      "image/png": "[encoded data removed]",
      "text/plain": [
       "<Figure size 720x504 with 1 Axes>"
      ]
     },
     "metadata": {
      "needs_background": "light"
     },
     "output_type": "display_data"
    }
   ],
   "source": [
    "plt.figure(figsize=(10,7))\n",
    "plt.plot(depth_lst, recall_rank_lst, 'o-', label='recall rank')\n",
    "plt.title(\"graph base reco score\")"
   ]
  },
  {
   "cell_type": "code",
   "execution_count": 12,
   "id": "8dff3723",
   "metadata": {},
   "outputs": [
    {
     "data": {
      "text/plain": [
       "[0.0,\n",
       " 0.015672782874617736,\n",
       " 0.01580020387359837,\n",
       " 0.008792048929663608,\n",
       " 0.009174311926605505,\n",
       " 0.010066258919469929,\n",
       " 0.009811416921508664,\n",
       " 0.009301732925586137,\n",
       " 0.0095565749235474,\n",
       " 0.008537206931702344]"
      ]
     },
     "execution_count": 12,
     "metadata": {},
     "output_type": "execute_result"
    }
   ],
   "source": [
    "acc_lst"
   ]
  },
  {
   "cell_type": "code",
   "execution_count": null,
   "id": "ee45144f",
   "metadata": {},
   "outputs": [],
   "source": []
  }
 ],
 "metadata": {
  "kernelspec": {
   "display_name": "Python 3 (ipykernel)",
   "language": "python",
   "name": "python3"
  },
  "language_info": {
   "codemirror_mode": {
    "name": "ipython",
    "version": 3
   },
   "file_extension": ".py",
   "mimetype": "text/x-python",
   "name": "python",
   "nbconvert_exporter": "python",
   "pygments_lexer": "ipython3",
   "version": "3.9.7"
  }
 },
 "nbformat": 4,
 "nbformat_minor": 5
}

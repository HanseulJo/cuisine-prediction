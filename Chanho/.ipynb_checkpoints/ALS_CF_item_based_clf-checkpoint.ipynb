{
 "cells": [
  {
   "cell_type": "code",
   "execution_count": 38,
   "id": "19f5a91c",
   "metadata": {},
   "outputs": [],
   "source": [
    "import numpy as np\n",
    "import pickle\n",
    "import h5py\n",
    "import matplotlib.pyplot as plt\n",
    "from evaluation import get_metric\n",
    "from implicit.als import AlternatingLeastSquares\n",
    "from scipy.sparse import csr_matrix\n",
    "from sklearn.metrics import f1_score, accuracy_score\n",
    "from sklearn.metrics import pairwise_distances"
   ]
  },
  {
   "cell_type": "code",
   "execution_count": 39,
   "id": "bd3d86f5",
   "metadata": {},
   "outputs": [],
   "source": [
    "cuisine_topk = 5"
   ]
  },
  {
   "cell_type": "code",
   "execution_count": 40,
   "id": "a610e95d",
   "metadata": {},
   "outputs": [],
   "source": [
    "h5f_train = h5py.File('./Container/train', 'r')\n",
    "train_features = h5f_train['features_boolean'][:]\n",
    "train_labels = h5f_train['labels_one_hot'][:]\n",
    "h5f_train.close()\n",
    "\n",
    "ingred_num = train_features.shape[1]\n",
    "cuisine_num = train_labels.shape[1]"
   ]
  },
  {
   "cell_type": "code",
   "execution_count": 41,
   "id": "d6a98d44",
   "metadata": {},
   "outputs": [],
   "source": [
    "h5f_valid = h5py.File('./Container/valid_clf', 'r')\n",
    "valid_features = h5f_valid['features_boolean'][:]\n",
    "answer = h5f_valid['labels_int_enc'][:]\n",
    "h5f_valid.close()\n",
    "\n",
    "answer_dict = {}\n",
    "for i, ans in enumerate(answer):\n",
    "    answer_dict[i] = ans"
   ]
  },
  {
   "cell_type": "code",
   "execution_count": 42,
   "id": "e3f4cce1",
   "metadata": {},
   "outputs": [
    {
     "data": {
      "text/plain": [
       "(23547, 6714)"
      ]
     },
     "execution_count": 42,
     "metadata": {},
     "output_type": "execute_result"
    }
   ],
   "source": [
    "train_features.shape"
   ]
  },
  {
   "cell_type": "code",
   "execution_count": 43,
   "id": "d5c7ef65",
   "metadata": {},
   "outputs": [],
   "source": [
    "features_csr = csr_matrix(np.hstack([train_features, train_labels]))\n",
    "features_csr_T = csr_matrix(features_csr.T)"
   ]
  },
  {
   "cell_type": "code",
   "execution_count": 44,
   "id": "295edb64",
   "metadata": {},
   "outputs": [
    {
     "data": {
      "application/vnd.jupyter.widget-view+json": {
       "model_id": "dcedc745b0714c178ca47b9e93fbc035",
       "version_major": 2,
       "version_minor": 0
      },
      "text/plain": [
       "  0%|          | 0/15 [00:00<?, ?it/s]"
      ]
     },
     "metadata": {},
     "output_type": "display_data"
    },
    {
     "data": {
      "application/vnd.jupyter.widget-view+json": {
       "model_id": "ac65134202ca4a348b4f96151e9eaa12",
       "version_major": 2,
       "version_minor": 0
      },
      "text/plain": [
       "  0%|          | 0/15 [00:00<?, ?it/s]"
      ]
     },
     "metadata": {},
     "output_type": "display_data"
    },
    {
     "data": {
      "application/vnd.jupyter.widget-view+json": {
       "model_id": "a3d388e864a94770abbb1aeeafbf3b77",
       "version_major": 2,
       "version_minor": 0
      },
      "text/plain": [
       "  0%|          | 0/15 [00:00<?, ?it/s]"
      ]
     },
     "metadata": {},
     "output_type": "display_data"
    },
    {
     "data": {
      "application/vnd.jupyter.widget-view+json": {
       "model_id": "7cd525ae86cf417eaec4a0a2b1d62a68",
       "version_major": 2,
       "version_minor": 0
      },
      "text/plain": [
       "  0%|          | 0/15 [00:00<?, ?it/s]"
      ]
     },
     "metadata": {},
     "output_type": "display_data"
    },
    {
     "data": {
      "application/vnd.jupyter.widget-view+json": {
       "model_id": "9f6051077a594f9ebeaad34519e0ea9f",
       "version_major": 2,
       "version_minor": 0
      },
      "text/plain": [
       "  0%|          | 0/15 [00:00<?, ?it/s]"
      ]
     },
     "metadata": {},
     "output_type": "display_data"
    },
    {
     "data": {
      "application/vnd.jupyter.widget-view+json": {
       "model_id": "4a3e558908c343eba9f211261fd41165",
       "version_major": 2,
       "version_minor": 0
      },
      "text/plain": [
       "  0%|          | 0/15 [00:00<?, ?it/s]"
      ]
     },
     "metadata": {},
     "output_type": "display_data"
    },
    {
     "data": {
      "application/vnd.jupyter.widget-view+json": {
       "model_id": "1cc9e5fdd3724e3d89fdf461551ba4dd",
       "version_major": 2,
       "version_minor": 0
      },
      "text/plain": [
       "  0%|          | 0/15 [00:00<?, ?it/s]"
      ]
     },
     "metadata": {},
     "output_type": "display_data"
    },
    {
     "data": {
      "application/vnd.jupyter.widget-view+json": {
       "model_id": "9103bb73e36c45a6872ce986a865622c",
       "version_major": 2,
       "version_minor": 0
      },
      "text/plain": [
       "  0%|          | 0/15 [00:00<?, ?it/s]"
      ]
     },
     "metadata": {},
     "output_type": "display_data"
    },
    {
     "data": {
      "application/vnd.jupyter.widget-view+json": {
       "model_id": "2325e321261b42de94512fafc8e704e2",
       "version_major": 2,
       "version_minor": 0
      },
      "text/plain": [
       "  0%|          | 0/15 [00:00<?, ?it/s]"
      ]
     },
     "metadata": {},
     "output_type": "display_data"
    },
    {
     "data": {
      "application/vnd.jupyter.widget-view+json": {
       "model_id": "391255a7d6e34eafa517c3da04c5ed93",
       "version_major": 2,
       "version_minor": 0
      },
      "text/plain": [
       "  0%|          | 0/15 [00:00<?, ?it/s]"
      ]
     },
     "metadata": {},
     "output_type": "display_data"
    }
   ],
   "source": [
    "macro_f1_lst = []\n",
    "micro_f1_lst = []\n",
    "acc_lst = []\n",
    "MAP_lst = []\n",
    "recall3_lst = []\n",
    "recall_rank_lst = []\n",
    "\n",
    "max_dim = 10\n",
    "\n",
    "for i in range(max_dim):\n",
    "    model = AlternatingLeastSquares(factors=2**(i+1), regularization=0.01, calculate_training_loss=True)\n",
    "    model.fit(features_csr)\n",
    "    \n",
    "    sim_matrix = 1 - pairwise_distances(model.item_factors, metric=\"cosine\") - np.eye(len(model.item_factors))\n",
    "    score_matrix = valid_features @ sim_matrix[:-cuisine_num,ingred_num:]\n",
    "    rec_indices = np.argpartition(score_matrix, -cuisine_topk)[:,-cuisine_topk:]\n",
    "    \n",
    "    cuisine_recs = {}\n",
    "    for query, cuisine_rec_idx in enumerate(rec_indices):\n",
    "        cuisine_recs[query] = []\n",
    "        for idx in cuisine_rec_idx:\n",
    "            cuisine_recs[query].append((idx, score_matrix[query, idx]))\n",
    "        cuisine_recs[query].sort(key=lambda x : x[1], reverse=True)\n",
    "        \n",
    "    with open(\"./recs/CF_rec_clf_dim_{}.pickle\".format(2**i), 'wb') as f:\n",
    "        pickle.dump(cuisine_recs, f)\n",
    "        \n",
    "    metric_dict = get_metric(cuisine_recs, answer_dict, n=3)\n",
    "    macro_f1_lst.append(metric_dict['macro'])\n",
    "    micro_f1_lst.append(metric_dict['micro'])\n",
    "    acc_lst.append(metric_dict['accuracy'])\n",
    "    MAP_lst.append(metric_dict['map'])\n",
    "    recall3_lst.append(metric_dict['recall'])\n",
    "    recall_rank_lst.append(metric_dict['recall_rank'])"
   ]
  },
  {
   "cell_type": "code",
   "execution_count": 50,
   "id": "97d80c3f",
   "metadata": {},
   "outputs": [
    {
     "data": {
      "image/png": "[encoded data removed]",
      "text/plain": [
       "<Figure size 576x360 with 1 Axes>"
      ]
     },
     "metadata": {
      "needs_background": "light"
     },
     "output_type": "display_data"
    }
   ],
   "source": [
    "dim_lst = [2**(i+1) for i in range(max_dim)]\n",
    "\n",
    "plt.figure(figsize=(8,5))\n",
    "plt.plot(dim_lst, macro_f1_lst, 'o-', label='macro-f1')\n",
    "plt.plot(dim_lst, micro_f1_lst, 'o-', label='micro-f1')\n",
    "plt.plot(dim_lst, acc_lst, 'o-', label='acc')\n",
    "# plt.plot(dim_lst, MAP_lst, 'o-', label='MAP')\n",
    "plt.plot(dim_lst, recall3_lst, 'o-', label='recall@3')\n",
    "plt.title(\"CF Model Classification Score\")\n",
    "plt.xscale('log', base=2)\n",
    "plt.xlabel('Dimension of Latent vector')\n",
    "plt.ylabel('Metric value')\n",
    "plt.legend()\n",
    "plt.savefig('./data_analysis/CF_clf_scores.png', dpi=100)\n",
    "plt.show()"
   ]
  },
  {
   "cell_type": "code",
   "execution_count": 51,
   "id": "00e6d904",
   "metadata": {},
   "outputs": [
    {
     "data": {
      "text/plain": [
       "[0.06383792048929664,\n",
       " 0.13799694189602446,\n",
       " 0.20247196738022427,\n",
       " 0.3007135575942915,\n",
       " 0.6332823649337411,\n",
       " 0.5825688073394495,\n",
       " 0.2576452599388379,\n",
       " 0.6077981651376146,\n",
       " 0.5411569826707442,\n",
       " 0.44852191641182465]"
      ]
     },
     "execution_count": 51,
     "metadata": {},
     "output_type": "execute_result"
    }
   ],
   "source": [
    "acc_lst"
   ]
  },
  {
   "cell_type": "code",
   "execution_count": 52,
   "id": "da619b37",
   "metadata": {},
   "outputs": [
    {
     "data": {
      "text/plain": [
       "[0.20081549439347604,\n",
       " 0.31116207951070335,\n",
       " 0.4132262996941896,\n",
       " 0.5119775739041794,\n",
       " 0.8023700305810397,\n",
       " 0.7632517838939857,\n",
       " 0.40711009174311924,\n",
       " 0.7945973496432212,\n",
       " 0.7189092762487258,\n",
       " 0.6271661569826708]"
      ]
     },
     "execution_count": 52,
     "metadata": {},
     "output_type": "execute_result"
    }
   ],
   "source": [
    "recall3_lst"
   ]
  },
  {
   "cell_type": "code",
   "execution_count": null,
   "id": "8d66bac5",
   "metadata": {},
   "outputs": [],
   "source": []
  }
 ],
 "metadata": {
  "kernelspec": {
   "display_name": "Python 3 (ipykernel)",
   "language": "python",
   "name": "python3"
  },
  "language_info": {
   "codemirror_mode": {
    "name": "ipython",
    "version": 3
   },
   "file_extension": ".py",
   "mimetype": "text/x-python",
   "name": "python",
   "nbconvert_exporter": "python",
   "pygments_lexer": "ipython3",
   "version": "3.9.7"
  }
 },
 "nbformat": 4,
 "nbformat_minor": 5
}

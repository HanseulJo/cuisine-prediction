{
 "cells": [
  {
   "cell_type": "code",
   "execution_count": 1,
   "id": "80c7ea26",
   "metadata": {},
   "outputs": [],
   "source": [
    "from Graph_base_model import graph_cpl, graph_clf"
   ]
  },
  {
   "cell_type": "code",
   "execution_count": 2,
   "id": "5857146b",
   "metadata": {},
   "outputs": [
    {
     "ename": "KeyboardInterrupt",
     "evalue": "",
     "output_type": "error",
     "traceback": [
      "\u001b[1;31m---------------------------------------------------------------------------\u001b[0m",
      "\u001b[1;31mKeyboardInterrupt\u001b[0m                         Traceback (most recent call last)",
      "Input \u001b[1;32mIn [2]\u001b[0m, in \u001b[0;36m<cell line: 2>\u001b[1;34m()\u001b[0m\n\u001b[0;32m      1\u001b[0m \u001b[38;5;66;03m# Valid set\u001b[39;00m\n\u001b[1;32m----> 2\u001b[0m \u001b[43mgraph_cpl\u001b[49m\u001b[43m(\u001b[49m\u001b[38;5;124;43m\"\u001b[39;49m\u001b[38;5;124;43m./Container/train\u001b[39;49m\u001b[38;5;124;43m\"\u001b[39;49m\u001b[43m,\u001b[49m\u001b[43m \u001b[49m\u001b[38;5;124;43m\"\u001b[39;49m\u001b[38;5;124;43m./Container/valid_cpl\u001b[39;49m\u001b[38;5;124;43m\"\u001b[39;49m\u001b[43m,\u001b[49m\u001b[43m \u001b[49m\u001b[38;5;124;43m\"\u001b[39;49m\u001b[38;5;124;43m./valid_recs\u001b[39;49m\u001b[38;5;124;43m\"\u001b[39;49m\u001b[43m,\u001b[49m\u001b[43m \u001b[49m\u001b[38;5;241;43m4\u001b[39;49m\u001b[43m,\u001b[49m\u001b[43m \u001b[49m\u001b[43m(\u001b[49m\u001b[38;5;241;43m1\u001b[39;49m\u001b[43m,\u001b[49m\u001b[38;5;241;43m4\u001b[39;49m\u001b[43m)\u001b[49m\u001b[43m,\u001b[49m\u001b[43m \u001b[49m\u001b[43mrecipe_th\u001b[49m\u001b[38;5;241;43m=\u001b[39;49m\u001b[38;5;241;43m2000\u001b[39;49m\u001b[43m,\u001b[49m\u001b[43m \u001b[49m\u001b[43mingred_th\u001b[49m\u001b[38;5;241;43m=\u001b[39;49m\u001b[38;5;241;43m700\u001b[39;49m\u001b[43m,\u001b[49m\u001b[43m \u001b[49m\u001b[43mlabel_th\u001b[49m\u001b[38;5;241;43m=\u001b[39;49m\u001b[38;5;241;43m10\u001b[39;49m\u001b[43m,\u001b[49m\u001b[43m \u001b[49m\u001b[43mtopk\u001b[49m\u001b[38;5;241;43m=\u001b[39;49m\u001b[38;5;241;43m10\u001b[39;49m\u001b[43m)\u001b[49m\n\u001b[0;32m      3\u001b[0m graph_cpl(\u001b[38;5;124m\"\u001b[39m\u001b[38;5;124m./Container/train\u001b[39m\u001b[38;5;124m\"\u001b[39m, \u001b[38;5;124m\"\u001b[39m\u001b[38;5;124m./Container/valid_cpl\u001b[39m\u001b[38;5;124m\"\u001b[39m, \u001b[38;5;124m\"\u001b[39m\u001b[38;5;124m./valid_recs\u001b[39m\u001b[38;5;124m\"\u001b[39m, \u001b[38;5;241m6\u001b[39m, (\u001b[38;5;241m1\u001b[39m,\u001b[38;5;241m2\u001b[39m), recipe_th\u001b[38;5;241m=\u001b[39m\u001b[38;5;241m2000\u001b[39m, ingred_th\u001b[38;5;241m=\u001b[39m\u001b[38;5;241m700\u001b[39m, label_th\u001b[38;5;241m=\u001b[39m\u001b[38;5;241m10\u001b[39m, topk\u001b[38;5;241m=\u001b[39m\u001b[38;5;241m10\u001b[39m)\n\u001b[0;32m      4\u001b[0m graph_cpl(\u001b[38;5;124m\"\u001b[39m\u001b[38;5;124m./Container/train\u001b[39m\u001b[38;5;124m\"\u001b[39m, \u001b[38;5;124m\"\u001b[39m\u001b[38;5;124m./Container/valid_cpl\u001b[39m\u001b[38;5;124m\"\u001b[39m, \u001b[38;5;124m\"\u001b[39m\u001b[38;5;124m./valid_recs\u001b[39m\u001b[38;5;124m\"\u001b[39m, \u001b[38;5;241m4\u001b[39m, (\u001b[38;5;241m1\u001b[39m,\u001b[38;5;241m8\u001b[39m), recipe_th\u001b[38;5;241m=\u001b[39m\u001b[38;5;241m2000\u001b[39m, ingred_th\u001b[38;5;241m=\u001b[39m\u001b[38;5;241m700\u001b[39m, label_th\u001b[38;5;241m=\u001b[39m\u001b[38;5;241m10\u001b[39m, topk\u001b[38;5;241m=\u001b[39m\u001b[38;5;241m10\u001b[39m)\n",
      "File \u001b[1;32mD:\\Programming\\Lecture_Project\\AI506\\Team_Project\\cuisine-prediction\\Chanho\\Graph_base_model.py:45\u001b[0m, in \u001b[0;36mgraph_cpl\u001b[1;34m(train_file, test_file, result_path, depth, weights, recipe_th, ingred_th, label_th, topk)\u001b[0m\n\u001b[0;32m     42\u001b[0m _, label_num \u001b[38;5;241m=\u001b[39m train_labels\u001b[38;5;241m.\u001b[39mshape\n\u001b[0;32m     44\u001b[0m adj_matrix \u001b[38;5;241m=\u001b[39m np\u001b[38;5;241m.\u001b[39mhstack([np\u001b[38;5;241m.\u001b[39mzeros((recipe_num, recipe_num)), w1\u001b[38;5;241m*\u001b[39mtrain_features, w2\u001b[38;5;241m*\u001b[39mtrain_labels])\n\u001b[1;32m---> 45\u001b[0m temp_matrix \u001b[38;5;241m=\u001b[39m \u001b[43mnp\u001b[49m\u001b[38;5;241;43m.\u001b[39;49m\u001b[43mhstack\u001b[49m\u001b[43m(\u001b[49m\u001b[43m[\u001b[49m\u001b[43mw1\u001b[49m\u001b[38;5;241;43m*\u001b[39;49m\u001b[43mtrain_features\u001b[49m\u001b[38;5;241;43m.\u001b[39;49m\u001b[43mT\u001b[49m\u001b[43m,\u001b[49m\u001b[43m \u001b[49m\u001b[43mnp\u001b[49m\u001b[38;5;241;43m.\u001b[39;49m\u001b[43mzeros\u001b[49m\u001b[43m(\u001b[49m\u001b[43m(\u001b[49m\u001b[43mingred_num\u001b[49m\u001b[43m,\u001b[49m\u001b[43m \u001b[49m\u001b[43mingred_num\u001b[49m\u001b[43m)\u001b[49m\u001b[43m)\u001b[49m\u001b[43m,\u001b[49m\u001b[43m \u001b[49m\u001b[43mnp\u001b[49m\u001b[38;5;241;43m.\u001b[39;49m\u001b[43mzeros\u001b[49m\u001b[43m(\u001b[49m\u001b[43m(\u001b[49m\u001b[43mingred_num\u001b[49m\u001b[43m,\u001b[49m\u001b[43m \u001b[49m\u001b[43mlabel_num\u001b[49m\u001b[43m)\u001b[49m\u001b[43m)\u001b[49m\u001b[43m]\u001b[49m\u001b[43m)\u001b[49m\n\u001b[0;32m     46\u001b[0m adj_matrix \u001b[38;5;241m=\u001b[39m np\u001b[38;5;241m.\u001b[39mvstack([adj_matrix, temp_matrix])\n\u001b[0;32m     47\u001b[0m temp_matrix \u001b[38;5;241m=\u001b[39m np\u001b[38;5;241m.\u001b[39mhstack([w2\u001b[38;5;241m*\u001b[39mtrain_labels\u001b[38;5;241m.\u001b[39mT, np\u001b[38;5;241m.\u001b[39mzeros((label_num, ingred_num)), np\u001b[38;5;241m.\u001b[39mzeros((label_num, label_num))])\n",
      "File \u001b[1;32m<__array_function__ internals>:5\u001b[0m, in \u001b[0;36mhstack\u001b[1;34m(*args, **kwargs)\u001b[0m\n",
      "File \u001b[1;32m~\\anaconda3\\envs\\pytorch\\lib\\site-packages\\numpy\\core\\shape_base.py:345\u001b[0m, in \u001b[0;36mhstack\u001b[1;34m(tup)\u001b[0m\n\u001b[0;32m    343\u001b[0m     \u001b[38;5;28;01mreturn\u001b[39;00m _nx\u001b[38;5;241m.\u001b[39mconcatenate(arrs, \u001b[38;5;241m0\u001b[39m)\n\u001b[0;32m    344\u001b[0m \u001b[38;5;28;01melse\u001b[39;00m:\n\u001b[1;32m--> 345\u001b[0m     \u001b[38;5;28;01mreturn\u001b[39;00m \u001b[43m_nx\u001b[49m\u001b[38;5;241;43m.\u001b[39;49m\u001b[43mconcatenate\u001b[49m\u001b[43m(\u001b[49m\u001b[43marrs\u001b[49m\u001b[43m,\u001b[49m\u001b[43m \u001b[49m\u001b[38;5;241;43m1\u001b[39;49m\u001b[43m)\u001b[49m\n",
      "File \u001b[1;32m<__array_function__ internals>:5\u001b[0m, in \u001b[0;36mconcatenate\u001b[1;34m(*args, **kwargs)\u001b[0m\n",
      "\u001b[1;31mKeyboardInterrupt\u001b[0m: "
     ]
    }
   ],
   "source": [
    "# Valid set\n",
    "graph_cpl(\"./Container/train\", \"./Container/valid_cpl\", \"./valid_recs\", 10, (1,4), recipe_th=2000, ingred_th=700, label_th=10, topk=10)\n",
    "graph_cpl(\"./Container/train\", \"./Container/valid_cpl\", \"./valid_recs\", 10, (1,2), recipe_th=2000, ingred_th=700, label_th=10, topk=10)\n",
    "graph_cpl(\"./Container/train\", \"./Container/valid_cpl\", \"./valid_recs\", 10, (1,8), recipe_th=2000, ingred_th=700, label_th=10, topk=10)\n",
    "# Train set\n",
    "graph_cpl(\"./Container/train\", \"../Hanseul/Container/train_cpl\", \"./train_recs\", 10, (1,4), recipe_th=2000, ingred_th=700, label_th=10, topk=10)\n",
    "graph_cpl(\"./Container/train\", \"../Hanseul/Container/train_cpl\", \"./train_recs\", 10, (1,2), recipe_th=2000, ingred_th=700, label_th=10, topk=10)\n",
    "graph_cpl(\"./Container/train\", \"../Hanseul/Container/train_cpl\", \"./train_recs\", 10, (1,8), recipe_th=2000, ingred_th=700, label_th=10, topk=10)\n",
    "# Test set\n",
    "graph_cpl(\"./Container/train\", \"./Container/test_cpl\", \"./test_recs\", 10, (1,4), recipe_th=2000, ingred_th=700, label_th=10, topk=10)\n",
    "graph_cpl(\"./Container/train\", \"./Container/test_cpl\", \"./test_recs\", 10, (1,2), recipe_th=2000, ingred_th=700, label_th=10, topk=10)\n",
    "graph_cpl(\"./Container/train\", \"./Container/test_cpl\", \"./test_recs\", 10, (1,8), recipe_th=2000, ingred_th=700, label_th=10, topk=10)"
   ]
  },
  {
   "cell_type": "code",
   "execution_count": null,
   "id": "34cbbd9f",
   "metadata": {},
   "outputs": [],
   "source": [
    "# Valid set\n",
    "graph_clf(\"./Container/train\", \"./Container/valid_clf\", \"./valid_recs\", 10, (1,8), recipe_th=2000, ingred_th=700, label_th=10, topk=5)\n",
    "# Train set\n",
    "graph_clf(\"./Container/train\", \"../Hanseul/Container/train\", \"./train_recs\", 10, (1,8), recipe_th=2000, ingred_th=700, label_th=10, topk=5)\n",
    "# Test set\n",
    "graph_clf(\"./Container/train\", \"./Container/test_clf\", \"./test_recs\", 10, (1,8), recipe_th=2000, ingred_th=700, label_th=10, topk=5)"
   ]
  },
  {
   "cell_type": "code",
   "execution_count": 9,
   "id": "a9a5a23a",
   "metadata": {},
   "outputs": [],
   "source": []
  },
  {
   "cell_type": "code",
   "execution_count": null,
   "id": "edf39397",
   "metadata": {},
   "outputs": [],
   "source": []
  }
 ],
 "metadata": {
  "kernelspec": {
   "display_name": "Python 3 (ipykernel)",
   "language": "python",
   "name": "python3"
  },
  "language_info": {
   "codemirror_mode": {
    "name": "ipython",
    "version": 3
   },
   "file_extension": ".py",
   "mimetype": "text/x-python",
   "name": "python",
   "nbconvert_exporter": "python",
   "pygments_lexer": "ipython3",
   "version": "3.9.7"
  }
 },
 "nbformat": 4,
 "nbformat_minor": 5
}

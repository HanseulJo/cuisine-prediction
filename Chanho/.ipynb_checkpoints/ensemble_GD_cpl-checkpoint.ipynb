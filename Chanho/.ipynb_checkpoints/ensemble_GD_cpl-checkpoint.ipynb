{
 "cells": [
  {
   "cell_type": "code",
   "execution_count": 16,
   "id": "470952a8",
   "metadata": {},
   "outputs": [],
   "source": [
    "import torch\n",
    "import h5py\n",
    "import numpy as np\n",
    "from torch import nn\n",
    "from torchvision import datasets\n",
    "from torchvision.transforms import ToTensor, Lambda\n",
    "from torch.utils.data import Dataset\n",
    "from torch.utils.data import DataLoader\n",
    "import pickle\n",
    "from sklearn.preprocessing import normalize\n",
    "from scipy.sparse import lil_matrix, csr_matrix, hstack\n",
    "from tqdm import tqdm\n",
    "import math"
   ]
  },
  {
   "cell_type": "code",
   "execution_count": 17,
   "id": "4ed92a16",
   "metadata": {},
   "outputs": [],
   "source": [
    "# 변수 선언 block\n",
    "train_rec_file_list = [\"./final_recs/Chanho_recs/train_recs/CF_rec_cpl_dim_64.pickle\",\n",
    "                       \"./final_recs/Chanho_recs/train_recs/Graph_rec_cpl_1_2_depth_5.pickle\",\n",
    "                       \"./final_recs/Chanho_recs/train_recs/Graph_rec_cpl_1_4_depth_3.pickle\",\n",
    "                       \"./final_recs/Chanho_recs/train_recs/Graph_rec_cpl_1_8_depth_3.pickle\",\n",
    "                       \"./final_recs/Chanho_recs/train_recs/Graph_rec_cpl_1_8_depth_1.pickle\",\n",
    "                       \"./final_recs/Junwon_recs/inference_train_completion_DNN_fc_layer_sizes_1024-1024-512-512_batch_16_seed_0.pkl\",\n",
    "                       \"./final_recs/Hanseul_recs/rec_CCNet_train_cpl_EncFC_PoolPMA_CplPooled_NumEnc5_NumDec0_Hid512_Emb512_Ind10.pickle\",\n",
    "                       \"./final_recs/Hanseul_recs/rec_CCNet_train_cpl_EncFC_PoolPMA_CplPooled_NumEnc8_NumDec0_Hid512_Emb512_Ind10.pickle\",\n",
    "                       \"./final_recs/Hanseul_recs/rec_CCNet_train_cpl_EncFC_PoolPMA_CplPooled_NumEnc8_NumDec0_Hid512_Emb512_Ind10.pickle\",\n",
    "                       \"./final_recs/Hanseul_recs/rec_CCNet_train_cpl_EncHYBRID_PoolPMA_CplPooled_NumEnc3_NumDec0_Hid512_Emb512_Ind16.pickle\",\n",
    "                       \"./final_recs/Hanseul_recs/rec_CCNet_train_cpl_EncHYBRID_PoolPMA_CplPooled_NumEnc3_NumDec3_Hid512_Emb512_Ind6.pickle\",\n",
    "                       \"./final_recs/Hanseul_recs/rec_CCNet_train_cpl_EncHYBRID_PoolPMA_CplPooled_NumEnc3_NumDec3_Hid512_Emb512_Ind7.pickle\",\n",
    "                       \"./final_recs/Hanseul_recs/rec_CCNet_train_cpl_EncHYBRID_PoolPMA_CplPooled_NumEnc3_NumDec3_Hid512_Emb512_Ind10.pickle\",\n",
    "                       \"./final_recs/Hanseul_recs/rec_CCNet_train_cpl_EncHYBRID_PoolPMA_CplPooled_NumEnc4_NumDec3_Hid512_Emb512_Ind6.pickle\",\n",
    "                       \"./final_recs/Hanseul_recs/rec_CCNet_train_cpl_EncHYBRID_PoolPMA_CplPooled_NumEnc6_NumDec0_Hid512_Emb512_Ind29.pickle\",\n",
    "                       \"./final_recs/Hanseul_recs/rec_CCNet_train_cpl_EncHYBRID_SA_PoolPMA_CplEncoded_NumEnc4_NumDec0_Hid512_Emb512_Ind10.pickle\",\n",
    "                       \"./final_recs/Hanseul_recs/rec_CCNet_train_cpl_EncHYBRID_SA_PoolPMA_CplEncoded_NumEnc6_NumDec0_Hid512_Emb512_Ind10.pickle\",\n",
    "                       \"./final_recs/Hanseul_recs/rec_CCNet_train_cpl_EncHYBRID_SA_PoolPMA_CplEncoded_NumEnc8_NumDec0_Hid512_Emb512_Ind10.pickle\",\n",
    "                      ]\n",
    "\n",
    "valid_rec_file_list = [\"./final_recs/Chanho_recs/valid_recs/CF_rec_cpl_dim_64.pickle\",\n",
    "                       \"./final_recs/Chanho_recs/valid_recs/Graph_rec_cpl_1_2_depth_5.pickle\",\n",
    "                       \"./final_recs/Chanho_recs/valid_recs/Graph_rec_cpl_1_4_depth_3.pickle\",\n",
    "                       \"./final_recs/Chanho_recs/valid_recs/Graph_rec_cpl_1_8_depth_3.pickle\",\n",
    "                       \"./final_recs/Chanho_recs/valid_recs/Graph_rec_cpl_1_8_depth_1.pickle\",\n",
    "                       \"./final_recs/Junwon_recs/inference_valid_cpl_completion_DNN_fc_layer_sizes_1024-1024-512-512_batch_16_seed_0.pkl\",\n",
    "                       \"./final_recs/Hanseul_recs/rec_CCNet_valid_cpl_EncFC_PoolPMA_CplPooled_NumEnc5_NumDec0_Hid512_Emb512_Ind10.pickle\",\n",
    "                       \"./final_recs/Hanseul_recs/rec_CCNet_valid_cpl_EncFC_PoolPMA_CplPooled_NumEnc8_NumDec0_Hid512_Emb512_Ind10.pickle\",\n",
    "                       \"./final_recs/Hanseul_recs/rec_CCNet_valid_cpl_EncFC_PoolPMA_CplPooled_NumEnc8_NumDec0_Hid512_Emb512_Ind10.pickle\",\n",
    "                       \"./final_recs/Hanseul_recs/rec_CCNet_valid_cpl_EncHYBRID_PoolPMA_CplPooled_NumEnc3_NumDec0_Hid512_Emb512_Ind16.pickle\",\n",
    "                       \"./final_recs/Hanseul_recs/rec_CCNet_valid_cpl_EncHYBRID_PoolPMA_CplPooled_NumEnc3_NumDec3_Hid512_Emb512_Ind6.pickle\",\n",
    "                       \"./final_recs/Hanseul_recs/rec_CCNet_valid_cpl_EncHYBRID_PoolPMA_CplPooled_NumEnc3_NumDec3_Hid512_Emb512_Ind7.pickle\",\n",
    "                       \"./final_recs/Hanseul_recs/rec_CCNet_valid_cpl_EncHYBRID_PoolPMA_CplPooled_NumEnc3_NumDec3_Hid512_Emb512_Ind10.pickle\",\n",
    "                       \"./final_recs/Hanseul_recs/rec_CCNet_valid_cpl_EncHYBRID_PoolPMA_CplPooled_NumEnc4_NumDec3_Hid512_Emb512_Ind6.pickle\",\n",
    "                       \"./final_recs/Hanseul_recs/rec_CCNet_valid_cpl_EncHYBRID_PoolPMA_CplPooled_NumEnc6_NumDec0_Hid512_Emb512_Ind29.pickle\",\n",
    "                       \"./final_recs/Hanseul_recs/rec_CCNet_valid_cpl_EncHYBRID_SA_PoolPMA_CplEncoded_NumEnc4_NumDec0_Hid512_Emb512_Ind10.pickle\",\n",
    "                       \"./final_recs/Hanseul_recs/rec_CCNet_valid_cpl_EncHYBRID_SA_PoolPMA_CplEncoded_NumEnc6_NumDec0_Hid512_Emb512_Ind10.pickle\",\n",
    "                       \"./final_recs/Hanseul_recs/rec_CCNet_valid_cpl_EncHYBRID_SA_PoolPMA_CplEncoded_NumEnc8_NumDec0_Hid512_Emb512_Ind10.pickle\",\n",
    "                      ]\n",
    "\n",
    "train_path = '../Hanseul/Container/train_cpl'\n",
    "\n",
    "valid_path = './Container/valid_cpl'\n",
    "\n",
    "state_dict_save_path = \"./ensemble_model/ensemble_model_best_cpl.pt\"\n",
    "\n",
    "loss_fig_path = \"./ensemble_model/ensemble_cpl_loss.png\"\n",
    "acc_fig_path = \"./ensemble_model/ensemble_cpl_acc.png\"\n",
    "\n",
    "epochs = 10"
   ]
  },
  {
   "cell_type": "code",
   "execution_count": 3,
   "id": "e72d0fff",
   "metadata": {},
   "outputs": [],
   "source": [
    "class RecDataset(Dataset):\n",
    "    def __init__(self, recs_list, answer_dict, query_num, item_num, transform=None, target_transform=None):\n",
    "        # rec_matrix = [query num, model_num, item_num]\n",
    "        self.rec_matrix = []\n",
    "        for i in range(query_num):\n",
    "            self.rec_matrix.append(lil_matrix((len(recs_list), item_num)))\n",
    "        for i, recs in enumerate(recs_list):\n",
    "            for query in tqdm(recs.keys()):\n",
    "                rec = recs[query]\n",
    "                rec_items, rec_scores = [rec_ for rec_, score in rec], [score for rec_, score in rec]\n",
    "                rec_scores = normalize(np.array(rec_scores)[:,np.newaxis], axis=0).ravel()\n",
    "                for item, score in zip(rec_items, rec_scores):\n",
    "                    self.rec_matrix[query][i, item] = score\n",
    "        self.labels = answer_dict\n",
    "        self.transform = transform\n",
    "        self.target_transform = target_transform\n",
    "        self.device = \"cuda\" if torch.cuda.is_available() else \"cpu\"\n",
    "\n",
    "    def __len__(self):\n",
    "        return len(self.rec_matrix)\n",
    "\n",
    "    def __getitem__(self, idx):\n",
    "        rec_matrix = self.rec_matrix[idx].toarray()\n",
    "        label = self.labels[idx]\n",
    "        if self.transform:\n",
    "            rec_matrix = self.transform(rec_matrix).to(self.device)\n",
    "        if self.target_transform:\n",
    "            label = self.target_transform(label)\n",
    "        return rec_matrix.to(self.device), label.to(self.device)"
   ]
  },
  {
   "cell_type": "code",
   "execution_count": 4,
   "id": "e8e7c09c",
   "metadata": {},
   "outputs": [],
   "source": [
    "class Network(nn.Module):\n",
    "    def __init__(self, model_len, k=10):\n",
    "        super(Network, self).__init__()\n",
    "        self.w1 = torch.nn.Parameter(torch.randn(k, model_len))\n",
    "        self.w2 = torch.nn.Parameter(torch.randn(1, k))\n",
    "        \n",
    "    def forward(self, x):\n",
    "        #import ipdb; ipdb.set_trace()\n",
    "        x = x.float()\n",
    "        x = torch.einsum('nm, bmp -> bnp', self.w1, x)\n",
    "        x = torch.einsum('nm, bmp -> bnp', self.w2, x).squeeze(1)\n",
    "        return x"
   ]
  },
  {
   "cell_type": "code",
   "execution_count": 5,
   "id": "e6961769",
   "metadata": {},
   "outputs": [
    {
     "name": "stderr",
     "output_type": "stream",
     "text": [
      "100%|████████████████████████████████████████████████████████████████████████| 253419/253419 [00:29<00:00, 8704.37it/s]\n",
      "100%|████████████████████████████████████████████████████████████████████████| 253419/253419 [00:28<00:00, 8789.94it/s]\n",
      "100%|████████████████████████████████████████████████████████████████████████| 253419/253419 [00:30<00:00, 8360.35it/s]\n",
      "100%|████████████████████████████████████████████████████████████████████████| 253419/253419 [00:29<00:00, 8501.80it/s]\n",
      "100%|████████████████████████████████████████████████████████████████████████| 253419/253419 [00:28<00:00, 8803.83it/s]\n",
      "100%|████████████████████████████████████████████████████████████████████████| 253419/253419 [00:28<00:00, 8934.19it/s]\n",
      "100%|████████████████████████████████████████████████████████████████████████| 253419/253419 [00:28<00:00, 8982.17it/s]\n",
      "100%|████████████████████████████████████████████████████████████████████████| 253419/253419 [00:30<00:00, 8263.97it/s]\n",
      "100%|████████████████████████████████████████████████████████████████████████| 253419/253419 [00:29<00:00, 8505.61it/s]\n",
      "100%|████████████████████████████████████████████████████████████████████████| 253419/253419 [00:28<00:00, 8796.77it/s]\n",
      "100%|████████████████████████████████████████████████████████████████████████| 253419/253419 [00:30<00:00, 8428.43it/s]\n",
      "100%|████████████████████████████████████████████████████████████████████████| 253419/253419 [00:28<00:00, 8772.52it/s]\n",
      "100%|████████████████████████████████████████████████████████████████████████| 253419/253419 [00:29<00:00, 8546.00it/s]\n",
      "100%|████████████████████████████████████████████████████████████████████████| 253419/253419 [00:30<00:00, 8308.53it/s]\n",
      "100%|████████████████████████████████████████████████████████████████████████| 253419/253419 [00:29<00:00, 8659.15it/s]\n",
      "100%|████████████████████████████████████████████████████████████████████████| 253419/253419 [00:29<00:00, 8725.76it/s]\n",
      "100%|████████████████████████████████████████████████████████████████████████| 253419/253419 [00:29<00:00, 8687.51it/s]\n",
      "100%|████████████████████████████████████████████████████████████████████████| 253419/253419 [00:29<00:00, 8706.73it/s]\n",
      "100%|████████████████████████████████████████████████████████████████████████████| 7848/7848 [00:00<00:00, 8493.50it/s]\n",
      "100%|████████████████████████████████████████████████████████████████████████████| 7848/7848 [00:00<00:00, 9146.88it/s]\n",
      "100%|████████████████████████████████████████████████████████████████████████████| 7848/7848 [00:00<00:00, 8671.83it/s]\n",
      "100%|████████████████████████████████████████████████████████████████████████████| 7848/7848 [00:00<00:00, 8749.17it/s]\n",
      "100%|████████████████████████████████████████████████████████████████████████████| 7848/7848 [00:00<00:00, 8837.83it/s]\n",
      "100%|████████████████████████████████████████████████████████████████████████████| 7848/7848 [00:00<00:00, 8366.73it/s]\n",
      "100%|████████████████████████████████████████████████████████████████████████████| 7848/7848 [00:00<00:00, 8624.20it/s]\n",
      "100%|████████████████████████████████████████████████████████████████████████████| 7848/7848 [00:00<00:00, 8719.99it/s]\n",
      "100%|████████████████████████████████████████████████████████████████████████████| 7848/7848 [00:00<00:00, 9276.60it/s]\n",
      "100%|████████████████████████████████████████████████████████████████████████████| 7848/7848 [00:00<00:00, 9062.37it/s]\n",
      "100%|████████████████████████████████████████████████████████████████████████████| 7848/7848 [00:00<00:00, 8521.21it/s]\n",
      "100%|████████████████████████████████████████████████████████████████████████████| 7848/7848 [00:00<00:00, 8729.70it/s]\n",
      "100%|████████████████████████████████████████████████████████████████████████████| 7848/7848 [00:00<00:00, 8867.77it/s]\n",
      "100%|████████████████████████████████████████████████████████████████████████████| 7848/7848 [00:00<00:00, 9104.41it/s]\n",
      "100%|████████████████████████████████████████████████████████████████████████████| 7848/7848 [00:00<00:00, 8252.36it/s]\n",
      "100%|████████████████████████████████████████████████████████████████████████████| 7848/7848 [00:00<00:00, 8331.23it/s]\n",
      "100%|████████████████████████████████████████████████████████████████████████████| 7848/7848 [00:01<00:00, 5674.61it/s]\n",
      "100%|████████████████████████████████████████████████████████████████████████████| 7848/7848 [00:00<00:00, 8857.78it/s]\n"
     ]
    }
   ],
   "source": [
    "recs_list = []\n",
    "for rec_file in train_rec_file_list:\n",
    "    with open(rec_file, 'rb') as f:\n",
    "        recs = pickle.load(f)\n",
    "        recs_list.append(recs)\n",
    "\n",
    "query_num = len(recs_list[0])\n",
    "item_num = 6714\n",
    "\n",
    "h5f_valid = h5py.File(train_path, 'r')\n",
    "answer = h5f_valid['labels_id'][:].astype(np.int64)\n",
    "h5f_valid.close()\n",
    "\n",
    "answer_dict = {}\n",
    "for i, ans in enumerate(answer):\n",
    "    answer_dict[i] = ans\n",
    "\n",
    "train_data = RecDataset(recs_list, answer_dict, query_num, item_num, transform=torch.Tensor, target_transform=torch.tensor)\n",
    "train_dataloader = DataLoader(train_data, batch_size=64, shuffle=True)\n",
    "###############\n",
    "recs_list = []\n",
    "for rec_file in valid_rec_file_list:\n",
    "    with open(rec_file, 'rb') as f:\n",
    "        recs = pickle.load(f)\n",
    "        recs_list.append(recs)\n",
    "\n",
    "query_num = len(recs_list[0])\n",
    "item_num = 6714\n",
    "\n",
    "h5f_valid = h5py.File(valid_path, 'r')\n",
    "answer = h5f_valid['labels_id'][:].astype(np.int64)\n",
    "h5f_valid.close()\n",
    "\n",
    "answer_dict = {}\n",
    "for i, ans in enumerate(answer):\n",
    "    answer_dict[i] = ans\n",
    "\n",
    "test_data = RecDataset(recs_list, answer_dict, query_num, item_num, transform=torch.Tensor, target_transform=torch.tensor)\n",
    "test_dataloader = DataLoader(test_data, batch_size=64, shuffle=True)"
   ]
  },
  {
   "cell_type": "code",
   "execution_count": 14,
   "id": "d8ab06f1",
   "metadata": {},
   "outputs": [
    {
     "name": "stdout",
     "output_type": "stream",
     "text": [
      "Epoch 1\n",
      "-------------------------------\n"
     ]
    },
    {
     "name": "stderr",
     "output_type": "stream",
     "text": [
      "100%|██████████████████████████████████████████████████████████████████████████████| 3960/3960 [06:27<00:00, 10.21it/s]\n"
     ]
    },
    {
     "name": "stdout",
     "output_type": "stream",
     "text": [
      "Train loss: 6.829927\n"
     ]
    },
    {
     "name": "stderr",
     "output_type": "stream",
     "text": [
      "100%|████████████████████████████████████████████████████████████████████████████████| 123/123 [00:10<00:00, 11.27it/s]\n"
     ]
    },
    {
     "name": "stdout",
     "output_type": "stream",
     "text": [
      "Test Error: \n",
      " Accuracy: 16.42%, Avg loss: 7.097011 \n",
      "\n",
      "<generator object Module.parameters at 0x000001955658A2E0>\n",
      "save\n",
      "Epoch 2\n",
      "-------------------------------\n"
     ]
    },
    {
     "name": "stderr",
     "output_type": "stream",
     "text": [
      "100%|██████████████████████████████████████████████████████████████████████████████| 3960/3960 [06:45<00:00,  9.75it/s]\n"
     ]
    },
    {
     "name": "stdout",
     "output_type": "stream",
     "text": [
      "Train loss: 6.327999\n"
     ]
    },
    {
     "name": "stderr",
     "output_type": "stream",
     "text": [
      "100%|████████████████████████████████████████████████████████████████████████████████| 123/123 [00:12<00:00, 10.22it/s]\n"
     ]
    },
    {
     "name": "stdout",
     "output_type": "stream",
     "text": [
      "Test Error: \n",
      " Accuracy: 16.27%, Avg loss: 7.093631 \n",
      "\n",
      "<generator object Module.parameters at 0x000001955658A2E0>\n",
      "Epoch 3\n",
      "-------------------------------\n"
     ]
    },
    {
     "name": "stderr",
     "output_type": "stream",
     "text": [
      "100%|██████████████████████████████████████████████████████████████████████████████| 3960/3960 [06:46<00:00,  9.75it/s]\n"
     ]
    },
    {
     "name": "stdout",
     "output_type": "stream",
     "text": [
      "Train loss: 6.213316\n"
     ]
    },
    {
     "name": "stderr",
     "output_type": "stream",
     "text": [
      "100%|████████████████████████████████████████████████████████████████████████████████| 123/123 [00:12<00:00,  9.97it/s]\n"
     ]
    },
    {
     "name": "stdout",
     "output_type": "stream",
     "text": [
      "Test Error: \n",
      " Accuracy: 15.99%, Avg loss: 7.091300 \n",
      "\n",
      "<generator object Module.parameters at 0x000001955658A3C0>\n",
      "Epoch 4\n",
      "-------------------------------\n"
     ]
    },
    {
     "name": "stderr",
     "output_type": "stream",
     "text": [
      "100%|██████████████████████████████████████████████████████████████████████████████| 3960/3960 [06:50<00:00,  9.64it/s]\n"
     ]
    },
    {
     "name": "stdout",
     "output_type": "stream",
     "text": [
      "Train loss: 6.176168\n"
     ]
    },
    {
     "name": "stderr",
     "output_type": "stream",
     "text": [
      "100%|████████████████████████████████████████████████████████████████████████████████| 123/123 [00:11<00:00, 10.34it/s]\n"
     ]
    },
    {
     "name": "stdout",
     "output_type": "stream",
     "text": [
      "Test Error: \n",
      " Accuracy: 15.86%, Avg loss: 7.096703 \n",
      "\n",
      "<generator object Module.parameters at 0x000001955658A430>\n",
      "Epoch 5\n",
      "-------------------------------\n"
     ]
    },
    {
     "name": "stderr",
     "output_type": "stream",
     "text": [
      "100%|██████████████████████████████████████████████████████████████████████████████| 3960/3960 [07:00<00:00,  9.42it/s]\n"
     ]
    },
    {
     "name": "stdout",
     "output_type": "stream",
     "text": [
      "Train loss: 6.164605\n"
     ]
    },
    {
     "name": "stderr",
     "output_type": "stream",
     "text": [
      "100%|████████████████████████████████████████████████████████████████████████████████| 123/123 [00:12<00:00,  9.56it/s]\n"
     ]
    },
    {
     "name": "stdout",
     "output_type": "stream",
     "text": [
      "Test Error: \n",
      " Accuracy: 15.76%, Avg loss: 7.101292 \n",
      "\n",
      "<generator object Module.parameters at 0x000001955658A890>\n",
      "Epoch 6\n",
      "-------------------------------\n"
     ]
    },
    {
     "name": "stderr",
     "output_type": "stream",
     "text": [
      "100%|██████████████████████████████████████████████████████████████████████████████| 3960/3960 [06:58<00:00,  9.47it/s]\n"
     ]
    },
    {
     "name": "stdout",
     "output_type": "stream",
     "text": [
      "Train loss: 6.159722\n"
     ]
    },
    {
     "name": "stderr",
     "output_type": "stream",
     "text": [
      "100%|████████████████████████████████████████████████████████████████████████████████| 123/123 [00:12<00:00,  9.88it/s]\n"
     ]
    },
    {
     "name": "stdout",
     "output_type": "stream",
     "text": [
      "Test Error: \n",
      " Accuracy: 15.80%, Avg loss: 7.102602 \n",
      "\n",
      "<generator object Module.parameters at 0x000001955658A900>\n",
      "Epoch 7\n",
      "-------------------------------\n"
     ]
    },
    {
     "name": "stderr",
     "output_type": "stream",
     "text": [
      "100%|██████████████████████████████████████████████████████████████████████████████| 3960/3960 [06:47<00:00,  9.72it/s]\n"
     ]
    },
    {
     "name": "stdout",
     "output_type": "stream",
     "text": [
      "Train loss: 6.157117\n"
     ]
    },
    {
     "name": "stderr",
     "output_type": "stream",
     "text": [
      "100%|████████████████████████████████████████████████████████████████████████████████| 123/123 [00:12<00:00, 10.16it/s]\n"
     ]
    },
    {
     "name": "stdout",
     "output_type": "stream",
     "text": [
      "Test Error: \n",
      " Accuracy: 15.88%, Avg loss: 7.106350 \n",
      "\n",
      "<generator object Module.parameters at 0x000001955658A4A0>\n",
      "Epoch 8\n",
      "-------------------------------\n"
     ]
    },
    {
     "name": "stderr",
     "output_type": "stream",
     "text": [
      "100%|██████████████████████████████████████████████████████████████████████████████| 3960/3960 [06:34<00:00, 10.05it/s]\n"
     ]
    },
    {
     "name": "stdout",
     "output_type": "stream",
     "text": [
      "Train loss: 6.155674\n"
     ]
    },
    {
     "name": "stderr",
     "output_type": "stream",
     "text": [
      "100%|████████████████████████████████████████████████████████████████████████████████| 123/123 [00:12<00:00, 10.16it/s]\n"
     ]
    },
    {
     "name": "stdout",
     "output_type": "stream",
     "text": [
      "Test Error: \n",
      " Accuracy: 15.89%, Avg loss: 7.104515 \n",
      "\n",
      "<generator object Module.parameters at 0x000001955658A890>\n",
      "Epoch 9\n",
      "-------------------------------\n"
     ]
    },
    {
     "name": "stderr",
     "output_type": "stream",
     "text": [
      "100%|██████████████████████████████████████████████████████████████████████████████| 3960/3960 [04:39<00:00, 14.14it/s]\n"
     ]
    },
    {
     "name": "stdout",
     "output_type": "stream",
     "text": [
      "Train loss: 6.154746\n"
     ]
    },
    {
     "name": "stderr",
     "output_type": "stream",
     "text": [
      "100%|████████████████████████████████████████████████████████████████████████████████| 123/123 [00:02<00:00, 41.79it/s]\n"
     ]
    },
    {
     "name": "stdout",
     "output_type": "stream",
     "text": [
      "Test Error: \n",
      " Accuracy: 15.95%, Avg loss: 7.101915 \n",
      "\n",
      "<generator object Module.parameters at 0x000001955658A3C0>\n",
      "Epoch 10\n",
      "-------------------------------\n"
     ]
    },
    {
     "name": "stderr",
     "output_type": "stream",
     "text": [
      "100%|██████████████████████████████████████████████████████████████████████████████| 3960/3960 [01:44<00:00, 37.99it/s]\n"
     ]
    },
    {
     "name": "stdout",
     "output_type": "stream",
     "text": [
      "Train loss: 6.154222\n"
     ]
    },
    {
     "name": "stderr",
     "output_type": "stream",
     "text": [
      "100%|████████████████████████████████████████████████████████████████████████████████| 123/123 [00:02<00:00, 41.67it/s]\n"
     ]
    },
    {
     "name": "stdout",
     "output_type": "stream",
     "text": [
      "Test Error: \n",
      " Accuracy: 15.98%, Avg loss: 7.103805 \n",
      "\n",
      "<generator object Module.parameters at 0x000001955658A3C0>\n",
      "Epoch 11\n",
      "-------------------------------\n"
     ]
    },
    {
     "name": "stderr",
     "output_type": "stream",
     "text": [
      "100%|██████████████████████████████████████████████████████████████████████████████| 3960/3960 [01:43<00:00, 38.28it/s]\n"
     ]
    },
    {
     "name": "stdout",
     "output_type": "stream",
     "text": [
      "Train loss: 6.153791\n"
     ]
    },
    {
     "name": "stderr",
     "output_type": "stream",
     "text": [
      "100%|████████████████████████████████████████████████████████████████████████████████| 123/123 [00:02<00:00, 42.09it/s]\n"
     ]
    },
    {
     "name": "stdout",
     "output_type": "stream",
     "text": [
      "Test Error: \n",
      " Accuracy: 15.95%, Avg loss: 7.102596 \n",
      "\n",
      "<generator object Module.parameters at 0x000001955658A900>\n",
      "Epoch 12\n",
      "-------------------------------\n"
     ]
    },
    {
     "name": "stderr",
     "output_type": "stream",
     "text": [
      "100%|██████████████████████████████████████████████████████████████████████████████| 3960/3960 [01:46<00:00, 37.23it/s]\n"
     ]
    },
    {
     "name": "stdout",
     "output_type": "stream",
     "text": [
      "Train loss: 6.153465\n"
     ]
    },
    {
     "name": "stderr",
     "output_type": "stream",
     "text": [
      "100%|████████████████████████████████████████████████████████████████████████████████| 123/123 [00:03<00:00, 39.27it/s]\n"
     ]
    },
    {
     "name": "stdout",
     "output_type": "stream",
     "text": [
      "Test Error: \n",
      " Accuracy: 15.97%, Avg loss: 7.103241 \n",
      "\n",
      "<generator object Module.parameters at 0x000001955658A970>\n",
      "Epoch 13\n",
      "-------------------------------\n"
     ]
    },
    {
     "name": "stderr",
     "output_type": "stream",
     "text": [
      "100%|██████████████████████████████████████████████████████████████████████████████| 3960/3960 [01:51<00:00, 35.39it/s]\n"
     ]
    },
    {
     "name": "stdout",
     "output_type": "stream",
     "text": [
      "Train loss: 6.153166\n"
     ]
    },
    {
     "name": "stderr",
     "output_type": "stream",
     "text": [
      "100%|████████████████████████████████████████████████████████████████████████████████| 123/123 [00:03<00:00, 36.33it/s]\n"
     ]
    },
    {
     "name": "stdout",
     "output_type": "stream",
     "text": [
      "Test Error: \n",
      " Accuracy: 15.98%, Avg loss: 7.099243 \n",
      "\n",
      "<generator object Module.parameters at 0x000001955658A890>\n",
      "Epoch 14\n",
      "-------------------------------\n"
     ]
    },
    {
     "name": "stderr",
     "output_type": "stream",
     "text": [
      "100%|██████████████████████████████████████████████████████████████████████████████| 3960/3960 [01:44<00:00, 37.94it/s]\n"
     ]
    },
    {
     "name": "stdout",
     "output_type": "stream",
     "text": [
      "Train loss: 6.152996\n"
     ]
    },
    {
     "name": "stderr",
     "output_type": "stream",
     "text": [
      "100%|████████████████████████████████████████████████████████████████████████████████| 123/123 [00:03<00:00, 37.74it/s]\n"
     ]
    },
    {
     "name": "stdout",
     "output_type": "stream",
     "text": [
      "Test Error: \n",
      " Accuracy: 15.93%, Avg loss: 7.098283 \n",
      "\n",
      "<generator object Module.parameters at 0x000001955658A430>\n",
      "Epoch 15\n",
      "-------------------------------\n"
     ]
    },
    {
     "name": "stderr",
     "output_type": "stream",
     "text": [
      "100%|██████████████████████████████████████████████████████████████████████████████| 3960/3960 [01:43<00:00, 38.28it/s]\n"
     ]
    },
    {
     "name": "stdout",
     "output_type": "stream",
     "text": [
      "Train loss: 6.152819\n"
     ]
    },
    {
     "name": "stderr",
     "output_type": "stream",
     "text": [
      "100%|████████████████████████████████████████████████████████████████████████████████| 123/123 [00:03<00:00, 39.56it/s]\n"
     ]
    },
    {
     "name": "stdout",
     "output_type": "stream",
     "text": [
      "Test Error: \n",
      " Accuracy: 15.93%, Avg loss: 7.101067 \n",
      "\n",
      "<generator object Module.parameters at 0x000001955658A120>\n",
      "Epoch 16\n",
      "-------------------------------\n"
     ]
    },
    {
     "name": "stderr",
     "output_type": "stream",
     "text": [
      "100%|██████████████████████████████████████████████████████████████████████████████| 3960/3960 [01:46<00:00, 37.30it/s]\n"
     ]
    },
    {
     "name": "stdout",
     "output_type": "stream",
     "text": [
      "Train loss: 6.152688\n"
     ]
    },
    {
     "name": "stderr",
     "output_type": "stream",
     "text": [
      "100%|████████████████████████████████████████████████████████████████████████████████| 123/123 [00:03<00:00, 40.53it/s]\n"
     ]
    },
    {
     "name": "stdout",
     "output_type": "stream",
     "text": [
      "Test Error: \n",
      " Accuracy: 15.93%, Avg loss: 7.101475 \n",
      "\n",
      "<generator object Module.parameters at 0x000001955658A890>\n",
      "Epoch 17\n",
      "-------------------------------\n"
     ]
    },
    {
     "name": "stderr",
     "output_type": "stream",
     "text": [
      "100%|██████████████████████████████████████████████████████████████████████████████| 3960/3960 [01:45<00:00, 37.67it/s]\n"
     ]
    },
    {
     "name": "stdout",
     "output_type": "stream",
     "text": [
      "Train loss: 6.152547\n"
     ]
    },
    {
     "name": "stderr",
     "output_type": "stream",
     "text": [
      "100%|████████████████████████████████████████████████████████████████████████████████| 123/123 [00:02<00:00, 42.49it/s]\n"
     ]
    },
    {
     "name": "stdout",
     "output_type": "stream",
     "text": [
      "Test Error: \n",
      " Accuracy: 15.94%, Avg loss: 7.094925 \n",
      "\n",
      "<generator object Module.parameters at 0x000001955658A900>\n",
      "Epoch 18\n",
      "-------------------------------\n"
     ]
    },
    {
     "name": "stderr",
     "output_type": "stream",
     "text": [
      "100%|██████████████████████████████████████████████████████████████████████████████| 3960/3960 [01:43<00:00, 38.44it/s]\n"
     ]
    },
    {
     "name": "stdout",
     "output_type": "stream",
     "text": [
      "Train loss: 6.152485\n"
     ]
    },
    {
     "name": "stderr",
     "output_type": "stream",
     "text": [
      "100%|████████████████████████████████████████████████████████████████████████████████| 123/123 [00:03<00:00, 38.22it/s]\n"
     ]
    },
    {
     "name": "stdout",
     "output_type": "stream",
     "text": [
      "Test Error: \n",
      " Accuracy: 15.91%, Avg loss: 7.103459 \n",
      "\n",
      "<generator object Module.parameters at 0x000001955658A900>\n",
      "Epoch 19\n",
      "-------------------------------\n"
     ]
    },
    {
     "name": "stderr",
     "output_type": "stream",
     "text": [
      "100%|██████████████████████████████████████████████████████████████████████████████| 3960/3960 [01:41<00:00, 38.92it/s]\n"
     ]
    },
    {
     "name": "stdout",
     "output_type": "stream",
     "text": [
      "Train loss: 6.152281\n"
     ]
    },
    {
     "name": "stderr",
     "output_type": "stream",
     "text": [
      "100%|████████████████████████████████████████████████████████████████████████████████| 123/123 [00:02<00:00, 41.98it/s]\n"
     ]
    },
    {
     "name": "stdout",
     "output_type": "stream",
     "text": [
      "Test Error: \n",
      " Accuracy: 15.93%, Avg loss: 7.096603 \n",
      "\n",
      "<generator object Module.parameters at 0x000001955658A890>\n",
      "Epoch 20\n",
      "-------------------------------\n"
     ]
    },
    {
     "name": "stderr",
     "output_type": "stream",
     "text": [
      "100%|██████████████████████████████████████████████████████████████████████████████| 3960/3960 [01:41<00:00, 38.97it/s]\n"
     ]
    },
    {
     "name": "stdout",
     "output_type": "stream",
     "text": [
      "Train loss: 6.152092\n"
     ]
    },
    {
     "name": "stderr",
     "output_type": "stream",
     "text": [
      "100%|████████████████████████████████████████████████████████████████████████████████| 123/123 [00:02<00:00, 42.07it/s]"
     ]
    },
    {
     "name": "stdout",
     "output_type": "stream",
     "text": [
      "Test Error: \n",
      " Accuracy: 15.91%, Avg loss: 7.100524 \n",
      "\n",
      "<generator object Module.parameters at 0x000001955658A200>\n",
      "Done!\n"
     ]
    },
    {
     "name": "stderr",
     "output_type": "stream",
     "text": [
      "\n"
     ]
    }
   ],
   "source": [
    "device = \"cuda\" if torch.cuda.is_available() else \"cpu\"\n",
    "model = Network(len(train_rec_file_list), k=10).to(device)\n",
    "loss_fn = nn.CrossEntropyLoss()\n",
    "optimizer = torch.optim.Adam(model.parameters(), lr=0.00001)\n",
    "\n",
    "def train_loop(dataloader, model, loss_fn, optimizer):\n",
    "    size = len(dataloader.dataset)\n",
    "    total_loss = 0\n",
    "    for batch, (X, y) in tqdm(enumerate(dataloader),total=len(dataloader)):\n",
    "        pred = model(X)\n",
    "        loss = loss_fn(pred, y)\n",
    "        \n",
    "        optimizer.zero_grad()\n",
    "        loss.backward()\n",
    "        optimizer.step()\n",
    "        total_loss += loss.item() * int(X.size(0))\n",
    "    avg_loss = total_loss / size\n",
    "    print(f\"Train loss: {avg_loss:>7f}\")\n",
    "    return avg_loss\n",
    "            \n",
    "def test_loop(dataloader, model, loss_fn):\n",
    "    size = len(dataloader.dataset)\n",
    "    num_batches = len(dataloader)\n",
    "    test_loss, correct = 0, 0\n",
    "\n",
    "    with torch.no_grad():\n",
    "        for X, y in tqdm(dataloader):\n",
    "            pred = model(X)\n",
    "            test_loss += loss_fn(pred, y).item() * int(X.size(0))\n",
    "            correct += (pred.argmax(1) == y).type(torch.float).sum().item()\n",
    "\n",
    "    test_loss /= size\n",
    "    correct /= size\n",
    "    print(f\"Test Error: \\n Accuracy: {(100*correct):>0.2f}%, Avg loss: {test_loss:>8f} \\n\")\n",
    "    return test_loss, correct\n",
    "        \n",
    "train_loss_lst = []\n",
    "test_loss_lst = []\n",
    "test_acc_lst = []\n",
    "min_test_acc = 0\n",
    "for t in range(epochs):\n",
    "    print(f\"Epoch {t+1}\\n-------------------------------\")\n",
    "    train_loss = train_loop(train_dataloader, model, loss_fn, optimizer)\n",
    "    test_loss, test_acc = test_loop(test_dataloader, model, loss_fn)\n",
    "    train_loss_lst.append(train_loss)\n",
    "    test_loss_lst.append(test_loss)\n",
    "    test_acc_lst.append(test_acc)\n",
    "    print(model.parameters())\n",
    "    if test_acc > min_test_acc:\n",
    "        min_test_acc = test_acc\n",
    "        torch.save(model.state_dict(), state_dict_save_path)\n",
    "        print(\"save\")\n",
    "print(\"Done!\")"
   ]
  },
  {
   "cell_type": "code",
   "execution_count": 15,
   "id": "b8dd36b9",
   "metadata": {},
   "outputs": [
    {
     "data": {
      "image/png": "[encoded data removed]",
      "text/plain": [
       "<Figure size 576x360 with 1 Axes>"
      ]
     },
     "metadata": {
      "needs_background": "light"
     },
     "output_type": "display_data"
    },
    {
     "data": {
      "image/png": "[encoded data removed]",
      "text/plain": [
       "<Figure size 576x360 with 1 Axes>"
      ]
     },
     "metadata": {
      "needs_background": "light"
     },
     "output_type": "display_data"
    }
   ],
   "source": [
    "import matplotlib.pyplot as plt\n",
    "epoch_lst = list(range(1, epochs+1))\n",
    "plt.figure(figsize=(8,5))\n",
    "plt.title(\"Loss of Ensemble Training\")\n",
    "plt.xlabel('Epoch')\n",
    "plt.ylabel('Cross Entropy Loss')\n",
    "plt.xticks(epoch_lst)\n",
    "plt.plot(epoch_lst, train_loss_lst, label='train loss')\n",
    "plt.plot(epoch_lst, test_loss_lst, label = 'validation loss')\n",
    "plt.legend()\n",
    "plt.savefig(loss_fig_path)\n",
    "plt.show()\n",
    "\n",
    "max_val = 0.157\n",
    "plt.figure(figsize=(8,5))\n",
    "plt.title(\"Accuracy of Ensemble Training\")\n",
    "plt.xlabel('Epoch')\n",
    "plt.ylabel('Accuracy')\n",
    "plt.xticks(epoch_lst)\n",
    "plt.plot(epoch_lst, test_acc_lst, label='ensemble model')\n",
    "plt.plot(epoch_lst, [max_val]*epochs, label='best single model')\n",
    "plt.legend()\n",
    "plt.savefig(acc_fig_path)\n",
    "plt.show()"
   ]
  },
  {
   "cell_type": "code",
   "execution_count": null,
   "id": "9676d698",
   "metadata": {},
   "outputs": [],
   "source": []
  }
 ],
 "metadata": {
  "kernelspec": {
   "display_name": "Python 3 (ipykernel)",
   "language": "python",
   "name": "python3"
  },
  "language_info": {
   "codemirror_mode": {
    "name": "ipython",
    "version": 3
   },
   "file_extension": ".py",
   "mimetype": "text/x-python",
   "name": "python",
   "nbconvert_exporter": "python",
   "pygments_lexer": "ipython3",
   "version": "3.9.7"
  }
 },
 "nbformat": 4,
 "nbformat_minor": 5
}

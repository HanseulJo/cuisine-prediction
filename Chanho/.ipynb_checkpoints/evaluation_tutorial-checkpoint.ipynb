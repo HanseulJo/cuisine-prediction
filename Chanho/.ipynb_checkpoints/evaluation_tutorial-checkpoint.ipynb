{
 "cells": [
  {
   "cell_type": "code",
   "execution_count": 1,
   "id": "8f26037b",
   "metadata": {},
   "outputs": [],
   "source": [
    "import pickle\n",
    "from evaluation import get_metric\n",
    "import h5py\n",
    "import numpy as np\n",
    "\n",
    "# Get Answer\n",
    "h5f_valid = h5py.File('./Container/valid_cpl', 'r')\n",
    "answer = h5f_valid['labels_id'][:].astype(np.int64)\n",
    "h5f_valid.close()\n",
    "\n",
    "# Get Reco result\n",
    "with open(\"./recs/Graph_rec_cpl_4_1_depth_2.pickle\", 'rb') as f:\n",
    "    recs = pickle.load(f)\n",
    "    \n",
    "answer_dict = {}\n",
    "for i, ans in enumerate(answer):\n",
    "    answer_dict[i] = ans"
   ]
  },
  {
   "cell_type": "code",
   "execution_count": 2,
   "id": "05d97d40",
   "metadata": {},
   "outputs": [],
   "source": [
    "metric = get_metric(recs, answer_dict)"
   ]
  },
  {
   "cell_type": "code",
   "execution_count": 3,
   "id": "1e575ded",
   "metadata": {},
   "outputs": [
    {
     "data": {
      "text/plain": [
       "{'macro': 0.001089542780199017,\n",
       " 'micro': 0.07135575942915393,\n",
       " 'accuracy': 0.07135575942915393,\n",
       " 'map': 0.12983931807517468,\n",
       " 'recall': 0.29281345565749234,\n",
       " 'recall_rank': 4.110095735422107}"
      ]
     },
     "execution_count": 3,
     "metadata": {},
     "output_type": "execute_result"
    }
   ],
   "source": [
    "metric"
   ]
  },
  {
   "cell_type": "code",
   "execution_count": 4,
   "id": "f956a337",
   "metadata": {},
   "outputs": [
    {
     "data": {
      "text/plain": [
       "{'macro': 0.0007407028668218775,\n",
       " 'micro': 0.06396534148827727,\n",
       " 'accuracy': 0.06396534148827727,\n",
       " 'map': 0.11366301999902928,\n",
       " 'recall': 0.24872579001019368,\n",
       " 'recall_rank': 3.9410860655737703}"
      ]
     },
     "execution_count": 4,
     "metadata": {},
     "output_type": "execute_result"
    }
   ],
   "source": [
    "# Get Reco result\n",
    "with open(\"./recs/Graph_rec_cpl_4_1_depth_2.pickle\", 'rb') as f:\n",
    "    recs = pickle.load(f)\n",
    "metric = get_metric(recs, answer_dict)\n",
    "metric"
   ]
  },
  {
   "cell_type": "code",
   "execution_count": null,
   "id": "5b32ba34",
   "metadata": {},
   "outputs": [],
   "source": []
  }
 ],
 "metadata": {
  "kernelspec": {
   "display_name": "Python 3",
   "language": "python",
   "name": "python3"
  },
  "language_info": {
   "codemirror_mode": {
    "name": "ipython",
    "version": 3
   },
   "file_extension": ".py",
   "mimetype": "text/x-python",
   "name": "python",
   "nbconvert_exporter": "python",
   "pygments_lexer": "ipython3",
   "version": "3.9.5"
  }
 },
 "nbformat": 4,
 "nbformat_minor": 5
}

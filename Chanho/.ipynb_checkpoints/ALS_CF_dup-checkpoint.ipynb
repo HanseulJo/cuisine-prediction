{
 "cells": [
  {
   "cell_type": "code",
   "execution_count": 1,
   "id": "19f5a91c",
   "metadata": {},
   "outputs": [],
   "source": [
    "import numpy as np\n",
    "import pickle\n",
    "import h5py\n",
    "from implicit.als import AlternatingLeastSquares\n",
    "from scipy.sparse import csr_matrix\n",
    "from sklearn.metrics import f1_score, accuracy_score"
   ]
  },
  {
   "cell_type": "code",
   "execution_count": 2,
   "id": "a610e95d",
   "metadata": {},
   "outputs": [],
   "source": [
    "h5f_train = h5py.File('./Container/train_modified', 'r')\n",
    "train_features = h5f_train['features_boolean'][:]\n",
    "train_labels = h5f_train['labels_int_enc'][:]\n",
    "h5f_train.close()"
   ]
  },
  {
   "cell_type": "code",
   "execution_count": 3,
   "id": "d6a98d44",
   "metadata": {},
   "outputs": [],
   "source": [
    "h5f_valid = h5py.File('./Container/valid_cpl_modified', 'r')\n",
    "valid_features = h5f_valid['features_cpl'][:]\n",
    "valid_answer = h5f_valid['features_answer'][:]\n",
    "answer = np.where(valid_answer - valid_features == 1)[1]\n",
    "h5f_valid.close()"
   ]
  },
  {
   "cell_type": "code",
   "execution_count": 4,
   "id": "d5c7ef65",
   "metadata": {},
   "outputs": [],
   "source": [
    "features = np.vstack([train_features, valid_features])\n",
    "features_csr = csr_matrix(features)\n",
    "features_csr_T = csr_matrix(features_csr.T)"
   ]
  },
  {
   "cell_type": "code",
   "execution_count": 5,
   "id": "1db1106a",
   "metadata": {
    "scrolled": true
   },
   "outputs": [
    {
     "name": "stderr",
     "output_type": "stream",
     "text": [
      "C:\\Users\\kami.DESKTOP-5P4EH18\\anaconda3\\envs\\pytorch\\lib\\site-packages\\implicit\\utils.py:31: UserWarning: Intel MKL BLAS detected. Its highly recommend to set the environment variable 'export MKL_NUM_THREADS=1' to disable its internal multithreading\n",
      "  warnings.warn(\n"
     ]
    },
    {
     "data": {
      "application/vnd.jupyter.widget-view+json": {
       "model_id": "eb6ddb21e1f54d2fb5bc65bb8edef3c6",
       "version_major": 2,
       "version_minor": 0
      },
      "text/plain": [
       "  0%|          | 0/15 [00:00<?, ?it/s]"
      ]
     },
     "metadata": {},
     "output_type": "display_data"
    },
    {
     "name": "stdout",
     "output_type": "stream",
     "text": [
      "dim: 2\tmacro_f1: 0.0004750632078575198\tmicro_f1: 0.04765545361875637\tacc: 0.04765545361875637\tMAP: 0.09006283068783075\trecall: 0.21100917431192662\n"
     ]
    },
    {
     "data": {
      "application/vnd.jupyter.widget-view+json": {
       "model_id": "213a088b7a9b4fbe9ef135c528309472",
       "version_major": 2,
       "version_minor": 0
      },
      "text/plain": [
       "  0%|          | 0/15 [00:00<?, ?it/s]"
      ]
     },
     "metadata": {},
     "output_type": "display_data"
    },
    {
     "name": "stdout",
     "output_type": "stream",
     "text": [
      "dim: 4\tmacro_f1: 0.0008898143852345963\tmicro_f1: 0.05632008154943935\tacc: 0.05632008154943935\tMAP: 0.09994316618934367\trecall: 0.2209480122324159\n"
     ]
    },
    {
     "data": {
      "application/vnd.jupyter.widget-view+json": {
       "model_id": "51ce3f9a7d59442cb69f3bb6f2e75e52",
       "version_major": 2,
       "version_minor": 0
      },
      "text/plain": [
       "  0%|          | 0/15 [00:00<?, ?it/s]"
      ]
     },
     "metadata": {},
     "output_type": "display_data"
    },
    {
     "name": "stdout",
     "output_type": "stream",
     "text": [
      "dim: 8\tmacro_f1: 0.0011216011308288424\tmicro_f1: 0.053261977573904176\tacc: 0.053261977573904176\tMAP: 0.09710218355096042\trecall: 0.22260448521916412\n"
     ]
    },
    {
     "data": {
      "application/vnd.jupyter.widget-view+json": {
       "model_id": "d95c966815bd4249966f43f03c5a5691",
       "version_major": 2,
       "version_minor": 0
      },
      "text/plain": [
       "  0%|          | 0/15 [00:00<?, ?it/s]"
      ]
     },
     "metadata": {},
     "output_type": "display_data"
    },
    {
     "name": "stdout",
     "output_type": "stream",
     "text": [
      "dim: 16\tmacro_f1: 0.001476052530246141\tmicro_f1: 0.04650866462793069\tacc: 0.046508664627930685\tMAP: 0.09174220911606243\trecall: 0.2260448521916412\n"
     ]
    },
    {
     "data": {
      "application/vnd.jupyter.widget-view+json": {
       "model_id": "90f5652d1434417abc9f41b092df95a6",
       "version_major": 2,
       "version_minor": 0
      },
      "text/plain": [
       "  0%|          | 0/15 [00:00<?, ?it/s]"
      ]
     },
     "metadata": {},
     "output_type": "display_data"
    },
    {
     "name": "stdout",
     "output_type": "stream",
     "text": [
      "dim: 32\tmacro_f1: 0.002853501670329486\tmicro_f1: 0.04345056065239551\tacc: 0.04345056065239551\tMAP: 0.0824474540070872\trecall: 0.1966106014271152\n"
     ]
    }
   ],
   "source": [
    "macro_f1_lst = []\n",
    "micro_f1_lst = []\n",
    "acc_lst = []\n",
    "MAP_lst = []\n",
    "recall10_lst = []\n",
    "for i in range(1, 6):\n",
    "    model = AlternatingLeastSquares(factors=2**i, regularization=0.01, calculate_training_loss=True)\n",
    "    model.fit(features_csr)\n",
    "    recommends, scores = model.recommend([x for x in range(len(train_features), len(features))], \n",
    "                                  features_csr[len(train_features):len(features)], N=10)\n",
    "    top_recommends = recommends[:,0].flatten()\n",
    "    MAP = 0\n",
    "    recall10 = 0\n",
    "    recs = {}\n",
    "    for query_idx in range(len(recommends)):\n",
    "        recs[query_idx] = []\n",
    "        for j, rec in enumerate(recommends[query_idx]):\n",
    "            recs[query_idx].append((rec, scores[query_idx][j]))\n",
    "            if answer[query_idx] == rec:\n",
    "                MAP += 1/(j+1)\n",
    "                recall10 += 1\n",
    "    MAP = MAP / len(recommends)\n",
    "    recall10 = recall10/len(recommends)\n",
    "    \n",
    "    MAP_lst.append(MAP)\n",
    "    recall10_lst.append(recall10)\n",
    "    \n",
    "    macro_f1 = f1_score(answer, top_recommends, average='macro')\n",
    "    micro_f1 = f1_score(answer, top_recommends, average='micro')\n",
    "    accuracy = accuracy_score(answer, top_recommends)\n",
    "    macro_f1_lst.append(macro_f1)\n",
    "    micro_f1_lst.append(micro_f1)\n",
    "    acc_lst.append(accuracy)\n",
    "    print(\"dim: {}\\tmacro_f1: {}\\tmicro_f1: {}\\tacc: {}\\tMAP: {}\\trecall: {}\".format(2**i, macro_f1, micro_f1, accuracy, MAP, recall10))\n",
    "    with open(\"./recs/CF_rec_cpl_modified_dim_{}.pickle\".format(2**i), 'wb') as f:\n",
    "        pickle.dump(recs, f)"
   ]
  },
  {
   "cell_type": "code",
   "execution_count": 7,
   "id": "b7558d27",
   "metadata": {},
   "outputs": [
    {
     "data": {
      "image/png": "[encoded data removed]",
      "text/plain": [
       "<Figure size 720x504 with 1 Axes>"
      ]
     },
     "metadata": {
      "needs_background": "light"
     },
     "output_type": "display_data"
    },
    {
     "data": {
      "text/plain": [
       "<Figure size 432x288 with 0 Axes>"
      ]
     },
     "metadata": {},
     "output_type": "display_data"
    }
   ],
   "source": [
    "import matplotlib.pyplot as plt\n",
    "\n",
    "plt.figure(figsize=(10,7))\n",
    "plt.plot([2,4,8,16,32], macro_f1_lst, 'o-', label='macro-f1')\n",
    "plt.plot([2,4,8,16,32], micro_f1_lst, 'o-', label='micro-f1')\n",
    "plt.plot([2,4,8,16,32], acc_lst, 'o-', label='acc')\n",
    "plt.plot([2,4,8,16,32], MAP_lst, 'o-', label='MAP')\n",
    "plt.plot([2,4,8,16,32], recall10_lst, 'o-', label='recall@10')\n",
    "plt.title(\"CF base reco score\")\n",
    "plt.xscale('log', base=2)\n",
    "plt.legend()\n",
    "plt.show()\n",
    "plt.savefig('./Data_analysis/CF_modifed_scores.png', dpi=100)"
   ]
  },
  {
   "cell_type": "code",
   "execution_count": 8,
   "id": "65e00c74",
   "metadata": {},
   "outputs": [
    {
     "data": {
      "image/png": "[encoded data removed]",
      "text/plain": [
       "<Figure size 720x504 with 1 Axes>"
      ]
     },
     "metadata": {
      "needs_background": "light"
     },
     "output_type": "display_data"
    },
    {
     "data": {
      "text/plain": [
       "<Figure size 432x288 with 0 Axes>"
      ]
     },
     "metadata": {},
     "output_type": "display_data"
    }
   ],
   "source": [
    "plt.figure(figsize=(10,7))\n",
    "plt.plot([2,4,8,16,32], macro_f1_lst, 'ro-')\n",
    "plt.title(\"macro_f1 score\")\n",
    "plt.xscale('log', base=2)\n",
    "plt.show()\n",
    "plt.savefig('./Data_analysis/CF_modified_macro_score.png', dpi=100)"
   ]
  },
  {
   "cell_type": "code",
   "execution_count": 9,
   "id": "0cc2430b",
   "metadata": {},
   "outputs": [
    {
     "data": {
      "image/png": "[encoded data removed]",
      "text/plain": [
       "<Figure size 720x504 with 1 Axes>"
      ]
     },
     "metadata": {
      "needs_background": "light"
     },
     "output_type": "display_data"
    },
    {
     "data": {
      "text/plain": [
       "<Figure size 432x288 with 0 Axes>"
      ]
     },
     "metadata": {},
     "output_type": "display_data"
    }
   ],
   "source": [
    "plt.figure(figsize=(10,7))\n",
    "plt.plot([2,4,8,16,32], micro_f1_lst, 'ro-')\n",
    "plt.title(\"micro_f1 score\")\n",
    "plt.xscale('log', base=2)\n",
    "plt.show()\n",
    "plt.savefig('./Data_analysis/CF_modified_micro_score.png', dpi=100)"
   ]
  },
  {
   "cell_type": "code",
   "execution_count": 10,
   "id": "619c725f",
   "metadata": {},
   "outputs": [
    {
     "data": {
      "image/png": "[encoded data removed]",
      "text/plain": [
       "<Figure size 720x504 with 1 Axes>"
      ]
     },
     "metadata": {
      "needs_background": "light"
     },
     "output_type": "display_data"
    },
    {
     "data": {
      "text/plain": [
       "<Figure size 432x288 with 0 Axes>"
      ]
     },
     "metadata": {},
     "output_type": "display_data"
    }
   ],
   "source": [
    "plt.figure(figsize=(10,7))\n",
    "plt.plot([2,4,8,16,32], acc_lst, 'ro-')\n",
    "plt.title(\"acc score\")\n",
    "plt.xscale('log', base=2)\n",
    "plt.show()\n",
    "plt.savefig('./Data_analysis/CF_modified_acc_score.png', dpi=100)"
   ]
  },
  {
   "cell_type": "code",
   "execution_count": 11,
   "id": "71919acb",
   "metadata": {},
   "outputs": [
    {
     "data": {
      "image/png": "[encoded data removed]",
      "text/plain": [
       "<Figure size 720x504 with 1 Axes>"
      ]
     },
     "metadata": {
      "needs_background": "light"
     },
     "output_type": "display_data"
    },
    {
     "data": {
      "text/plain": [
       "<Figure size 432x288 with 0 Axes>"
      ]
     },
     "metadata": {},
     "output_type": "display_data"
    }
   ],
   "source": [
    "plt.figure(figsize=(10,7))\n",
    "plt.plot([2,4,8,16,32], MAP_lst, 'ro-')\n",
    "plt.title(\"MAP score\")\n",
    "plt.xscale('log', base=2)\n",
    "plt.show()\n",
    "plt.savefig('./Data_analysis/CF_modified_MAP_score.png', dpi=100)"
   ]
  },
  {
   "cell_type": "code",
   "execution_count": 12,
   "id": "5024d2f0",
   "metadata": {},
   "outputs": [
    {
     "data": {
      "image/png": "[encoded data removed]",
      "text/plain": [
       "<Figure size 720x504 with 1 Axes>"
      ]
     },
     "metadata": {
      "needs_background": "light"
     },
     "output_type": "display_data"
    },
    {
     "data": {
      "text/plain": [
       "<Figure size 432x288 with 0 Axes>"
      ]
     },
     "metadata": {},
     "output_type": "display_data"
    }
   ],
   "source": [
    "plt.figure(figsize=(10,7))\n",
    "plt.plot([2,4,8,16,32], recall10_lst, 'ro-')\n",
    "plt.title(\"recall@10_f1 score\")\n",
    "plt.xscale('log', base=2)\n",
    "plt.show()\n",
    "plt.savefig('./Data_analysis/CF_modified_recall_10_score.png', dpi=100)"
   ]
  },
  {
   "cell_type": "code",
   "execution_count": 117,
   "id": "d42945ce",
   "metadata": {},
   "outputs": [
    {
     "data": {
      "application/vnd.jupyter.widget-view+json": {
       "model_id": "d13cf38492304992b76c6cff46c4307b",
       "version_major": 2,
       "version_minor": 0
      },
      "text/plain": [
       "  0%|          | 0/100 [00:00<?, ?it/s]"
      ]
     },
     "metadata": {},
     "output_type": "display_data"
    },
    {
     "name": "stdout",
     "output_type": "stream",
     "text": [
      "dim: 2\tmacro_f1: 0.0009405010921610203\tmicro_f1: 0.02854230377166157\tacc: 0.02854230377166157\tMAP: 0.046255036163293003\trecall: 0.09365443425076453\n"
     ]
    },
    {
     "data": {
      "application/vnd.jupyter.widget-view+json": {
       "model_id": "498c7cfaec9e4a2689ad10ba3ad7624c",
       "version_major": 2,
       "version_minor": 0
      },
      "text/plain": [
       "  0%|          | 0/100 [00:00<?, ?it/s]"
      ]
     },
     "metadata": {},
     "output_type": "display_data"
    },
    {
     "name": "stdout",
     "output_type": "stream",
     "text": [
      "dim: 4\tmacro_f1: 0.0028400335365206214\tmicro_f1: 0.02854230377166157\tacc: 0.02854230377166157\tMAP: 0.04689421427762405\trecall: 0.10117227319062182\n"
     ]
    },
    {
     "data": {
      "application/vnd.jupyter.widget-view+json": {
       "model_id": "fac6bacf5c7e46e8adcbca837f42386b",
       "version_major": 2,
       "version_minor": 0
      },
      "text/plain": [
       "  0%|          | 0/100 [00:00<?, ?it/s]"
      ]
     },
     "metadata": {},
     "output_type": "display_data"
    },
    {
     "name": "stdout",
     "output_type": "stream",
     "text": [
      "dim: 8\tmacro_f1: 0.004577428524304832\tmicro_f1: 0.02522935779816514\tacc: 0.02522935779816514\tMAP: 0.04695114921605749\trecall: 0.10983690112130479\n"
     ]
    },
    {
     "data": {
      "application/vnd.jupyter.widget-view+json": {
       "model_id": "a0e5c49d5fea404d97e7ba194efc27c4",
       "version_major": 2,
       "version_minor": 0
      },
      "text/plain": [
       "  0%|          | 0/100 [00:00<?, ?it/s]"
      ]
     },
     "metadata": {},
     "output_type": "display_data"
    },
    {
     "name": "stdout",
     "output_type": "stream",
     "text": [
      "dim: 16\tmacro_f1: 0.005782328840630694\tmicro_f1: 0.022553516819571864\tacc: 0.022553516819571864\tMAP: 0.04541243952558933\trecall: 0.11595310907237513\n"
     ]
    },
    {
     "data": {
      "application/vnd.jupyter.widget-view+json": {
       "model_id": "9fee7eb0764c4ddcaf4b665465488326",
       "version_major": 2,
       "version_minor": 0
      },
      "text/plain": [
       "  0%|          | 0/100 [00:00<?, ?it/s]"
      ]
     },
     "metadata": {},
     "output_type": "display_data"
    },
    {
     "name": "stdout",
     "output_type": "stream",
     "text": [
      "dim: 32\tmacro_f1: 0.008331752151179915\tmicro_f1: 0.03147298674821611\tacc: 0.03147298674821611\tMAP: 0.0540535552481271\trecall: 0.12066768603465851\n"
     ]
    },
    {
     "data": {
      "application/vnd.jupyter.widget-view+json": {
       "model_id": "18b0bdffcf2a4e38bdcab6caf65d249f",
       "version_major": 2,
       "version_minor": 0
      },
      "text/plain": [
       "  0%|          | 0/100 [00:00<?, ?it/s]"
      ]
     },
     "metadata": {},
     "output_type": "display_data"
    },
    {
     "name": "stdout",
     "output_type": "stream",
     "text": [
      "dim: 64\tmacro_f1: 0.00786768189286426\tmicro_f1: 0.03109072375127421\tacc: 0.03109072375127421\tMAP: 0.05205491642800503\trecall: 0.11557084607543323\n"
     ]
    },
    {
     "data": {
      "application/vnd.jupyter.widget-view+json": {
       "model_id": "7c75ce79cd994e3690b0183affca3bc5",
       "version_major": 2,
       "version_minor": 0
      },
      "text/plain": [
       "  0%|          | 0/100 [00:00<?, ?it/s]"
      ]
     },
     "metadata": {},
     "output_type": "display_data"
    },
    {
     "name": "stdout",
     "output_type": "stream",
     "text": [
      "dim: 128\tmacro_f1: 0.007705971374595482\tmicro_f1: 0.030071355759429153\tacc: 0.030071355759429153\tMAP: 0.051504983576848976\trecall: 0.11824668705402651\n"
     ]
    },
    {
     "data": {
      "application/vnd.jupyter.widget-view+json": {
       "model_id": "39938ad2228f48c49f0d8ef9515556a6",
       "version_major": 2,
       "version_minor": 0
      },
      "text/plain": [
       "  0%|          | 0/100 [00:00<?, ?it/s]"
      ]
     },
     "metadata": {},
     "output_type": "display_data"
    },
    {
     "name": "stdout",
     "output_type": "stream",
     "text": [
      "dim: 256\tmacro_f1: 0.005859093857500312\tmicro_f1: 0.03058103975535168\tacc: 0.03058103975535168\tMAP: 0.053701175509279456\trecall: 0.11990316004077473\n"
     ]
    },
    {
     "data": {
      "application/vnd.jupyter.widget-view+json": {
       "model_id": "f69073359bc34af782dad7eb81e8851d",
       "version_major": 2,
       "version_minor": 0
      },
      "text/plain": [
       "  0%|          | 0/100 [00:00<?, ?it/s]"
      ]
     },
     "metadata": {},
     "output_type": "display_data"
    },
    {
     "name": "stdout",
     "output_type": "stream",
     "text": [
      "dim: 512\tmacro_f1: 0.006294933253806808\tmicro_f1: 0.02841488277268094\tacc: 0.02841488277268094\tMAP: 0.05197542999530759\trecall: 0.12117737003058104\n"
     ]
    },
    {
     "data": {
      "application/vnd.jupyter.widget-view+json": {
       "model_id": "5e66d0c0c2ad45de88bdac9c4a9c4cfe",
       "version_major": 2,
       "version_minor": 0
      },
      "text/plain": [
       "  0%|          | 0/100 [00:00<?, ?it/s]"
      ]
     },
     "metadata": {},
     "output_type": "display_data"
    },
    {
     "name": "stdout",
     "output_type": "stream",
     "text": [
      "dim: 1024\tmacro_f1: 0.005642007067007356\tmicro_f1: 0.027905198776758414\tacc: 0.02790519877675841\tMAP: 0.05083440528776916\trecall: 0.11709989806320081\n"
     ]
    }
   ],
   "source": [
    "from implicit.bpr import BayesianPersonalizedRanking\n",
    "macro_f1_lst = []\n",
    "micro_f1_lst = []\n",
    "acc_lst = []\n",
    "MAP_lst = []\n",
    "recall10_lst = []\n",
    "for i in range(1, 11):\n",
    "    model = BayesianPersonalizedRanking(factors=2**i, regularization=0.01)\n",
    "    model.fit(features_csr)\n",
    "    recommends, scores = model.recommend([x for x in range(len(train_features), len(features))], \n",
    "                                  features_csr[len(train_features):len(features)], N=10)\n",
    "    top_recommends = recommends[:,0].flatten()\n",
    "    \n",
    "    MAP = 0\n",
    "    recall10 = 0\n",
    "    for query_idx in range(len(recommends)):\n",
    "        for j, rec in enumerate(recommends[query_idx]):\n",
    "            if answer[query_idx] == rec:\n",
    "                MAP += 1/(j+1)\n",
    "                recall10 += 1\n",
    "                break\n",
    "    MAP = MAP / len(recommends)\n",
    "    recall10 = recall10/len(recommends)\n",
    "    \n",
    "    MAP_lst.append(MAP)\n",
    "    recall10_lst.append(recall10)\n",
    "    \n",
    "    macro_f1 = f1_score(answer, top_recommends, average='macro')\n",
    "    micro_f1 = f1_score(answer, top_recommends, average='micro')\n",
    "    accuracy = accuracy_score(answer, top_recommends)\n",
    "    macro_f1_lst.append(macro_f1)\n",
    "    micro_f1_lst.append(micro_f1)\n",
    "    acc_lst.append(accuracy)\n",
    "    print(\"dim: {}\\tmacro_f1: {}\\tmicro_f1: {}\\tacc: {}\\tMAP: {}\\trecall: {}\".format(2**i, macro_f1, micro_f1, accuracy, MAP, recall10))"
   ]
  },
  {
   "cell_type": "code",
   "execution_count": 118,
   "id": "ec28a0da",
   "metadata": {},
   "outputs": [
    {
     "data": {
      "application/vnd.jupyter.widget-view+json": {
       "model_id": "26688699eaa249779dcd60d4b5f064c2",
       "version_major": 2,
       "version_minor": 0
      },
      "text/plain": [
       "  0%|          | 0/30 [00:00<?, ?it/s]"
      ]
     },
     "metadata": {},
     "output_type": "display_data"
    },
    {
     "name": "stdout",
     "output_type": "stream",
     "text": [
      "dim: 2\tmacro_f1: 0.00016759485927682558\tmicro_f1: 0.01643730886850153\tacc: 0.01643730886850153\tMAP: 0.024130351681957176\trecall: 0.046890927624872576\n"
     ]
    },
    {
     "data": {
      "application/vnd.jupyter.widget-view+json": {
       "model_id": "b7e2faa6e89d4088b49760487864e224",
       "version_major": 2,
       "version_minor": 0
      },
      "text/plain": [
       "  0%|          | 0/30 [00:00<?, ?it/s]"
      ]
     },
     "metadata": {},
     "output_type": "display_data"
    },
    {
     "name": "stdout",
     "output_type": "stream",
     "text": [
      "dim: 4\tmacro_f1: 0.0007753368229662079\tmicro_f1: 0.007517838939857288\tacc: 0.007517838939857288\tMAP: 0.018792928741323232\trecall: 0.054408766564729864\n"
     ]
    },
    {
     "data": {
      "application/vnd.jupyter.widget-view+json": {
       "model_id": "ba61b20e7fd0440ab5ecd4f223557fc3",
       "version_major": 2,
       "version_minor": 0
      },
      "text/plain": [
       "  0%|          | 0/30 [00:00<?, ?it/s]"
      ]
     },
     "metadata": {},
     "output_type": "display_data"
    },
    {
     "name": "stdout",
     "output_type": "stream",
     "text": [
      "dim: 8\tmacro_f1: 0.0010473606347854523\tmicro_f1: 0.007900101936799185\tacc: 0.007900101936799185\tMAP: 0.020119219536268454\trecall: 0.0609072375127421\n"
     ]
    },
    {
     "data": {
      "application/vnd.jupyter.widget-view+json": {
       "model_id": "8eb56370337140489c39e4c7bfa542a6",
       "version_major": 2,
       "version_minor": 0
      },
      "text/plain": [
       "  0%|          | 0/30 [00:00<?, ?it/s]"
      ]
     },
     "metadata": {},
     "output_type": "display_data"
    },
    {
     "name": "stdout",
     "output_type": "stream",
     "text": [
      "dim: 16\tmacro_f1: 0.0017355854744171555\tmicro_f1: 0.005733944954128441\tacc: 0.005733944954128441\tMAP: 0.016610338494895068\trecall: 0.05007645259938838\n"
     ]
    },
    {
     "data": {
      "application/vnd.jupyter.widget-view+json": {
       "model_id": "e67ccc56c2054079a62ded0f6f231cc2",
       "version_major": 2,
       "version_minor": 0
      },
      "text/plain": [
       "  0%|          | 0/30 [00:00<?, ?it/s]"
      ]
     },
     "metadata": {},
     "output_type": "display_data"
    },
    {
     "name": "stdout",
     "output_type": "stream",
     "text": [
      "dim: 32\tmacro_f1: 0.0014424066156967928\tmicro_f1: 0.0031855249745158\tacc: 0.0031855249745158\tMAP: 0.01020323649337412\trecall: 0.034658511722731905\n"
     ]
    },
    {
     "data": {
      "application/vnd.jupyter.widget-view+json": {
       "model_id": "7c3068c0cf1b4805914913dda14379bc",
       "version_major": 2,
       "version_minor": 0
      },
      "text/plain": [
       "  0%|          | 0/30 [00:00<?, ?it/s]"
      ]
     },
     "metadata": {},
     "output_type": "display_data"
    },
    {
     "name": "stdout",
     "output_type": "stream",
     "text": [
      "dim: 64\tmacro_f1: 0.001172443809490854\tmicro_f1: 0.002420998980632008\tacc: 0.002420998980632008\tMAP: 0.006958450641554628\trecall: 0.023955147808358817\n"
     ]
    },
    {
     "data": {
      "application/vnd.jupyter.widget-view+json": {
       "model_id": "83930521246c4c7585e18c32020376d4",
       "version_major": 2,
       "version_minor": 0
      },
      "text/plain": [
       "  0%|          | 0/30 [00:00<?, ?it/s]"
      ]
     },
     "metadata": {},
     "output_type": "display_data"
    },
    {
     "name": "stdout",
     "output_type": "stream",
     "text": [
      "dim: 128\tmacro_f1: 0.0005370898656728068\tmicro_f1: 0.001656472986748216\tacc: 0.001656472986748216\tMAP: 0.004452251508826432\trecall: 0.01529051987767584\n"
     ]
    },
    {
     "data": {
      "application/vnd.jupyter.widget-view+json": {
       "model_id": "f3167e04c31641d38975dcaed68a95ad",
       "version_major": 2,
       "version_minor": 0
      },
      "text/plain": [
       "  0%|          | 0/30 [00:00<?, ?it/s]"
      ]
     },
     "metadata": {},
     "output_type": "display_data"
    },
    {
     "name": "stdout",
     "output_type": "stream",
     "text": [
      "dim: 256\tmacro_f1: 0.00023391329394393214\tmicro_f1: 0.0015290519877675841\tacc: 0.0015290519877675841\tMAP: 0.004007238726275423\trecall: 0.013124362895005097\n"
     ]
    },
    {
     "data": {
      "application/vnd.jupyter.widget-view+json": {
       "model_id": "ee238f82bdb94453af39224e7fdf0399",
       "version_major": 2,
       "version_minor": 0
      },
      "text/plain": [
       "  0%|          | 0/30 [00:00<?, ?it/s]"
      ]
     },
     "metadata": {},
     "output_type": "display_data"
    },
    {
     "name": "stdout",
     "output_type": "stream",
     "text": [
      "dim: 512\tmacro_f1: 0.0\tmicro_f1: 0.0\tacc: 0.0\tMAP: 0.00012696592398427257\trecall: 0.000891946992864424\n"
     ]
    },
    {
     "data": {
      "application/vnd.jupyter.widget-view+json": {
       "model_id": "db9eda24ffe04ad4b4ebb2782240ca56",
       "version_major": 2,
       "version_minor": 0
      },
      "text/plain": [
       "  0%|          | 0/30 [00:00<?, ?it/s]"
      ]
     },
     "metadata": {},
     "output_type": "display_data"
    },
    {
     "ename": "KeyboardInterrupt",
     "evalue": "",
     "output_type": "error",
     "traceback": [
      "\u001b[1;31m---------------------------------------------------------------------------\u001b[0m",
      "\u001b[1;31mKeyboardInterrupt\u001b[0m                         Traceback (most recent call last)",
      "Input \u001b[1;32mIn [118]\u001b[0m, in \u001b[0;36m<cell line: 7>\u001b[1;34m()\u001b[0m\n\u001b[0;32m      7\u001b[0m \u001b[38;5;28;01mfor\u001b[39;00m i \u001b[38;5;129;01min\u001b[39;00m \u001b[38;5;28mrange\u001b[39m(\u001b[38;5;241m1\u001b[39m, \u001b[38;5;241m11\u001b[39m):\n\u001b[0;32m      8\u001b[0m     model \u001b[38;5;241m=\u001b[39m LogisticMatrixFactorization(factors\u001b[38;5;241m=\u001b[39m\u001b[38;5;241m2\u001b[39m\u001b[38;5;241m*\u001b[39m\u001b[38;5;241m*\u001b[39mi, regularization\u001b[38;5;241m=\u001b[39m\u001b[38;5;241m0.01\u001b[39m)\n\u001b[1;32m----> 9\u001b[0m     \u001b[43mmodel\u001b[49m\u001b[38;5;241;43m.\u001b[39;49m\u001b[43mfit\u001b[49m\u001b[43m(\u001b[49m\u001b[43mfeatures_csr\u001b[49m\u001b[43m)\u001b[49m\n\u001b[0;32m     10\u001b[0m     recommends, scores \u001b[38;5;241m=\u001b[39m model\u001b[38;5;241m.\u001b[39mrecommend([x \u001b[38;5;28;01mfor\u001b[39;00m x \u001b[38;5;129;01min\u001b[39;00m \u001b[38;5;28mrange\u001b[39m(\u001b[38;5;28mlen\u001b[39m(train_features), \u001b[38;5;28mlen\u001b[39m(features))], \n\u001b[0;32m     11\u001b[0m                                   features_csr[\u001b[38;5;28mlen\u001b[39m(train_features):\u001b[38;5;28mlen\u001b[39m(features)], N\u001b[38;5;241m=\u001b[39m\u001b[38;5;241m10\u001b[39m)\n\u001b[0;32m     12\u001b[0m     top_recommends \u001b[38;5;241m=\u001b[39m recommends[:,\u001b[38;5;241m0\u001b[39m]\u001b[38;5;241m.\u001b[39mflatten()\n",
      "File \u001b[1;32mlmf.pyx:183\u001b[0m, in \u001b[0;36mimplicit.cpu.lmf.LogisticMatrixFactorization.fit\u001b[1;34m()\u001b[0m\n",
      "File \u001b[1;32mlmf.pyx:197\u001b[0m, in \u001b[0;36mimplicit.cpu.lmf.LogisticMatrixFactorization.fit\u001b[1;34m()\u001b[0m\n",
      "File \u001b[1;32m~\\anaconda3\\envs\\pytorch\\lib\\site-packages\\tqdm\\notebook.py:269\u001b[0m, in \u001b[0;36mtqdm_notebook.update\u001b[1;34m(self, n)\u001b[0m\n\u001b[0;32m    268\u001b[0m \u001b[38;5;28;01mdef\u001b[39;00m \u001b[38;5;21mupdate\u001b[39m(\u001b[38;5;28mself\u001b[39m, n\u001b[38;5;241m=\u001b[39m\u001b[38;5;241m1\u001b[39m):\n\u001b[1;32m--> 269\u001b[0m     \u001b[38;5;28;01mtry\u001b[39;00m:\n\u001b[0;32m    270\u001b[0m         \u001b[38;5;28;01mreturn\u001b[39;00m \u001b[38;5;28msuper\u001b[39m(tqdm_notebook, \u001b[38;5;28mself\u001b[39m)\u001b[38;5;241m.\u001b[39mupdate(n\u001b[38;5;241m=\u001b[39mn)\n\u001b[0;32m    271\u001b[0m     \u001b[38;5;66;03m# NB: except ... [ as ...] breaks IPython async KeyboardInterrupt\u001b[39;00m\n",
      "\u001b[1;31mKeyboardInterrupt\u001b[0m: "
     ]
    }
   ],
   "source": [
    "from implicit.lmf import LogisticMatrixFactorization\n",
    "macro_f1_lst = []\n",
    "micro_f1_lst = []\n",
    "acc_lst = []\n",
    "MAP_lst = []\n",
    "recall10_lst = []\n",
    "for i in range(1, 11):\n",
    "    model = LogisticMatrixFactorization(factors=2**i, regularization=0.01)\n",
    "    model.fit(features_csr)\n",
    "    recommends, scores = model.recommend([x for x in range(len(train_features), len(features))], \n",
    "                                  features_csr[len(train_features):len(features)], N=10)\n",
    "    top_recommends = recommends[:,0].flatten()\n",
    "    \n",
    "    MAP = 0\n",
    "    recall10 = 0\n",
    "    for query_idx in range(len(recommends)):\n",
    "        for j, rec in enumerate(recommends[query_idx]):\n",
    "            if answer[query_idx] == rec:\n",
    "                MAP += 1/(j+1)\n",
    "                recall10 += 1\n",
    "                break\n",
    "    MAP = MAP / len(recommends)\n",
    "    recall10 = recall10/len(recommends)\n",
    "    \n",
    "    MAP_lst.append(MAP)\n",
    "    recall10_lst.append(recall10)\n",
    "    \n",
    "    macro_f1 = f1_score(answer, top_recommends, average='macro')\n",
    "    micro_f1 = f1_score(answer, top_recommends, average='micro')\n",
    "    accuracy = accuracy_score(answer, top_recommends)\n",
    "    macro_f1_lst.append(macro_f1)\n",
    "    micro_f1_lst.append(micro_f1)\n",
    "    acc_lst.append(accuracy)\n",
    "    print(\"dim: {}\\tmacro_f1: {}\\tmicro_f1: {}\\tacc: {}\\tMAP: {}\\trecall: {}\".format(2**i, macro_f1, micro_f1, accuracy, MAP, recall10))"
   ]
  },
  {
   "cell_type": "code",
   "execution_count": null,
   "id": "00e6d904",
   "metadata": {},
   "outputs": [],
   "source": []
  }
 ],
 "metadata": {
  "kernelspec": {
   "display_name": "Python 3 (ipykernel)",
   "language": "python",
   "name": "python3"
  },
  "language_info": {
   "codemirror_mode": {
    "name": "ipython",
    "version": 3
   },
   "file_extension": ".py",
   "mimetype": "text/x-python",
   "name": "python",
   "nbconvert_exporter": "python",
   "pygments_lexer": "ipython3",
   "version": "3.9.7"
  }
 },
 "nbformat": 4,
 "nbformat_minor": 5
}

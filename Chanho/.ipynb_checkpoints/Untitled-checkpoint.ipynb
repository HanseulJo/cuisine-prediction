{
 "cells": [
  {
   "cell_type": "code",
   "execution_count": 1,
   "id": "3cc6f7f4",
   "metadata": {},
   "outputs": [],
   "source": [
    "import numpy as np\n",
    "import pickle\n",
    "import h5py"
   ]
  },
  {
   "cell_type": "code",
   "execution_count": 2,
   "id": "abfc7680",
   "metadata": {},
   "outputs": [],
   "source": [
    "h5f_train = h5py.File('./Container/train', 'r')\n",
    "train_features = h5f_train['features_boolean'][:]\n",
    "train_labels = h5f_train['labels_one_hot'][:]\n",
    "h5f_train.close()"
   ]
  },
  {
   "cell_type": "code",
   "execution_count": 3,
   "id": "35585044",
   "metadata": {},
   "outputs": [
    {
     "data": {
      "text/plain": [
       "(23547, 6714)"
      ]
     },
     "execution_count": 3,
     "metadata": {},
     "output_type": "execute_result"
    }
   ],
   "source": [
    "train_features.shape"
   ]
  },
  {
   "cell_type": "code",
   "execution_count": 4,
   "id": "60e5aad0",
   "metadata": {},
   "outputs": [
    {
     "data": {
      "text/plain": [
       "(23547, 20)"
      ]
     },
     "execution_count": 4,
     "metadata": {},
     "output_type": "execute_result"
    }
   ],
   "source": [
    "train_labels.shape"
   ]
  },
  {
   "cell_type": "code",
   "execution_count": 5,
   "id": "d33c7ce1",
   "metadata": {},
   "outputs": [],
   "source": [
    "h5f_valid = h5py.File('./Container/valid_cpl', 'r')\n",
    "valid_cpl_features = h5f_valid['features_boolean'][:]\n",
    "valid_cpl_label_id = h5f_valid['labels_id'][:]\n",
    "valid_cpl_label_one_hot = h5f_valid['labels_one_hot'][:]\n",
    "h5f_valid.close()"
   ]
  },
  {
   "cell_type": "code",
   "execution_count": 6,
   "id": "6fb6aadf",
   "metadata": {},
   "outputs": [
    {
     "data": {
      "text/plain": [
       "(7848, 6714)"
      ]
     },
     "execution_count": 6,
     "metadata": {},
     "output_type": "execute_result"
    }
   ],
   "source": [
    "valid_cpl_features.shape"
   ]
  },
  {
   "cell_type": "code",
   "execution_count": 7,
   "id": "47688e7d",
   "metadata": {},
   "outputs": [
    {
     "data": {
      "text/plain": [
       "(7848,)"
      ]
     },
     "execution_count": 7,
     "metadata": {},
     "output_type": "execute_result"
    }
   ],
   "source": [
    "valid_cpl_label_id.shape"
   ]
  },
  {
   "cell_type": "code",
   "execution_count": 8,
   "id": "4f8cf20d",
   "metadata": {},
   "outputs": [
    {
     "data": {
      "text/plain": [
       "(7848, 6714)"
      ]
     },
     "execution_count": 8,
     "metadata": {},
     "output_type": "execute_result"
    }
   ],
   "source": [
    "valid_cpl_label_one_hot.shape"
   ]
  },
  {
   "cell_type": "code",
   "execution_count": 9,
   "id": "c3560394",
   "metadata": {},
   "outputs": [],
   "source": [
    "h5f_valid = h5py.File('./Container/valid_clf', 'r')\n",
    "valid_clf_features = h5f_valid['features_boolean'][:]\n",
    "valid_clf_label_idx = h5f_valid['labels_int_enc'][:]\n",
    "valid_clf_label_one_hot = h5f_valid['labels_one_hot'][:]\n",
    "h5f_valid.close()"
   ]
  },
  {
   "cell_type": "code",
   "execution_count": 10,
   "id": "bd17afd8",
   "metadata": {},
   "outputs": [
    {
     "data": {
      "text/plain": [
       "(7848, 6714)"
      ]
     },
     "execution_count": 10,
     "metadata": {},
     "output_type": "execute_result"
    }
   ],
   "source": [
    "valid_clf_features.shape"
   ]
  },
  {
   "cell_type": "code",
   "execution_count": 11,
   "id": "0c496184",
   "metadata": {},
   "outputs": [
    {
     "data": {
      "text/plain": [
       "(7848,)"
      ]
     },
     "execution_count": 11,
     "metadata": {},
     "output_type": "execute_result"
    }
   ],
   "source": [
    "valid_clf_label_idx.shape"
   ]
  },
  {
   "cell_type": "code",
   "execution_count": 12,
   "id": "3c3c2d41",
   "metadata": {},
   "outputs": [
    {
     "data": {
      "text/plain": [
       "(7848, 20)"
      ]
     },
     "execution_count": 12,
     "metadata": {},
     "output_type": "execute_result"
    }
   ],
   "source": [
    "valid_clf_label_one_hot.shape"
   ]
  },
  {
   "cell_type": "code",
   "execution_count": 13,
   "id": "dcbd7ed2",
   "metadata": {},
   "outputs": [],
   "source": [
    "h5f_valid = h5py.File('./Container/test_cpl', 'r')\n",
    "test_cpl_features = h5f_valid['features_boolean'][:]\n",
    "h5f_valid.close()"
   ]
  },
  {
   "cell_type": "code",
   "execution_count": 14,
   "id": "851b543e",
   "metadata": {},
   "outputs": [
    {
     "data": {
      "text/plain": [
       "(3924, 6714)"
      ]
     },
     "execution_count": 14,
     "metadata": {},
     "output_type": "execute_result"
    }
   ],
   "source": [
    "test_cpl_features.shape"
   ]
  },
  {
   "cell_type": "code",
   "execution_count": 15,
   "id": "ca6ca8ac",
   "metadata": {},
   "outputs": [],
   "source": [
    "h5f_valid = h5py.File('./Container/test_clf', 'r')\n",
    "test_clf_features = h5f_valid['features_boolean'][:]\n",
    "h5f_valid.close()"
   ]
  },
  {
   "cell_type": "code",
   "execution_count": 16,
   "id": "8c75b097",
   "metadata": {},
   "outputs": [
    {
     "data": {
      "text/plain": [
       "(3924, 6714)"
      ]
     },
     "execution_count": 16,
     "metadata": {},
     "output_type": "execute_result"
    }
   ],
   "source": [
    "test_clf_features.shape"
   ]
  },
  {
   "cell_type": "code",
   "execution_count": null,
   "id": "22389681",
   "metadata": {},
   "outputs": [],
   "source": []
  }
 ],
 "metadata": {
  "kernelspec": {
   "display_name": "Python 3 (ipykernel)",
   "language": "python",
   "name": "python3"
  },
  "language_info": {
   "codemirror_mode": {
    "name": "ipython",
    "version": 3
   },
   "file_extension": ".py",
   "mimetype": "text/x-python",
   "name": "python",
   "nbconvert_exporter": "python",
   "pygments_lexer": "ipython3",
   "version": "3.9.7"
  }
 },
 "nbformat": 4,
 "nbformat_minor": 5
}

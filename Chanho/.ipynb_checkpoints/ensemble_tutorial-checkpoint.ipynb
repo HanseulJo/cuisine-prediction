{
 "cells": [
  {
   "cell_type": "code",
   "execution_count": 11,
   "id": "aa9bc8f3",
   "metadata": {},
   "outputs": [],
   "source": [
    "import pickle\n",
    "from ensemble import ensemble\n",
    "from evaluation import get_metric"
   ]
  },
  {
   "cell_type": "code",
   "execution_count": 12,
   "id": "5e6f60f4",
   "metadata": {},
   "outputs": [],
   "source": [
    "with open(\"./recs/Graph_rec_cpl_1_4_depth_10.pickle\", 'rb') as f:\n",
    "    recs1 = pickle.load(f)\n",
    "with open(\"./recs/Graph_rec_cpl_1_4_depth_2.pickle\", 'rb') as f:\n",
    "    recs2 = pickle.load(f)\n",
    "with open(\"./recs/Graph_rec_cpl_1_1_depth_5.pickle\", 'rb') as f:\n",
    "    recs3 = pickle.load(f)"
   ]
  },
  {
   "cell_type": "code",
   "execution_count": 13,
   "id": "533ea899",
   "metadata": {},
   "outputs": [
    {
     "data": {
      "text/plain": [
       "[(3978, 0.000142339901790946),\n",
       " (937, 9.583070022920579e-05),\n",
       " (4672, 9.528234427642516e-05),\n",
       " (1953, 9.318423812733292e-05),\n",
       " (6187, 7.842980295014702e-05),\n",
       " (2945, 7.676208827393038e-05),\n",
       " (167, 6.253706258063051e-05),\n",
       " (4544, 5.898684886538959e-05),\n",
       " (4677, 5.289615565499542e-05),\n",
       " (2021, 4.7506714336563583e-05)]"
      ]
     },
     "execution_count": 13,
     "metadata": {},
     "output_type": "execute_result"
    }
   ],
   "source": [
    "recs1[0]"
   ]
  },
  {
   "cell_type": "code",
   "execution_count": 14,
   "id": "ab709cc8",
   "metadata": {},
   "outputs": [],
   "source": [
    "# ensemble([list of rec_results], [weight of each rec_result])\n",
    "new_recs = ensemble([recs1, recs2, recs3], [2, 1, 1])"
   ]
  },
  {
   "cell_type": "code",
   "execution_count": 15,
   "id": "88ac64e6",
   "metadata": {},
   "outputs": [
    {
     "data": {
      "text/plain": [
       "[(937, 2.0713549634364634),\n",
       " (3978, 1.7155950259582786),\n",
       " (2945, 1.2919839731799279),\n",
       " (6187, 1.1103245472156336),\n",
       " (4672, 1.076651389256013),\n",
       " (1953, 1.0484921170534318),\n",
       " (167, 0.8812934666157576),\n",
       " (4544, 0.44059598298454566),\n",
       " (5536, 0.41762317707707897),\n",
       " (4799, 0.4024067863068275)]"
      ]
     },
     "execution_count": 15,
     "metadata": {},
     "output_type": "execute_result"
    }
   ],
   "source": [
    "new_recs[0]"
   ]
  },
  {
   "cell_type": "code",
   "execution_count": null,
   "id": "12283f5e",
   "metadata": {},
   "outputs": [],
   "source": []
  }
 ],
 "metadata": {
  "kernelspec": {
   "display_name": "Python 3 (ipykernel)",
   "language": "python",
   "name": "python3"
  },
  "language_info": {
   "codemirror_mode": {
    "name": "ipython",
    "version": 3
   },
   "file_extension": ".py",
   "mimetype": "text/x-python",
   "name": "python",
   "nbconvert_exporter": "python",
   "pygments_lexer": "ipython3",
   "version": "3.9.7"
  }
 },
 "nbformat": 4,
 "nbformat_minor": 5
}

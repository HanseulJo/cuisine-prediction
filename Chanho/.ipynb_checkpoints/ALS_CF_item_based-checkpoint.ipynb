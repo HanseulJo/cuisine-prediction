{
 "cells": [
  {
   "cell_type": "code",
   "execution_count": 8,
   "id": "19f5a91c",
   "metadata": {},
   "outputs": [],
   "source": [
    "import numpy as np\n",
    "import pickle\n",
    "import h5py\n",
    "import matplotlib.pyplot as plt\n",
    "from evaluation import get_metric\n",
    "from implicit.als import AlternatingLeastSquares\n",
    "from scipy.sparse import csr_matrix\n",
    "from sklearn.metrics import f1_score, accuracy_score\n",
    "from sklearn.metrics import pairwise_distances"
   ]
  },
  {
   "cell_type": "code",
   "execution_count": 2,
   "id": "5a167568",
   "metadata": {},
   "outputs": [],
   "source": [
    "ingred_topk = 10"
   ]
  },
  {
   "cell_type": "code",
   "execution_count": 3,
   "id": "a610e95d",
   "metadata": {},
   "outputs": [],
   "source": [
    "h5f_train = h5py.File('./Container/train', 'r')\n",
    "train_features = h5f_train['features_boolean'][:]\n",
    "train_labels = h5f_train['labels_one_hot'][:]\n",
    "h5f_train.close()"
   ]
  },
  {
   "cell_type": "code",
   "execution_count": 4,
   "id": "d6a98d44",
   "metadata": {},
   "outputs": [],
   "source": [
    "h5f_valid = h5py.File('./Container/valid_cpl', 'r')\n",
    "valid_features = h5f_valid['features_boolean'][:]\n",
    "answer = h5f_valid['labels_id'][:].astype(np.int64)\n",
    "h5f_valid.close()\n",
    "\n",
    "answer_dict = {}\n",
    "for i, ans in enumerate(answer):\n",
    "    answer_dict[i] = ans"
   ]
  },
  {
   "cell_type": "code",
   "execution_count": 5,
   "id": "d5c7ef65",
   "metadata": {},
   "outputs": [],
   "source": [
    "features_csr = csr_matrix(train_features)\n",
    "features_csr_T = csr_matrix(features_csr.T)"
   ]
  },
  {
   "cell_type": "code",
   "execution_count": 11,
   "id": "16bbfb0a",
   "metadata": {},
   "outputs": [
    {
     "data": {
      "application/vnd.jupyter.widget-view+json": {
       "model_id": "31e26be4a0844f398dbf5cf57c91c02a",
       "version_major": 2,
       "version_minor": 0
      },
      "text/plain": [
       "  0%|          | 0/15 [00:00<?, ?it/s]"
      ]
     },
     "metadata": {},
     "output_type": "display_data"
    },
    {
     "data": {
      "application/vnd.jupyter.widget-view+json": {
       "model_id": "695009b2b9734dbda2236db22a72e2a5",
       "version_major": 2,
       "version_minor": 0
      },
      "text/plain": [
       "  0%|          | 0/15 [00:00<?, ?it/s]"
      ]
     },
     "metadata": {},
     "output_type": "display_data"
    },
    {
     "data": {
      "application/vnd.jupyter.widget-view+json": {
       "model_id": "75d6ff0efa1143a999eea99cd6a5041a",
       "version_major": 2,
       "version_minor": 0
      },
      "text/plain": [
       "  0%|          | 0/15 [00:00<?, ?it/s]"
      ]
     },
     "metadata": {},
     "output_type": "display_data"
    },
    {
     "data": {
      "application/vnd.jupyter.widget-view+json": {
       "model_id": "eedd3a8eb0624028922b085e81109a42",
       "version_major": 2,
       "version_minor": 0
      },
      "text/plain": [
       "  0%|          | 0/15 [00:00<?, ?it/s]"
      ]
     },
     "metadata": {},
     "output_type": "display_data"
    },
    {
     "data": {
      "application/vnd.jupyter.widget-view+json": {
       "model_id": "11aae9884a6745ee9a1c339378dce8ec",
       "version_major": 2,
       "version_minor": 0
      },
      "text/plain": [
       "  0%|          | 0/15 [00:00<?, ?it/s]"
      ]
     },
     "metadata": {},
     "output_type": "display_data"
    },
    {
     "data": {
      "application/vnd.jupyter.widget-view+json": {
       "model_id": "c2d391b6468b49bca80a720cb692779f",
       "version_major": 2,
       "version_minor": 0
      },
      "text/plain": [
       "  0%|          | 0/15 [00:00<?, ?it/s]"
      ]
     },
     "metadata": {},
     "output_type": "display_data"
    },
    {
     "data": {
      "application/vnd.jupyter.widget-view+json": {
       "model_id": "5c952f562d414729ac5ee30ab4c474b8",
       "version_major": 2,
       "version_minor": 0
      },
      "text/plain": [
       "  0%|          | 0/15 [00:00<?, ?it/s]"
      ]
     },
     "metadata": {},
     "output_type": "display_data"
    },
    {
     "data": {
      "application/vnd.jupyter.widget-view+json": {
       "model_id": "0fde1f9aca7f43b0812b0b946b5b87de",
       "version_major": 2,
       "version_minor": 0
      },
      "text/plain": [
       "  0%|          | 0/15 [00:00<?, ?it/s]"
      ]
     },
     "metadata": {},
     "output_type": "display_data"
    },
    {
     "data": {
      "application/vnd.jupyter.widget-view+json": {
       "model_id": "da7be74946ab4c4f9e2df1ce40764758",
       "version_major": 2,
       "version_minor": 0
      },
      "text/plain": [
       "  0%|          | 0/15 [00:00<?, ?it/s]"
      ]
     },
     "metadata": {},
     "output_type": "display_data"
    },
    {
     "data": {
      "application/vnd.jupyter.widget-view+json": {
       "model_id": "f82fa10b2c2f43648ae2b661d19cb5f9",
       "version_major": 2,
       "version_minor": 0
      },
      "text/plain": [
       "  0%|          | 0/15 [00:00<?, ?it/s]"
      ]
     },
     "metadata": {},
     "output_type": "display_data"
    }
   ],
   "source": [
    "macro_f1_lst = []\n",
    "micro_f1_lst = []\n",
    "acc_lst = []\n",
    "MAP_lst = []\n",
    "recall10_lst = []\n",
    "recall_rank_lst = []\n",
    "\n",
    "max_dim = 10\n",
    "\n",
    "for i in range(max_dim):\n",
    "    model = AlternatingLeastSquares(factors=2**(i+1), regularization=0.01, calculate_training_loss=True)\n",
    "    model.fit(features_csr)\n",
    "    \n",
    "    sim_matrix = 1 - pairwise_distances(model.item_factors, metric=\"cosine\") - np.eye(len(model.item_factors))\n",
    "    score_matrix = valid_features @ sim_matrix\n",
    "    rec_indices = np.argpartition(score_matrix, -ingred_topk)[:,-ingred_topk:]\n",
    "    \n",
    "    ingred_recs = {}\n",
    "    for query, ingred_rec_idx in enumerate(rec_indices):\n",
    "        ingred_recs[query] = []\n",
    "        for idx in ingred_rec_idx:\n",
    "            # ingred index를 1부터 시작하도록 함.\n",
    "            ingred_recs[query].append((idx + 1, score_matrix[query, idx]))\n",
    "        ingred_recs[query].sort(key=lambda x : x[1], reverse=True)\n",
    "        \n",
    "    with open(\"./recs/CF_rec_cpl_dim_{}.pickle\".format(2**i), 'wb') as f:\n",
    "        pickle.dump(ingred_recs, f)\n",
    "        \n",
    "    metric_dict = get_metric(ingred_recs, answer_dict)\n",
    "    macro_f1_lst.append(metric_dict['macro'])\n",
    "    micro_f1_lst.append(metric_dict['micro'])\n",
    "    acc_lst.append(metric_dict['accuracy'])\n",
    "    MAP_lst.append(metric_dict['map'])\n",
    "    recall10_lst.append(metric_dict['recall'])\n",
    "    recall_rank_lst.append(metric_dict['recall_rank'])"
   ]
  },
  {
   "cell_type": "code",
   "execution_count": 12,
   "id": "38edba0c",
   "metadata": {},
   "outputs": [
    {
     "data": {
      "image/png": "[encoded data removed]",
      "text/plain": [
       "<Figure size 720x504 with 1 Axes>"
      ]
     },
     "metadata": {
      "needs_background": "light"
     },
     "output_type": "display_data"
    }
   ],
   "source": [
    "dim_lst = [2**(i+1) for i in range(max_dim)]\n",
    "\n",
    "plt.figure(figsize=(10,7))\n",
    "plt.plot(dim_lst, macro_f1_lst, 'o-', label='macro-f1')\n",
    "plt.plot(dim_lst, micro_f1_lst, 'o-', label='micro-f1')\n",
    "plt.plot(dim_lst, acc_lst, 'o-', label='acc')\n",
    "plt.plot(dim_lst, MAP_lst, 'o-', label='MAP')\n",
    "plt.plot(dim_lst, recall10_lst, 'o-', label='recall@10')\n",
    "plt.title(\"CF base feature reco score\")\n",
    "plt.xscale('log', base=2)\n",
    "plt.legend()\n",
    "plt.savefig('./data_analysis/CF_cpl_scores.png', dpi=100)\n",
    "plt.show()"
   ]
  },
  {
   "cell_type": "code",
   "execution_count": null,
   "id": "00e6d904",
   "metadata": {},
   "outputs": [],
   "source": []
  }
 ],
 "metadata": {
  "kernelspec": {
   "display_name": "Python 3 (ipykernel)",
   "language": "python",
   "name": "python3"
  },
  "language_info": {
   "codemirror_mode": {
    "name": "ipython",
    "version": 3
   },
   "file_extension": ".py",
   "mimetype": "text/x-python",
   "name": "python",
   "nbconvert_exporter": "python",
   "pygments_lexer": "ipython3",
   "version": "3.9.7"
  }
 },
 "nbformat": 4,
 "nbformat_minor": 5
}

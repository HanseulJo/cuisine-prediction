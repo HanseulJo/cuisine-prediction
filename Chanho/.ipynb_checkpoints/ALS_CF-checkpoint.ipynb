{
 "cells": [
  {
   "cell_type": "code",
   "execution_count": 73,
   "id": "19f5a91c",
   "metadata": {},
   "outputs": [],
   "source": [
    "import numpy as np\n",
    "import pickle\n",
    "import h5py\n",
    "from implicit.als import AlternatingLeastSquares\n",
    "from scipy.sparse import csr_matrix"
   ]
  },
  {
   "cell_type": "code",
   "execution_count": 74,
   "id": "a610e95d",
   "metadata": {},
   "outputs": [],
   "source": [
    "h5f_train = h5py.File('./Container/train', 'r')\n",
    "train_features = h5f_train['features_boolean'][:]\n",
    "train_labels = h5f_train['labels_int_enc'][:]\n",
    "h5f_train.close()"
   ]
  },
  {
   "cell_type": "code",
   "execution_count": 75,
   "id": "d6a98d44",
   "metadata": {},
   "outputs": [],
   "source": [
    "h5f_valid = h5py.File('./Container/valid_cpl', 'r')\n",
    "valid_features = h5f_valid['features_cpl'][:]\n",
    "valid_answer = h5f_valid['features_answer'][:]\n",
    "answer = np.where(valid_answer - valid_features == 1)[1]\n",
    "h5f_valid.close()"
   ]
  },
  {
   "cell_type": "code",
   "execution_count": 76,
   "id": "d5c7ef65",
   "metadata": {},
   "outputs": [],
   "source": [
    "features = np.vstack([train_features, valid_features])\n",
    "features_csr = csr_matrix(features)\n",
    "features_csr_T = csr_matrix(features_csr.T)"
   ]
  },
  {
   "cell_type": "code",
   "execution_count": 77,
   "id": "11d11c0b",
   "metadata": {},
   "outputs": [
    {
     "data": {
      "application/vnd.jupyter.widget-view+json": {
       "model_id": "1408d753f9234610a1ed34365ea22480",
       "version_major": 2,
       "version_minor": 0
      },
      "text/plain": [
       "  0%|          | 0/15 [00:00<?, ?it/s]"
      ]
     },
     "metadata": {},
     "output_type": "display_data"
    }
   ],
   "source": [
    "MF = AlternatingLeastSquares(factors=128, regularization=0.01)\n",
    "MF.fit(features_csr)"
   ]
  },
  {
   "cell_type": "code",
   "execution_count": 80,
   "id": "a358d330",
   "metadata": {},
   "outputs": [],
   "source": [
    "recommends, scores = MF.recommend([i for i in range(len(train_features), len(features))], \n",
    "                                  features_csr[len(train_features):len(features)], N=1)\n",
    "recommends = recommends.flatten()"
   ]
  },
  {
   "cell_type": "code",
   "execution_count": 81,
   "id": "3f33a09e",
   "metadata": {},
   "outputs": [],
   "source": [
    "from sklearn.metrics import confusion_matrix"
   ]
  },
  {
   "cell_type": "code",
   "execution_count": null,
   "id": "05c9a81f",
   "metadata": {},
   "outputs": [],
   "source": []
  },
  {
   "cell_type": "code",
   "execution_count": null,
   "id": "02302362",
   "metadata": {},
   "outputs": [],
   "source": []
  },
  {
   "cell_type": "code",
   "execution_count": 83,
   "id": "fbdc6528",
   "metadata": {},
   "outputs": [
    {
     "data": {
      "text/plain": [
       "array([[ 0,  0,  0, ...,  0,  1,  0],\n",
       "       [ 0,  0,  0, ...,  0,  0,  0],\n",
       "       [ 0,  0,  0, ...,  0,  0,  0],\n",
       "       ...,\n",
       "       [ 0,  0,  0, ...,  0,  0,  0],\n",
       "       [ 0,  0,  0, ...,  0, 12,  0],\n",
       "       [ 0,  0,  0, ...,  0,  0,  0]], dtype=int64)"
      ]
     },
     "execution_count": 83,
     "metadata": {},
     "output_type": "execute_result"
    }
   ],
   "source": [
    "confusion_matrix(answer, recommends)"
   ]
  },
  {
   "cell_type": "code",
   "execution_count": 50,
   "id": "7af0cecf",
   "metadata": {},
   "outputs": [
    {
     "data": {
      "text/plain": [
       "True"
      ]
     },
     "execution_count": 50,
     "metadata": {},
     "output_type": "execute_result"
    }
   ],
   "source": [
    "(valid_features[0] == features[23547]).all()"
   ]
  },
  {
   "cell_type": "code",
   "execution_count": 51,
   "id": "d122f989",
   "metadata": {},
   "outputs": [
    {
     "data": {
      "text/plain": [
       "<1x6714 sparse matrix of type '<class 'numpy.float64'>'\n",
       "\twith 6 stored elements in Compressed Sparse Row format>"
      ]
     },
     "execution_count": 51,
     "metadata": {},
     "output_type": "execute_result"
    }
   ],
   "source": [
    "features_csr[23547]"
   ]
  },
  {
   "cell_type": "code",
   "execution_count": 67,
   "id": "634562a2",
   "metadata": {},
   "outputs": [
    {
     "data": {
      "text/plain": [
       "(array([[2060, 2259, 6228, 5417, 4842, 3977, 3553,  468, 4058, 2374],\n",
       "        [ 915, 4578, 5631,  410, 2899, 6481, 5465, 1596,   79, 5226],\n",
       "        [1034, 4842, 5438,  526,  908, 1045, 4348, 5465, 1596,  634]]),\n",
       " array([[0.24322146, 0.17561492, 0.09046637, 0.08299966, 0.0668851 ,\n",
       "         0.06408238, 0.05822034, 0.05280666, 0.05214802, 0.04938891],\n",
       "        [0.34208274, 0.2277983 , 0.1903725 , 0.18599145, 0.18076535,\n",
       "         0.17241049, 0.14826986, 0.13178226, 0.11844251, 0.11384261],\n",
       "        [0.07996764, 0.06374928, 0.06056798, 0.05878126, 0.05006351,\n",
       "         0.0464019 , 0.04514421, 0.04206823, 0.038783  , 0.03840284]],\n",
       "       dtype=float32))"
      ]
     },
     "execution_count": 67,
     "metadata": {},
     "output_type": "execute_result"
    }
   ],
   "source": [
    "MF.recommend([23547, 23548, 23549], features_csr[23547:23550])"
   ]
  },
  {
   "cell_type": "code",
   "execution_count": 68,
   "id": "e93304bd",
   "metadata": {},
   "outputs": [
    {
     "data": {
      "text/plain": [
       "(array([ 936, 1307, 1475, 2709, 2944, 4341, 4798, 4916], dtype=int64),)"
      ]
     },
     "execution_count": 68,
     "metadata": {},
     "output_type": "execute_result"
    }
   ],
   "source": [
    "np.where(valid_answer[2] == 1)"
   ]
  },
  {
   "cell_type": "code",
   "execution_count": 69,
   "id": "23f72ba4",
   "metadata": {},
   "outputs": [
    {
     "data": {
      "text/plain": [
       "(array([ 936, 1307, 1475, 2709, 4341, 4798, 4916], dtype=int64),)"
      ]
     },
     "execution_count": 69,
     "metadata": {},
     "output_type": "execute_result"
    }
   ],
   "source": [
    "np.where(valid_features[2] == 1)"
   ]
  },
  {
   "cell_type": "code",
   "execution_count": 60,
   "id": "daa155bf",
   "metadata": {},
   "outputs": [
    {
     "data": {
      "text/plain": [
       "(array([   0,    1,    2, ..., 7845, 7846, 7847], dtype=int64),\n",
       " array([2060, 6420, 2944, ..., 2441, 4354, 5376], dtype=int64))"
      ]
     },
     "execution_count": 60,
     "metadata": {},
     "output_type": "execute_result"
    }
   ],
   "source": []
  },
  {
   "cell_type": "code",
   "execution_count": null,
   "id": "3a1e51c6",
   "metadata": {},
   "outputs": [],
   "source": []
  }
 ],
 "metadata": {
  "kernelspec": {
   "display_name": "Python 3 (ipykernel)",
   "language": "python",
   "name": "python3"
  },
  "language_info": {
   "codemirror_mode": {
    "name": "ipython",
    "version": 3
   },
   "file_extension": ".py",
   "mimetype": "text/x-python",
   "name": "python",
   "nbconvert_exporter": "python",
   "pygments_lexer": "ipython3",
   "version": "3.9.7"
  }
 },
 "nbformat": 4,
 "nbformat_minor": 5
}

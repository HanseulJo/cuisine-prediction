{
 "cells": [
  {
   "cell_type": "code",
   "execution_count": 3,
   "id": "80c7ea26",
   "metadata": {},
   "outputs": [],
   "source": [
    "from Graph_base_model import graph_cpl, graph_clf"
   ]
  },
  {
   "cell_type": "code",
   "execution_count": null,
   "id": "5857146b",
   "metadata": {
    "scrolled": true
   },
   "outputs": [
    {
     "name": "stderr",
     "output_type": "stream",
     "text": [
      "  2%|█▎                                                                              | 4/248 [00:59<1:00:58, 14.99s/it]"
     ]
    }
   ],
   "source": [
    "# Train set\n",
    "graph_cpl(\"../Container/train\", \"../Container/train_cpl\", \"../Recs\", 'train', 4, (1,4), recipe_th=2000, ingred_th=700, label_th=10, topk=10)\n",
    "graph_cpl(\"../Container/train\", \"../Container/train_cpl\", \"../Recs\", 'train', 6, (1,2), recipe_th=2000, ingred_th=700, label_th=10, topk=10)\n",
    "graph_cpl(\"../Container/train\", \"../Container/train_cpl\", \"../Recs\", 'train', 4, (1,8), recipe_th=2000, ingred_th=700, label_th=10, topk=10)\n",
    "# Valid set\n",
    "graph_cpl(\"../Container/train\", \"../Container/valid_cpl\", \"../Recs\", 'valid', 4, (1,4), recipe_th=2000, ingred_th=700, label_th=10, topk=10)\n",
    "graph_cpl(\"../Container/train\", \"../Container/valid_cpl\", \"../Recs\", 'valid', 6, (1,2), recipe_th=2000, ingred_th=700, label_th=10, topk=10)\n",
    "graph_cpl(\"../Container/train\", \"../Container/valid_cpl\", \"../Recs\", 'valid', 4, (1,8), recipe_th=2000, ingred_th=700, label_th=10, topk=10)\n",
    "# Test set\n",
    "graph_cpl(\"../Container/train\", \"../Container/test_cpl\", \"../Recs\", 'test', 4, (1,4), recipe_th=2000, ingred_th=700, label_th=10, topk=10)\n",
    "graph_cpl(\"../Container/train\", \"../Container/test_cpl\", \"../Recs\", 'test', 6, (1,2), recipe_th=2000, ingred_th=700, label_th=10, topk=10)\n",
    "graph_cpl(\"../Container/train\", \"../Container/test_cpl\", \"../Recs\", 'test', 4, (1,8), recipe_th=2000, ingred_th=700, label_th=10, topk=10)"
   ]
  },
  {
   "cell_type": "code",
   "execution_count": null,
   "id": "34cbbd9f",
   "metadata": {},
   "outputs": [],
   "source": [
    "# Train set\n",
    "graph_clf(\"../Container/train\", \"../Container/train\", \"../Recs\", 'train', 4, (1,8), recipe_th=2000, ingred_th=700, label_th=10, topk=5)\n",
    "# Valid set\n",
    "graph_clf(\"../Container/train\", \"../Container/valid_clf\", \"../Recs\", 'valid', 4, (1,8), recipe_th=2000, ingred_th=700, label_th=10, topk=5)\n",
    "# Test set\n",
    "graph_clf(\"../Container/train\", \"../Container/test_clf\", \"../Recs\", 'test', 4, (1,8), recipe_th=2000, ingred_th=700, label_th=10, topk=5)"
   ]
  },
  {
   "cell_type": "code",
   "execution_count": 9,
   "id": "a9a5a23a",
   "metadata": {},
   "outputs": [],
   "source": []
  },
  {
   "cell_type": "code",
   "execution_count": null,
   "id": "edf39397",
   "metadata": {},
   "outputs": [],
   "source": []
  }
 ],
 "metadata": {
  "kernelspec": {
   "display_name": "Python 3",
   "language": "python",
   "name": "python3"
  },
  "language_info": {
   "codemirror_mode": {
    "name": "ipython",
    "version": 3
   },
   "file_extension": ".py",
   "mimetype": "text/x-python",
   "name": "python",
   "nbconvert_exporter": "python",
   "pygments_lexer": "ipython3",
   "version": "3.9.5"
  }
 },
 "nbformat": 4,
 "nbformat_minor": 5
}

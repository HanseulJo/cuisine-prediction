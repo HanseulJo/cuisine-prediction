{
 "cells": [
  {
   "cell_type": "code",
   "execution_count": 2,
   "id": "ee5f45c0",
   "metadata": {},
   "outputs": [],
   "source": [
    "from ALS_CF_model import ALS_CF_cpl, ALS_CF_clf"
   ]
  },
  {
   "cell_type": "code",
   "execution_count": 3,
   "id": "93a84184",
   "metadata": {},
   "outputs": [
    {
     "data": {
      "application/vnd.jupyter.widget-view+json": {
       "model_id": "855b4883c6b949c083e7a130004b4700",
       "version_major": 2,
       "version_minor": 0
      },
      "text/plain": [
       "  0%|          | 0/15 [00:00<?, ?it/s]"
      ]
     },
     "metadata": {},
     "output_type": "display_data"
    },
    {
     "data": {
      "application/vnd.jupyter.widget-view+json": {
       "model_id": "fbeee6eff2de414ea491c05f4e5b68d8",
       "version_major": 2,
       "version_minor": 0
      },
      "text/plain": [
       "  0%|          | 0/15 [00:00<?, ?it/s]"
      ]
     },
     "metadata": {},
     "output_type": "display_data"
    },
    {
     "data": {
      "application/vnd.jupyter.widget-view+json": {
       "model_id": "7e280883ce284345a5b32346795c8e28",
       "version_major": 2,
       "version_minor": 0
      },
      "text/plain": [
       "  0%|          | 0/15 [00:00<?, ?it/s]"
      ]
     },
     "metadata": {},
     "output_type": "display_data"
    }
   ],
   "source": [
    "# Train set\n",
    "ALS_CF_cpl(\"../Container/train\", \"../Container/train_cpl\", \"../recs\", 'train', k=2**6, topk=10)\n",
    "# Valid set\n",
    "ALS_CF_cpl(\"../Container/train\", \"../Container/valid_cpl\", \"../recs\", 'valid', k=2**6, topk=10)\n",
    "# Test set\n",
    "ALS_CF_cpl(\"../Container/train\", \"../Container/test_cpl\", \"../recs\", 'test', k=2**6, topk=10)"
   ]
  },
  {
   "cell_type": "code",
   "execution_count": 4,
   "id": "f2e92e07",
   "metadata": {},
   "outputs": [
    {
     "data": {
      "application/vnd.jupyter.widget-view+json": {
       "model_id": "8fd5410db2024f118998a73278046b17",
       "version_major": 2,
       "version_minor": 0
      },
      "text/plain": [
       "  0%|          | 0/15 [00:00<?, ?it/s]"
      ]
     },
     "metadata": {},
     "output_type": "display_data"
    },
    {
     "data": {
      "application/vnd.jupyter.widget-view+json": {
       "model_id": "a716937e4c4f40a7bd9f4c39f4bdbf9c",
       "version_major": 2,
       "version_minor": 0
      },
      "text/plain": [
       "  0%|          | 0/15 [00:00<?, ?it/s]"
      ]
     },
     "metadata": {},
     "output_type": "display_data"
    },
    {
     "data": {
      "application/vnd.jupyter.widget-view+json": {
       "model_id": "ca0867ca4aa24bd9b1f12b49b2dd67d7",
       "version_major": 2,
       "version_minor": 0
      },
      "text/plain": [
       "  0%|          | 0/15 [00:00<?, ?it/s]"
      ]
     },
     "metadata": {},
     "output_type": "display_data"
    }
   ],
   "source": [
    "# Train set\n",
    "ALS_CF_clf(\"../Container/train\", \"../Container/train\", \"../recs\", 'train', k=2**6, topk=5)\n",
    "# Valid set\n",
    "ALS_CF_clf(\"../Container/train\", \"../Container/valid_clf\", \"../recs\", 'valid', k=2**6, topk=5)\n",
    "# Test set\n",
    "ALS_CF_clf(\"../Container/train\", \"../Container/test_clf\", \"../recs\", 'test', k=2**6, topk=5)"
   ]
  },
  {
   "cell_type": "code",
   "execution_count": null,
   "id": "b9e5cdf1",
   "metadata": {},
   "outputs": [],
   "source": []
  }
 ],
 "metadata": {
  "kernelspec": {
   "display_name": "Python 3",
   "language": "python",
   "name": "python3"
  },
  "language_info": {
   "codemirror_mode": {
    "name": "ipython",
    "version": 3
   },
   "file_extension": ".py",
   "mimetype": "text/x-python",
   "name": "python",
   "nbconvert_exporter": "python",
   "pygments_lexer": "ipython3",
   "version": "3.9.5"
  }
 },
 "nbformat": 4,
 "nbformat_minor": 5
}

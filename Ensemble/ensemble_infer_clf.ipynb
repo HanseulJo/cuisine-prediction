{
 "cells": [
  {
   "cell_type": "code",
   "execution_count": 2,
   "id": "5354bc11",
   "metadata": {},
   "outputs": [],
   "source": [
    "import torch\n",
    "import h5py\n",
    "import numpy as np\n",
    "from torch import nn\n",
    "from torchvision import datasets\n",
    "from torchvision.transforms import ToTensor, Lambda\n",
    "from torch.utils.data import Dataset\n",
    "from torch.utils.data import DataLoader\n",
    "import pickle\n",
    "from sklearn.preprocessing import normalize\n",
    "from scipy.sparse import lil_matrix, csr_matrix, hstack\n",
    "from tqdm import tqdm\n",
    "import math\n",
    "import os\n",
    "import csv"
   ]
  },
  {
   "cell_type": "code",
   "execution_count": 3,
   "id": "3cf48b4d",
   "metadata": {},
   "outputs": [],
   "source": [
    "# 변수 선언 block\n",
    "rec_file_list = [\"../Recs/CF_rec_clf_dim_64.pickle\",\n",
    "                 \"../Recs/Graph_rec_clf_1_8_depth_3.pickle\",\n",
    "                 \"../Recs/Graph_rec_clf_1_8_depth_1.pickle\",\n",
    "                 \"../Recs/inference_test_clf_classification_DNN_fc_layer_sizes_2048-1024-512-256_batch_16_seed_0.pkl\",\n",
    "                 \"../Recs/rec_CCNet_test_clf_EncFC_PoolPMA_CplNone_NumEnc7_NumDec1_Hid512_Emb512_Ind10.pickle\",\n",
    "                 \"../Recs/rec_CCNet_test_clf_EncFC_PoolPMA_CplNone_NumEnc9_NumDec1_Hid512_Emb512_Ind10.pickle\",\n",
    "                 \"../Recs/rec_CCNet_test_clf_EncFC_PoolPMA_CplNone_NumEnc10_NumDec1_Hid512_Emb512_Ind10.pickle\",\n",
    "                 \"../Recs/rec_CCNet_test_clf_EncFC_PoolPMA_CplPooled_NumEnc5_NumDec0_Hid512_Emb512_Ind10.pickle\",\n",
    "                 \"../Recs/rec_CCNet_test_clf_EncFC_PoolPMA_CplPooled_NumEnc8_NumDec0_Hid512_Emb512_Ind10.pickle\",\n",
    "                 \"../Recs/rec_CCNet_test_clf_EncHYBRID_PoolPMA_CplNone_NumEnc8_NumDec3_Hid512_Emb512_Ind10.pickle\",\n",
    "                 \"../Recs/rec_CCNet_test_clf_EncHYBRID_PoolPMA_CplPooled_NumEnc2_NumDec0_Hid512_Emb512_Ind8.pickle\",\n",
    "                 \"../Recs/rec_CCNet_test_clf_EncHYBRID_PoolPMA_CplPooled_NumEnc3_NumDec0_Hid512_Emb512_Ind16.pickle\",\n",
    "                 \"../Recs/rec_CCNet_test_clf_EncHYBRID_PoolPMA_CplPooled_NumEnc3_NumDec3_Hid512_Emb512_Ind6.pickle\",\n",
    "                 \"../Recs/rec_CCNet_test_clf_EncHYBRID_PoolPMA_CplPooled_NumEnc3_NumDec3_Hid512_Emb512_Ind7.pickle\",\n",
    "                 \"../Recs/rec_CCNet_test_clf_EncHYBRID_PoolPMA_CplPooled_NumEnc3_NumDec3_Hid512_Emb512_Ind10.pickle\",\n",
    "                 \"../Recs/rec_CCNet_test_clf_EncHYBRID_PoolPMA_CplPooled_NumEnc4_NumDec3_Hid512_Emb512_Ind6.pickle\",\n",
    "                 \"../Recs/rec_CCNet_test_clf_EncHYBRID_PoolPMA_CplPooled_NumEnc6_NumDec0_Hid512_Emb512_Ind29.pickle\",\n",
    "                 \"../Recs/rec_CCNet_test_clf_EncHYBRID_SA_PoolPMA_CplEncoded_NumEnc4_NumDec0_Hid512_Emb512_Ind10.pickle\",\n",
    "                 \"../Recs/rec_CCNet_test_clf_EncHYBRID_SA_PoolPMA_CplEncoded_NumEnc8_NumDec0_Hid512_Emb512_Ind10.pickle\",\n",
    "                 \"../Recs/rec_CCNet_test_clf_EncHYBRID_SA_PoolPMA_CplNone_NumEnc2_NumDec0_Hid512_Emb512_Ind10.pickle\",\n",
    "                 \"../Recs/rec_CCNet_test_clf_EncHYBRID_SA_PoolPMA_CplNone_NumEnc3_NumDec1_Hid512_Emb512_Ind10.pickle\",\n",
    "                 \"../Recs/rec_CCNet_test_clf_EncHYBRID_SA_PoolPMA_CplNone_NumEnc10_NumDec1_Hid512_Emb512_Ind10.pickle\",\n",
    "                ]\n",
    "state_dict_path = \"./ensemble_model/ensemble_model_best_clf.pt\"\n",
    "id_cuisine_dict_path = os.path.join(\"../Container\", 'id_cuisine_dict.pickle')\n",
    "save_path = '../Results/test_clf.csv'"
   ]
  },
  {
   "cell_type": "code",
   "execution_count": 4,
   "id": "34e4c019",
   "metadata": {},
   "outputs": [],
   "source": [
    "class RecDataset(Dataset):\n",
    "    def __init__(self, recs_list, query_num, item_num, transform=None, target_transform=None):\n",
    "        # rec_matrix = [query num, model_num, item_num]\n",
    "        self.rec_matrix = []\n",
    "        for i in range(query_num):\n",
    "            self.rec_matrix.append(lil_matrix((len(rec_file_list), item_num)))\n",
    "        for i, recs in enumerate(recs_list):\n",
    "            for query in tqdm(recs.keys()):\n",
    "                rec = recs[query]\n",
    "                rec_items, rec_scores = [rec_ for rec_, score in rec], [score for rec_, score in rec]\n",
    "                rec_scores = normalize(np.array(rec_scores)[:,np.newaxis], axis=0).ravel()\n",
    "                for item, score in zip(rec_items, rec_scores):\n",
    "                    self.rec_matrix[query][i, item] = score\n",
    "        self.transform = transform\n",
    "        self.target_transform = target_transform\n",
    "        self.device = \"cuda\" if torch.cuda.is_available() else \"cpu\"\n",
    "\n",
    "    def __len__(self):\n",
    "        return len(self.rec_matrix)\n",
    "\n",
    "    def __getitem__(self, idx):\n",
    "        rec_matrix = self.rec_matrix[idx].toarray()\n",
    "        if self.transform:\n",
    "            rec_matrix = self.transform(rec_matrix).to(self.device)\n",
    "        return rec_matrix.to(self.device)"
   ]
  },
  {
   "cell_type": "code",
   "execution_count": 5,
   "id": "24910a28",
   "metadata": {},
   "outputs": [],
   "source": [
    "class Network(nn.Module):\n",
    "    def __init__(self, model_len, k=10):\n",
    "        super(Network, self).__init__()\n",
    "        self.w1 = torch.nn.Parameter(torch.randn(k, model_len))\n",
    "        self.w2 = torch.nn.Parameter(torch.randn(1, k))\n",
    "        \n",
    "    def forward(self, x):\n",
    "        #import ipdb; ipdb.set_trace()\n",
    "        x = x.float()\n",
    "        x = torch.einsum('nm, bmp -> bnp', self.w1, x)\n",
    "        x = torch.einsum('nm, bmp -> bnp', self.w2, x).squeeze(1)\n",
    "        return x"
   ]
  },
  {
   "cell_type": "code",
   "execution_count": 6,
   "id": "fc923406",
   "metadata": {},
   "outputs": [
    {
     "ename": "FileNotFoundError",
     "evalue": "[Errno 2] No such file or directory: '../Recs/CF_rec_clf_dim_64.pickle'",
     "output_type": "error",
     "traceback": [
      "\u001b[0;31m---------------------------------------------------------------------------\u001b[0m",
      "\u001b[0;31mFileNotFoundError\u001b[0m                         Traceback (most recent call last)",
      "\u001b[1;32m/Users/hanseul_jo/Desktop/cuisine-prediction/Ensemble/ensemble_infer_clf.ipynb Cell 5'\u001b[0m in \u001b[0;36m<module>\u001b[0;34m\u001b[0m\n\u001b[1;32m      <a href='vscode-notebook-cell:/Users/hanseul_jo/Desktop/cuisine-prediction/Ensemble/ensemble_infer_clf.ipynb#ch0000004?line=0'>1</a>\u001b[0m recs_list \u001b[39m=\u001b[39m []\n\u001b[1;32m      <a href='vscode-notebook-cell:/Users/hanseul_jo/Desktop/cuisine-prediction/Ensemble/ensemble_infer_clf.ipynb#ch0000004?line=1'>2</a>\u001b[0m \u001b[39mfor\u001b[39;00m rec_file \u001b[39min\u001b[39;00m rec_file_list:\n\u001b[0;32m----> <a href='vscode-notebook-cell:/Users/hanseul_jo/Desktop/cuisine-prediction/Ensemble/ensemble_infer_clf.ipynb#ch0000004?line=2'>3</a>\u001b[0m     \u001b[39mwith\u001b[39;00m \u001b[39mopen\u001b[39;49m(rec_file, \u001b[39m'\u001b[39;49m\u001b[39mrb\u001b[39;49m\u001b[39m'\u001b[39;49m) \u001b[39mas\u001b[39;00m f:\n\u001b[1;32m      <a href='vscode-notebook-cell:/Users/hanseul_jo/Desktop/cuisine-prediction/Ensemble/ensemble_infer_clf.ipynb#ch0000004?line=3'>4</a>\u001b[0m         recs \u001b[39m=\u001b[39m pickle\u001b[39m.\u001b[39mload(f)\n\u001b[1;32m      <a href='vscode-notebook-cell:/Users/hanseul_jo/Desktop/cuisine-prediction/Ensemble/ensemble_infer_clf.ipynb#ch0000004?line=4'>5</a>\u001b[0m         recs_list\u001b[39m.\u001b[39mappend(recs)\n",
      "\u001b[0;31mFileNotFoundError\u001b[0m: [Errno 2] No such file or directory: '../Recs/CF_rec_clf_dim_64.pickle'"
     ]
    }
   ],
   "source": [
    "recs_list = []\n",
    "for rec_file in rec_file_list:\n",
    "    with open(rec_file, 'rb') as f:\n",
    "        recs = pickle.load(f)\n",
    "        recs_list.append(recs)\n",
    "\n",
    "query_num = len(recs_list[0])\n",
    "item_num = 20\n",
    "\n",
    "test_data = RecDataset(recs_list, query_num, item_num, transform=torch.Tensor, target_transform=torch.tensor)\n",
    "test_dataloader = DataLoader(test_data, batch_size=64, shuffle=False)"
   ]
  },
  {
   "cell_type": "code",
   "execution_count": 6,
   "id": "55e544ae",
   "metadata": {},
   "outputs": [
    {
     "name": "stderr",
     "output_type": "stream",
     "text": [
      "100%|██████████████████████████████████████████████████████████████████████████████████| 62/62 [00:00<00:00, 63.66it/s]\n"
     ]
    }
   ],
   "source": [
    "device = \"cuda\" if torch.cuda.is_available() else \"cpu\"\n",
    "model = Network(len(rec_file_list), k=10).to(device)\n",
    "model_state_dict = torch.load(state_dict_path, map_location=device)\n",
    "model.load_state_dict(model_state_dict)\n",
    "\n",
    "\n",
    "def inference(dataloader, model):\n",
    "    rec_lst = []\n",
    "    with torch.no_grad():\n",
    "        for batch, X in tqdm(enumerate(dataloader),total=len(dataloader)):\n",
    "            pred = model(X)\n",
    "            pred = pred.cpu().numpy()\n",
    "            top_recommends = list(np.argmax(pred, axis=1))\n",
    "            rec_lst.extend(top_recommends)\n",
    "    return rec_lst\n",
    "            \n",
    "\n",
    "infer = inference(test_dataloader, model)"
   ]
  },
  {
   "cell_type": "code",
   "execution_count": 7,
   "id": "631f929a",
   "metadata": {},
   "outputs": [],
   "source": [
    "with open(id_cuisine_dict_path, 'rb') as fr:\n",
    "    cuisine_dict = pickle.load(fr)\n",
    "infer_name = [[cuisine_dict[i]] for i in infer]\n",
    "with open(save_path, 'w+', newline ='') as f:\n",
    "    write = csv.writer(f)\n",
    "    write.writerows(infer_name)"
   ]
  },
  {
   "cell_type": "code",
   "execution_count": 58,
   "id": "9a765ae3",
   "metadata": {},
   "outputs": [],
   "source": []
  },
  {
   "cell_type": "code",
   "execution_count": 59,
   "id": "d49dcca1",
   "metadata": {},
   "outputs": [],
   "source": []
  },
  {
   "cell_type": "code",
   "execution_count": null,
   "id": "e887d7bb",
   "metadata": {},
   "outputs": [],
   "source": []
  }
 ],
 "metadata": {
  "interpreter": {
   "hash": "b0fa6594d8f4cbf19f97940f81e996739fb7646882a419484c72d19e05852a7e"
  },
  "kernelspec": {
   "display_name": "Python 3.9.10 64-bit",
   "language": "python",
   "name": "python3"
  },
  "language_info": {
   "codemirror_mode": {
    "name": "ipython",
    "version": 3
   },
   "file_extension": ".py",
   "mimetype": "text/x-python",
   "name": "python",
   "nbconvert_exporter": "python",
   "pygments_lexer": "ipython3",
   "version": "3.9.10"
  }
 },
 "nbformat": 4,
 "nbformat_minor": 5
}

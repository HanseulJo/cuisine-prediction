{
 "cells": [
  {
   "cell_type": "code",
   "execution_count": 1,
   "metadata": {},
   "outputs": [],
   "source": [
    "import os\n",
    "from run import main\n",
    "from dataset import RecipeDataset\n",
    "import wandb  # if it raises an error, reinstall wandb\n",
    "import warnings\n",
    "warnings.filterwarnings(action='ignore')\n",
    "\n",
    "# loading datasets takes some time.\n",
    "dataset_names = ['train', 'valid_clf', 'valid_cpl', 'test_clf', 'test_cpl']\n",
    "recipe_datasets = {x: RecipeDataset(os.path.join('./Container', x)) for x in dataset_names}"
   ]
  },
  {
   "cell_type": "code",
   "execution_count": 2,
   "metadata": {},
   "outputs": [],
   "source": [
    "class Args(object):\n",
    "    def __init__(self, **kwargs):\n",
    "        default = dict(\n",
    "            data_dir='./Container',\n",
    "            batch_size=64,\n",
    "            batch_size_eval=2048,\n",
    "            n_epochs=200,\n",
    "            lr=2e-4,\n",
    "            weight_decay=0,\n",
    "            step_size=10,  # lr_scheduler\n",
    "            step_factor=0.25, # lr_scheduler\n",
    "            early_stop_patience=20,  # early stop\n",
    "            seed=42,\n",
    "            subset_length=None,  # Default: None\n",
    "            dim_embedding=256,\n",
    "            dim_hidden=256,\n",
    "            num_inds=10,\n",
    "            dropout=0,\n",
    "            encoder_mode ='HYBRID',  # 'FC' 'ISA' 'SA' 'HYBRID' 'HYBRID_SA'\n",
    "            pooler_mode ='PMA',      # 'SumPool' 'PMA'\n",
    "            cpl_scheme='encoded',    # 'pooled', 'encoded'\n",
    "            num_enc_layers=4,\n",
    "            num_dec_layers=0,\n",
    "            loss='CrossEntropyLoss', # 'CrossEntropyLoss' 'MultiClassFocalLoss' 'MultiClassASLoss'\n",
    "            optimizer_name='AdamW',\n",
    "            classify=True,\n",
    "            complete=True,\n",
    "            freeze_classify=False,\n",
    "            freeze_complete=False,\n",
    "            freeze_encoder=False,\n",
    "            pretrained_model_path=None,\n",
    "            wandb_log=True,\n",
    "            verbose=True,\n",
    "            datasets=recipe_datasets,\n",
    "            gpu=0)  # If you have multiple GPUs, you can change this number (e.g. gpu=3: \"device = 'cuda:3'.\")\n",
    "        default.update(kwargs)\n",
    "        for k in default:\n",
    "            setattr(self, k, default[k])\n",
    "    def update(self, **kwargs):\n",
    "        for k in kwargs:\n",
    "            setattr(self, k, kwargs[k])\n",
    "\n",
    "def run(**kwargs):\n",
    "    args = Args()\n",
    "    args.update(**kwargs)\n",
    "    main(args)"
   ]
  },
  {
   "cell_type": "code",
   "execution_count": 3,
   "metadata": {},
   "outputs": [],
   "source": [
    "wandb_log = False\n",
    "encoder_mode = 'HYBRID'\n",
    "pooler_mode = 'PMA'\n",
    "num_enc_layers = 8"
   ]
  },
  {
   "cell_type": "markdown",
   "metadata": {},
   "source": [
    "## Scheme (a) (`cpl_scheme=='pooled'`)"
   ]
  },
  {
   "cell_type": "markdown",
   "metadata": {},
   "source": [
    "### Classification Only (Poor result)"
   ]
  },
  {
   "cell_type": "code",
   "execution_count": null,
   "metadata": {},
   "outputs": [],
   "source": [
    "run(classify=True, complete=False, encoder_mode=encoder_mode, cpl_scheme='pooled',\n",
    "    num_enc_layers=num_enc_layers, wandb_log=wandb_log,)"
   ]
  },
  {
   "cell_type": "markdown",
   "metadata": {},
   "source": [
    "### Completion Only (Poor result)"
   ]
  },
  {
   "cell_type": "code",
   "execution_count": null,
   "metadata": {},
   "outputs": [],
   "source": [
    "run(classify=False, complete=True, encoder_mode=encoder_mode, cpl_scheme='pooled',\n",
    "    num_enc_layers=num_enc_layers,wandb_log=wandb_log,)"
   ]
  },
  {
   "cell_type": "markdown",
   "metadata": {},
   "source": [
    "### Classification + Completion (Good for classification)"
   ]
  },
  {
   "cell_type": "code",
   "execution_count": null,
   "metadata": {},
   "outputs": [],
   "source": [
    "run(classify=True, complete=True, encoder_mode=encoder_mode, cpl_scheme='pooled',\n",
    "    num_enc_layers=num_enc_layers,wandb_log=wandb_log,)"
   ]
  },
  {
   "cell_type": "markdown",
   "metadata": {},
   "source": [
    "## Scheme (b) (`cpl_scheme=='encoded'`)"
   ]
  },
  {
   "cell_type": "markdown",
   "metadata": {},
   "source": [
    "### Classification Only (Poor result)"
   ]
  },
  {
   "cell_type": "code",
   "execution_count": null,
   "metadata": {},
   "outputs": [],
   "source": [
    "run(classify=True, complete=False, encoder_mode=encoder_mode, cpl_scheme='encoded',\n",
    "    num_enc_layers=num_enc_layers, wandb_log=wandb_log,)"
   ]
  },
  {
   "cell_type": "markdown",
   "metadata": {},
   "source": [
    "### Completion Only (Pretty good)"
   ]
  },
  {
   "cell_type": "code",
   "execution_count": null,
   "metadata": {},
   "outputs": [],
   "source": [
    "run(classify=False, complete=True, encoder_mode=encoder_mode, cpl_scheme='encoded',\n",
    "    num_enc_layers=num_enc_layers,wandb_log=wandb_log,)"
   ]
  },
  {
   "cell_type": "markdown",
   "metadata": {},
   "source": [
    "### Classification + Completion (Great for classification)"
   ]
  },
  {
   "cell_type": "code",
   "execution_count": null,
   "metadata": {},
   "outputs": [],
   "source": [
    "run(classify=True, complete=True, encoder_mode=encoder_mode, cpl_scheme='encoded',\n",
    "    num_enc_layers=num_enc_layers,wandb_log=wandb_log,)"
   ]
  }
 ],
 "metadata": {
  "interpreter": {
   "hash": "b0fa6594d8f4cbf19f97940f81e996739fb7646882a419484c72d19e05852a7e"
  },
  "kernelspec": {
   "display_name": "Python 3.9.10 64-bit",
   "language": "python",
   "name": "python3"
  },
  "language_info": {
   "codemirror_mode": {
    "name": "ipython",
    "version": 3
   },
   "file_extension": ".py",
   "mimetype": "text/x-python",
   "name": "python",
   "nbconvert_exporter": "python",
   "pygments_lexer": "ipython3",
   "version": "3.9.10"
  },
  "orig_nbformat": 4
 },
 "nbformat": 4,
 "nbformat_minor": 2
}
